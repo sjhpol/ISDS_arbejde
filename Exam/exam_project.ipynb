{
    "cells": [
        {
            "cell_type": "markdown",
            "source": [
                "# Exam project of group 26\n",
                "### Group members:\n",
                "- Baltazar Dydensborg\n",
                "- Johan Kielgast Ladelund\n",
                "- Laura Weile\n",
                "- Simon Juul Hansen\n",
                "\n",
                "### Research Question:\n",
                "???"
            ],
            "metadata": {}
        },
        {
            "cell_type": "markdown",
            "source": [
                "### All of the dependency imports"
            ],
            "metadata": {}
        },
        {
            "cell_type": "code",
            "execution_count": 17,
            "source": [
                "import pandas as pd\n",
                "import requests\n",
                "from bs4 import BeautifulSoup\n",
                "import datetime\n",
                "from tqdm import tqdm\n",
                "import warnings\n"
            ],
            "outputs": [],
            "metadata": {}
        },
        {
            "cell_type": "markdown",
            "source": [
                "## Scraping betting data from Oddsportal.com"
            ],
            "metadata": {}
        },
        {
            "cell_type": "code",
            "execution_count": null,
            "source": [
                "# Example of URLs\n",
                "newest_season_url = 'https://www.oddsportal.com/soccer/denmark/superliga/results/'\n",
                "previous_season_url = lambda year_span: f'https://www.oddsportal.com/soccer/denmark/superliga-{year_span}/results/'\n",
                "previous_season_url('2020-2021')\n",
                "prev_url_example = 'https://www.oddsportal.com/soccer/denmark/superliga-2020-2021/results/'"
            ],
            "outputs": [],
            "metadata": {}
        },
        {
            "cell_type": "code",
            "execution_count": null,
            "source": [
                "# requesting html data\n",
                "page = requests.get('https://www.oddsportal.com/soccer/denmark/superliga-2020-2021/results/#/page/2/')\n",
                "soup = BeautifulSoup(page.content, 'html.parser')\n",
                "soup.find('body')"
            ],
            "outputs": [],
            "metadata": {}
        },
        {
            "cell_type": "markdown",
            "source": [
                "## FIRST PROBLEM WITH ODDSPORTAL.COM:\n",
                "### The HTML data is being retrieved via a JavaScript Query, so we can't directly get it via scraping the website with 'requests'.\n",
                "### We need to find a solution to getting the HTML data via the JS query, possible via Selenium"
            ],
            "metadata": {}
        },
        {
            "cell_type": "markdown",
            "source": [],
            "metadata": {}
        },
        {
            "cell_type": "markdown",
            "source": [
                "# www.football-data.co.uk"
            ],
            "metadata": {}
        },
        {
            "cell_type": "code",
            "execution_count": null,
            "source": [
                "df = pd.read_csv('https://www.football-data.co.uk/mmz4281/2021/E0.csv')"
            ],
            "outputs": [],
            "metadata": {}
        },
        {
            "cell_type": "code",
            "execution_count": null,
            "source": [
                "df"
            ],
            "outputs": [],
            "metadata": {}
        },
        {
            "cell_type": "code",
            "execution_count": null,
            "source": [
                "url_template = lambda year_span: f'https://www.football-data.co.uk/mmz4281/{year_span}/E0.csv'\n",
                "dict_df = {}\n",
                "\n",
                "first_years = [f'{x:02}' for x in range(0,21)]\n",
                "second_years = [f'{x:02}' for x in range(1,22)]\n",
                "final_years = [x+y for x,y in zip(first_years,second_years)]\n",
                "final_years\n",
                "\n",
                "for year in final_years:\n",
                "    df_temp = pd.read_csv(url_template(year), nrows = 1)\n",
                "    df_temp2 = pd.read_csv(url_template(year), usecols = df_temp.columns)\n",
                "    dict_df[year] = df_temp2"
            ],
            "outputs": [],
            "metadata": {}
        },
        {
            "cell_type": "code",
            "execution_count": null,
            "source": [
                "df_temp = pd.read_csv(f'https://www.football-data.co.uk/mmz4281/{final_years[3]}/E0.csv',nrows=1)\n",
                "df_temp.columns \n",
                "df_0203 = pd.read_csv(f'https://www.football-data.co.uk/mmz4281/{final_years[3]}/E0.csv', usecols = df_temp.columns)\n"
            ],
            "outputs": [],
            "metadata": {}
        },
        {
            "cell_type": "code",
            "execution_count": null,
            "source": [
                "res = requests.get('https://fb.oddsportal.com/ajax-sport-country-tournament-archive/1/4l3rT0aP/X0/1/0/1/')\n",
                "res.content"
            ],
            "outputs": [],
            "metadata": {}
        },
        {
            "cell_type": "markdown",
            "source": [
                "# Elpriser fra Nordpool"
            ],
            "metadata": {}
        },
        {
            "cell_type": "code",
            "execution_count": null,
            "source": [
                "url = 'https://www.nordpoolgroup.com/historical-market-data/'\n",
                "el_res = requests.get(url)\n",
                "soup = BeautifulSoup(el_res.content, 'html.parser')\n",
                "soup.find('a')"
            ],
            "outputs": [],
            "metadata": {}
        },
        {
            "cell_type": "code",
            "execution_count": null,
            "source": [
                "df = pd.read_csv('https://www.nordpoolgroup.com/4a2916/globalassets/marketdata-excel-files/elspot-prices_2021_hourly_dkk.xls', sep='\\t', skiprows=10)\n",
                "df"
            ],
            "outputs": [],
            "metadata": {}
        },
        {
            "cell_type": "code",
            "execution_count": null,
            "source": [
                "dls = \"https://www.nordpoolgroup.com/4a2916/globalassets/marketdata-excel-files/elspot-prices_2021_hourly_dkk.xls\"\n",
                "resp = requests.get(dls)\n",
                "\n",
                "with open('2021.xlsx', 'wb') as output:\n",
                "    output.write(resp.content)\n",
                "    output.close()"
            ],
            "outputs": [],
            "metadata": {}
        },
        {
            "cell_type": "markdown",
            "source": [
                "# Vejr data fra DMI API"
            ],
            "metadata": {}
        },
        {
            "cell_type": "code",
            "execution_count": null,
            "source": [
                "# Constants\n",
                "\n",
                "metObsAPIKey = 'c4503ba1-28d4-45c5-850a-974e98bbb3e0'\n",
                "climateDataAPIKEy = 'ac27b332-bde2-4138-a53e-f0ca82cf3667'\n",
                "stationId = 6183\n",
                "\n",
                "dmi_url= lambda API_KEY: f'https://dmigw.govcloud.dk/v2/metObs/collections/observation/items?limit=300000&stationId=06184&parameterId=temp_dry&bbox=7,54,16,58&datetime=2015-01-01T00:00:00Z/2021-08-01T00:00:00Z&api-key={API_KEY}'\n",
                "dmi_url_id= lambda API_KEY, id: f'https://dmigw.govcloud.dk/v2/metObs/collections/observation/items?limit=300000&stationId=06184&parameterId={id}&bbox=7,54,16,58&datetime=2015-01-01T00:00:00Z/2021-08-01T00:00:00Z&api-key={API_KEY}'\n",
                "dmi_url_allID= lambda API_KEY: f'https://dmigw.govcloud.dk/v2/metObs/collections/observation/items?limit=300000&stationId=06184&bbox=7,54,16,58&datetime=2015-01-01T00:00:00Z/2021-08-01T00:00:00Z&api-key={API_KEY}'\n"
            ],
            "outputs": [],
            "metadata": {}
        },
        {
            "cell_type": "code",
            "execution_count": 18,
            "source": [
                "def dmi_weather_data2(apiKey, stat, start_date, end_date, stationId = '06183'):\n",
                "    \"\"\"\n",
                "    Function that takes a parameter ID and searches for all observations from DMI\n",
                "    for the given dates, where the date format is given as 'YYYY-MM-DD'\n",
                "    \"\"\"\n",
                "\n",
                "    # Define constants to be used in the function\n",
                "    url= lambda API_KEY, id, startDate, endDate, stationId: f'https://dmigw.govcloud.dk/v2/metObs/collections/observation/items?limit=300000&stationId={stationId}&parameterId={id}&bbox=7,54,16,58&datetime={startDate}T00:00:00Z/{endDate}T00:00:00Z&api-key={API_KEY}'\n",
                "    local_counter = 1\n",
                "    ErrorCounter = 0\n",
                "    stationCounter = 0\n",
                "    stationList = ['06184', '06186', '06187', '06188']\n",
                "\n",
                "    while True:\n",
                "        try:\n",
                "            temp_url = url(apiKey, stat, start_date, end_date, stationId)\n",
                "            ErrorCounter += 1\n",
                "\n",
                "            json_dmi = requests.get(temp_url).json()\n",
                "            prop = [item['properties'] for item in json_dmi['features']]\n",
                "            temp_df = pd.DataFrame(prop)\n",
                "            \n",
                "            temp_df['observed'].drop_duplicates(inplace = True)\n",
                "            temp_df.index = pd.to_datetime(temp_df['observed'])\n",
                "            temp_df = temp_df.tz_convert('CET')\n",
                "\n",
                "            if temp_df.index[-1].date() != datetime.date.fromisoformat(start_date):\n",
                "                            \n",
                "                if local_counter == 1:\n",
                "                    df = temp_df.copy()\n",
                "                    local_counter += 1\n",
                "                elif local_counter > 1:\n",
                "                    df = pd.concat([df,temp_df])\n",
                "                else:\n",
                "                    warnings.warn(\"Something went wrong with the local counter in IF\")\n",
                "\n",
                "                end_date = temp_df.index[-1].date().strftime(\"%Y-%m-%d\")\n",
                "                continue\n",
                "            else:\n",
                "                if local_counter == 1:\n",
                "                    df = temp_df\n",
                "                elif local_counter > 1:\n",
                "                    df = pd.concat([df,temp_df])\n",
                "                else:\n",
                "                    warnings.warn(\"Something went wrong with the local counter in ELSE\")\n",
                "\n",
                "                break\n",
                "            \n",
                "\n",
                "\n",
                "        except KeyError as e:\n",
                "\n",
                "            try:\n",
                "                stationId = stationList[stationCounter]\n",
                "                stationCounter += 1\n",
                "                continue\n",
                "            except IndexError as i:\n",
                "                if ErrorCounter == 1:\n",
                "                    warnings.warn(f\"The requested stat {stat} isn't available for any default stations\")\n",
                "                else:\n",
                "                    warnings.warn(f\"The requested stat {stat} isn't available for any default stations for the daterange: {start_date} - {end_date}\")\n",
                "                return None\n",
                "        \n",
                "    return df\n",
                "\n",
                "        \n",
                "    "
            ],
            "outputs": [],
            "metadata": {}
        },
        {
            "cell_type": "code",
            "execution_count": 47,
            "source": [
                "def TransformData(df):\n",
                "    df = df\n",
                "    df['hour'] = df.index.hour\n",
                "    df['date'] = df.index.date\n",
                "    df = df.drop_duplicates(['parameterId', 'date','hour'])\\\n",
                "            .drop(['created', 'observed', 'stationId'], axis = 1)\\\n",
                "            .sort_values(by = ['date', 'hour'], ascending = [False, False])\\\n",
                "            .copy()\n",
                "    \n",
                "    df_new = df.groupby(['parameterId', 'date', 'hour'])['value'].mean()\\\n",
                "            .unstack(level = 0)\\\n",
                "            .reset_index()\n",
                "\n",
                "    return df_new\n",
                "    "
            ],
            "outputs": [],
            "metadata": {}
        },
        {
            "cell_type": "code",
            "execution_count": null,
            "source": [
                "df = dmi_weather_data2(metObsAPIKey, 'temp_dry', '2016-01-01', '2021-08-01')\n",
                "df"
            ],
            "outputs": [],
            "metadata": {}
        },
        {
            "cell_type": "code",
            "execution_count": 16,
            "source": [
                "list_of_stats=['wind_min', 'wind_max', 'visibility', 'cloud_cover', 'cloud_height', 'temp_dry', 'wind_speed', 'wind_dir', 'pressure', 'humidity']\n",
                "\n",
                "dict_df = dict()\n",
                "for stat in tqdm(list_of_stats):\n",
                "    dict_df[stat] = dmi_weather_data2(metObsAPIKey, stat, '2016-01-01', '2021-08-01')"
            ],
            "outputs": [
                {
                    "output_type": "stream",
                    "name": "stderr",
                    "text": [
                        "<ipython-input-15-bbbe62e71713>:62: UserWarning: The requested stat wind_min isn't available for the default station for the daterange: 2016-01-01 - 2016-01-02\n",
                        "  warnings.warn(f\"The requested stat {stat} isn't available for the default station for the daterange: {start_date} - {end_date}\")\n"
                    ]
                }
            ],
            "metadata": {}
        },
        {
            "cell_type": "code",
            "execution_count": 41,
            "source": [
                "new_df = pd.concat(dict_df.values())"
            ],
            "outputs": [],
            "metadata": {}
        },
        {
            "cell_type": "code",
            "execution_count": 48,
            "source": [
                "transform_df = TransformData(new_df)"
            ],
            "outputs": [],
            "metadata": {}
        },
        {
            "cell_type": "code",
            "execution_count": 49,
            "source": [
                "transform_df"
            ],
            "outputs": [
                {
                    "output_type": "execute_result",
                    "data": {
                        "text/plain": [
                            "parameterId        date  hour  cloud_cover  cloud_height  humidity  pressure  \\\n",
                            "0            2016-01-01     1         90.0         150.0      97.0    1021.1   \n",
                            "1            2016-01-01     2         90.0         150.0      97.0    1021.2   \n",
                            "2            2016-01-01     3        100.0         150.0      96.0    1021.6   \n",
                            "3            2016-01-01     4        100.0         150.0      98.0    1021.3   \n",
                            "4            2016-01-01     5        100.0          80.0      97.0    1021.5   \n",
                            "...                 ...   ...          ...           ...       ...       ...   \n",
                            "48436        2021-07-31    22          NaN           NaN      80.0     999.3   \n",
                            "48437        2021-07-31    23          NaN           NaN      76.0    1000.0   \n",
                            "48438        2021-08-01     0          NaN           NaN      73.0    1000.5   \n",
                            "48439        2021-08-01     1          NaN           NaN      76.0    1000.5   \n",
                            "48440        2021-08-01     2          NaN           NaN      78.0    1000.5   \n",
                            "\n",
                            "parameterId  temp_dry  visibility  wind_dir  wind_max  wind_speed  \n",
                            "0                 5.3      8000.0     191.0       6.6         5.9  \n",
                            "1                 5.3      7000.0     187.0       6.6         6.0  \n",
                            "2                 5.5      8000.0     210.0       7.1         6.1  \n",
                            "3                 5.5      6000.0     202.0       6.0         5.3  \n",
                            "4                 5.5      6000.0     238.0       8.1         4.1  \n",
                            "...               ...         ...       ...       ...         ...  \n",
                            "48436            17.3     50000.0     281.0      13.4        11.8  \n",
                            "48437            17.1     50000.0     285.0      12.0        10.5  \n",
                            "48438            16.9     50000.0     275.0      14.6        12.0  \n",
                            "48439            16.6     50000.0     273.0      13.1        11.4  \n",
                            "48440            16.8     50000.0     276.0      13.1        11.2  \n",
                            "\n",
                            "[48441 rows x 11 columns]"
                        ],
                        "text/html": [
                            "<div>\n",
                            "<style scoped>\n",
                            "    .dataframe tbody tr th:only-of-type {\n",
                            "        vertical-align: middle;\n",
                            "    }\n",
                            "\n",
                            "    .dataframe tbody tr th {\n",
                            "        vertical-align: top;\n",
                            "    }\n",
                            "\n",
                            "    .dataframe thead th {\n",
                            "        text-align: right;\n",
                            "    }\n",
                            "</style>\n",
                            "<table border=\"1\" class=\"dataframe\">\n",
                            "  <thead>\n",
                            "    <tr style=\"text-align: right;\">\n",
                            "      <th>parameterId</th>\n",
                            "      <th>date</th>\n",
                            "      <th>hour</th>\n",
                            "      <th>cloud_cover</th>\n",
                            "      <th>cloud_height</th>\n",
                            "      <th>humidity</th>\n",
                            "      <th>pressure</th>\n",
                            "      <th>temp_dry</th>\n",
                            "      <th>visibility</th>\n",
                            "      <th>wind_dir</th>\n",
                            "      <th>wind_max</th>\n",
                            "      <th>wind_speed</th>\n",
                            "    </tr>\n",
                            "  </thead>\n",
                            "  <tbody>\n",
                            "    <tr>\n",
                            "      <th>0</th>\n",
                            "      <td>2016-01-01</td>\n",
                            "      <td>1</td>\n",
                            "      <td>90.0</td>\n",
                            "      <td>150.0</td>\n",
                            "      <td>97.0</td>\n",
                            "      <td>1021.1</td>\n",
                            "      <td>5.3</td>\n",
                            "      <td>8000.0</td>\n",
                            "      <td>191.0</td>\n",
                            "      <td>6.6</td>\n",
                            "      <td>5.9</td>\n",
                            "    </tr>\n",
                            "    <tr>\n",
                            "      <th>1</th>\n",
                            "      <td>2016-01-01</td>\n",
                            "      <td>2</td>\n",
                            "      <td>90.0</td>\n",
                            "      <td>150.0</td>\n",
                            "      <td>97.0</td>\n",
                            "      <td>1021.2</td>\n",
                            "      <td>5.3</td>\n",
                            "      <td>7000.0</td>\n",
                            "      <td>187.0</td>\n",
                            "      <td>6.6</td>\n",
                            "      <td>6.0</td>\n",
                            "    </tr>\n",
                            "    <tr>\n",
                            "      <th>2</th>\n",
                            "      <td>2016-01-01</td>\n",
                            "      <td>3</td>\n",
                            "      <td>100.0</td>\n",
                            "      <td>150.0</td>\n",
                            "      <td>96.0</td>\n",
                            "      <td>1021.6</td>\n",
                            "      <td>5.5</td>\n",
                            "      <td>8000.0</td>\n",
                            "      <td>210.0</td>\n",
                            "      <td>7.1</td>\n",
                            "      <td>6.1</td>\n",
                            "    </tr>\n",
                            "    <tr>\n",
                            "      <th>3</th>\n",
                            "      <td>2016-01-01</td>\n",
                            "      <td>4</td>\n",
                            "      <td>100.0</td>\n",
                            "      <td>150.0</td>\n",
                            "      <td>98.0</td>\n",
                            "      <td>1021.3</td>\n",
                            "      <td>5.5</td>\n",
                            "      <td>6000.0</td>\n",
                            "      <td>202.0</td>\n",
                            "      <td>6.0</td>\n",
                            "      <td>5.3</td>\n",
                            "    </tr>\n",
                            "    <tr>\n",
                            "      <th>4</th>\n",
                            "      <td>2016-01-01</td>\n",
                            "      <td>5</td>\n",
                            "      <td>100.0</td>\n",
                            "      <td>80.0</td>\n",
                            "      <td>97.0</td>\n",
                            "      <td>1021.5</td>\n",
                            "      <td>5.5</td>\n",
                            "      <td>6000.0</td>\n",
                            "      <td>238.0</td>\n",
                            "      <td>8.1</td>\n",
                            "      <td>4.1</td>\n",
                            "    </tr>\n",
                            "    <tr>\n",
                            "      <th>...</th>\n",
                            "      <td>...</td>\n",
                            "      <td>...</td>\n",
                            "      <td>...</td>\n",
                            "      <td>...</td>\n",
                            "      <td>...</td>\n",
                            "      <td>...</td>\n",
                            "      <td>...</td>\n",
                            "      <td>...</td>\n",
                            "      <td>...</td>\n",
                            "      <td>...</td>\n",
                            "      <td>...</td>\n",
                            "    </tr>\n",
                            "    <tr>\n",
                            "      <th>48436</th>\n",
                            "      <td>2021-07-31</td>\n",
                            "      <td>22</td>\n",
                            "      <td>NaN</td>\n",
                            "      <td>NaN</td>\n",
                            "      <td>80.0</td>\n",
                            "      <td>999.3</td>\n",
                            "      <td>17.3</td>\n",
                            "      <td>50000.0</td>\n",
                            "      <td>281.0</td>\n",
                            "      <td>13.4</td>\n",
                            "      <td>11.8</td>\n",
                            "    </tr>\n",
                            "    <tr>\n",
                            "      <th>48437</th>\n",
                            "      <td>2021-07-31</td>\n",
                            "      <td>23</td>\n",
                            "      <td>NaN</td>\n",
                            "      <td>NaN</td>\n",
                            "      <td>76.0</td>\n",
                            "      <td>1000.0</td>\n",
                            "      <td>17.1</td>\n",
                            "      <td>50000.0</td>\n",
                            "      <td>285.0</td>\n",
                            "      <td>12.0</td>\n",
                            "      <td>10.5</td>\n",
                            "    </tr>\n",
                            "    <tr>\n",
                            "      <th>48438</th>\n",
                            "      <td>2021-08-01</td>\n",
                            "      <td>0</td>\n",
                            "      <td>NaN</td>\n",
                            "      <td>NaN</td>\n",
                            "      <td>73.0</td>\n",
                            "      <td>1000.5</td>\n",
                            "      <td>16.9</td>\n",
                            "      <td>50000.0</td>\n",
                            "      <td>275.0</td>\n",
                            "      <td>14.6</td>\n",
                            "      <td>12.0</td>\n",
                            "    </tr>\n",
                            "    <tr>\n",
                            "      <th>48439</th>\n",
                            "      <td>2021-08-01</td>\n",
                            "      <td>1</td>\n",
                            "      <td>NaN</td>\n",
                            "      <td>NaN</td>\n",
                            "      <td>76.0</td>\n",
                            "      <td>1000.5</td>\n",
                            "      <td>16.6</td>\n",
                            "      <td>50000.0</td>\n",
                            "      <td>273.0</td>\n",
                            "      <td>13.1</td>\n",
                            "      <td>11.4</td>\n",
                            "    </tr>\n",
                            "    <tr>\n",
                            "      <th>48440</th>\n",
                            "      <td>2021-08-01</td>\n",
                            "      <td>2</td>\n",
                            "      <td>NaN</td>\n",
                            "      <td>NaN</td>\n",
                            "      <td>78.0</td>\n",
                            "      <td>1000.5</td>\n",
                            "      <td>16.8</td>\n",
                            "      <td>50000.0</td>\n",
                            "      <td>276.0</td>\n",
                            "      <td>13.1</td>\n",
                            "      <td>11.2</td>\n",
                            "    </tr>\n",
                            "  </tbody>\n",
                            "</table>\n",
                            "<p>48441 rows × 11 columns</p>\n",
                            "</div>"
                        ]
                    },
                    "metadata": {},
                    "execution_count": 49
                }
            ],
            "metadata": {}
        }
    ],
    "metadata": {
        "orig_nbformat": 4,
        "language_info": {
            "name": "python",
            "version": "3.9.2",
            "mimetype": "text/x-python",
            "codemirror_mode": {
                "name": "ipython",
                "version": 3
            },
            "pygments_lexer": "ipython3",
            "nbconvert_exporter": "python",
            "file_extension": ".py"
        },
        "kernelspec": {
            "name": "python3",
            "display_name": "Python 3.9.2 64-bit"
        },
        "interpreter": {
            "hash": "aee8b7b246df8f9039afb4144a1f6fd8d2ca17a180786b69acc140d282b71a49"
        }
    },
    "nbformat": 4,
    "nbformat_minor": 2
}