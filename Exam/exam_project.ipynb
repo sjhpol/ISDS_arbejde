{
    "cells": [
        {
            "cell_type": "markdown",
            "source": [
                "# Exam project of group 26\n",
                "### Group members:\n",
                "- Baltazar Dydensborg\n",
                "- Johan Kielgast Ladelund\n",
                "- Laura Weile\n",
                "- Simon Juul Hansen\n",
                "\n",
                "### Research Question:\n",
                "???"
            ],
            "metadata": {}
        },
        {
            "cell_type": "markdown",
            "source": [
                "### All of the dependency imports"
            ],
            "metadata": {}
        },
        {
            "cell_type": "code",
            "execution_count": 7,
            "source": [
                "import pandas as pd\n",
                "import requests\n",
                "from bs4 import BeautifulSoup\n"
            ],
            "outputs": [],
            "metadata": {}
        },
        {
            "cell_type": "markdown",
            "source": [
                "## Scraping betting data from Oddsportal.com"
            ],
            "metadata": {}
        },
        {
            "cell_type": "code",
            "execution_count": 3,
            "source": [
                "# Example of URLs\n",
                "newest_season_url = 'https://www.oddsportal.com/soccer/denmark/superliga/results/'\n",
                "previous_season_url = lambda year_span: f'https://www.oddsportal.com/soccer/denmark/superliga-{year_span}/results/'\n",
                "previous_season_url('2020-2021')\n",
                "prev_url_example = 'https://www.oddsportal.com/soccer/denmark/superliga-2020-2021/results/'"
            ],
            "outputs": [],
            "metadata": {}
        },
        {
            "cell_type": "code",
            "execution_count": 15,
            "source": [
                "# requesting html data\n",
                "page = requests.get(newest_season_url)\n",
                "soup = BeautifulSoup(page.content, 'html.parser')\n",
                "soup.find('body')"
            ],
            "outputs": [
                {
                    "output_type": "execute_result",
                    "data": {
                        "text/plain": [
                            "<body>\n",
                            "<div class=\"wrap\">\n",
                            "<div id=\"mother\">\n",
                            "<div id=\"header\">\n",
                            "<div id=\"logo-box\">\n",
                            "<p>\n",
                            "<a href=\"http://www.oddsportal.com\">\n",
                            "<img alt=\"ODDS Portal\" src=\"data:image/png;base64,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%3D\"/>\n",
                            "</a>\n",
                            "</p>\n",
                            "<hr class=\"hidden\"/>\n",
                            "</div>\n",
                            "<div class=\"break\"></div>\n",
                            "</div>\n",
                            "<div id=\"wrap\">\n",
                            "<div id=\"box-top\">\n",
                            "<div id=\"box-bottom\">\n",
                            "<div class=\"home\" id=\"main\">\n",
                            "<div id=\"breadcrumb\">\n",
                            "<strong>The page you requested is not available.</strong>\n",
                            "</div>\n",
                            "<hr class=\"hidden\"/>\n",
                            "<div id=\"col-content\">\n",
                            "<h1>Page not found</h1>\n",
                            "<p>This page not exist on OddsPortal.com!</p>\n",
                            "</div>\n",
                            "<div class=\"break\"></div>\n",
                            "<hr class=\"hidden\"/>\n",
                            "</div>\n",
                            "<div id=\"footer\">\n",
                            "<p class=\"l\">Copyright © 2008-12 OddsPortal.com (v)</p>\n",
                            "<div class=\"break\"></div>\n",
                            "</div>\n",
                            "</div>\n",
                            "</div>\n",
                            "<span class=\"cor-l-t\"> </span>\n",
                            "<span class=\"cor-r-t\"> </span>\n",
                            "<span class=\"cor-l-b\"> </span>\n",
                            "<span class=\"cor-r-b\"> </span>\n",
                            "<div class=\"break\"></div>\n",
                            "</div>\n",
                            "</div>\n",
                            "</div>\n",
                            "</body>"
                        ]
                    },
                    "metadata": {},
                    "execution_count": 15
                }
            ],
            "metadata": {}
        },
        {
            "cell_type": "code",
            "execution_count": 6,
            "source": [
                "pd.read_html('https://www.oddsportal.com/soccer/denmark/superliga/results/')"
            ],
            "outputs": [
                {
                    "output_type": "execute_result",
                    "data": {
                        "text/plain": [
                            "[                  0\n",
                            " 0     Dropping Odds\n",
                            " 1      Blocked Odds\n",
                            " 2        Value Bets\n",
                            " 3       Hot Matches\n",
                            " 4    Best Handicaps\n",
                            " 5    Moving Margins\n",
                            " 6  Archived Results\n",
                            " 7         Standings,\n",
                            "                   0                  1\n",
                            " 0  Champions League  Conference League\n",
                            " 1     Olympic Games    Olympic Games W\n",
                            " 2     Olympic Games    Olympic Games W\n",
                            " 3               MLB      Olympic Games\n",
                            " 4   Olympic Games W      Olympic Games\n",
                            " 5   Olympic Games W      Olympic Games\n",
                            " 6   Olympic Games W      Olympic Games\n",
                            " 7   Olympic Games W                NaN,\n",
                            "                                                    0\n",
                            " 0  Try RebelBetting for FREE  Increase your inves...,\n",
                            "     0                                                  1\n",
                            " 0 NaN  Try RebelBetting for FREE  Increase your inves...,\n",
                            "                                                    0\n",
                            " 0  Exclusive Offer!  Register via OddsPortal, ver...,\n",
                            "     0                                                  1\n",
                            " 0 NaN  Exclusive Offer!  Register via OddsPortal, ver...]"
                        ]
                    },
                    "metadata": {},
                    "execution_count": 6
                }
            ],
            "metadata": {}
        },
        {
            "cell_type": "code",
            "execution_count": null,
            "source": [],
            "outputs": [],
            "metadata": {}
        }
    ],
    "metadata": {
        "orig_nbformat": 4,
        "language_info": {
            "name": "python",
            "version": "3.9.2",
            "mimetype": "text/x-python",
            "codemirror_mode": {
                "name": "ipython",
                "version": 3
            },
            "pygments_lexer": "ipython3",
            "nbconvert_exporter": "python",
            "file_extension": ".py"
        },
        "kernelspec": {
            "name": "python3",
            "display_name": "Python 3.9.2 64-bit"
        },
        "interpreter": {
            "hash": "aee8b7b246df8f9039afb4144a1f6fd8d2ca17a180786b69acc140d282b71a49"
        }
    },
    "nbformat": 4,
    "nbformat_minor": 2
}