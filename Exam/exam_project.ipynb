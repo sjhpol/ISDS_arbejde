{
    "cells": [
        {
            "cell_type": "markdown",
            "source": [
                "# Exam project of group 26\n",
                "### Group members:\n",
                "- Baltazar Dydensborg\n",
                "- Johan Kielgast Ladelund\n",
                "- Laura Weile\n",
                "- Simon Juul Hansen\n",
                "\n",
                "### Research Question:\n",
                "???"
            ],
            "metadata": {}
        },
        {
            "cell_type": "markdown",
            "source": [
                "### All of the dependency imports"
            ],
            "metadata": {}
        },
        {
            "cell_type": "code",
            "execution_count": null,
            "source": [
                "import pandas as pd\n",
                "import requests\n",
                "from bs4 import BeautifulSoup\n"
            ],
            "outputs": [],
            "metadata": {}
        },
        {
            "cell_type": "markdown",
            "source": [
                "## Scraping betting data from Oddsportal.com"
            ],
            "metadata": {}
        },
        {
            "cell_type": "code",
            "execution_count": null,
            "source": [
                "# Example of URLs\n",
                "newest_season_url = 'https://www.oddsportal.com/soccer/denmark/superliga/results/'\n",
                "previous_season_url = lambda year_span: f'https://www.oddsportal.com/soccer/denmark/superliga-{year_span}/results/'\n",
                "previous_season_url('2020-2021')\n",
                "prev_url_example = 'https://www.oddsportal.com/soccer/denmark/superliga-2020-2021/results/'"
            ],
            "outputs": [],
            "metadata": {}
        },
        {
            "cell_type": "code",
            "execution_count": null,
            "source": [
                "# requesting html data\n",
                "page = requests.get(newest_season_url)\n",
                "soup = BeautifulSoup(page.content, 'html.parser')\n",
                "soup.find('body')"
            ],
            "outputs": [],
            "metadata": {}
        },
        {
            "cell_type": "markdown",
            "source": [
                "## FIRST PROBLEM:\n",
                "### The HTML data is being retrieved via a JavaScript Query, so we can't directly get it via scraping the website with 'requests'.\n",
                "### We need to find a solution to getting the HTML data via the JS query, possible via Selenium"
            ],
            "metadata": {}
        },
        {
            "cell_type": "markdown",
            "source": [],
            "metadata": {}
        }
    ],
    "metadata": {
        "orig_nbformat": 4,
        "language_info": {
            "name": "python",
            "version": "3.9.2",
            "mimetype": "text/x-python",
            "codemirror_mode": {
                "name": "ipython",
                "version": 3
            },
            "pygments_lexer": "ipython3",
            "nbconvert_exporter": "python",
            "file_extension": ".py"
        },
        "kernelspec": {
            "name": "python3",
            "display_name": "Python 3.9.2 64-bit"
        },
        "interpreter": {
            "hash": "aee8b7b246df8f9039afb4144a1f6fd8d2ca17a180786b69acc140d282b71a49"
        }
    },
    "nbformat": 4,
    "nbformat_minor": 2
}