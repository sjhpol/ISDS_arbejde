{
 "cells": [
  {
   "cell_type": "markdown",
   "source": [
    "# Videos and Exercises for Session 2: Data Structuring in Pandas I\n",
    "\n",
    "In this combined teaching module and exercise set, you will be working with structuring data. \n",
    "\n",
    "We will start out with a recap of some basic function and methods that become available in pandas. Then there will be a short intermezzo, where you will be required to think a bit about how to write readible code and make use of the method chaining opportunities that come with python. Then finally, you will get to work with some more advanced data types that are handled natively with pandas. The structure is as follows:\n",
    "1. Welcome (Back to) Pandas\n",
    "    - DataFrames and Series\n",
    "    - Operations with Elementary Data Types in the Context of Pandas\n",
    "        - Boolean Series\n",
    "        - String Operations\n",
    "        - Numeric Operations and Methods\n",
    "2. Readible Code and Method Chaining\n",
    "3. More Advanced Data Types\n",
    "    - Categorical Data\n",
    "    - Time Series Data\n",
    "    \n",
    "**NOTE:** I might be speaking quite slowly in some of the videos. A good advice is to turn up the speed to x1.25 or x1.5 if you want to get through without spending too much time:)"
   ],
   "metadata": {
    "ExecuteTime": {
     "end_time": "2017-08-23T15:30:03.634114Z",
     "start_time": "2017-08-23T15:30:03.629294Z"
    }
   }
  },
  {
   "cell_type": "markdown",
   "source": [
    "## Packages\n",
    "Load in the required modules and set up the plotting library:"
   ],
   "metadata": {
    "ExecuteTime": {
     "end_time": "2017-08-23T15:30:03.634114Z",
     "start_time": "2017-08-23T15:30:03.629294Z"
    }
   }
  },
  {
   "cell_type": "code",
   "execution_count": 2,
   "source": [
    "%matplotlib inline\n",
    "import numpy as np\n",
    "import pandas as pd\n",
    "import matplotlib.pyplot as plt\n",
    "from IPython.display import YouTubeVideo"
   ],
   "outputs": [],
   "metadata": {}
  },
  {
   "cell_type": "markdown",
   "source": [
    "Wonder what `%matplotlib inline` does? It's not too important for now. However, if you are interested, you can read more about it [here](https://stackoverflow.com/questions/43027980/purpose-of-matplotlib-inline)."
   ],
   "metadata": {}
  },
  {
   "cell_type": "markdown",
   "source": [
    "# Part 1: Welcome (Back to) Pandas\n",
    "\n",
    "As mentioned during the lecture, data structuring skills are necessary to become a great data scientist. There is no way around it.\n",
    "\n",
    "Let's start with the basics. In the first video, we start out by talking about the fundamentals of Pandas: \n",
    "- The Pandas DataFrame and the Pandas Series. \n",
    "- We then proceed and discuss how indices and colums can be named and selected. \n",
    "- Finally, we make some simple operations.\n",
    "\n",
    "**NOTE:** This is mainly repitition of what you already worked with in assignment 0. If you feel comfortable with this, you should proceed to the associated exercises that will get you warmed up for the rest of this notebook."
   ],
   "metadata": {}
  },
  {
   "cell_type": "code",
   "execution_count": 3,
   "source": [
    "YouTubeVideo('uSiqryfDYo0', width=640, height=360)"
   ],
   "outputs": [
    {
     "output_type": "execute_result",
     "data": {
      "text/plain": [
       "<IPython.lib.display.YouTubeVideo at 0x1165e4130>"
      ],
      "image/jpeg": "[encoded data removed]",
      "text/html": [
       "\n",
       "        <iframe\n",
       "            width=\"640\"\n",
       "            height=\"360\"\n",
       "            src=\"https://www.youtube.com/embed/uSiqryfDYo0\"\n",
       "            frameborder=\"0\"\n",
       "            allowfullscreen\n",
       "        ></iframe>\n",
       "        "
      ]
     },
     "metadata": {},
     "execution_count": 3
    }
   ],
   "metadata": {}
  },
  {
   "cell_type": "markdown",
   "source": [
    "In this set of introductory exercises, we are going to briefly touch upon some of the tools from the video. Again, be aware that there is going to be some repition of the content from assignment 0 here - but these things are all very useful to get under your skin!\n",
    "\n",
    "> **Ex. 2.1.1**: Run the following two lines below. Explain to yourself what the second line did, and how each entry affected it. In relation to this, what did the first line ensure? When can this be useful? Try and play around with the seed."
   ],
   "metadata": {}
  },
  {
   "cell_type": "code",
   "execution_count": 4,
   "source": [
    "np.random.seed(seed=161193)\n",
    "np_arr=np.round(np.random.exponential(10, size=(10**5,3)),0)"
   ],
   "outputs": [],
   "metadata": {}
  },
  {
   "cell_type": "markdown",
   "source": [
    "Now, we want you to investigate how easy it is to go from a numpy `array` to a pandas `DataFrame`. You are going to do something similar to this repeatedly in this course!\n",
    "\n",
    "> **Ex. 2.1.2**: Create a Pandas DataFrame called `my_df` from `np_arr`:"
   ],
   "metadata": {}
  },
  {
   "cell_type": "code",
   "execution_count": 5,
   "source": [
    "my_df = pd.DataFrame(np_arr)\n",
    "\n",
    "my_df"
   ],
   "outputs": [
    {
     "output_type": "execute_result",
     "data": {
      "text/plain": [
       "         0     1     2\n",
       "0      5.0   0.0   2.0\n",
       "1      4.0   7.0  20.0\n",
       "2      1.0   4.0   2.0\n",
       "3      3.0   9.0   4.0\n",
       "4      5.0   2.0  13.0\n",
       "...    ...   ...   ...\n",
       "99995  2.0   7.0  14.0\n",
       "99996  5.0   3.0   7.0\n",
       "99997  1.0  25.0   5.0\n",
       "99998  1.0  47.0   6.0\n",
       "99999  4.0   1.0   3.0\n",
       "\n",
       "[100000 rows x 3 columns]"
      ],
      "text/html": [
       "<div>\n",
       "<style scoped>\n",
       "    .dataframe tbody tr th:only-of-type {\n",
       "        vertical-align: middle;\n",
       "    }\n",
       "\n",
       "    .dataframe tbody tr th {\n",
       "        vertical-align: top;\n",
       "    }\n",
       "\n",
       "    .dataframe thead th {\n",
       "        text-align: right;\n",
       "    }\n",
       "</style>\n",
       "<table border=\"1\" class=\"dataframe\">\n",
       "  <thead>\n",
       "    <tr style=\"text-align: right;\">\n",
       "      <th></th>\n",
       "      <th>0</th>\n",
       "      <th>1</th>\n",
       "      <th>2</th>\n",
       "    </tr>\n",
       "  </thead>\n",
       "  <tbody>\n",
       "    <tr>\n",
       "      <th>0</th>\n",
       "      <td>5.0</td>\n",
       "      <td>0.0</td>\n",
       "      <td>2.0</td>\n",
       "    </tr>\n",
       "    <tr>\n",
       "      <th>1</th>\n",
       "      <td>4.0</td>\n",
       "      <td>7.0</td>\n",
       "      <td>20.0</td>\n",
       "    </tr>\n",
       "    <tr>\n",
       "      <th>2</th>\n",
       "      <td>1.0</td>\n",
       "      <td>4.0</td>\n",
       "      <td>2.0</td>\n",
       "    </tr>\n",
       "    <tr>\n",
       "      <th>3</th>\n",
       "      <td>3.0</td>\n",
       "      <td>9.0</td>\n",
       "      <td>4.0</td>\n",
       "    </tr>\n",
       "    <tr>\n",
       "      <th>4</th>\n",
       "      <td>5.0</td>\n",
       "      <td>2.0</td>\n",
       "      <td>13.0</td>\n",
       "    </tr>\n",
       "    <tr>\n",
       "      <th>...</th>\n",
       "      <td>...</td>\n",
       "      <td>...</td>\n",
       "      <td>...</td>\n",
       "    </tr>\n",
       "    <tr>\n",
       "      <th>99995</th>\n",
       "      <td>2.0</td>\n",
       "      <td>7.0</td>\n",
       "      <td>14.0</td>\n",
       "    </tr>\n",
       "    <tr>\n",
       "      <th>99996</th>\n",
       "      <td>5.0</td>\n",
       "      <td>3.0</td>\n",
       "      <td>7.0</td>\n",
       "    </tr>\n",
       "    <tr>\n",
       "      <th>99997</th>\n",
       "      <td>1.0</td>\n",
       "      <td>25.0</td>\n",
       "      <td>5.0</td>\n",
       "    </tr>\n",
       "    <tr>\n",
       "      <th>99998</th>\n",
       "      <td>1.0</td>\n",
       "      <td>47.0</td>\n",
       "      <td>6.0</td>\n",
       "    </tr>\n",
       "    <tr>\n",
       "      <th>99999</th>\n",
       "      <td>4.0</td>\n",
       "      <td>1.0</td>\n",
       "      <td>3.0</td>\n",
       "    </tr>\n",
       "  </tbody>\n",
       "</table>\n",
       "<p>100000 rows × 3 columns</p>\n",
       "</div>"
      ]
     },
     "metadata": {},
     "execution_count": 5
    }
   ],
   "metadata": {
    "deletable": false,
    "nbgrader": {
     "cell_type": "code",
     "checksum": "92d26aa1467a0f03e0fa95ac8128729e",
     "grade": false,
     "grade_id": "cell-6ed6b4feaaf73052",
     "locked": false,
     "schema_version": 3,
     "solution": true,
     "task": false
    }
   }
  },
  {
   "cell_type": "markdown",
   "source": [
    "Before we continue working with this DataFrame, we want to make sure that you are capable of transforming it back to different types of containers. This is another very fundamental tool in your data science toolbox.\n",
    "\n",
    "> **Ex. 2.1.3**: In the following cell, generate an `array`, a `list` and a `dict` from `my_df` (you should be able to do each of these things in one line). Verify that you did this properly by printing your output. Inspect the dictionary: How do you access the value associated with the column index 2 and row index 8543?"
   ],
   "metadata": {}
  },
  {
   "cell_type": "code",
   "execution_count": 6,
   "source": [
    "my_arr = my_df.values\n",
    "my_list = my_df.values.tolist()\n",
    "my_dic = my_df.to_dict()\n",
    "\n",
    "#Printing output \n",
    "\"\"\" print(my_arr)\n",
    "print(my_list)\n",
    "print(my_dic) \"\"\"\n",
    "\n",
    "my_dic[2][8543]\n"
   ],
   "outputs": [
    {
     "output_type": "execute_result",
     "data": {
      "text/plain": [
       "13.0"
      ]
     },
     "metadata": {},
     "execution_count": 6
    }
   ],
   "metadata": {
    "deletable": false,
    "nbgrader": {
     "cell_type": "code",
     "checksum": "52ac1a88b3adbe1389af1ee57e42c8ee",
     "grade": false,
     "grade_id": "cell-5481f267f2cf0cb9",
     "locked": false,
     "schema_version": 3,
     "solution": true,
     "task": false
    }
   }
  },
  {
   "cell_type": "markdown",
   "source": [
    "A noticeable distiction between pandas dataframes and, say, numpy arrays is the option to label indices and (in particular) columns. This is helpful when working with large sets of data.\n",
    "\n",
    "> **Ex. 2.1.4**: Going back to the DataFrame `my_df`, we now want you to try the following: \n",
    "> 1. Label the columns 'apples', 'bananas' and 'oranges'\n",
    "> 2. Change the indices to 'cust**x**' where **x** is a sequential numbering of the lines starting from 1 (*hint:* There are many ways to do this, e.g. with a list comprehension!)\n",
    "> 3. Print the first 10 observations using the `head()` method."
   ],
   "metadata": {}
  },
  {
   "cell_type": "code",
   "execution_count": 7,
   "source": [
    "my_df.columns = ['apples', 'bananas', 'oranges']\n",
    "my_df.index = ['cust'+str(x) for x in range(1,100001)]\n",
    "my_df.head(10)"
   ],
   "outputs": [
    {
     "output_type": "execute_result",
     "data": {
      "text/plain": [
       "        apples  bananas  oranges\n",
       "cust1      5.0      0.0      2.0\n",
       "cust2      4.0      7.0     20.0\n",
       "cust3      1.0      4.0      2.0\n",
       "cust4      3.0      9.0      4.0\n",
       "cust5      5.0      2.0     13.0\n",
       "cust6      2.0      6.0      0.0\n",
       "cust7     12.0     16.0     14.0\n",
       "cust8     30.0      5.0     18.0\n",
       "cust9     21.0      0.0      2.0\n",
       "cust10    11.0     14.0      1.0"
      ],
      "text/html": [
       "<div>\n",
       "<style scoped>\n",
       "    .dataframe tbody tr th:only-of-type {\n",
       "        vertical-align: middle;\n",
       "    }\n",
       "\n",
       "    .dataframe tbody tr th {\n",
       "        vertical-align: top;\n",
       "    }\n",
       "\n",
       "    .dataframe thead th {\n",
       "        text-align: right;\n",
       "    }\n",
       "</style>\n",
       "<table border=\"1\" class=\"dataframe\">\n",
       "  <thead>\n",
       "    <tr style=\"text-align: right;\">\n",
       "      <th></th>\n",
       "      <th>apples</th>\n",
       "      <th>bananas</th>\n",
       "      <th>oranges</th>\n",
       "    </tr>\n",
       "  </thead>\n",
       "  <tbody>\n",
       "    <tr>\n",
       "      <th>cust1</th>\n",
       "      <td>5.0</td>\n",
       "      <td>0.0</td>\n",
       "      <td>2.0</td>\n",
       "    </tr>\n",
       "    <tr>\n",
       "      <th>cust2</th>\n",
       "      <td>4.0</td>\n",
       "      <td>7.0</td>\n",
       "      <td>20.0</td>\n",
       "    </tr>\n",
       "    <tr>\n",
       "      <th>cust3</th>\n",
       "      <td>1.0</td>\n",
       "      <td>4.0</td>\n",
       "      <td>2.0</td>\n",
       "    </tr>\n",
       "    <tr>\n",
       "      <th>cust4</th>\n",
       "      <td>3.0</td>\n",
       "      <td>9.0</td>\n",
       "      <td>4.0</td>\n",
       "    </tr>\n",
       "    <tr>\n",
       "      <th>cust5</th>\n",
       "      <td>5.0</td>\n",
       "      <td>2.0</td>\n",
       "      <td>13.0</td>\n",
       "    </tr>\n",
       "    <tr>\n",
       "      <th>cust6</th>\n",
       "      <td>2.0</td>\n",
       "      <td>6.0</td>\n",
       "      <td>0.0</td>\n",
       "    </tr>\n",
       "    <tr>\n",
       "      <th>cust7</th>\n",
       "      <td>12.0</td>\n",
       "      <td>16.0</td>\n",
       "      <td>14.0</td>\n",
       "    </tr>\n",
       "    <tr>\n",
       "      <th>cust8</th>\n",
       "      <td>30.0</td>\n",
       "      <td>5.0</td>\n",
       "      <td>18.0</td>\n",
       "    </tr>\n",
       "    <tr>\n",
       "      <th>cust9</th>\n",
       "      <td>21.0</td>\n",
       "      <td>0.0</td>\n",
       "      <td>2.0</td>\n",
       "    </tr>\n",
       "    <tr>\n",
       "      <th>cust10</th>\n",
       "      <td>11.0</td>\n",
       "      <td>14.0</td>\n",
       "      <td>1.0</td>\n",
       "    </tr>\n",
       "  </tbody>\n",
       "</table>\n",
       "</div>"
      ]
     },
     "metadata": {},
     "execution_count": 7
    }
   ],
   "metadata": {
    "deletable": false,
    "nbgrader": {
     "cell_type": "code",
     "checksum": "97092b03bc68cc7447ca5c227ceecdd3",
     "grade": false,
     "grade_id": "cell-9453d49738b2ecdb",
     "locked": false,
     "schema_version": 3,
     "solution": true,
     "task": false
    }
   }
  },
  {
   "cell_type": "markdown",
   "source": [
    "As we saw in the video, we can basically extract a series from a pandas dataframe by simply selecting one column from the dataframe and storing it as a new object.\n",
    "\n",
    "> **Ex. 2.1.5**: Now, we want you to select only a single column and inspect the output a bit:\n",
    "> 1. Select 'apples' and store it as 'apples_ser'. Try using the key-based method and the object-based method, respectively. \n",
    "> 2. Check the data type. Thinking about our first lines of code, why is it not an `integer`? Convert the data in both 'apples_ser' and 'my_df' to intergers."
   ],
   "metadata": {}
  },
  {
   "cell_type": "code",
   "execution_count": 8,
   "source": [
    "apples_ser = my_df['apples']\n",
    "apples_ser = my_df.apples\n",
    "\n",
    "# Checking the datatype\n",
    "apples_ser\n",
    "\n",
    "# Converting from float64 to int64\n",
    "apples_ser = apples_ser.astype(np.int)\n",
    "my_df = my_df.astype(np.int)\n",
    "\n",
    "my_df"
   ],
   "outputs": [
    {
     "output_type": "execute_result",
     "data": {
      "text/plain": [
       "            apples  bananas  oranges\n",
       "cust1            5        0        2\n",
       "cust2            4        7       20\n",
       "cust3            1        4        2\n",
       "cust4            3        9        4\n",
       "cust5            5        2       13\n",
       "...            ...      ...      ...\n",
       "cust99996        2        7       14\n",
       "cust99997        5        3        7\n",
       "cust99998        1       25        5\n",
       "cust99999        1       47        6\n",
       "cust100000       4        1        3\n",
       "\n",
       "[100000 rows x 3 columns]"
      ],
      "text/html": [
       "<div>\n",
       "<style scoped>\n",
       "    .dataframe tbody tr th:only-of-type {\n",
       "        vertical-align: middle;\n",
       "    }\n",
       "\n",
       "    .dataframe tbody tr th {\n",
       "        vertical-align: top;\n",
       "    }\n",
       "\n",
       "    .dataframe thead th {\n",
       "        text-align: right;\n",
       "    }\n",
       "</style>\n",
       "<table border=\"1\" class=\"dataframe\">\n",
       "  <thead>\n",
       "    <tr style=\"text-align: right;\">\n",
       "      <th></th>\n",
       "      <th>apples</th>\n",
       "      <th>bananas</th>\n",
       "      <th>oranges</th>\n",
       "    </tr>\n",
       "  </thead>\n",
       "  <tbody>\n",
       "    <tr>\n",
       "      <th>cust1</th>\n",
       "      <td>5</td>\n",
       "      <td>0</td>\n",
       "      <td>2</td>\n",
       "    </tr>\n",
       "    <tr>\n",
       "      <th>cust2</th>\n",
       "      <td>4</td>\n",
       "      <td>7</td>\n",
       "      <td>20</td>\n",
       "    </tr>\n",
       "    <tr>\n",
       "      <th>cust3</th>\n",
       "      <td>1</td>\n",
       "      <td>4</td>\n",
       "      <td>2</td>\n",
       "    </tr>\n",
       "    <tr>\n",
       "      <th>cust4</th>\n",
       "      <td>3</td>\n",
       "      <td>9</td>\n",
       "      <td>4</td>\n",
       "    </tr>\n",
       "    <tr>\n",
       "      <th>cust5</th>\n",
       "      <td>5</td>\n",
       "      <td>2</td>\n",
       "      <td>13</td>\n",
       "    </tr>\n",
       "    <tr>\n",
       "      <th>...</th>\n",
       "      <td>...</td>\n",
       "      <td>...</td>\n",
       "      <td>...</td>\n",
       "    </tr>\n",
       "    <tr>\n",
       "      <th>cust99996</th>\n",
       "      <td>2</td>\n",
       "      <td>7</td>\n",
       "      <td>14</td>\n",
       "    </tr>\n",
       "    <tr>\n",
       "      <th>cust99997</th>\n",
       "      <td>5</td>\n",
       "      <td>3</td>\n",
       "      <td>7</td>\n",
       "    </tr>\n",
       "    <tr>\n",
       "      <th>cust99998</th>\n",
       "      <td>1</td>\n",
       "      <td>25</td>\n",
       "      <td>5</td>\n",
       "    </tr>\n",
       "    <tr>\n",
       "      <th>cust99999</th>\n",
       "      <td>1</td>\n",
       "      <td>47</td>\n",
       "      <td>6</td>\n",
       "    </tr>\n",
       "    <tr>\n",
       "      <th>cust100000</th>\n",
       "      <td>4</td>\n",
       "      <td>1</td>\n",
       "      <td>3</td>\n",
       "    </tr>\n",
       "  </tbody>\n",
       "</table>\n",
       "<p>100000 rows × 3 columns</p>\n",
       "</div>"
      ]
     },
     "metadata": {},
     "execution_count": 8
    }
   ],
   "metadata": {
    "deletable": false,
    "nbgrader": {
     "cell_type": "code",
     "checksum": "06f452e0ab4267c6ebdab3d943acbf47",
     "grade": false,
     "grade_id": "cell-26cb4b96a8d3b0fb",
     "locked": false,
     "schema_version": 3,
     "solution": true,
     "task": false
    }
   }
  },
  {
   "cell_type": "markdown",
   "source": [
    "## Boolean Series"
   ],
   "metadata": {}
  },
  {
   "cell_type": "code",
   "execution_count": 9,
   "source": [
    "YouTubeVideo('CfiV8QmfGVk', width=640, height=360)"
   ],
   "outputs": [
    {
     "output_type": "execute_result",
     "data": {
      "text/plain": [
       "<IPython.lib.display.YouTubeVideo at 0x13e354bb0>"
      ],
      "image/jpeg": "[encoded data removed]",
      "text/html": [
       "\n",
       "        <iframe\n",
       "            width=\"640\"\n",
       "            height=\"360\"\n",
       "            src=\"https://www.youtube.com/embed/CfiV8QmfGVk\"\n",
       "            frameborder=\"0\"\n",
       "            allowfullscreen\n",
       "        ></iframe>\n",
       "        "
      ]
     },
     "metadata": {},
     "execution_count": 9
    }
   ],
   "metadata": {}
  },
  {
   "cell_type": "markdown",
   "source": [
    "Boolean 'data' is the simplest data type that we work with. These variables are binary, and basically represent a True or False value. As seen in the video, they become extraordinarily useful when working with pandas series. In particular, boolean series can be applied when we only want to work with certain rows in a dataframe.\n",
    "\n",
    "> **Ex. 2.1.6**: Drop all rows for which 'Apples' is strictly smaller than 5."
   ],
   "metadata": {}
  },
  {
   "cell_type": "code",
   "execution_count": 10,
   "source": [
    "my_df = my_df[my_df['apples']>=5]\n",
    "apples_ser = apples_ser[apples_ser >= 5]\n",
    "my_df"
   ],
   "outputs": [
    {
     "output_type": "execute_result",
     "data": {
      "text/plain": [
       "           apples  bananas  oranges\n",
       "cust1           5        0        2\n",
       "cust5           5        2       13\n",
       "cust7          12       16       14\n",
       "cust8          30        5       18\n",
       "cust9          21        0        2\n",
       "...           ...      ...      ...\n",
       "cust99989       5       31       16\n",
       "cust99990       9       11        2\n",
       "cust99991      37       17        2\n",
       "cust99992       7        3       19\n",
       "cust99997       5        3        7\n",
       "\n",
       "[63837 rows x 3 columns]"
      ],
      "text/html": [
       "<div>\n",
       "<style scoped>\n",
       "    .dataframe tbody tr th:only-of-type {\n",
       "        vertical-align: middle;\n",
       "    }\n",
       "\n",
       "    .dataframe tbody tr th {\n",
       "        vertical-align: top;\n",
       "    }\n",
       "\n",
       "    .dataframe thead th {\n",
       "        text-align: right;\n",
       "    }\n",
       "</style>\n",
       "<table border=\"1\" class=\"dataframe\">\n",
       "  <thead>\n",
       "    <tr style=\"text-align: right;\">\n",
       "      <th></th>\n",
       "      <th>apples</th>\n",
       "      <th>bananas</th>\n",
       "      <th>oranges</th>\n",
       "    </tr>\n",
       "  </thead>\n",
       "  <tbody>\n",
       "    <tr>\n",
       "      <th>cust1</th>\n",
       "      <td>5</td>\n",
       "      <td>0</td>\n",
       "      <td>2</td>\n",
       "    </tr>\n",
       "    <tr>\n",
       "      <th>cust5</th>\n",
       "      <td>5</td>\n",
       "      <td>2</td>\n",
       "      <td>13</td>\n",
       "    </tr>\n",
       "    <tr>\n",
       "      <th>cust7</th>\n",
       "      <td>12</td>\n",
       "      <td>16</td>\n",
       "      <td>14</td>\n",
       "    </tr>\n",
       "    <tr>\n",
       "      <th>cust8</th>\n",
       "      <td>30</td>\n",
       "      <td>5</td>\n",
       "      <td>18</td>\n",
       "    </tr>\n",
       "    <tr>\n",
       "      <th>cust9</th>\n",
       "      <td>21</td>\n",
       "      <td>0</td>\n",
       "      <td>2</td>\n",
       "    </tr>\n",
       "    <tr>\n",
       "      <th>...</th>\n",
       "      <td>...</td>\n",
       "      <td>...</td>\n",
       "      <td>...</td>\n",
       "    </tr>\n",
       "    <tr>\n",
       "      <th>cust99989</th>\n",
       "      <td>5</td>\n",
       "      <td>31</td>\n",
       "      <td>16</td>\n",
       "    </tr>\n",
       "    <tr>\n",
       "      <th>cust99990</th>\n",
       "      <td>9</td>\n",
       "      <td>11</td>\n",
       "      <td>2</td>\n",
       "    </tr>\n",
       "    <tr>\n",
       "      <th>cust99991</th>\n",
       "      <td>37</td>\n",
       "      <td>17</td>\n",
       "      <td>2</td>\n",
       "    </tr>\n",
       "    <tr>\n",
       "      <th>cust99992</th>\n",
       "      <td>7</td>\n",
       "      <td>3</td>\n",
       "      <td>19</td>\n",
       "    </tr>\n",
       "    <tr>\n",
       "      <th>cust99997</th>\n",
       "      <td>5</td>\n",
       "      <td>3</td>\n",
       "      <td>7</td>\n",
       "    </tr>\n",
       "  </tbody>\n",
       "</table>\n",
       "<p>63837 rows × 3 columns</p>\n",
       "</div>"
      ]
     },
     "metadata": {},
     "execution_count": 10
    }
   ],
   "metadata": {
    "deletable": false,
    "nbgrader": {
     "cell_type": "code",
     "checksum": "9f7221f260ea18c24561b3c1d872f75d",
     "grade": false,
     "grade_id": "cell-63fd4d48def27a6e",
     "locked": false,
     "schema_version": 3,
     "solution": true,
     "task": false
    }
   }
  },
  {
   "cell_type": "markdown",
   "source": [
    "## Numeric Operications and Methods"
   ],
   "metadata": {}
  },
  {
   "cell_type": "code",
   "execution_count": 11,
   "source": [
    "YouTubeVideo('ClB-n1f9sBM', width=640, height=360)"
   ],
   "outputs": [
    {
     "output_type": "execute_result",
     "data": {
      "text/plain": [
       "<IPython.lib.display.YouTubeVideo at 0x13e354a00>"
      ],
      "image/jpeg": "[encoded data removed]",
      "text/html": [
       "\n",
       "        <iframe\n",
       "            width=\"640\"\n",
       "            height=\"360\"\n",
       "            src=\"https://www.youtube.com/embed/ClB-n1f9sBM\"\n",
       "            frameborder=\"0\"\n",
       "            allowfullscreen\n",
       "        ></iframe>\n",
       "        "
      ]
     },
     "metadata": {},
     "execution_count": 11
    }
   ],
   "metadata": {}
  },
  {
   "cell_type": "markdown",
   "source": [
    "As we saw in the video, we can easily make vectorized operations with multiple numpy arrays as well as pandas series and dataframes. This feature can become useful in many cases - in particular, when you have a large set of data and you do not want to make a (computationally exhaustive) loop through all you observation.\n",
    "\n",
    "> **Ex. 2.1.7**: In this exercise, we want you to make operations on multiple vectors and matrices using a combination of numpy arrays and pandas dataframes.\n",
    "> 1. Create a numpy array (with 3 elements) of costs associated with different types of fruits. Call this 'price'. Entries should be 1, 4 and 3, respectively.\n",
    "> 2. Create a new dataframe with information on each costumer's expenses associated with each type of fruit. This should involve multiplying your cost array with the 'my_df'.\n",
    "> 3. Create a new column called 'Total expenditure' by summing over fruit-specific prices for each customer (*hint:* Learn more about such sum [here](https://pandas.pydata.org/docs/reference/api/pandas.DataFrame.sum.html)).\n",
    "> 4. Sort the dataframe by total expenditure, starting with the customer with highest expenditure."
   ],
   "metadata": {}
  },
  {
   "cell_type": "code",
   "execution_count": 12,
   "source": [
    "# YOUR CODE HERE\n",
    "my_np = pd.Series([1,4,3], name = \"price\")\n",
    "df1 = my_df*my_np.values\n",
    "df1['Total expenditure'] = df1.sum(axis = 1)\n",
    "df1.sort_values(by = 'Total expenditure', ascending = False, inplace= True)\n",
    "df1"
   ],
   "outputs": [
    {
     "output_type": "execute_result",
     "data": {
      "text/plain": [
       "           apples  bananas  oranges  Total expenditure\n",
       "cust2459       14      368      180                562\n",
       "cust12385       9      372      150                531\n",
       "cust50360      31      300      171                502\n",
       "cust66559      22      332       93                447\n",
       "cust36884      44      204      195                443\n",
       "...           ...      ...      ...                ...\n",
       "cust45372       5        0        0                  5\n",
       "cust12524       5        0        0                  5\n",
       "cust4308        5        0        0                  5\n",
       "cust70191       5        0        0                  5\n",
       "cust4190        5        0        0                  5\n",
       "\n",
       "[63837 rows x 4 columns]"
      ],
      "text/html": [
       "<div>\n",
       "<style scoped>\n",
       "    .dataframe tbody tr th:only-of-type {\n",
       "        vertical-align: middle;\n",
       "    }\n",
       "\n",
       "    .dataframe tbody tr th {\n",
       "        vertical-align: top;\n",
       "    }\n",
       "\n",
       "    .dataframe thead th {\n",
       "        text-align: right;\n",
       "    }\n",
       "</style>\n",
       "<table border=\"1\" class=\"dataframe\">\n",
       "  <thead>\n",
       "    <tr style=\"text-align: right;\">\n",
       "      <th></th>\n",
       "      <th>apples</th>\n",
       "      <th>bananas</th>\n",
       "      <th>oranges</th>\n",
       "      <th>Total expenditure</th>\n",
       "    </tr>\n",
       "  </thead>\n",
       "  <tbody>\n",
       "    <tr>\n",
       "      <th>cust2459</th>\n",
       "      <td>14</td>\n",
       "      <td>368</td>\n",
       "      <td>180</td>\n",
       "      <td>562</td>\n",
       "    </tr>\n",
       "    <tr>\n",
       "      <th>cust12385</th>\n",
       "      <td>9</td>\n",
       "      <td>372</td>\n",
       "      <td>150</td>\n",
       "      <td>531</td>\n",
       "    </tr>\n",
       "    <tr>\n",
       "      <th>cust50360</th>\n",
       "      <td>31</td>\n",
       "      <td>300</td>\n",
       "      <td>171</td>\n",
       "      <td>502</td>\n",
       "    </tr>\n",
       "    <tr>\n",
       "      <th>cust66559</th>\n",
       "      <td>22</td>\n",
       "      <td>332</td>\n",
       "      <td>93</td>\n",
       "      <td>447</td>\n",
       "    </tr>\n",
       "    <tr>\n",
       "      <th>cust36884</th>\n",
       "      <td>44</td>\n",
       "      <td>204</td>\n",
       "      <td>195</td>\n",
       "      <td>443</td>\n",
       "    </tr>\n",
       "    <tr>\n",
       "      <th>...</th>\n",
       "      <td>...</td>\n",
       "      <td>...</td>\n",
       "      <td>...</td>\n",
       "      <td>...</td>\n",
       "    </tr>\n",
       "    <tr>\n",
       "      <th>cust45372</th>\n",
       "      <td>5</td>\n",
       "      <td>0</td>\n",
       "      <td>0</td>\n",
       "      <td>5</td>\n",
       "    </tr>\n",
       "    <tr>\n",
       "      <th>cust12524</th>\n",
       "      <td>5</td>\n",
       "      <td>0</td>\n",
       "      <td>0</td>\n",
       "      <td>5</td>\n",
       "    </tr>\n",
       "    <tr>\n",
       "      <th>cust4308</th>\n",
       "      <td>5</td>\n",
       "      <td>0</td>\n",
       "      <td>0</td>\n",
       "      <td>5</td>\n",
       "    </tr>\n",
       "    <tr>\n",
       "      <th>cust70191</th>\n",
       "      <td>5</td>\n",
       "      <td>0</td>\n",
       "      <td>0</td>\n",
       "      <td>5</td>\n",
       "    </tr>\n",
       "    <tr>\n",
       "      <th>cust4190</th>\n",
       "      <td>5</td>\n",
       "      <td>0</td>\n",
       "      <td>0</td>\n",
       "      <td>5</td>\n",
       "    </tr>\n",
       "  </tbody>\n",
       "</table>\n",
       "<p>63837 rows × 4 columns</p>\n",
       "</div>"
      ]
     },
     "metadata": {},
     "execution_count": 12
    }
   ],
   "metadata": {
    "deletable": false,
    "nbgrader": {
     "cell_type": "code",
     "checksum": "80c0972023fd5a1e6f592de4cdc51a59",
     "grade": false,
     "grade_id": "cell-815c7a5459d9da6a",
     "locked": false,
     "schema_version": 3,
     "solution": true,
     "task": false
    }
   }
  },
  {
   "cell_type": "markdown",
   "source": [
    "When we have a large data set, it is difficult to get an idea of it's characteristics by simply sorting and printing. In such cases, we much rather want to look at some kinds of descriptive statistics for our data. \n",
    "\n",
    "> **Ex. 2.1.8**: In this exercise, we will ask you to use two methods from the video in order to shed some light on the distribution of total expenditure:\n",
    "> 1. Use `describe()` to get an idea about the distribution of total expenditure in the data set. What does the distance between `mean` and the `50%` quantile tell you about the skewness?\n",
    "> 2. Use the `cut` method to split the sample into 6 equal sized bins of expenditures from 0 to 600. Find the *share* of observations within each of these bins (we will work more with *categorical data* later in this session)."
   ],
   "metadata": {}
  },
  {
   "cell_type": "code",
   "execution_count": 13,
   "source": [
    "df1.describe() # højre-skæv fordeling"
   ],
   "outputs": [
    {
     "output_type": "execute_result",
     "data": {
      "text/plain": [
       "             apples       bananas       oranges  Total expenditure\n",
       "count  63837.000000  63837.000000  63837.000000       63837.000000\n",
       "mean      14.531150     39.573351     29.676019          83.780519\n",
       "std       10.008885     39.655401     29.546658          50.621702\n",
       "min        5.000000      0.000000      0.000000           5.000000\n",
       "25%        7.000000     12.000000      9.000000          47.000000\n",
       "50%       11.000000     28.000000     21.000000          73.000000\n",
       "75%       18.000000     56.000000     42.000000         109.000000\n",
       "max      130.000000    408.000000    306.000000         562.000000"
      ],
      "text/html": [
       "<div>\n",
       "<style scoped>\n",
       "    .dataframe tbody tr th:only-of-type {\n",
       "        vertical-align: middle;\n",
       "    }\n",
       "\n",
       "    .dataframe tbody tr th {\n",
       "        vertical-align: top;\n",
       "    }\n",
       "\n",
       "    .dataframe thead th {\n",
       "        text-align: right;\n",
       "    }\n",
       "</style>\n",
       "<table border=\"1\" class=\"dataframe\">\n",
       "  <thead>\n",
       "    <tr style=\"text-align: right;\">\n",
       "      <th></th>\n",
       "      <th>apples</th>\n",
       "      <th>bananas</th>\n",
       "      <th>oranges</th>\n",
       "      <th>Total expenditure</th>\n",
       "    </tr>\n",
       "  </thead>\n",
       "  <tbody>\n",
       "    <tr>\n",
       "      <th>count</th>\n",
       "      <td>63837.000000</td>\n",
       "      <td>63837.000000</td>\n",
       "      <td>63837.000000</td>\n",
       "      <td>63837.000000</td>\n",
       "    </tr>\n",
       "    <tr>\n",
       "      <th>mean</th>\n",
       "      <td>14.531150</td>\n",
       "      <td>39.573351</td>\n",
       "      <td>29.676019</td>\n",
       "      <td>83.780519</td>\n",
       "    </tr>\n",
       "    <tr>\n",
       "      <th>std</th>\n",
       "      <td>10.008885</td>\n",
       "      <td>39.655401</td>\n",
       "      <td>29.546658</td>\n",
       "      <td>50.621702</td>\n",
       "    </tr>\n",
       "    <tr>\n",
       "      <th>min</th>\n",
       "      <td>5.000000</td>\n",
       "      <td>0.000000</td>\n",
       "      <td>0.000000</td>\n",
       "      <td>5.000000</td>\n",
       "    </tr>\n",
       "    <tr>\n",
       "      <th>25%</th>\n",
       "      <td>7.000000</td>\n",
       "      <td>12.000000</td>\n",
       "      <td>9.000000</td>\n",
       "      <td>47.000000</td>\n",
       "    </tr>\n",
       "    <tr>\n",
       "      <th>50%</th>\n",
       "      <td>11.000000</td>\n",
       "      <td>28.000000</td>\n",
       "      <td>21.000000</td>\n",
       "      <td>73.000000</td>\n",
       "    </tr>\n",
       "    <tr>\n",
       "      <th>75%</th>\n",
       "      <td>18.000000</td>\n",
       "      <td>56.000000</td>\n",
       "      <td>42.000000</td>\n",
       "      <td>109.000000</td>\n",
       "    </tr>\n",
       "    <tr>\n",
       "      <th>max</th>\n",
       "      <td>130.000000</td>\n",
       "      <td>408.000000</td>\n",
       "      <td>306.000000</td>\n",
       "      <td>562.000000</td>\n",
       "    </tr>\n",
       "  </tbody>\n",
       "</table>\n",
       "</div>"
      ]
     },
     "metadata": {},
     "execution_count": 13
    }
   ],
   "metadata": {
    "deletable": false,
    "nbgrader": {
     "cell_type": "code",
     "checksum": "464113e102297fdfc5dd2c83e36d8ca4",
     "grade": false,
     "grade_id": "cell-43666d5bd6421188",
     "locked": false,
     "schema_version": 3,
     "solution": true,
     "task": false
    }
   }
  },
  {
   "cell_type": "code",
   "execution_count": 14,
   "source": [
    "my_cut = pd.cut(df1['Total expenditure'], np.arange(0,601,100))\n",
    "my_cut.value_counts(normalize = True) # Using normalize = True to get the relative frequencies "
   ],
   "outputs": [
    {
     "output_type": "execute_result",
     "data": {
      "text/plain": [
       "(0, 100]      0.705860\n",
       "(100, 200]    0.262011\n",
       "(200, 300]    0.029513\n",
       "(300, 400]    0.002350\n",
       "(400, 500]    0.000219\n",
       "(500, 600]    0.000047\n",
       "Name: Total expenditure, dtype: float64"
      ]
     },
     "metadata": {},
     "execution_count": 14
    }
   ],
   "metadata": {}
  },
  {
   "cell_type": "markdown",
   "source": [
    "## String Operations"
   ],
   "metadata": {}
  },
  {
   "cell_type": "code",
   "execution_count": 15,
   "source": [
    "YouTubeVideo('Yjdd8rKj_WI', width=640, height=360)"
   ],
   "outputs": [
    {
     "output_type": "execute_result",
     "data": {
      "text/plain": [
       "<IPython.lib.display.YouTubeVideo at 0x140ee96d0>"
      ],
      "image/jpeg": "[encoded data removed]",
      "text/html": [
       "\n",
       "        <iframe\n",
       "            width=\"640\"\n",
       "            height=\"360\"\n",
       "            src=\"https://www.youtube.com/embed/Yjdd8rKj_WI\"\n",
       "            frameborder=\"0\"\n",
       "            allowfullscreen\n",
       "        ></iframe>\n",
       "        "
      ]
     },
     "metadata": {},
     "execution_count": 15
    }
   ],
   "metadata": {}
  },
  {
   "cell_type": "markdown",
   "source": [
    "Finally, we saw that pandas handles string variable natively. In particular, there is a set of string-specific operations (`.str`) that can be applied to a whole pandas series without having to loop through each row.\n",
    "\n",
    "> **Ex. 2.1.9**: In this final introductory exercise, we want you to \n",
    "> 1. Create a new variable (column) based on the index called 'Customer'. This should capitalize the customer id and write out 'Cust' to 'Customer' (i.e. you should get something similar to 'Customer **x**'). \n",
    "> 2. Reset the index."
   ],
   "metadata": {}
  },
  {
   "cell_type": "code",
   "execution_count": 16,
   "source": [
    "Customer = 'Customer ' + df1.index.str[4:]\n",
    "df1['Customer'] = Customer\n",
    "df1.reset_index(drop = True, inplace = True)"
   ],
   "outputs": [],
   "metadata": {
    "deletable": false,
    "nbgrader": {
     "cell_type": "code",
     "checksum": "d8b2f7083fae44c880facd79d2cf6d04",
     "grade": false,
     "grade_id": "cell-efe56b530ff9005c",
     "locked": false,
     "schema_version": 3,
     "solution": true,
     "task": false
    }
   }
  },
  {
   "cell_type": "code",
   "execution_count": 17,
   "source": [
    "df1"
   ],
   "outputs": [
    {
     "output_type": "execute_result",
     "data": {
      "text/plain": [
       "       apples  bananas  oranges  Total expenditure        Customer\n",
       "0          14      368      180                562   Customer 2459\n",
       "1           9      372      150                531  Customer 12385\n",
       "2          31      300      171                502  Customer 50360\n",
       "3          22      332       93                447  Customer 66559\n",
       "4          44      204      195                443  Customer 36884\n",
       "...       ...      ...      ...                ...             ...\n",
       "63832       5        0        0                  5  Customer 45372\n",
       "63833       5        0        0                  5  Customer 12524\n",
       "63834       5        0        0                  5   Customer 4308\n",
       "63835       5        0        0                  5  Customer 70191\n",
       "63836       5        0        0                  5   Customer 4190\n",
       "\n",
       "[63837 rows x 5 columns]"
      ],
      "text/html": [
       "<div>\n",
       "<style scoped>\n",
       "    .dataframe tbody tr th:only-of-type {\n",
       "        vertical-align: middle;\n",
       "    }\n",
       "\n",
       "    .dataframe tbody tr th {\n",
       "        vertical-align: top;\n",
       "    }\n",
       "\n",
       "    .dataframe thead th {\n",
       "        text-align: right;\n",
       "    }\n",
       "</style>\n",
       "<table border=\"1\" class=\"dataframe\">\n",
       "  <thead>\n",
       "    <tr style=\"text-align: right;\">\n",
       "      <th></th>\n",
       "      <th>apples</th>\n",
       "      <th>bananas</th>\n",
       "      <th>oranges</th>\n",
       "      <th>Total expenditure</th>\n",
       "      <th>Customer</th>\n",
       "    </tr>\n",
       "  </thead>\n",
       "  <tbody>\n",
       "    <tr>\n",
       "      <th>0</th>\n",
       "      <td>14</td>\n",
       "      <td>368</td>\n",
       "      <td>180</td>\n",
       "      <td>562</td>\n",
       "      <td>Customer 2459</td>\n",
       "    </tr>\n",
       "    <tr>\n",
       "      <th>1</th>\n",
       "      <td>9</td>\n",
       "      <td>372</td>\n",
       "      <td>150</td>\n",
       "      <td>531</td>\n",
       "      <td>Customer 12385</td>\n",
       "    </tr>\n",
       "    <tr>\n",
       "      <th>2</th>\n",
       "      <td>31</td>\n",
       "      <td>300</td>\n",
       "      <td>171</td>\n",
       "      <td>502</td>\n",
       "      <td>Customer 50360</td>\n",
       "    </tr>\n",
       "    <tr>\n",
       "      <th>3</th>\n",
       "      <td>22</td>\n",
       "      <td>332</td>\n",
       "      <td>93</td>\n",
       "      <td>447</td>\n",
       "      <td>Customer 66559</td>\n",
       "    </tr>\n",
       "    <tr>\n",
       "      <th>4</th>\n",
       "      <td>44</td>\n",
       "      <td>204</td>\n",
       "      <td>195</td>\n",
       "      <td>443</td>\n",
       "      <td>Customer 36884</td>\n",
       "    </tr>\n",
       "    <tr>\n",
       "      <th>...</th>\n",
       "      <td>...</td>\n",
       "      <td>...</td>\n",
       "      <td>...</td>\n",
       "      <td>...</td>\n",
       "      <td>...</td>\n",
       "    </tr>\n",
       "    <tr>\n",
       "      <th>63832</th>\n",
       "      <td>5</td>\n",
       "      <td>0</td>\n",
       "      <td>0</td>\n",
       "      <td>5</td>\n",
       "      <td>Customer 45372</td>\n",
       "    </tr>\n",
       "    <tr>\n",
       "      <th>63833</th>\n",
       "      <td>5</td>\n",
       "      <td>0</td>\n",
       "      <td>0</td>\n",
       "      <td>5</td>\n",
       "      <td>Customer 12524</td>\n",
       "    </tr>\n",
       "    <tr>\n",
       "      <th>63834</th>\n",
       "      <td>5</td>\n",
       "      <td>0</td>\n",
       "      <td>0</td>\n",
       "      <td>5</td>\n",
       "      <td>Customer 4308</td>\n",
       "    </tr>\n",
       "    <tr>\n",
       "      <th>63835</th>\n",
       "      <td>5</td>\n",
       "      <td>0</td>\n",
       "      <td>0</td>\n",
       "      <td>5</td>\n",
       "      <td>Customer 70191</td>\n",
       "    </tr>\n",
       "    <tr>\n",
       "      <th>63836</th>\n",
       "      <td>5</td>\n",
       "      <td>0</td>\n",
       "      <td>0</td>\n",
       "      <td>5</td>\n",
       "      <td>Customer 4190</td>\n",
       "    </tr>\n",
       "  </tbody>\n",
       "</table>\n",
       "<p>63837 rows × 5 columns</p>\n",
       "</div>"
      ]
     },
     "metadata": {},
     "execution_count": 17
    }
   ],
   "metadata": {}
  },
  {
   "cell_type": "markdown",
   "source": [
    "# Part 2: Readible Code\n",
    "\n",
    "Before proceeding to part 3 on advanced data types that are handled natively in pandas, we want you to think a bit about writing readable code. In particular, if we have lots of code, it may be very difficult for others or ourselves to read. Therefore, providing some structure and meta text can help reading the code.\n",
    "\n",
    "In the following, you will learn about readible code. Then we ask you to use what you learned in order to process the NOAA data from assignment 0. Don't spend too long on this exercise - we are going to use the data for the following exercises."
   ],
   "metadata": {}
  },
  {
   "cell_type": "markdown",
   "source": [
    "## Commenting\n",
    "\n",
    "When making code it's good practice to document different parts of the code. In particular describing functions and complex code. The example below shows how to make multi-line comments (as a string, which is not assigned) and in-line comments using the `#` character.\n",
    "\n",
    "```python\n",
    "def my_fct(x,y):\n",
    "    ''' \n",
    "    Computes the sum of input values (multi-line comment as string)\n",
    "    '''\n",
    "    z = x+y # Here we perform the summation (in-line comment)\n",
    "    return z\n",
    "```\n",
    "\n",
    "\n",
    "## Method chaining\n",
    "\n",
    "We can write multiple operations together by putting them one after the other, which is known as `method chaining`. Using this, we only need to assign them once to a new object and therefore we save a lot of code. We change the example below into one using a method chain:\n",
    "\n",
    "Example without method chain\n",
    "```python\n",
    "df_temp1 = df.loc[selection]\n",
    "df_temp2 = df_temp1.sort_values(by=X)\n",
    "df_out = df_temp2.reset_index()\n",
    "```\n",
    "\n",
    "Example with method chain - one line\n",
    "\n",
    "```python\n",
    "df_out = df.loc[selection].sort_values(by=X).reset_index()\n",
    "```\n",
    "As seen in the example, although using less code, our method chain will get more and more difficult to read if we include two or more operations. We can overcome this problem of long chains by splitting into multiple lines with line breaks:\n",
    "\n",
    "Example with method chain - line break\n",
    "```python\n",
    "df_out = df\\\n",
    "        .loc[selection]\\\n",
    "        .sort_values(by=X)\\\n",
    "        .reset_index()\n",
    "```\n",
    "\n",
    "Note that the backslash allows us to make a visual line break, but the code is read as one line.\n"
   ],
   "metadata": {}
  },
  {
   "cell_type": "markdown",
   "source": [
    "## Exercises for Part 2\n",
    "\n",
    "We continue with the exercise of analyzing NOAA data. We start out reviewing what we did in Assignment 0. "
   ],
   "metadata": {}
  },
  {
   "cell_type": "markdown",
   "source": [
    "> **Ex. 2.2.1:** The code below runs through all the steps we completed in Assignment 0.4 step by step. Your task is to document this code in your own words. You should also make your own annotation of parts. In addition, you should make the code more readable by applying method chaining.\n",
    "> \n",
    ">*Hint:* After loading the data and selecting the first four columns, everything can be stated in one method chain! It's OK if you use more, though.\n",
    "\n",
    "```python\n",
    "import pandas as pd\n",
    "\n",
    "def load_weather(year):\n",
    "    \n",
    "    url = f\"ftp://ftp.ncdc.noaa.gov/pub/data/ghcn/daily/by_year/{year}.csv.gz\"\n",
    "\n",
    "    df_weather = pd.read_csv(url, \n",
    "                             header=None)        \n",
    "\n",
    "    df_weather = df_weather.iloc[:,:4] \n",
    "    \n",
    "    column_names = ['station', 'datetime', 'obs_type', 'obs_value']\n",
    "    df_weather.columns = column_names \n",
    "    \n",
    "    df_weather['obs_value'] = df_weather['obs_value'] / 10 \n",
    "    \n",
    "    selection_tmax = df_weather.obs_type == 'TMAX'\n",
    "    df_select = df_weather.loc[selection_tmax]\n",
    "    \n",
    "    df_sorted = df_select.sort_values(by=['station', 'datetime'])\n",
    "    df_reset = df_sorted.reset_index(drop=True)\n",
    "    df_out = df_reset.copy()\n",
    "            \n",
    "    return df_out\n",
    "```"
   ],
   "metadata": {}
  },
  {
   "cell_type": "code",
   "execution_count": 31,
   "source": [
    "# YOUR CODE HERE\n",
    "\n",
    "def load_weather(year):\n",
    "    # Get the data via FTP, thus we're storing the ftp-url in a variable\n",
    "    url = f\"ftp://ftp.ncdc.noaa.gov/pub/data/ghcn/daily/by_year/{year}.csv.gz\"\n",
    "\n",
    "    # Reads the CSV from the url and says that there's no header in the CSV file\n",
    "    df_weather = pd.read_csv(url, \n",
    "                             header=None)        \n",
    "\n",
    "    # Selects only the first 4 columns\n",
    "    df_weather = df_weather.iloc[:,:4] \n",
    "    \n",
    "    # Changes the column names\n",
    "    column_names = ['station', 'datetime', 'obs_type', 'obs_value']\n",
    "    df_weather.columns = column_names \n",
    "    \n",
    "    # Normalize the values\n",
    "    #df_weather['obs_value'] = df_weather['obs_value'] / 10 \n",
    "    \n",
    "    # Selects only the maximum temperature observations\n",
    "    \"\"\"selection_tmax = df_weather.obs_type == 'TMAX'\n",
    "    df_select = df_weather.loc[selection_tmax]\n",
    "    \n",
    "    # Sorts the DF and resets the indeces\n",
    "    df_sorted = df_select.sort_values(by=['station', 'datetime'])\n",
    "    df_reset = df_sorted.reset_index(drop=True)\n",
    "    df_out = df_reset.copy() \"\"\"\n",
    "\n",
    "    ### METHOD CHAINING ###\n",
    "    df_out = df_weather\\\n",
    "            .assign(obs_value = lambda my_df: my_df['obs_value'] / 10 )\\\n",
    "            .loc[df_weather['obs_type'] == 'TMAX']\\\n",
    "            .sort_values(by=['station', 'datetime'])\\\n",
    "            .reset_index(drop=True)\\\n",
    "            .copy()\n",
    "            \n",
    "    return df_out\n",
    "\n",
    "load_weather(1863)"
   ],
   "outputs": [
    {
     "output_type": "execute_result",
     "data": {
      "text/plain": [
       "          station  datetime obs_type  obs_value\n",
       "0     AGE00135039  18630102     TMAX       11.5\n",
       "1     AGE00135039  18630103     TMAX       11.0\n",
       "2     AGE00135039  18630105     TMAX       15.5\n",
       "3     AGE00135039  18630106     TMAX       16.5\n",
       "4     AGE00135039  18630107     TMAX       15.0\n",
       "...           ...       ...      ...        ...\n",
       "5875  USW00014838  18630727     TMAX       20.6\n",
       "5876  USW00014838  18630728     TMAX       19.9\n",
       "5877  USW00014838  18630729     TMAX       25.1\n",
       "5878  USW00014838  18630730     TMAX       29.4\n",
       "5879  USW00014838  18630731     TMAX       25.6\n",
       "\n",
       "[5880 rows x 4 columns]"
      ],
      "text/html": [
       "<div>\n",
       "<style scoped>\n",
       "    .dataframe tbody tr th:only-of-type {\n",
       "        vertical-align: middle;\n",
       "    }\n",
       "\n",
       "    .dataframe tbody tr th {\n",
       "        vertical-align: top;\n",
       "    }\n",
       "\n",
       "    .dataframe thead th {\n",
       "        text-align: right;\n",
       "    }\n",
       "</style>\n",
       "<table border=\"1\" class=\"dataframe\">\n",
       "  <thead>\n",
       "    <tr style=\"text-align: right;\">\n",
       "      <th></th>\n",
       "      <th>station</th>\n",
       "      <th>datetime</th>\n",
       "      <th>obs_type</th>\n",
       "      <th>obs_value</th>\n",
       "    </tr>\n",
       "  </thead>\n",
       "  <tbody>\n",
       "    <tr>\n",
       "      <th>0</th>\n",
       "      <td>AGE00135039</td>\n",
       "      <td>18630102</td>\n",
       "      <td>TMAX</td>\n",
       "      <td>11.5</td>\n",
       "    </tr>\n",
       "    <tr>\n",
       "      <th>1</th>\n",
       "      <td>AGE00135039</td>\n",
       "      <td>18630103</td>\n",
       "      <td>TMAX</td>\n",
       "      <td>11.0</td>\n",
       "    </tr>\n",
       "    <tr>\n",
       "      <th>2</th>\n",
       "      <td>AGE00135039</td>\n",
       "      <td>18630105</td>\n",
       "      <td>TMAX</td>\n",
       "      <td>15.5</td>\n",
       "    </tr>\n",
       "    <tr>\n",
       "      <th>3</th>\n",
       "      <td>AGE00135039</td>\n",
       "      <td>18630106</td>\n",
       "      <td>TMAX</td>\n",
       "      <td>16.5</td>\n",
       "    </tr>\n",
       "    <tr>\n",
       "      <th>4</th>\n",
       "      <td>AGE00135039</td>\n",
       "      <td>18630107</td>\n",
       "      <td>TMAX</td>\n",
       "      <td>15.0</td>\n",
       "    </tr>\n",
       "    <tr>\n",
       "      <th>...</th>\n",
       "      <td>...</td>\n",
       "      <td>...</td>\n",
       "      <td>...</td>\n",
       "      <td>...</td>\n",
       "    </tr>\n",
       "    <tr>\n",
       "      <th>5875</th>\n",
       "      <td>USW00014838</td>\n",
       "      <td>18630727</td>\n",
       "      <td>TMAX</td>\n",
       "      <td>20.6</td>\n",
       "    </tr>\n",
       "    <tr>\n",
       "      <th>5876</th>\n",
       "      <td>USW00014838</td>\n",
       "      <td>18630728</td>\n",
       "      <td>TMAX</td>\n",
       "      <td>19.9</td>\n",
       "    </tr>\n",
       "    <tr>\n",
       "      <th>5877</th>\n",
       "      <td>USW00014838</td>\n",
       "      <td>18630729</td>\n",
       "      <td>TMAX</td>\n",
       "      <td>25.1</td>\n",
       "    </tr>\n",
       "    <tr>\n",
       "      <th>5878</th>\n",
       "      <td>USW00014838</td>\n",
       "      <td>18630730</td>\n",
       "      <td>TMAX</td>\n",
       "      <td>29.4</td>\n",
       "    </tr>\n",
       "    <tr>\n",
       "      <th>5879</th>\n",
       "      <td>USW00014838</td>\n",
       "      <td>18630731</td>\n",
       "      <td>TMAX</td>\n",
       "      <td>25.6</td>\n",
       "    </tr>\n",
       "  </tbody>\n",
       "</table>\n",
       "<p>5880 rows × 4 columns</p>\n",
       "</div>"
      ]
     },
     "metadata": {},
     "execution_count": 31
    }
   ],
   "metadata": {
    "deletable": false,
    "nbgrader": {
     "cell_type": "code",
     "checksum": "45437bcbd759fa81948734724d4c5668",
     "grade": false,
     "grade_id": "cell-25487430558396f5",
     "locked": false,
     "schema_version": 3,
     "solution": true,
     "task": false
    }
   }
  },
  {
   "cell_type": "markdown",
   "source": [
    "# Part 3: Advanced Data Types\n",
    "\n",
    "When you start working with data, you quickly realize that data comes in many different types. \n",
    "\n",
    "Some distinctions between data types are obvious to make. For instance, numeric variables should consists of meaningful values that represent something that can be measured (a length, weight, economic value, etc.) with a number. String variables, on the other hand, are variables that *may* also consist of letters and other characters in addition to numbers. And boolean variables are simply binary with only two possible values.\n",
    "\n",
    "However, we also encounter lots of other data types in applied work within social sciences. Categorical variables can only take a (often quite strictly) limited number of values. And time series data are characterized by being indexed in some time order. In this part, we will explore different these two data types and how you work with them in Pandas."
   ],
   "metadata": {}
  },
  {
   "cell_type": "markdown",
   "source": [
    "> **Ex. 2.3.1:** Load the data for year 1863. Extract the area code (country and state) from the station name into a separate column.\n",
    ">\n",
    "> _Hint:_ The station column contains a GHCND ID, given to each weather station by NOAA. The format of these ID's is a 2 letter country/state code, followed by possible additional information on the third character and then an integer identifying the specific station. A simple approach is to assume a fixed length of the country ID. A more complex way would be to use the [`re`](https://docs.python.org/3.8/library/re.html) module. "
   ],
   "metadata": {}
  },
  {
   "cell_type": "code",
   "execution_count": 19,
   "source": [
    "df_weather = load_weather(1863)\n",
    "df_weather['Area Code'] = df_weather.station.str[:2]\n",
    "df_weather"
   ],
   "outputs": [
    {
     "output_type": "execute_result",
     "data": {
      "text/plain": [
       "          station  datetime obs_type  obs_value Area Code\n",
       "0     AGE00135039  18630102     TMAX       11.5        AG\n",
       "1     AGE00135039  18630103     TMAX       11.0        AG\n",
       "2     AGE00135039  18630105     TMAX       15.5        AG\n",
       "3     AGE00135039  18630106     TMAX       16.5        AG\n",
       "4     AGE00135039  18630107     TMAX       15.0        AG\n",
       "...           ...       ...      ...        ...       ...\n",
       "5875  USW00014838  18630727     TMAX       20.6        US\n",
       "5876  USW00014838  18630728     TMAX       19.9        US\n",
       "5877  USW00014838  18630729     TMAX       25.1        US\n",
       "5878  USW00014838  18630730     TMAX       29.4        US\n",
       "5879  USW00014838  18630731     TMAX       25.6        US\n",
       "\n",
       "[5880 rows x 5 columns]"
      ],
      "text/html": [
       "<div>\n",
       "<style scoped>\n",
       "    .dataframe tbody tr th:only-of-type {\n",
       "        vertical-align: middle;\n",
       "    }\n",
       "\n",
       "    .dataframe tbody tr th {\n",
       "        vertical-align: top;\n",
       "    }\n",
       "\n",
       "    .dataframe thead th {\n",
       "        text-align: right;\n",
       "    }\n",
       "</style>\n",
       "<table border=\"1\" class=\"dataframe\">\n",
       "  <thead>\n",
       "    <tr style=\"text-align: right;\">\n",
       "      <th></th>\n",
       "      <th>station</th>\n",
       "      <th>datetime</th>\n",
       "      <th>obs_type</th>\n",
       "      <th>obs_value</th>\n",
       "      <th>Area Code</th>\n",
       "    </tr>\n",
       "  </thead>\n",
       "  <tbody>\n",
       "    <tr>\n",
       "      <th>0</th>\n",
       "      <td>AGE00135039</td>\n",
       "      <td>18630102</td>\n",
       "      <td>TMAX</td>\n",
       "      <td>11.5</td>\n",
       "      <td>AG</td>\n",
       "    </tr>\n",
       "    <tr>\n",
       "      <th>1</th>\n",
       "      <td>AGE00135039</td>\n",
       "      <td>18630103</td>\n",
       "      <td>TMAX</td>\n",
       "      <td>11.0</td>\n",
       "      <td>AG</td>\n",
       "    </tr>\n",
       "    <tr>\n",
       "      <th>2</th>\n",
       "      <td>AGE00135039</td>\n",
       "      <td>18630105</td>\n",
       "      <td>TMAX</td>\n",
       "      <td>15.5</td>\n",
       "      <td>AG</td>\n",
       "    </tr>\n",
       "    <tr>\n",
       "      <th>3</th>\n",
       "      <td>AGE00135039</td>\n",
       "      <td>18630106</td>\n",
       "      <td>TMAX</td>\n",
       "      <td>16.5</td>\n",
       "      <td>AG</td>\n",
       "    </tr>\n",
       "    <tr>\n",
       "      <th>4</th>\n",
       "      <td>AGE00135039</td>\n",
       "      <td>18630107</td>\n",
       "      <td>TMAX</td>\n",
       "      <td>15.0</td>\n",
       "      <td>AG</td>\n",
       "    </tr>\n",
       "    <tr>\n",
       "      <th>...</th>\n",
       "      <td>...</td>\n",
       "      <td>...</td>\n",
       "      <td>...</td>\n",
       "      <td>...</td>\n",
       "      <td>...</td>\n",
       "    </tr>\n",
       "    <tr>\n",
       "      <th>5875</th>\n",
       "      <td>USW00014838</td>\n",
       "      <td>18630727</td>\n",
       "      <td>TMAX</td>\n",
       "      <td>20.6</td>\n",
       "      <td>US</td>\n",
       "    </tr>\n",
       "    <tr>\n",
       "      <th>5876</th>\n",
       "      <td>USW00014838</td>\n",
       "      <td>18630728</td>\n",
       "      <td>TMAX</td>\n",
       "      <td>19.9</td>\n",
       "      <td>US</td>\n",
       "    </tr>\n",
       "    <tr>\n",
       "      <th>5877</th>\n",
       "      <td>USW00014838</td>\n",
       "      <td>18630729</td>\n",
       "      <td>TMAX</td>\n",
       "      <td>25.1</td>\n",
       "      <td>US</td>\n",
       "    </tr>\n",
       "    <tr>\n",
       "      <th>5878</th>\n",
       "      <td>USW00014838</td>\n",
       "      <td>18630730</td>\n",
       "      <td>TMAX</td>\n",
       "      <td>29.4</td>\n",
       "      <td>US</td>\n",
       "    </tr>\n",
       "    <tr>\n",
       "      <th>5879</th>\n",
       "      <td>USW00014838</td>\n",
       "      <td>18630731</td>\n",
       "      <td>TMAX</td>\n",
       "      <td>25.6</td>\n",
       "      <td>US</td>\n",
       "    </tr>\n",
       "  </tbody>\n",
       "</table>\n",
       "<p>5880 rows × 5 columns</p>\n",
       "</div>"
      ]
     },
     "metadata": {},
     "execution_count": 19
    }
   ],
   "metadata": {
    "deletable": false,
    "nbgrader": {
     "cell_type": "code",
     "checksum": "b791aa50dbe353387d9dba1c3c2f7f45",
     "grade": false,
     "grade_id": "cell-06b389c7710d2f21",
     "locked": false,
     "schema_version": 3,
     "solution": true,
     "task": false
    }
   }
  },
  {
   "cell_type": "markdown",
   "source": [
    "## Categorical Data"
   ],
   "metadata": {}
  },
  {
   "cell_type": "markdown",
   "source": [
    "Pandas has built-in features for working specifically with categorical data. In the video below, we will discuss how you can think about categorical data, and how you can efficiently work with it in pandas."
   ],
   "metadata": {}
  },
  {
   "cell_type": "code",
   "execution_count": 20,
   "source": [
    "YouTubeVideo('x2TCnT46cl4', width=640, height=360)"
   ],
   "outputs": [
    {
     "output_type": "execute_result",
     "data": {
      "text/plain": [
       "<IPython.lib.display.YouTubeVideo at 0x13feafe20>"
      ],
      "image/jpeg": "[encoded data removed]",
      "text/html": [
       "\n",
       "        <iframe\n",
       "            width=\"640\"\n",
       "            height=\"360\"\n",
       "            src=\"https://www.youtube.com/embed/x2TCnT46cl4\"\n",
       "            frameborder=\"0\"\n",
       "            allowfullscreen\n",
       "        ></iframe>\n",
       "        "
      ]
     },
     "metadata": {},
     "execution_count": 20
    }
   ],
   "metadata": {}
  },
  {
   "cell_type": "markdown",
   "source": [
    "Having watched the video introducing categorical data, we now want you to try and work with it.\n",
    "\n",
    "> **Ex. 2.3.2:** Do the following:\n",
    "> 1. Convert the `area` column to a categorical variable. \n",
    "> 2. Transform the `obs_value` column from a continuous to a categorical variable by partitioning it into `3` intervals. The first interval should contain observations with values of `obs_value` up to the 10% quantile. The second interval should contain observations with values of `obs_value` up to the 90% quantile. The third interval should contain the rest of the observations. Call this new column for `obs_value_cat`.  This can be done using the `pd.qcut()` method.\n",
    "> 3. Make another column with  `obs_value` as a categorical variable but this time label the 3 intervals as `[\"cold\", \"medium\", \"hot\"]`. This can be done by specifying the `labels` parameter in the `pd.qcut()` method of pandas. Call this new column for `obs_value_cat_labeled`."
   ],
   "metadata": {}
  },
  {
   "cell_type": "code",
   "execution_count": 21,
   "source": [
    "# INCLUDED IN ASSIGNMENT 1\n",
    "df_weather['Area Code'] = df_weather['Area Code'].astype('category')"
   ],
   "outputs": [],
   "metadata": {
    "deletable": false,
    "nbgrader": {
     "cell_type": "code",
     "checksum": "90d110a6f710157d53bd4d11241debb1",
     "grade": false,
     "grade_id": "cell-4471027effe9de1e",
     "locked": false,
     "schema_version": 3,
     "solution": true,
     "task": false
    }
   }
  },
  {
   "cell_type": "code",
   "execution_count": 22,
   "source": [
    "# INCLUDED IN ASSIGNMENT 1\n",
    "df_weather['obs_value_cat'] = pd.qcut(df_weather['obs_value'], q = [0,0.10,0.90,1])\n",
    "df_weather"
   ],
   "outputs": [
    {
     "output_type": "execute_result",
     "data": {
      "text/plain": [
       "          station  datetime obs_type  obs_value Area Code obs_value_cat\n",
       "0     AGE00135039  18630102     TMAX       11.5        AG   (5.6, 27.0]\n",
       "1     AGE00135039  18630103     TMAX       11.0        AG   (5.6, 27.0]\n",
       "2     AGE00135039  18630105     TMAX       15.5        AG   (5.6, 27.0]\n",
       "3     AGE00135039  18630106     TMAX       16.5        AG   (5.6, 27.0]\n",
       "4     AGE00135039  18630107     TMAX       15.0        AG   (5.6, 27.0]\n",
       "...           ...       ...      ...        ...       ...           ...\n",
       "5875  USW00014838  18630727     TMAX       20.6        US   (5.6, 27.0]\n",
       "5876  USW00014838  18630728     TMAX       19.9        US   (5.6, 27.0]\n",
       "5877  USW00014838  18630729     TMAX       25.1        US   (5.6, 27.0]\n",
       "5878  USW00014838  18630730     TMAX       29.4        US  (27.0, 49.4]\n",
       "5879  USW00014838  18630731     TMAX       25.6        US   (5.6, 27.0]\n",
       "\n",
       "[5880 rows x 6 columns]"
      ],
      "text/html": [
       "<div>\n",
       "<style scoped>\n",
       "    .dataframe tbody tr th:only-of-type {\n",
       "        vertical-align: middle;\n",
       "    }\n",
       "\n",
       "    .dataframe tbody tr th {\n",
       "        vertical-align: top;\n",
       "    }\n",
       "\n",
       "    .dataframe thead th {\n",
       "        text-align: right;\n",
       "    }\n",
       "</style>\n",
       "<table border=\"1\" class=\"dataframe\">\n",
       "  <thead>\n",
       "    <tr style=\"text-align: right;\">\n",
       "      <th></th>\n",
       "      <th>station</th>\n",
       "      <th>datetime</th>\n",
       "      <th>obs_type</th>\n",
       "      <th>obs_value</th>\n",
       "      <th>Area Code</th>\n",
       "      <th>obs_value_cat</th>\n",
       "    </tr>\n",
       "  </thead>\n",
       "  <tbody>\n",
       "    <tr>\n",
       "      <th>0</th>\n",
       "      <td>AGE00135039</td>\n",
       "      <td>18630102</td>\n",
       "      <td>TMAX</td>\n",
       "      <td>11.5</td>\n",
       "      <td>AG</td>\n",
       "      <td>(5.6, 27.0]</td>\n",
       "    </tr>\n",
       "    <tr>\n",
       "      <th>1</th>\n",
       "      <td>AGE00135039</td>\n",
       "      <td>18630103</td>\n",
       "      <td>TMAX</td>\n",
       "      <td>11.0</td>\n",
       "      <td>AG</td>\n",
       "      <td>(5.6, 27.0]</td>\n",
       "    </tr>\n",
       "    <tr>\n",
       "      <th>2</th>\n",
       "      <td>AGE00135039</td>\n",
       "      <td>18630105</td>\n",
       "      <td>TMAX</td>\n",
       "      <td>15.5</td>\n",
       "      <td>AG</td>\n",
       "      <td>(5.6, 27.0]</td>\n",
       "    </tr>\n",
       "    <tr>\n",
       "      <th>3</th>\n",
       "      <td>AGE00135039</td>\n",
       "      <td>18630106</td>\n",
       "      <td>TMAX</td>\n",
       "      <td>16.5</td>\n",
       "      <td>AG</td>\n",
       "      <td>(5.6, 27.0]</td>\n",
       "    </tr>\n",
       "    <tr>\n",
       "      <th>4</th>\n",
       "      <td>AGE00135039</td>\n",
       "      <td>18630107</td>\n",
       "      <td>TMAX</td>\n",
       "      <td>15.0</td>\n",
       "      <td>AG</td>\n",
       "      <td>(5.6, 27.0]</td>\n",
       "    </tr>\n",
       "    <tr>\n",
       "      <th>...</th>\n",
       "      <td>...</td>\n",
       "      <td>...</td>\n",
       "      <td>...</td>\n",
       "      <td>...</td>\n",
       "      <td>...</td>\n",
       "      <td>...</td>\n",
       "    </tr>\n",
       "    <tr>\n",
       "      <th>5875</th>\n",
       "      <td>USW00014838</td>\n",
       "      <td>18630727</td>\n",
       "      <td>TMAX</td>\n",
       "      <td>20.6</td>\n",
       "      <td>US</td>\n",
       "      <td>(5.6, 27.0]</td>\n",
       "    </tr>\n",
       "    <tr>\n",
       "      <th>5876</th>\n",
       "      <td>USW00014838</td>\n",
       "      <td>18630728</td>\n",
       "      <td>TMAX</td>\n",
       "      <td>19.9</td>\n",
       "      <td>US</td>\n",
       "      <td>(5.6, 27.0]</td>\n",
       "    </tr>\n",
       "    <tr>\n",
       "      <th>5877</th>\n",
       "      <td>USW00014838</td>\n",
       "      <td>18630729</td>\n",
       "      <td>TMAX</td>\n",
       "      <td>25.1</td>\n",
       "      <td>US</td>\n",
       "      <td>(5.6, 27.0]</td>\n",
       "    </tr>\n",
       "    <tr>\n",
       "      <th>5878</th>\n",
       "      <td>USW00014838</td>\n",
       "      <td>18630730</td>\n",
       "      <td>TMAX</td>\n",
       "      <td>29.4</td>\n",
       "      <td>US</td>\n",
       "      <td>(27.0, 49.4]</td>\n",
       "    </tr>\n",
       "    <tr>\n",
       "      <th>5879</th>\n",
       "      <td>USW00014838</td>\n",
       "      <td>18630731</td>\n",
       "      <td>TMAX</td>\n",
       "      <td>25.6</td>\n",
       "      <td>US</td>\n",
       "      <td>(5.6, 27.0]</td>\n",
       "    </tr>\n",
       "  </tbody>\n",
       "</table>\n",
       "<p>5880 rows × 6 columns</p>\n",
       "</div>"
      ]
     },
     "metadata": {},
     "execution_count": 22
    }
   ],
   "metadata": {
    "nbgrader": {
     "grade": false,
     "grade_id": "cell-4471027effe9de1e",
     "locked": false,
     "schema_version": 3,
     "solution": true,
     "task": false
    }
   }
  },
  {
   "cell_type": "code",
   "execution_count": 23,
   "source": [
    "df_weather['obs_value_cat_labeled'] = pd.qcut(df_weather['obs_value'], q = [0,0.10,0.90,1], labels = [\"cold\", \"medium\", \"hot\"])\n",
    "df_weather\n"
   ],
   "outputs": [
    {
     "output_type": "execute_result",
     "data": {
      "text/plain": [
       "          station  datetime obs_type  obs_value Area Code obs_value_cat  \\\n",
       "0     AGE00135039  18630102     TMAX       11.5        AG   (5.6, 27.0]   \n",
       "1     AGE00135039  18630103     TMAX       11.0        AG   (5.6, 27.0]   \n",
       "2     AGE00135039  18630105     TMAX       15.5        AG   (5.6, 27.0]   \n",
       "3     AGE00135039  18630106     TMAX       16.5        AG   (5.6, 27.0]   \n",
       "4     AGE00135039  18630107     TMAX       15.0        AG   (5.6, 27.0]   \n",
       "...           ...       ...      ...        ...       ...           ...   \n",
       "5875  USW00014838  18630727     TMAX       20.6        US   (5.6, 27.0]   \n",
       "5876  USW00014838  18630728     TMAX       19.9        US   (5.6, 27.0]   \n",
       "5877  USW00014838  18630729     TMAX       25.1        US   (5.6, 27.0]   \n",
       "5878  USW00014838  18630730     TMAX       29.4        US  (27.0, 49.4]   \n",
       "5879  USW00014838  18630731     TMAX       25.6        US   (5.6, 27.0]   \n",
       "\n",
       "     obs_value_cat_labeled  \n",
       "0                   medium  \n",
       "1                   medium  \n",
       "2                   medium  \n",
       "3                   medium  \n",
       "4                   medium  \n",
       "...                    ...  \n",
       "5875                medium  \n",
       "5876                medium  \n",
       "5877                medium  \n",
       "5878                   hot  \n",
       "5879                medium  \n",
       "\n",
       "[5880 rows x 7 columns]"
      ],
      "text/html": [
       "<div>\n",
       "<style scoped>\n",
       "    .dataframe tbody tr th:only-of-type {\n",
       "        vertical-align: middle;\n",
       "    }\n",
       "\n",
       "    .dataframe tbody tr th {\n",
       "        vertical-align: top;\n",
       "    }\n",
       "\n",
       "    .dataframe thead th {\n",
       "        text-align: right;\n",
       "    }\n",
       "</style>\n",
       "<table border=\"1\" class=\"dataframe\">\n",
       "  <thead>\n",
       "    <tr style=\"text-align: right;\">\n",
       "      <th></th>\n",
       "      <th>station</th>\n",
       "      <th>datetime</th>\n",
       "      <th>obs_type</th>\n",
       "      <th>obs_value</th>\n",
       "      <th>Area Code</th>\n",
       "      <th>obs_value_cat</th>\n",
       "      <th>obs_value_cat_labeled</th>\n",
       "    </tr>\n",
       "  </thead>\n",
       "  <tbody>\n",
       "    <tr>\n",
       "      <th>0</th>\n",
       "      <td>AGE00135039</td>\n",
       "      <td>18630102</td>\n",
       "      <td>TMAX</td>\n",
       "      <td>11.5</td>\n",
       "      <td>AG</td>\n",
       "      <td>(5.6, 27.0]</td>\n",
       "      <td>medium</td>\n",
       "    </tr>\n",
       "    <tr>\n",
       "      <th>1</th>\n",
       "      <td>AGE00135039</td>\n",
       "      <td>18630103</td>\n",
       "      <td>TMAX</td>\n",
       "      <td>11.0</td>\n",
       "      <td>AG</td>\n",
       "      <td>(5.6, 27.0]</td>\n",
       "      <td>medium</td>\n",
       "    </tr>\n",
       "    <tr>\n",
       "      <th>2</th>\n",
       "      <td>AGE00135039</td>\n",
       "      <td>18630105</td>\n",
       "      <td>TMAX</td>\n",
       "      <td>15.5</td>\n",
       "      <td>AG</td>\n",
       "      <td>(5.6, 27.0]</td>\n",
       "      <td>medium</td>\n",
       "    </tr>\n",
       "    <tr>\n",
       "      <th>3</th>\n",
       "      <td>AGE00135039</td>\n",
       "      <td>18630106</td>\n",
       "      <td>TMAX</td>\n",
       "      <td>16.5</td>\n",
       "      <td>AG</td>\n",
       "      <td>(5.6, 27.0]</td>\n",
       "      <td>medium</td>\n",
       "    </tr>\n",
       "    <tr>\n",
       "      <th>4</th>\n",
       "      <td>AGE00135039</td>\n",
       "      <td>18630107</td>\n",
       "      <td>TMAX</td>\n",
       "      <td>15.0</td>\n",
       "      <td>AG</td>\n",
       "      <td>(5.6, 27.0]</td>\n",
       "      <td>medium</td>\n",
       "    </tr>\n",
       "    <tr>\n",
       "      <th>...</th>\n",
       "      <td>...</td>\n",
       "      <td>...</td>\n",
       "      <td>...</td>\n",
       "      <td>...</td>\n",
       "      <td>...</td>\n",
       "      <td>...</td>\n",
       "      <td>...</td>\n",
       "    </tr>\n",
       "    <tr>\n",
       "      <th>5875</th>\n",
       "      <td>USW00014838</td>\n",
       "      <td>18630727</td>\n",
       "      <td>TMAX</td>\n",
       "      <td>20.6</td>\n",
       "      <td>US</td>\n",
       "      <td>(5.6, 27.0]</td>\n",
       "      <td>medium</td>\n",
       "    </tr>\n",
       "    <tr>\n",
       "      <th>5876</th>\n",
       "      <td>USW00014838</td>\n",
       "      <td>18630728</td>\n",
       "      <td>TMAX</td>\n",
       "      <td>19.9</td>\n",
       "      <td>US</td>\n",
       "      <td>(5.6, 27.0]</td>\n",
       "      <td>medium</td>\n",
       "    </tr>\n",
       "    <tr>\n",
       "      <th>5877</th>\n",
       "      <td>USW00014838</td>\n",
       "      <td>18630729</td>\n",
       "      <td>TMAX</td>\n",
       "      <td>25.1</td>\n",
       "      <td>US</td>\n",
       "      <td>(5.6, 27.0]</td>\n",
       "      <td>medium</td>\n",
       "    </tr>\n",
       "    <tr>\n",
       "      <th>5878</th>\n",
       "      <td>USW00014838</td>\n",
       "      <td>18630730</td>\n",
       "      <td>TMAX</td>\n",
       "      <td>29.4</td>\n",
       "      <td>US</td>\n",
       "      <td>(27.0, 49.4]</td>\n",
       "      <td>hot</td>\n",
       "    </tr>\n",
       "    <tr>\n",
       "      <th>5879</th>\n",
       "      <td>USW00014838</td>\n",
       "      <td>18630731</td>\n",
       "      <td>TMAX</td>\n",
       "      <td>25.6</td>\n",
       "      <td>US</td>\n",
       "      <td>(5.6, 27.0]</td>\n",
       "      <td>medium</td>\n",
       "    </tr>\n",
       "  </tbody>\n",
       "</table>\n",
       "<p>5880 rows × 7 columns</p>\n",
       "</div>"
      ]
     },
     "metadata": {},
     "execution_count": 23
    }
   ],
   "metadata": {}
  },
  {
   "cell_type": "markdown",
   "source": [
    "## Time Series Data\n",
    "\n",
    "Our coverage of basic Python did not include time. This is another elementary datatypes, that has its own native structure or maybe converted to an integer using a smart method. See more below."
   ],
   "metadata": {}
  },
  {
   "cell_type": "code",
   "execution_count": 24,
   "source": [
    "YouTubeVideo('DmkT7PdqgAA', width=640, height=360)"
   ],
   "outputs": [
    {
     "output_type": "execute_result",
     "data": {
      "text/plain": [
       "<IPython.lib.display.YouTubeVideo at 0x13feaf190>"
      ],
      "image/jpeg": "[encoded data removed]",
      "text/html": [
       "\n",
       "        <iframe\n",
       "            width=\"640\"\n",
       "            height=\"360\"\n",
       "            src=\"https://www.youtube.com/embed/DmkT7PdqgAA\"\n",
       "            frameborder=\"0\"\n",
       "            allowfullscreen\n",
       "        ></iframe>\n",
       "        "
      ]
     },
     "metadata": {},
     "execution_count": 24
    }
   ],
   "metadata": {}
  },
  {
   "cell_type": "markdown",
   "source": [
    "> **Ex. 2.3.3:** Convert the date formated as string to datetime. Call this column `datetime_dt`. Make a new column named `month` with the month for each observation. Set the datetime variable as temporal index. \n",
    ">\n",
    "> *Hint:* Look up `.set_index()` setting the index."
   ],
   "metadata": {}
  },
  {
   "cell_type": "code",
   "execution_count": 25,
   "source": [
    "shitty_list = [str(x) for x in df_weather['datetime']]\n",
    "shitty_ser = pd.Series(shitty_list)\n",
    "shitty_ser\n",
    "\n",
    "df_weather['datetime_dt'] = pd.to_datetime(shitty_ser)\n",
    "df_weather['month'] = df_weather['datetime_dt'].dt.month\n",
    "df_weather.set_index('datetime_dt', inplace = True)"
   ],
   "outputs": [],
   "metadata": {
    "deletable": false,
    "nbgrader": {
     "cell_type": "code",
     "checksum": "3711d48d26ae9023456a798ed11e5ffa",
     "grade": false,
     "grade_id": "cell-fbac9fd2ad284d24",
     "locked": false,
     "schema_version": 3,
     "solution": true,
     "task": false
    }
   }
  },
  {
   "cell_type": "markdown",
   "source": [
    "> **Ex. 2.3.4:** Update your annotated function above with processing of area and temporal data.          "
   ],
   "metadata": {}
  },
  {
   "cell_type": "code",
   "execution_count": 26,
   "source": [
    "# INCLUDED IN ASSIGNMENT 1\n",
    "#nah"
   ],
   "outputs": [],
   "metadata": {
    "nbgrader": {
     "grade": false,
     "grade_id": "cell-4471027effe9de1e",
     "locked": false,
     "schema_version": 3,
     "solution": true,
     "task": false
    }
   }
  },
  {
   "cell_type": "code",
   "execution_count": 27,
   "source": [
    "# INCLUDED IN ASSIGNMENT 1# YOUR CODE HERE\n",
    "raise NotImplementedError()"
   ],
   "outputs": [
    {
     "output_type": "error",
     "ename": "NotImplementedError",
     "evalue": "",
     "traceback": [
      "\u001b[0;31m---------------------------------------------------------------------------\u001b[0m",
      "\u001b[0;31mNotImplementedError\u001b[0m                       Traceback (most recent call last)",
      "\u001b[0;32m<ipython-input-27-ce8cd74f0f6c>\u001b[0m in \u001b[0;36m<module>\u001b[0;34m\u001b[0m\n\u001b[1;32m      1\u001b[0m \u001b[0;31m# INCLUDED IN ASSIGNMENT 1# YOUR CODE HERE\u001b[0m\u001b[0;34m\u001b[0m\u001b[0;34m\u001b[0m\u001b[0;34m\u001b[0m\u001b[0m\n\u001b[0;32m----> 2\u001b[0;31m \u001b[0;32mraise\u001b[0m \u001b[0mNotImplementedError\u001b[0m\u001b[0;34m(\u001b[0m\u001b[0;34m)\u001b[0m\u001b[0;34m\u001b[0m\u001b[0;34m\u001b[0m\u001b[0m\n\u001b[0m",
      "\u001b[0;31mNotImplementedError\u001b[0m: "
     ]
    }
   ],
   "metadata": {
    "deletable": false,
    "nbgrader": {
     "cell_type": "code",
     "checksum": "198a9946d9652436432a5eed2d7cd443",
     "grade": false,
     "grade_id": "cell-1ee57534437b4ebb",
     "locked": false,
     "schema_version": 3,
     "solution": true,
     "task": false
    }
   }
  },
  {
   "cell_type": "markdown",
   "source": [
    "> **Ex. 2.3.5:** Make a timeseries plot for the station called `AGE00135039`.\n",
    ">\n",
    "> _Hint:_ for this you need to know a few methods of the pandas Series objects, for instance `.plot()`. "
   ],
   "metadata": {}
  },
  {
   "cell_type": "code",
   "execution_count": null,
   "source": [
    "# YOUR CODE HERE\n",
    "df_weather[df_weather['station'] == 'AGE00135039']['obs_value'].plot(xlabel = 'Date', ylabel = 'Max Temperature');"
   ],
   "outputs": [
    {
     "output_type": "display_data",
     "data": {
      "text/plain": [
       "<Figure size 432x288 with 1 Axes>"
      ],
      "image/png": "[encoded data removed]"
     },
     "metadata": {
      "needs_background": "light"
     }
    }
   ],
   "metadata": {
    "deletable": false,
    "nbgrader": {
     "cell_type": "code",
     "checksum": "e18712eff9f69bfeb4cb4ed31f343f77",
     "grade": false,
     "grade_id": "cell-46e6efb8f7619f0e",
     "locked": false,
     "schema_version": 3,
     "solution": true,
     "task": false
    }
   }
  },
  {
   "cell_type": "code",
   "execution_count": 32,
   "source": [
    "import pandas_bokeh\n",
    "pandas_bokeh.output_notebook()\n",
    "df_weather[df_weather['station'] == 'AGE00135039']['obs_value'].plot_bokeh();"
   ],
   "outputs": [
    {
     "output_type": "display_data",
     "data": {
      "text/html": [
       "\n",
       "    <div class=\"bk-root\">\n",
       "        <a href=\"https://bokeh.org\" target=\"_blank\" class=\"bk-logo bk-logo-small bk-logo-notebook\"></a>\n",
       "        <span id=\"1480\">Loading BokehJS ...</span>\n",
       "    </div>"
      ]
     },
     "metadata": {}
    },
    {
     "output_type": "display_data",
     "data": {
      "application/vnd.bokehjs_load.v0+json": "",
      "application/javascript": "\n(function(root) {\n  function now() {\n    return new Date();\n  }\n\n  var force = true;\n\n  if (typeof root._bokeh_onload_callbacks === \"undefined\" || force === true) {\n    root._bokeh_onload_callbacks = [];\n    root._bokeh_is_loading = undefined;\n  }\n\n  var JS_MIME_TYPE = 'application/javascript';\n  var HTML_MIME_TYPE = 'text/html';\n  var EXEC_MIME_TYPE = 'application/vnd.bokehjs_exec.v0+json';\n  var CLASS_NAME = 'output_bokeh rendered_html';\n\n  /**\n   * Render data to the DOM node\n   */\n  function render(props, node) {\n    var script = document.createElement(\"script\");\n    node.appendChild(script);\n  }\n\n  /**\n   * Handle when an output is cleared or removed\n   */\n  function handleClearOutput(event, handle) {\n    var cell = handle.cell;\n\n    var id = cell.output_area._bokeh_element_id;\n    var server_id = cell.output_area._bokeh_server_id;\n    // Clean up Bokeh references\n    if (id != null && id in Bokeh.index) {\n      Bokeh.index[id].model.document.clear();\n      delete Bokeh.index[id];\n    }\n\n    if (server_id !== undefined) {\n      // Clean up Bokeh references\n      var cmd = \"from bokeh.io.state import curstate; print(curstate().uuid_to_server['\" + server_id + \"'].get_sessions()[0].document.roots[0]._id)\";\n      cell.notebook.kernel.execute(cmd, {\n        iopub: {\n          output: function(msg) {\n            var id = msg.content.text.trim();\n            if (id in Bokeh.index) {\n              Bokeh.index[id].model.document.clear();\n              delete Bokeh.index[id];\n            }\n          }\n        }\n      });\n      // Destroy server and session\n      var cmd = \"import bokeh.io.notebook as ion; ion.destroy_server('\" + server_id + \"')\";\n      cell.notebook.kernel.execute(cmd);\n    }\n  }\n\n  /**\n   * Handle when a new output is added\n   */\n  function handleAddOutput(event, handle) {\n    var output_area = handle.output_area;\n    var output = handle.output;\n\n    // limit handleAddOutput to display_data with EXEC_MIME_TYPE content only\n    if ((output.output_type != \"display_data\") || (!Object.prototype.hasOwnProperty.call(output.data, EXEC_MIME_TYPE))) {\n      return\n    }\n\n    var toinsert = output_area.element.find(\".\" + CLASS_NAME.split(' ')[0]);\n\n    if (output.metadata[EXEC_MIME_TYPE][\"id\"] !== undefined) {\n      toinsert[toinsert.length - 1].firstChild.textContent = output.data[JS_MIME_TYPE];\n      // store reference to embed id on output_area\n      output_area._bokeh_element_id = output.metadata[EXEC_MIME_TYPE][\"id\"];\n    }\n    if (output.metadata[EXEC_MIME_TYPE][\"server_id\"] !== undefined) {\n      var bk_div = document.createElement(\"div\");\n      bk_div.innerHTML = output.data[HTML_MIME_TYPE];\n      var script_attrs = bk_div.children[0].attributes;\n      for (var i = 0; i < script_attrs.length; i++) {\n        toinsert[toinsert.length - 1].firstChild.setAttribute(script_attrs[i].name, script_attrs[i].value);\n        toinsert[toinsert.length - 1].firstChild.textContent = bk_div.children[0].textContent\n      }\n      // store reference to server id on output_area\n      output_area._bokeh_server_id = output.metadata[EXEC_MIME_TYPE][\"server_id\"];\n    }\n  }\n\n  function register_renderer(events, OutputArea) {\n\n    function append_mime(data, metadata, element) {\n      // create a DOM node to render to\n      var toinsert = this.create_output_subarea(\n        metadata,\n        CLASS_NAME,\n        EXEC_MIME_TYPE\n      );\n      this.keyboard_manager.register_events(toinsert);\n      // Render to node\n      var props = {data: data, metadata: metadata[EXEC_MIME_TYPE]};\n      render(props, toinsert[toinsert.length - 1]);\n      element.append(toinsert);\n      return toinsert\n    }\n\n    /* Handle when an output is cleared or removed */\n    events.on('clear_output.CodeCell', handleClearOutput);\n    events.on('delete.Cell', handleClearOutput);\n\n    /* Handle when a new output is added */\n    events.on('output_added.OutputArea', handleAddOutput);\n\n    /**\n     * Register the mime type and append_mime function with output_area\n     */\n    OutputArea.prototype.register_mime_type(EXEC_MIME_TYPE, append_mime, {\n      /* Is output safe? */\n      safe: true,\n      /* Index of renderer in `output_area.display_order` */\n      index: 0\n    });\n  }\n\n  // register the mime type if in Jupyter Notebook environment and previously unregistered\n  if (root.Jupyter !== undefined) {\n    var events = require('base/js/events');\n    var OutputArea = require('notebook/js/outputarea').OutputArea;\n\n    if (OutputArea.prototype.mime_types().indexOf(EXEC_MIME_TYPE) == -1) {\n      register_renderer(events, OutputArea);\n    }\n  }\n\n  \n  if (typeof (root._bokeh_timeout) === \"undefined\" || force === true) {\n    root._bokeh_timeout = Date.now() + 5000;\n    root._bokeh_failed_load = false;\n  }\n\n  var NB_LOAD_WARNING = {'data': {'text/html':\n     \"<div style='background-color: #fdd'>\\n\"+\n     \"<p>\\n\"+\n     \"BokehJS does not appear to have successfully loaded. If loading BokehJS from CDN, this \\n\"+\n     \"may be due to a slow or bad network connection. Possible fixes:\\n\"+\n     \"</p>\\n\"+\n     \"<ul>\\n\"+\n     \"<li>re-rerun `output_notebook()` to attempt to load from CDN again, or</li>\\n\"+\n     \"<li>use INLINE resources instead, as so:</li>\\n\"+\n     \"</ul>\\n\"+\n     \"<code>\\n\"+\n     \"from bokeh.resources import INLINE\\n\"+\n     \"output_notebook(resources=INLINE)\\n\"+\n     \"</code>\\n\"+\n     \"</div>\"}};\n\n  function display_loaded() {\n    var el = document.getElementById(\"1480\");\n    if (el != null) {\n      el.textContent = \"BokehJS is loading...\";\n    }\n    if (root.Bokeh !== undefined) {\n      if (el != null) {\n        el.textContent = \"BokehJS \" + root.Bokeh.version + \" successfully loaded.\";\n      }\n    } else if (Date.now() < root._bokeh_timeout) {\n      setTimeout(display_loaded, 100)\n    }\n  }\n\n\n  function run_callbacks() {\n    try {\n      root._bokeh_onload_callbacks.forEach(function(callback) {\n        if (callback != null)\n          callback();\n      });\n    } finally {\n      delete root._bokeh_onload_callbacks\n    }\n    console.debug(\"Bokeh: all callbacks have finished\");\n  }\n\n  function load_libs(css_urls, js_urls, callback) {\n    if (css_urls == null) css_urls = [];\n    if (js_urls == null) js_urls = [];\n\n    root._bokeh_onload_callbacks.push(callback);\n    if (root._bokeh_is_loading > 0) {\n      console.debug(\"Bokeh: BokehJS is being loaded, scheduling callback at\", now());\n      return null;\n    }\n    if (js_urls == null || js_urls.length === 0) {\n      run_callbacks();\n      return null;\n    }\n    console.debug(\"Bokeh: BokehJS not loaded, scheduling load and callback at\", now());\n    root._bokeh_is_loading = css_urls.length + js_urls.length;\n\n    function on_load() {\n      root._bokeh_is_loading--;\n      if (root._bokeh_is_loading === 0) {\n        console.debug(\"Bokeh: all BokehJS libraries/stylesheets loaded\");\n        run_callbacks()\n      }\n    }\n\n    function on_error(url) {\n      console.error(\"failed to load \" + url);\n    }\n\n    for (let i = 0; i < css_urls.length; i++) {\n      const url = css_urls[i];\n      const element = document.createElement(\"link\");\n      element.onload = on_load;\n      element.onerror = on_error.bind(null, url);\n      element.rel = \"stylesheet\";\n      element.type = \"text/css\";\n      element.href = url;\n      console.debug(\"Bokeh: injecting link tag for BokehJS stylesheet: \", url);\n      document.body.appendChild(element);\n    }\n\n    const hashes = {\"https://cdn.bokeh.org/bokeh/release/bokeh-2.3.3.min.js\": \"dM3QQsP+wXdHg42wTqW85BjZQdLNNIXqlPw/BgKoExPmTG7ZLML4EGqLMfqHT6ON\", \"https://cdn.bokeh.org/bokeh/release/bokeh-tables-2.3.3.min.js\": \"8x57I4YuIfu8XyZfFo0XVr2WAT8EK4rh/uDe3wF7YuW2FNUSNEpJbsPaB1nJ2fz2\", \"https://cdn.bokeh.org/bokeh/release/bokeh-widgets-2.3.3.min.js\": \"3QTqdz9LyAm2i0sG5XTePsHec3UHWwVsrOL68SYRoAXsafvfAyqtQ+h440+qIBhS\"};\n\n    for (let i = 0; i < js_urls.length; i++) {\n      const url = js_urls[i];\n      const element = document.createElement('script');\n      element.onload = on_load;\n      element.onerror = on_error.bind(null, url);\n      element.async = false;\n      element.src = url;\n      if (url in hashes) {\n        element.crossOrigin = \"anonymous\";\n        element.integrity = \"sha384-\" + hashes[url];\n      }\n      console.debug(\"Bokeh: injecting script tag for BokehJS library: \", url);\n      document.head.appendChild(element);\n    }\n  };\n\n  function inject_raw_css(css) {\n    const element = document.createElement(\"style\");\n    element.appendChild(document.createTextNode(css));\n    document.body.appendChild(element);\n  }\n\n  \n  var js_urls = [\"https://cdn.bokeh.org/bokeh/release/bokeh-2.3.3.min.js\", \"https://cdn.bokeh.org/bokeh/release/bokeh-widgets-2.3.3.min.js\", \"https://cdn.bokeh.org/bokeh/release/bokeh-tables-2.3.3.min.js\"];\n  var css_urls = [];\n  \n\n  var inline_js = [\n    function(Bokeh) {\n      Bokeh.set_log_level(\"info\");\n    },\n    function(Bokeh) {\n    \n    \n    }\n  ];\n\n  function run_inline_js() {\n    \n    if (root.Bokeh !== undefined || force === true) {\n      \n    for (var i = 0; i < inline_js.length; i++) {\n      inline_js[i].call(root, root.Bokeh);\n    }\n    if (force === true) {\n        display_loaded();\n      }} else if (Date.now() < root._bokeh_timeout) {\n      setTimeout(run_inline_js, 100);\n    } else if (!root._bokeh_failed_load) {\n      console.log(\"Bokeh: BokehJS failed to load within specified timeout.\");\n      root._bokeh_failed_load = true;\n    } else if (force !== true) {\n      var cell = $(document.getElementById(\"1480\")).parents('.cell').data().cell;\n      cell.output_area.append_execute_result(NB_LOAD_WARNING)\n    }\n\n  }\n\n  if (root._bokeh_is_loading === 0) {\n    console.debug(\"Bokeh: BokehJS loaded, going straight to plotting\");\n    run_inline_js();\n  } else {\n    load_libs(css_urls, js_urls, function() {\n      console.debug(\"Bokeh: BokehJS plotting callback run at\", now());\n      run_inline_js();\n    });\n  }\n}(window));"
     },
     "metadata": {}
    },
    {
     "output_type": "display_data",
     "data": {
      "text/html": [
       "\n",
       "\n",
       "\n",
       "\n",
       "\n",
       "\n",
       "  <div class=\"bk-root\" id=\"a6b010be-3e98-4812-aa63-04200fb2b4aa\" data-root-id=\"1481\"></div>\n"
      ]
     },
     "metadata": {}
    },
    {
     "output_type": "display_data",
     "data": {
      "application/vnd.bokehjs_exec.v0+json": "",
      "application/javascript": "(function(root) {\n  function embed_document(root) {\n    \n  var docs_json = {\"4bb433b9-5224-45e0-8be8-37e658a43d09\":{\"defs\":[],\"roots\":{\"references\":[{\"attributes\":{\"below\":[{\"id\":\"1492\"}],\"center\":[{\"id\":\"1495\"},{\"id\":\"1499\"},{\"id\":\"1542\"}],\"height\":400,\"left\":[{\"id\":\"1496\"}],\"output_backend\":\"webgl\",\"renderers\":[{\"id\":\"1518\"}],\"sizing_mode\":\"fixed\",\"title\":{\"id\":\"1482\"},\"toolbar\":{\"id\":\"1507\"},\"x_range\":{\"id\":\"1484\"},\"x_scale\":{\"id\":\"1488\"},\"y_range\":{\"id\":\"1486\"},\"y_scale\":{\"id\":\"1490\"}},\"id\":\"1481\",\"subtype\":\"Figure\",\"type\":\"Plot\"},{\"attributes\":{},\"id\":\"1488\",\"type\":\"LinearScale\"},{\"attributes\":{\"mantissas\":[1,2,5],\"max_interval\":500.0,\"num_minor_ticks\":0},\"id\":\"1530\",\"type\":\"AdaptiveTicker\"},{\"attributes\":{},\"id\":\"1484\",\"type\":\"DataRange1d\"},{\"attributes\":{\"base\":60,\"mantissas\":[1,2,5,10,15,20,30],\"max_interval\":1800000.0,\"min_interval\":1000.0,\"num_minor_ticks\":0},\"id\":\"1531\",\"type\":\"AdaptiveTicker\"},{\"attributes\":{\"base\":24,\"mantissas\":[1,2,4,6,8,12],\"max_interval\":43200000.0,\"min_interval\":3600000.0,\"num_minor_ticks\":0},\"id\":\"1532\",\"type\":\"AdaptiveTicker\"},{\"attributes\":{\"axis_label\":\"obs_value\",\"formatter\":{\"id\":\"1522\"},\"major_label_policy\":{\"id\":\"1523\"},\"ticker\":{\"id\":\"1497\"}},\"id\":\"1496\",\"type\":\"LinearAxis\"},{\"attributes\":{},\"id\":\"1541\",\"type\":\"YearsTicker\"},{\"attributes\":{\"months\":[0,1,2,3,4,5,6,7,8,9,10,11]},\"id\":\"1537\",\"type\":\"MonthsTicker\"},{\"attributes\":{\"num_minor_ticks\":5,\"tickers\":[{\"id\":\"1530\"},{\"id\":\"1531\"},{\"id\":\"1532\"},{\"id\":\"1533\"},{\"id\":\"1534\"},{\"id\":\"1535\"},{\"id\":\"1536\"},{\"id\":\"1537\"},{\"id\":\"1538\"},{\"id\":\"1539\"},{\"id\":\"1540\"},{\"id\":\"1541\"}]},\"id\":\"1493\",\"type\":\"DatetimeTicker\"},{\"attributes\":{\"days\":[1,15]},\"id\":\"1536\",\"type\":\"DaysTicker\"},{\"attributes\":{},\"id\":\"1501\",\"type\":\"WheelZoomTool\"},{\"attributes\":{},\"id\":\"1486\",\"type\":\"DataRange1d\"},{\"attributes\":{},\"id\":\"1482\",\"type\":\"Title\"},{\"attributes\":{\"axis_label\":\"datetime_dt\",\"formatter\":{\"id\":\"1546\"},\"major_label_policy\":{\"id\":\"1526\"},\"ticker\":{\"id\":\"1493\"}},\"id\":\"1492\",\"type\":\"DatetimeAxis\"},{\"attributes\":{\"days\":[\"%d %B %Y\"],\"hours\":[\"%H:%M:%S\"],\"milliseconds\":[\"%H:%M:%S.%f\"],\"minutes\":[\"%H:%M:%S\"],\"months\":[\"%d %B %Y\"],\"seconds\":[\"%H:%M:%S\"],\"years\":[\"%d %B %Y\"]},\"id\":\"1546\",\"type\":\"DatetimeTickFormatter\"},{\"attributes\":{\"days\":[1,2,3,4,5,6,7,8,9,10,11,12,13,14,15,16,17,18,19,20,21,22,23,24,25,26,27,28,29,30,31]},\"id\":\"1533\",\"type\":\"DaysTicker\"},{\"attributes\":{\"days\":[1,4,7,10,13,16,19,22,25,28]},\"id\":\"1534\",\"type\":\"DaysTicker\"},{\"attributes\":{\"days\":[1,8,15,22]},\"id\":\"1535\",\"type\":\"DaysTicker\"},{\"attributes\":{\"axis\":{\"id\":\"1496\"},\"dimension\":1,\"ticker\":null},\"id\":\"1499\",\"type\":\"Grid\"},{\"attributes\":{\"months\":[0,6]},\"id\":\"1540\",\"type\":\"MonthsTicker\"},{\"attributes\":{},\"id\":\"1497\",\"type\":\"BasicTicker\"},{\"attributes\":{\"months\":[0,2,4,6,8,10]},\"id\":\"1538\",\"type\":\"MonthsTicker\"},{\"attributes\":{\"active_multi\":null,\"active_scroll\":{\"id\":\"1501\"},\"tools\":[{\"id\":\"1500\"},{\"id\":\"1501\"},{\"id\":\"1502\"},{\"id\":\"1503\"},{\"id\":\"1504\"},{\"id\":\"1505\"},{\"id\":\"1544\"}]},\"id\":\"1507\",\"type\":\"Toolbar\"},{\"attributes\":{},\"id\":\"1505\",\"type\":\"HelpTool\"},{\"attributes\":{\"months\":[0,4,8]},\"id\":\"1539\",\"type\":\"MonthsTicker\"},{\"attributes\":{},\"id\":\"1500\",\"type\":\"PanTool\"},{\"attributes\":{},\"id\":\"1526\",\"type\":\"AllLabels\"},{\"attributes\":{\"overlay\":{\"id\":\"1506\"}},\"id\":\"1502\",\"type\":\"BoxZoomTool\"},{\"attributes\":{},\"id\":\"1503\",\"type\":\"SaveTool\"},{\"attributes\":{},\"id\":\"1504\",\"type\":\"ResetTool\"},{\"attributes\":{},\"id\":\"1522\",\"type\":\"BasicTickFormatter\"},{\"attributes\":{\"label\":{\"value\":\" obs_value\"},\"renderers\":[{\"id\":\"1518\"}]},\"id\":\"1543\",\"type\":\"LegendItem\"},{\"attributes\":{},\"id\":\"1523\",\"type\":\"AllLabels\"},{\"attributes\":{\"click_policy\":\"hide\",\"items\":[{\"id\":\"1543\"}]},\"id\":\"1542\",\"type\":\"Legend\"},{\"attributes\":{\"callback\":null,\"formatters\":{\"@__x__values_original\":\"datetime\"},\"mode\":\"vline\",\"renderers\":[{\"id\":\"1518\"}],\"tooltips\":[[\"datetime_dt\",\"@__x__values_original{%F}\"],[\"obs_value\",\"@{obs_value}\"]]},\"id\":\"1544\",\"type\":\"HoverTool\"},{\"attributes\":{\"data_source\":{\"id\":\"1514\"},\"glyph\":{\"id\":\"1516\"},\"hover_glyph\":null,\"muted_glyph\":null,\"nonselection_glyph\":{\"id\":\"1517\"},\"view\":{\"id\":\"1519\"}},\"id\":\"1518\",\"type\":\"GlyphRenderer\"},{\"attributes\":{\"axis\":{\"id\":\"1492\"},\"ticker\":null},\"id\":\"1495\",\"type\":\"Grid\"},{\"attributes\":{},\"id\":\"1528\",\"type\":\"UnionRenderers\"},{\"attributes\":{},\"id\":\"1529\",\"type\":\"Selection\"},{\"attributes\":{\"line_alpha\":0.1,\"line_color\":\"#1f77b4\",\"line_width\":2,\"x\":{\"field\":\"__x__values\"},\"y\":{\"field\":\"obs_value\"}},\"id\":\"1517\",\"type\":\"Line\"},{\"attributes\":{\"data\":{\"__x__values\":{\"__ndarray__\":\"AAAAYz6RiMIAACAwFZGIwgAAYMrCkIjCAACAl5mQiMIAAKBkcJCIwgAAwDFHkIjCAADg/h2QiMIAAADM9I+IwgAAQGaij4jCAABgM3mPiMIAAIAAUI+IwgAAoM0mj4jCAADAmv2OiMIAAOBn1I6IwgAAIAKCjojCAABAz1iOiMIAAGCcL46IwgAAgGkGjojCAACgNt2NiMIAAMADtI2IwgAAAJ5hjYjCAAAgaziNiMIAAEA4D42IwgAAYAXmjIjCAACA0ryMiMIAAKCfk4yIwgAA4DlBjIjCAAAABxiMiMIAACDU7ouIwgAAQKHFi4jCAABgbpyLiMIAAIA7c4uIwgAAwNUgi4jCAADgoveKiMIAAABwzoqIwgAAID2liojCAABACnyKiMIAAGDXUoqIwgAAoHEAiojCAADAPteJiMIAAOALromIwgAAANmEiYjCAAAgpluJiMIAAEBzMomIwgAAgA3giIjCAACg2raIiMIAAMCnjYiIwgAA4HRkiIjCAAAAQjuIiMIAACAPEoiIwgAAYKm/h4jCAACAdpaHiMIAAKBDbYeIwgAAwBBEh4jCAADg3RqHiMIAAACr8YaIwgAAQEWfhojCAABgEnaGiMIAAIDfTIaIwgAAoKwjhojCAADAefqFiMIAAOBG0YWIwgAAIOF+hYjCAABArlWFiMIAAGB7LIWIwgAAgEgDhYjCAACgFdqEiMIAAMDisISIwgAAAH1ehIjCAAAgSjWEiMIAAEAXDISIwgAAYOTig4jCAACAsbmDiMIAAKB+kIOIwgAA4Bg+g4jCAAAA5hSDiMIAACCz64KIwgAAQIDCgojCAABgTZmCiMIAAIAacIKIwgAA4IH0gYjCAAAAT8uBiMIAACAcooGIwgAAQOl4gYjCAABgtk+BiMIAAKBQ/YCIwgAAwB3UgIjCAADg6qqAiMIAAAC4gYCIwgAAIIVYgIjCAABAUi+AiMIAAIDs3H+IwgAAoLmzf4jCAADAhop/iMIAAOBTYX+IwgAAACE4f4jCAAAg7g5/iMIAAGCIvH6IwgAAgFWTfojCAACgImp+iMIAAMDvQH6IwgAA4LwXfojCAAAAiu59iMIAAEAknH2IwgAAYPFyfYjCAACAvkl9iMIAAKCLIH2IwgAAwFj3fIjCAADgJc58iMIAACDAe3yIwgAAQI1SfIjCAABgWil8iMIAAKD01nuIwgAAwMGte4jCAAAAXFt7iMIAACApMnuIwgAAQPYIe4jCAABgw996iMIAAICQtnqIwgAAoF2NeojCAAAAxRF6iMIAACCS6HmIwgAAQF+/eYjCAABgLJZ5iMIAAID5bHmIwgAAwJMaeYjCAADgYPF4iMIAAAAuyHiIwgAAIPueeIjCAABAyHV4iMIAAGCVTHiIwgAAoC/6d4jCAADA/NB3iMIAAODJp3eIwgAAAJd+d4jCAAAgZFV3iMIAAEAxLHeIwgAAgMvZdojCAACgmLB2iMIAAMBlh3aIwgAA4DJedojCAAAAADV2iMIAACDNC3aIwgAAYGe5dYjCAACANJB1iMIAAKABZ3WIwgAAwM49dYjCAADgmxR1iMIAAABp63SIwgAAQAOZdIjCAABg0G90iMIAAICdRnSIwgAAoGoddIjCAADAN/RziMIAAOAEy3OIwgAAIJ94c4jCAABAbE9ziMIAAGA5JnOIwgAAgAb9cojCAACg09NyiMIAAMCgqnKIwgAAADtYcojCAAAgCC9yiMIAAEDVBXKIwgAAYKLccYjCAACAb7NxiMIAAKA8inGIwgAA4NY3cYjCAAAApA5xiMIAACBx5XCIwgAAQD68cIjCAABgC5NwiMIAAIDYaXCIwgAAwHIXcIjCAADgP+5viMIAAAANxW+IwgAAINqbb4jCAABAp3JviMIAAGB0SW+IwgAAoA73bojCAADA281uiMIAAOCopG6IwgAAAHZ7bojCAAAgQ1JuiMIAAEAQKW6IwgAAgKrWbYjCAACgd61tiMIAAMBEhG2IwgAA4BFbbYjCAAAA3zFtiMIAAGBGtmyIwgAAgBONbIjCAACg4GNsiMIAAMCtOmyIwgAA4HoRbIjCAAAASOhriMIAAEDilWuIwgAAYK9sa4jCAACAfENriMIAAKBJGmuIwgAAwBbxaojCAADg48dqiMIAACB+dWqIwgAAQEtMaojCAABgGCNqiMIAAIDl+WmIwgAAoLLQaYjCAADAf6dpiMIAAAAaVWmIwgAAIOcraYjCAABAtAJpiMIAAGCB2WiIwgAAgE6waIjCAACgG4doiMIAAOC1NGiIwgAAAIMLaIjCAAAgUOJniMIAAEAduWeIwgAAYOqPZ4jCAACAt2ZniMIAAMBRFGeIwgAA4B7rZojCAAAA7MFmiMIAACC5mGaIwgAAQIZvZojCAABgU0ZmiMIAAKDt82WIwgAAwLrKZYjCAADgh6FliMIAAABVeGWIwgAAICJPZYjCAABA7yVliMIAAICJ02SIwgAAoFaqZIjCAADAI4FkiMIAAODwV2SIwgAAAL4uZIjCAAAgiwVkiMIAAGAls2OIwgAAgPKJY4jCAACgv2BjiMIAAMCMN2OIwgAA4FkOY4jCAAAAJ+ViiMIAAEDBkmKIwgAAYI5pYojCAACAW0BiiMIAAKAoF2KIwgAAwPXtYYjCAADgwsRhiMIAACBdcmGIwgAAQCpJYYjCAABg9x9hiMIAAIDE9mCIwgAAoJHNYIjCAADAXqRgiMIAAAD5UWCIwgAAIMYoYIjCAABAk/9fiMIAAGBg1l+IwgAAgC2tX4jCAACg+oNfiMIAAOCUMV+IwgAAAGIIX4jCAAAgL99eiMIAAED8tV6IwgAAYMmMXojCAACAlmNeiMIAAMAwEV6IwgAA4P3nXYjCAAAAy75diMIAACCYlV2IwgAAQGVsXYjCAABgMkNdiMIAAKDM8FyIwgAAwJnHXIjCAADgZp5ciMIAAAA0dVyIwgAAIAFMXIjCAABAziJciMIAAIBo0FuIwgAAoDWnW4jCAADAAn5biMIAAODPVFuIwgAAAJ0rW4jCAAAgagJbiMIAAGAEsFqIwgAAgNGGWojCAACgnl1aiMIAAMBrNFqIwgAA4DgLWojCAAAABuJZiMIAAECgj1mIwgAAYG1mWYjCAACAOj1ZiMIAAKAHFFmIwgAAwNTqWIjCAADgocFYiMIAACA8b1iIwgAAQAlGWIjCAABg1hxYiMIAAICj81eIwgAAwD2hV4jCAAAA2E5XiMIAACClJVeIwgAAQHL8VojCAABgP9NWiMI=\",\"dtype\":\"float64\",\"order\":\"little\",\"shape\":[307]},\"__x__values_original\":{\"__ndarray__\":\"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\",\"dtype\":\"float64\",\"order\":\"little\",\"shape\":[307]},\"obs_value\":{\"__ndarray__\":\"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\",\"dtype\":\"float64\",\"order\":\"little\",\"shape\":[307]}},\"selected\":{\"id\":\"1529\"},\"selection_policy\":{\"id\":\"1528\"}},\"id\":\"1514\",\"type\":\"ColumnDataSource\"},{\"attributes\":{\"line_color\":\"#1f77b4\",\"line_width\":2,\"x\":{\"field\":\"__x__values\"},\"y\":{\"field\":\"obs_value\"}},\"id\":\"1516\",\"type\":\"Line\"},{\"attributes\":{\"source\":{\"id\":\"1514\"}},\"id\":\"1519\",\"type\":\"CDSView\"},{\"attributes\":{},\"id\":\"1490\",\"type\":\"LinearScale\"},{\"attributes\":{\"bottom_units\":\"screen\",\"fill_alpha\":0.5,\"fill_color\":\"lightgrey\",\"left_units\":\"screen\",\"level\":\"overlay\",\"line_alpha\":1.0,\"line_color\":\"black\",\"line_dash\":[4,4],\"line_width\":2,\"right_units\":\"screen\",\"syncable\":false,\"top_units\":\"screen\"},\"id\":\"1506\",\"type\":\"BoxAnnotation\"}],\"root_ids\":[\"1481\"]},\"title\":\"Bokeh Application\",\"version\":\"2.3.3\"}};\n  var render_items = [{\"docid\":\"4bb433b9-5224-45e0-8be8-37e658a43d09\",\"root_ids\":[\"1481\"],\"roots\":{\"1481\":\"a6b010be-3e98-4812-aa63-04200fb2b4aa\"}}];\n  root.Bokeh.embed.embed_items_notebook(docs_json, render_items);\n\n  }\n  if (root.Bokeh !== undefined) {\n    embed_document(root);\n  } else {\n    var attempts = 0;\n    var timer = setInterval(function(root) {\n      if (root.Bokeh !== undefined) {\n        clearInterval(timer);\n        embed_document(root);\n      } else {\n        attempts++;\n        if (attempts > 100) {\n          clearInterval(timer);\n          console.log(\"Bokeh: ERROR: Unable to run BokehJS code because BokehJS library is missing\");\n        }\n      }\n    }, 10, root)\n  }\n})(window);"
     },
     "metadata": {
      "application/vnd.bokehjs_exec.v0+json": {
       "id": "1481"
      }
     }
    }
   ],
   "metadata": {}
  },
  {
   "cell_type": "code",
   "execution_count": 41,
   "source": [
    "import matplotlib.pyplot as plt\n",
    "import seaborn as sns\n",
    "sns.set_theme(style=\"darkgrid\")\n",
    "sns.set_theme()\n",
    "temp_df = df_weather[df_weather['station'] == 'AGE00135039']\n",
    "g = sns.relplot(x=temp_df.index, y=\"obs_value\", kind=\"line\", data=temp_df)\n",
    "g.set_axis_labels(\"Date\", \"Max Temperature\")\n",
    "g.set(title = 'STATION AGE00135039')\n",
    "\n",
    "plt.show();"
   ],
   "outputs": [
    {
     "output_type": "display_data",
     "data": {
      "text/plain": [
       "<Figure size 360x360 with 1 Axes>"
      ],
      "image/png": "[encoded data removed]"
     },
     "metadata": {}
    }
   ],
   "metadata": {}
  },
  {
   "cell_type": "code",
   "execution_count": null,
   "source": [],
   "outputs": [],
   "metadata": {}
  }
 ],
 "metadata": {
  "kernelspec": {
   "name": "python3",
   "display_name": "Python 3.9.2 64-bit"
  },
  "language_info": {
   "codemirror_mode": {
    "name": "ipython",
    "version": 3
   },
   "file_extension": ".py",
   "mimetype": "text/x-python",
   "name": "python",
   "nbconvert_exporter": "python",
   "pygments_lexer": "ipython3",
   "version": "3.9.2"
  },
  "nav_menu": {},
  "toc": {
   "navigate_menu": true,
   "number_sections": false,
   "sideBar": true,
   "threshold": 6,
   "toc_cell": false,
   "toc_section_display": "block",
   "toc_window_display": true
  },
  "varInspector": {
   "cols": {
    "lenName": 16,
    "lenType": 16,
    "lenVar": 40
   },
   "kernels_config": {
    "python": {
     "delete_cmd_postfix": "",
     "delete_cmd_prefix": "del ",
     "library": "var_list.py",
     "varRefreshCmd": "print(var_dic_list())"
    },
    "r": {
     "delete_cmd_postfix": ") ",
     "delete_cmd_prefix": "rm(",
     "library": "var_list.r",
     "varRefreshCmd": "cat(var_dic_list()) "
    }
   },
   "types_to_exclude": [
    "module",
    "function",
    "builtin_function_or_method",
    "instance",
    "_Feature"
   ],
   "window_display": false
  },
  "interpreter": {
   "hash": "aee8b7b246df8f9039afb4144a1f6fd8d2ca17a180786b69acc140d282b71a49"
  }
 },
 "nbformat": 4,
 "nbformat_minor": 4
}