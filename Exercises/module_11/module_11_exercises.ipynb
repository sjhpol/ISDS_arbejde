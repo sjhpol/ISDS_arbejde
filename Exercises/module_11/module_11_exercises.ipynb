{
 "cells": [
  {
   "cell_type": "markdown",
   "source": [
    "# Videos and Exercises for Session 11: Regression and Regularization\n",
    "\n",
    "In this combined teaching module and exercise set, you will learn about linear regression models in a machine learning perspective. We will see how overfitting can arise and how we can tackle it with a modification of the linear regression model.\n",
    "\n",
    "The structure of this notebook is as follows:\n",
    "1. Linear Regression Mechanics\n",
    "2. Overfitting and Underfitting in Linear Regression\n",
    "    - Exploring Overfitting in Linear Regression\n",
    "    - A Cure for Overfitting in Linear Regression\n",
    "3. Modelling Houseprices (Exercise)"
   ],
   "metadata": {
    "ExecuteTime": {
     "end_time": "2017-08-23T15:30:03.634114Z",
     "start_time": "2017-08-23T15:30:03.629294Z"
    }
   }
  },
  {
   "cell_type": "markdown",
   "source": [
    "## Packages\n",
    "First, we need to import our standard stuff. Notice that we are not interested in seeing the convergence warning in scikit-learn, so we suppress them for now."
   ],
   "metadata": {}
  },
  {
   "cell_type": "code",
   "execution_count": 2,
   "source": [
    "import warnings\n",
    "from sklearn.exceptions import ConvergenceWarning\n",
    "warnings.filterwarnings(action='ignore', category=ConvergenceWarning)\n",
    "\n",
    "import matplotlib.pyplot as plt\n",
    "import numpy as np \n",
    "import pandas as pd \n",
    "import seaborn as sns\n",
    "\n"
   ],
   "outputs": [],
   "metadata": {}
  },
  {
   "cell_type": "markdown",
   "source": [
    "# Part 1: Linear Regression Mechanics\n",
    "## Implementing and evaluating the gradient decent \n",
    " \n",
    "Normally we use OLS to estimate linear regression models, but this is only way of solving the problem of minimizing the least squares problem (that minimizes the sum of squared errors). In the video below we show how to implement gradient descent below and compare it along with other approximate solutions to OLS.\n",
    "\n",
    "You may find PML pp. 310-312, 319-324 useful as background reading."
   ],
   "metadata": {}
  },
  {
   "cell_type": "code",
   "execution_count": 3,
   "source": [
    "from IPython.display import YouTubeVideo\n",
    "YouTubeVideo('zyk0U7-JaH0', width=640, height=360)"
   ],
   "outputs": [
    {
     "output_type": "execute_result",
     "data": {
      "text/plain": [
       "<IPython.lib.display.YouTubeVideo at 0x10f04f310>"
      ],
      "image/jpeg": "[encoded data removed]",
      "text/html": [
       "\n",
       "        <iframe\n",
       "            width=\"640\"\n",
       "            height=\"360\"\n",
       "            src=\"https://www.youtube.com/embed/zyk0U7-JaH0\"\n",
       "            frameborder=\"0\"\n",
       "            allowfullscreen\n",
       "        ></iframe>\n",
       "        "
      ]
     },
     "metadata": {},
     "execution_count": 3
    }
   ],
   "metadata": {}
  },
  {
   "cell_type": "markdown",
   "source": [
    "We continue straight to an exercise where you are to implement a new estimator that we code up from scratch. We solve the numerical optimization using the gradient decent algorithm. This will be very similar to what we just saw in the video, but we will pay a bit more attention to each step in the process.\n",
    "\n",
    "Using our algorithm, we will fit it to some data, and compare our own solution to the standard solution from `sklearn`"
   ],
   "metadata": {}
  },
  {
   "cell_type": "markdown",
   "source": [
    "> **Ex. 11.1.0**: Import the dataset `tips` from the `seaborn`.\n",
    "\n",
    "\n",
    "*Hint*: use the `load_dataset` method in seaborn"
   ],
   "metadata": {}
  },
  {
   "cell_type": "code",
   "execution_count": 4,
   "source": [
    "# YOUR CODE HERE\n",
    "import numpy as np\n",
    "import pandas as pd\n",
    "import seaborn as sns\n",
    "\n",
    "tips = sns.load_dataset('tips')\n",
    "\n"
   ],
   "outputs": [],
   "metadata": {
    "deletable": false,
    "nbgrader": {
     "cell_type": "code",
     "checksum": "6e812556b5b6774ba76a4a1ccb89a169",
     "grade": false,
     "grade_id": "cell-2dd56f36f76bce57",
     "locked": false,
     "schema_version": 3,
     "solution": true,
     "task": false
    }
   }
  },
  {
   "cell_type": "markdown",
   "source": [
    "> **Ex. 11.1.1**: Convert non-numeric variables to dummy variables for each category (remember to leave one column out for each catagorical variable, so you have a reference). Restructure the data so we get a dataset `y` containing the variable tip, and a dataset `X` containing the \n",
    "features. \n",
    "\n",
    "> *Hint*: You might want to use the `get_dummies` method in pandas, with the `drop_first = True` parameter. "
   ],
   "metadata": {}
  },
  {
   "cell_type": "code",
   "execution_count": 5,
   "source": [
    "# YOUR CODE HERE\n",
    "cols = ['sex','smoker', 'day', 'time']\n",
    "tips_sub = pd.get_dummies(tips[cols].dropna(), drop_first=True).astype(np.int64)  "
   ],
   "outputs": [],
   "metadata": {
    "deletable": false,
    "nbgrader": {
     "cell_type": "code",
     "checksum": "2ce55b897e3acd6727916dffe21150f6",
     "grade": false,
     "grade_id": "cell-2e42eb4f59160bed",
     "locked": false,
     "schema_version": 3,
     "solution": true,
     "task": false
    }
   }
  },
  {
   "cell_type": "code",
   "execution_count": 6,
   "source": [
    "y = tips.loc[:,'tip']\n",
    "X = tips.loc[:, ['total_bill', 'size']].join(tips_sub)"
   ],
   "outputs": [],
   "metadata": {}
  },
  {
   "cell_type": "code",
   "execution_count": 7,
   "source": [
    "X"
   ],
   "outputs": [
    {
     "output_type": "execute_result",
     "data": {
      "text/plain": [
       "     total_bill  size  sex_Female  smoker_No  day_Fri  day_Sat  day_Sun  \\\n",
       "0         16.99     2           1          1        0        0        1   \n",
       "1         10.34     3           0          1        0        0        1   \n",
       "2         21.01     3           0          1        0        0        1   \n",
       "3         23.68     2           0          1        0        0        1   \n",
       "4         24.59     4           1          1        0        0        1   \n",
       "..          ...   ...         ...        ...      ...      ...      ...   \n",
       "239       29.03     3           0          1        0        1        0   \n",
       "240       27.18     2           1          0        0        1        0   \n",
       "241       22.67     2           0          0        0        1        0   \n",
       "242       17.82     2           0          1        0        1        0   \n",
       "243       18.78     2           1          1        0        0        0   \n",
       "\n",
       "     time_Dinner  \n",
       "0              1  \n",
       "1              1  \n",
       "2              1  \n",
       "3              1  \n",
       "4              1  \n",
       "..           ...  \n",
       "239            1  \n",
       "240            1  \n",
       "241            1  \n",
       "242            1  \n",
       "243            1  \n",
       "\n",
       "[244 rows x 8 columns]"
      ],
      "text/html": [
       "<div>\n",
       "<style scoped>\n",
       "    .dataframe tbody tr th:only-of-type {\n",
       "        vertical-align: middle;\n",
       "    }\n",
       "\n",
       "    .dataframe tbody tr th {\n",
       "        vertical-align: top;\n",
       "    }\n",
       "\n",
       "    .dataframe thead th {\n",
       "        text-align: right;\n",
       "    }\n",
       "</style>\n",
       "<table border=\"1\" class=\"dataframe\">\n",
       "  <thead>\n",
       "    <tr style=\"text-align: right;\">\n",
       "      <th></th>\n",
       "      <th>total_bill</th>\n",
       "      <th>size</th>\n",
       "      <th>sex_Female</th>\n",
       "      <th>smoker_No</th>\n",
       "      <th>day_Fri</th>\n",
       "      <th>day_Sat</th>\n",
       "      <th>day_Sun</th>\n",
       "      <th>time_Dinner</th>\n",
       "    </tr>\n",
       "  </thead>\n",
       "  <tbody>\n",
       "    <tr>\n",
       "      <th>0</th>\n",
       "      <td>16.99</td>\n",
       "      <td>2</td>\n",
       "      <td>1</td>\n",
       "      <td>1</td>\n",
       "      <td>0</td>\n",
       "      <td>0</td>\n",
       "      <td>1</td>\n",
       "      <td>1</td>\n",
       "    </tr>\n",
       "    <tr>\n",
       "      <th>1</th>\n",
       "      <td>10.34</td>\n",
       "      <td>3</td>\n",
       "      <td>0</td>\n",
       "      <td>1</td>\n",
       "      <td>0</td>\n",
       "      <td>0</td>\n",
       "      <td>1</td>\n",
       "      <td>1</td>\n",
       "    </tr>\n",
       "    <tr>\n",
       "      <th>2</th>\n",
       "      <td>21.01</td>\n",
       "      <td>3</td>\n",
       "      <td>0</td>\n",
       "      <td>1</td>\n",
       "      <td>0</td>\n",
       "      <td>0</td>\n",
       "      <td>1</td>\n",
       "      <td>1</td>\n",
       "    </tr>\n",
       "    <tr>\n",
       "      <th>3</th>\n",
       "      <td>23.68</td>\n",
       "      <td>2</td>\n",
       "      <td>0</td>\n",
       "      <td>1</td>\n",
       "      <td>0</td>\n",
       "      <td>0</td>\n",
       "      <td>1</td>\n",
       "      <td>1</td>\n",
       "    </tr>\n",
       "    <tr>\n",
       "      <th>4</th>\n",
       "      <td>24.59</td>\n",
       "      <td>4</td>\n",
       "      <td>1</td>\n",
       "      <td>1</td>\n",
       "      <td>0</td>\n",
       "      <td>0</td>\n",
       "      <td>1</td>\n",
       "      <td>1</td>\n",
       "    </tr>\n",
       "    <tr>\n",
       "      <th>...</th>\n",
       "      <td>...</td>\n",
       "      <td>...</td>\n",
       "      <td>...</td>\n",
       "      <td>...</td>\n",
       "      <td>...</td>\n",
       "      <td>...</td>\n",
       "      <td>...</td>\n",
       "      <td>...</td>\n",
       "    </tr>\n",
       "    <tr>\n",
       "      <th>239</th>\n",
       "      <td>29.03</td>\n",
       "      <td>3</td>\n",
       "      <td>0</td>\n",
       "      <td>1</td>\n",
       "      <td>0</td>\n",
       "      <td>1</td>\n",
       "      <td>0</td>\n",
       "      <td>1</td>\n",
       "    </tr>\n",
       "    <tr>\n",
       "      <th>240</th>\n",
       "      <td>27.18</td>\n",
       "      <td>2</td>\n",
       "      <td>1</td>\n",
       "      <td>0</td>\n",
       "      <td>0</td>\n",
       "      <td>1</td>\n",
       "      <td>0</td>\n",
       "      <td>1</td>\n",
       "    </tr>\n",
       "    <tr>\n",
       "      <th>241</th>\n",
       "      <td>22.67</td>\n",
       "      <td>2</td>\n",
       "      <td>0</td>\n",
       "      <td>0</td>\n",
       "      <td>0</td>\n",
       "      <td>1</td>\n",
       "      <td>0</td>\n",
       "      <td>1</td>\n",
       "    </tr>\n",
       "    <tr>\n",
       "      <th>242</th>\n",
       "      <td>17.82</td>\n",
       "      <td>2</td>\n",
       "      <td>0</td>\n",
       "      <td>1</td>\n",
       "      <td>0</td>\n",
       "      <td>1</td>\n",
       "      <td>0</td>\n",
       "      <td>1</td>\n",
       "    </tr>\n",
       "    <tr>\n",
       "      <th>243</th>\n",
       "      <td>18.78</td>\n",
       "      <td>2</td>\n",
       "      <td>1</td>\n",
       "      <td>1</td>\n",
       "      <td>0</td>\n",
       "      <td>0</td>\n",
       "      <td>0</td>\n",
       "      <td>1</td>\n",
       "    </tr>\n",
       "  </tbody>\n",
       "</table>\n",
       "<p>244 rows × 8 columns</p>\n",
       "</div>"
      ]
     },
     "metadata": {},
     "execution_count": 7
    }
   ],
   "metadata": {}
  },
  {
   "cell_type": "markdown",
   "source": [
    "> **Ex. 11.1.2**: Divide the features and target into test and train data. Make the split 50 pct. of each. The split data should be called `X_train`, `X_test`, `y_train`, `y_test`.\n",
    "\n",
    "> *Hint*: You may use `train_test_split` in `sklearn.model_selection`."
   ],
   "metadata": {}
  },
  {
   "cell_type": "code",
   "execution_count": 8,
   "source": [
    "# YOUR CODE HERE\n",
    "from sklearn.model_selection import train_test_split\n",
    "X_train, X_test, y_train, y_test = train_test_split(X, y, test_size=0.5, random_state=2000)"
   ],
   "outputs": [],
   "metadata": {
    "deletable": false,
    "nbgrader": {
     "cell_type": "code",
     "checksum": "eb3675bb8e21477c6f5c76f67a3a5ed0",
     "grade": false,
     "grade_id": "cell-ba197171f1b2bfef",
     "locked": false,
     "schema_version": 3,
     "solution": true,
     "task": false
    }
   }
  },
  {
   "cell_type": "markdown",
   "source": [
    "> **Ex. 11.1.3**: Normalize your features by converting to zero mean and one std. deviation.\n",
    "\n",
    "> *Hint*: Take a look at `StandardScaler` in `sklearn.preprocessing`. If in doubt about which distribution to scale, you may read [this post](https://stats.stackexchange.com/questions/174823/how-to-apply-standardization-normalization-to-train-and-testset-if-prediction-i)."
   ],
   "metadata": {}
  },
  {
   "cell_type": "code",
   "execution_count": 9,
   "source": [
    "# YOUR CODE HERE\n",
    "from sklearn.preprocessing import StandardScaler\n",
    "X_train_scaled = StandardScaler().fit(X_train).transform(X_train)\n",
    "\n",
    "X_test_scaled = StandardScaler().fit(X_train).transform(X_test)"
   ],
   "outputs": [],
   "metadata": {
    "deletable": false,
    "nbgrader": {
     "cell_type": "code",
     "checksum": "5a4d5e2ed6417f454e18385a2804a19b",
     "grade": false,
     "grade_id": "cell-8ab591d5927be1d5",
     "locked": false,
     "schema_version": 3,
     "solution": true,
     "task": false
    }
   }
  },
  {
   "cell_type": "code",
   "execution_count": 10,
   "source": [
    "X_test_scaled"
   ],
   "outputs": [
    {
     "output_type": "execute_result",
     "data": {
      "text/plain": [
       "array([[ 1.14975275e+00,  1.48069986e+00,  1.57661482e+00,\n",
       "        -1.17989697e+00, -3.14800094e-01,  1.30809446e+00,\n",
       "        -7.11458249e-01,  5.58415577e-01],\n",
       "       [ 1.11745535e+00,  2.53710561e+00,  1.57661482e+00,\n",
       "         8.47531627e-01, -3.14800094e-01, -7.64470787e-01,\n",
       "         1.40556386e+00,  5.58415577e-01],\n",
       "       [-7.59134959e-01, -6.32111635e-01,  1.57661482e+00,\n",
       "        -1.17989697e+00, -3.14800094e-01, -7.64470787e-01,\n",
       "        -7.11458249e-01, -1.79078099e+00],\n",
       "       [-1.71099539e-01, -6.32111635e-01, -6.34270329e-01,\n",
       "         8.47531627e-01, -3.14800094e-01, -7.64470787e-01,\n",
       "        -7.11458249e-01, -1.79078099e+00],\n",
       "       [ 4.30300323e-01, -6.32111635e-01, -6.34270329e-01,\n",
       "         8.47531627e-01, -3.14800094e-01, -7.64470787e-01,\n",
       "         1.40556386e+00,  5.58415577e-01],\n",
       "       [ 7.94837370e-02,  1.48069986e+00, -6.34270329e-01,\n",
       "        -1.17989697e+00, -3.14800094e-01, -7.64470787e-01,\n",
       "        -7.11458249e-01, -1.79078099e+00],\n",
       "       [-1.25807410e+00, -6.32111635e-01, -6.34270329e-01,\n",
       "         8.47531627e-01, -3.14800094e-01, -7.64470787e-01,\n",
       "        -7.11458249e-01, -1.79078099e+00],\n",
       "       [-4.59548731e-01,  4.24294111e-01, -6.34270329e-01,\n",
       "        -1.17989697e+00, -3.14800094e-01,  1.30809446e+00,\n",
       "        -7.11458249e-01,  5.58415577e-01],\n",
       "       [ 3.26725902e-01, -6.32111635e-01,  1.57661482e+00,\n",
       "         8.47531627e-01,  3.17661913e+00, -7.64470787e-01,\n",
       "        -7.11458249e-01,  5.58415577e-01],\n",
       "       [-7.12359414e-01, -6.32111635e-01,  1.57661482e+00,\n",
       "        -1.17989697e+00,  3.17661913e+00, -7.64470787e-01,\n",
       "        -7.11458249e-01, -1.79078099e+00],\n",
       "       [-4.25023924e-01, -6.32111635e-01, -6.34270329e-01,\n",
       "        -1.17989697e+00, -3.14800094e-01, -7.64470787e-01,\n",
       "        -7.11458249e-01, -1.79078099e+00],\n",
       "       [-8.19274945e-01, -6.32111635e-01, -6.34270329e-01,\n",
       "         8.47531627e-01,  3.17661913e+00, -7.64470787e-01,\n",
       "        -7.11458249e-01,  5.58415577e-01],\n",
       "       [ 3.16889710e+00,  1.48069986e+00, -6.34270329e-01,\n",
       "         8.47531627e-01, -3.14800094e-01,  1.30809446e+00,\n",
       "        -7.11458249e-01,  5.58415577e-01],\n",
       "       [-1.75554352e-01, -6.32111635e-01, -6.34270329e-01,\n",
       "         8.47531627e-01, -3.14800094e-01,  1.30809446e+00,\n",
       "        -7.11458249e-01,  5.58415577e-01],\n",
       "       [-1.85577683e-01,  4.24294111e-01,  1.57661482e+00,\n",
       "        -1.17989697e+00, -3.14800094e-01, -7.64470787e-01,\n",
       "         1.40556386e+00,  5.58415577e-01],\n",
       "       [ 9.28481784e-02,  4.24294111e-01, -6.34270329e-01,\n",
       "         8.47531627e-01, -3.14800094e-01,  1.30809446e+00,\n",
       "        -7.11458249e-01,  5.58415577e-01],\n",
       "       [ 2.02623736e+00,  1.48069986e+00, -6.34270329e-01,\n",
       "        -1.17989697e+00, -3.14800094e-01,  1.30809446e+00,\n",
       "        -7.11458249e-01,  5.58415577e-01],\n",
       "       [ 4.60370316e-01, -6.32111635e-01, -6.34270329e-01,\n",
       "         8.47531627e-01, -3.14800094e-01, -7.64470787e-01,\n",
       "         1.40556386e+00,  5.58415577e-01],\n",
       "       [-4.19099387e-02, -6.32111635e-01, -6.34270329e-01,\n",
       "        -1.17989697e+00, -3.14800094e-01, -7.64470787e-01,\n",
       "        -7.11458249e-01, -1.79078099e+00],\n",
       "       [ 1.71996891e+00,  1.48069986e+00,  1.57661482e+00,\n",
       "         8.47531627e-01, -3.14800094e-01, -7.64470787e-01,\n",
       "         1.40556386e+00,  5.58415577e-01],\n",
       "       [ 1.64980560e+00, -6.32111635e-01, -6.34270329e-01,\n",
       "        -1.17989697e+00, -3.14800094e-01, -7.64470787e-01,\n",
       "         1.40556386e+00,  5.58415577e-01],\n",
       "       [-6.18808324e-01, -6.32111635e-01, -6.34270329e-01,\n",
       "         8.47531627e-01, -3.14800094e-01, -7.64470787e-01,\n",
       "        -7.11458249e-01, -1.79078099e+00],\n",
       "       [ 6.08492874e-01, -6.32111635e-01,  1.57661482e+00,\n",
       "        -1.17989697e+00, -3.14800094e-01,  1.30809446e+00,\n",
       "        -7.11458249e-01,  5.58415577e-01],\n",
       "       [-3.80475787e-01, -6.32111635e-01,  1.57661482e+00,\n",
       "        -1.17989697e+00, -3.14800094e-01, -7.64470787e-01,\n",
       "        -7.11458249e-01, -1.79078099e+00],\n",
       "       [ 6.76428785e-01,  1.48069986e+00, -6.34270329e-01,\n",
       "        -1.17989697e+00, -3.14800094e-01,  1.30809446e+00,\n",
       "        -7.11458249e-01,  5.58415577e-01],\n",
       "       [-7.59134959e-01, -6.32111635e-01,  1.57661482e+00,\n",
       "        -1.17989697e+00, -3.14800094e-01, -7.64470787e-01,\n",
       "        -7.11458249e-01, -1.79078099e+00],\n",
       "       [ 7.34341364e-01, -6.32111635e-01,  1.57661482e+00,\n",
       "         8.47531627e-01, -3.14800094e-01,  1.30809446e+00,\n",
       "        -7.11458249e-01,  5.58415577e-01],\n",
       "       [-2.22329897e-01, -6.32111635e-01, -6.34270329e-01,\n",
       "         8.47531627e-01, -3.14800094e-01,  1.30809446e+00,\n",
       "        -7.11458249e-01,  5.58415577e-01],\n",
       "       [ 7.50289232e-02, -6.32111635e-01, -6.34270329e-01,\n",
       "        -1.17989697e+00, -3.14800094e-01,  1.30809446e+00,\n",
       "        -7.11458249e-01,  5.58415577e-01],\n",
       "       [ 2.93670819e-02,  4.24294111e-01, -6.34270329e-01,\n",
       "         8.47531627e-01, -3.14800094e-01,  1.30809446e+00,\n",
       "        -7.11458249e-01,  5.58415577e-01],\n",
       "       [-7.41315703e-01, -6.32111635e-01,  1.57661482e+00,\n",
       "         8.47531627e-01, -3.14800094e-01, -7.64470787e-01,\n",
       "        -7.11458249e-01, -1.79078099e+00],\n",
       "       [ 2.89973688e-01, -6.32111635e-01,  1.57661482e+00,\n",
       "        -1.17989697e+00, -3.14800094e-01,  1.30809446e+00,\n",
       "        -7.11458249e-01,  5.58415577e-01],\n",
       "       [-4.96300945e-01, -6.32111635e-01, -6.34270329e-01,\n",
       "        -1.17989697e+00, -3.14800094e-01,  1.30809446e+00,\n",
       "        -7.11458249e-01,  5.58415577e-01],\n",
       "       [-8.84983448e-01, -6.32111635e-01,  1.57661482e+00,\n",
       "         8.47531627e-01, -3.14800094e-01, -7.64470787e-01,\n",
       "        -7.11458249e-01, -1.79078099e+00],\n",
       "       [ 6.56382123e-01,  4.24294111e-01,  1.57661482e+00,\n",
       "         8.47531627e-01, -3.14800094e-01, -7.64470787e-01,\n",
       "         1.40556386e+00,  5.58415577e-01],\n",
       "       [-3.74907269e-01, -6.32111635e-01,  1.57661482e+00,\n",
       "         8.47531627e-01, -3.14800094e-01,  1.30809446e+00,\n",
       "        -7.11458249e-01,  5.58415577e-01],\n",
       "       [-2.23443601e-01,  1.48069986e+00, -6.34270329e-01,\n",
       "         8.47531627e-01, -3.14800094e-01,  1.30809446e+00,\n",
       "        -7.11458249e-01,  5.58415577e-01],\n",
       "       [-3.92726525e-01,  4.24294111e-01, -6.34270329e-01,\n",
       "         8.47531627e-01, -3.14800094e-01, -7.64470787e-01,\n",
       "         1.40556386e+00,  5.58415577e-01],\n",
       "       [-2.79128773e-01, -6.32111635e-01,  1.57661482e+00,\n",
       "         8.47531627e-01, -3.14800094e-01, -7.64470787e-01,\n",
       "         1.40556386e+00,  5.58415577e-01],\n",
       "       [-3.16994690e-01,  4.24294111e-01,  1.57661482e+00,\n",
       "         8.47531627e-01, -3.14800094e-01, -7.64470787e-01,\n",
       "         1.40556386e+00,  5.58415577e-01],\n",
       "       [ 1.01944945e+00, -6.32111635e-01, -6.34270329e-01,\n",
       "        -1.17989697e+00,  3.17661913e+00, -7.64470787e-01,\n",
       "        -7.11458249e-01,  5.58415577e-01],\n",
       "       [ 1.11188683e+00,  3.59351135e+00,  1.57661482e+00,\n",
       "         8.47531627e-01, -3.14800094e-01, -7.64470787e-01,\n",
       "        -7.11458249e-01, -1.79078099e+00],\n",
       "       [-1.86504248e+00, -1.68851738e+00,  1.57661482e+00,\n",
       "        -1.17989697e+00, -3.14800094e-01,  1.30809446e+00,\n",
       "        -7.11458249e-01,  5.58415577e-01],\n",
       "       [ 2.68813323e-01, -6.32111635e-01, -6.34270329e-01,\n",
       "         8.47531627e-01, -3.14800094e-01, -7.64470787e-01,\n",
       "         1.40556386e+00,  5.58415577e-01],\n",
       "       [ 5.05274474e-02, -6.32111635e-01,  1.57661482e+00,\n",
       "         8.47531627e-01, -3.14800094e-01, -7.64470787e-01,\n",
       "        -7.11458249e-01, -1.79078099e+00],\n",
       "       [ 1.40144973e+00,  1.48069986e+00, -6.34270329e-01,\n",
       "         8.47531627e-01, -3.14800094e-01, -7.64470787e-01,\n",
       "         1.40556386e+00,  5.58415577e-01],\n",
       "       [-2.61309518e-01, -6.32111635e-01,  1.57661482e+00,\n",
       "         8.47531627e-01, -3.14800094e-01, -7.64470787e-01,\n",
       "        -7.11458249e-01, -1.79078099e+00],\n",
       "       [-1.02308268e+00, -6.32111635e-01,  1.57661482e+00,\n",
       "        -1.17989697e+00, -3.14800094e-01,  1.30809446e+00,\n",
       "        -7.11458249e-01,  5.58415577e-01],\n",
       "       [-7.29064966e-01, -6.32111635e-01,  1.57661482e+00,\n",
       "        -1.17989697e+00, -3.14800094e-01,  1.30809446e+00,\n",
       "        -7.11458249e-01,  5.58415577e-01],\n",
       "       [-7.02911192e-04, -6.32111635e-01,  1.57661482e+00,\n",
       "        -1.17989697e+00, -3.14800094e-01, -7.64470787e-01,\n",
       "        -7.11458249e-01, -1.79078099e+00],\n",
       "       [-1.97828421e-01, -6.32111635e-01, -6.34270329e-01,\n",
       "         8.47531627e-01, -3.14800094e-01, -7.64470787e-01,\n",
       "         1.40556386e+00,  5.58415577e-01],\n",
       "       [-8.41549014e-01, -6.32111635e-01,  1.57661482e+00,\n",
       "         8.47531627e-01, -3.14800094e-01, -7.64470787e-01,\n",
       "        -7.11458249e-01, -1.79078099e+00],\n",
       "       [ 2.26679731e+00,  1.48069986e+00, -6.34270329e-01,\n",
       "        -1.17989697e+00,  3.17661913e+00, -7.64470787e-01,\n",
       "        -7.11458249e-01,  5.58415577e-01],\n",
       "       [-4.27251331e-01, -6.32111635e-01, -6.34270329e-01,\n",
       "         8.47531627e-01, -3.14800094e-01, -7.64470787e-01,\n",
       "        -7.11458249e-01, -1.79078099e+00],\n",
       "       [ 1.20690765e-01,  4.24294111e-01,  1.57661482e+00,\n",
       "        -1.17989697e+00, -3.14800094e-01, -7.64470787e-01,\n",
       "         1.40556386e+00,  5.58415577e-01],\n",
       "       [ 1.32941502e-01, -6.32111635e-01, -6.34270329e-01,\n",
       "        -1.17989697e+00,  3.17661913e+00, -7.64470787e-01,\n",
       "        -7.11458249e-01,  5.58415577e-01],\n",
       "       [-8.10365317e-01, -6.32111635e-01, -6.34270329e-01,\n",
       "         8.47531627e-01, -3.14800094e-01, -7.64470787e-01,\n",
       "         1.40556386e+00,  5.58415577e-01],\n",
       "       [-8.52686048e-01, -6.32111635e-01, -6.34270329e-01,\n",
       "        -1.17989697e+00,  3.17661913e+00, -7.64470787e-01,\n",
       "        -7.11458249e-01, -1.79078099e+00],\n",
       "       [-5.89852035e-01, -6.32111635e-01,  1.57661482e+00,\n",
       "         8.47531627e-01, -3.14800094e-01, -7.64470787e-01,\n",
       "        -7.11458249e-01, -1.79078099e+00],\n",
       "       [-1.25437697e-01,  4.24294111e-01, -6.34270329e-01,\n",
       "         8.47531627e-01, -3.14800094e-01,  1.30809446e+00,\n",
       "        -7.11458249e-01,  5.58415577e-01],\n",
       "       [-8.68277896e-01, -6.32111635e-01, -6.34270329e-01,\n",
       "         8.47531627e-01, -3.14800094e-01,  1.30809446e+00,\n",
       "        -7.11458249e-01,  5.58415577e-01],\n",
       "       [-7.88091248e-01, -6.32111635e-01,  1.57661482e+00,\n",
       "        -1.17989697e+00, -3.14800094e-01, -7.64470787e-01,\n",
       "        -7.11458249e-01, -1.79078099e+00],\n",
       "       [ 1.32941502e-01,  4.24294111e-01, -6.34270329e-01,\n",
       "         8.47531627e-01, -3.14800094e-01, -7.64470787e-01,\n",
       "         1.40556386e+00,  5.58415577e-01],\n",
       "       [-1.08322266e+00, -6.32111635e-01,  1.57661482e+00,\n",
       "        -1.17989697e+00,  3.17661913e+00, -7.64470787e-01,\n",
       "        -7.11458249e-01, -1.79078099e+00],\n",
       "       [-7.15700524e-01, -6.32111635e-01,  1.57661482e+00,\n",
       "         8.47531627e-01, -3.14800094e-01, -7.64470787e-01,\n",
       "         1.40556386e+00,  5.58415577e-01],\n",
       "       [-1.39951444e+00, -1.68851738e+00,  1.57661482e+00,\n",
       "         8.47531627e-01, -3.14800094e-01,  1.30809446e+00,\n",
       "        -7.11458249e-01,  5.58415577e-01],\n",
       "       [-3.14767283e-01, -6.32111635e-01,  1.57661482e+00,\n",
       "         8.47531627e-01, -3.14800094e-01, -7.64470787e-01,\n",
       "         1.40556386e+00,  5.58415577e-01],\n",
       "       [-7.93659765e-01, -6.32111635e-01, -6.34270329e-01,\n",
       "         8.47531627e-01, -3.14800094e-01,  1.30809446e+00,\n",
       "        -7.11458249e-01,  5.58415577e-01],\n",
       "       [-1.27700706e+00, -6.32111635e-01,  1.57661482e+00,\n",
       "         8.47531627e-01, -3.14800094e-01, -7.64470787e-01,\n",
       "        -7.11458249e-01, -1.79078099e+00],\n",
       "       [ 5.27192523e-01,  1.48069986e+00, -6.34270329e-01,\n",
       "         8.47531627e-01, -3.14800094e-01, -7.64470787e-01,\n",
       "         1.40556386e+00,  5.58415577e-01],\n",
       "       [ 8.20096529e-01, -6.32111635e-01,  1.57661482e+00,\n",
       "        -1.17989697e+00, -3.14800094e-01,  1.30809446e+00,\n",
       "        -7.11458249e-01,  5.58415577e-01],\n",
       "       [-6.31059062e-01, -6.32111635e-01,  1.57661482e+00,\n",
       "         8.47531627e-01, -3.14800094e-01, -7.64470787e-01,\n",
       "        -7.11458249e-01, -1.79078099e+00],\n",
       "       [-5.29712049e-01, -6.32111635e-01,  1.57661482e+00,\n",
       "         8.47531627e-01, -3.14800094e-01,  1.30809446e+00,\n",
       "        -7.11458249e-01,  5.58415577e-01],\n",
       "       [ 3.17557932e+00,  1.48069986e+00, -6.34270329e-01,\n",
       "         8.47531627e-01, -3.14800094e-01,  1.30809446e+00,\n",
       "        -7.11458249e-01,  5.58415577e-01],\n",
       "       [-9.39554917e-01, -6.32111635e-01,  1.57661482e+00,\n",
       "         8.47531627e-01, -3.14800094e-01, -7.64470787e-01,\n",
       "        -7.11458249e-01, -1.79078099e+00],\n",
       "       [ 8.22323936e-01,  1.48069986e+00, -6.34270329e-01,\n",
       "         8.47531627e-01, -3.14800094e-01, -7.64470787e-01,\n",
       "        -7.11458249e-01, -1.79078099e+00],\n",
       "       [-6.68924979e-01, -6.32111635e-01, -6.34270329e-01,\n",
       "        -1.17989697e+00, -3.14800094e-01,  1.30809446e+00,\n",
       "        -7.11458249e-01,  5.58415577e-01],\n",
       "       [ 3.65705523e-01,  4.24294111e-01, -6.34270329e-01,\n",
       "        -1.17989697e+00, -3.14800094e-01, -7.64470787e-01,\n",
       "         1.40556386e+00,  5.58415577e-01],\n",
       "       [-1.06094859e+00, -6.32111635e-01,  1.57661482e+00,\n",
       "         8.47531627e-01, -3.14800094e-01, -7.64470787e-01,\n",
       "         1.40556386e+00,  5.58415577e-01],\n",
       "       [ 1.34019604e+00, -6.32111635e-01, -6.34270329e-01,\n",
       "        -1.17989697e+00, -3.14800094e-01, -7.64470787e-01,\n",
       "         1.40556386e+00,  5.58415577e-01],\n",
       "       [-1.05649378e+00, -6.32111635e-01,  1.57661482e+00,\n",
       "         8.47531627e-01, -3.14800094e-01, -7.64470787e-01,\n",
       "        -7.11458249e-01, -1.79078099e+00],\n",
       "       [-1.34494297e+00, -6.32111635e-01, -6.34270329e-01,\n",
       "        -1.17989697e+00, -3.14800094e-01,  1.30809446e+00,\n",
       "        -7.11458249e-01,  5.58415577e-01],\n",
       "       [ 8.05618384e-01,  3.59351135e+00,  1.57661482e+00,\n",
       "         8.47531627e-01, -3.14800094e-01, -7.64470787e-01,\n",
       "        -7.11458249e-01, -1.79078099e+00],\n",
       "       [ 1.12636498e+00,  1.48069986e+00, -6.34270329e-01,\n",
       "         8.47531627e-01, -3.14800094e-01, -7.64470787e-01,\n",
       "         1.40556386e+00,  5.58415577e-01],\n",
       "       [-4.01636152e-01,  4.24294111e-01,  1.57661482e+00,\n",
       "         8.47531627e-01, -3.14800094e-01, -7.64470787e-01,\n",
       "         1.40556386e+00,  5.58415577e-01],\n",
       "       [-1.54393987e-01,  1.48069986e+00, -6.34270329e-01,\n",
       "         8.47531627e-01, -3.14800094e-01, -7.64470787e-01,\n",
       "         1.40556386e+00,  5.58415577e-01],\n",
       "       [-8.22616055e-01, -6.32111635e-01,  1.57661482e+00,\n",
       "         8.47531627e-01, -3.14800094e-01, -7.64470787e-01,\n",
       "        -7.11458249e-01, -1.79078099e+00],\n",
       "       [ 4.60726336e-02, -6.32111635e-01, -6.34270329e-01,\n",
       "         8.47531627e-01, -3.14800094e-01,  1.30809446e+00,\n",
       "        -7.11458249e-01,  5.58415577e-01],\n",
       "       [-5.94306848e-01, -6.32111635e-01, -6.34270329e-01,\n",
       "        -1.17989697e+00, -3.14800094e-01, -7.64470787e-01,\n",
       "         1.40556386e+00,  5.58415577e-01],\n",
       "       [ 4.96008826e-01, -6.32111635e-01, -6.34270329e-01,\n",
       "        -1.17989697e+00, -3.14800094e-01,  1.30809446e+00,\n",
       "        -7.11458249e-01,  5.58415577e-01],\n",
       "       [-7.17927931e-01, -6.32111635e-01, -6.34270329e-01,\n",
       "         8.47531627e-01, -3.14800094e-01,  1.30809446e+00,\n",
       "        -7.11458249e-01,  5.58415577e-01],\n",
       "       [-1.23023152e+00, -6.32111635e-01, -6.34270329e-01,\n",
       "         8.47531627e-01, -3.14800094e-01, -7.64470787e-01,\n",
       "         1.40556386e+00,  5.58415577e-01],\n",
       "       [ 4.74848461e-01,  1.48069986e+00,  1.57661482e+00,\n",
       "         8.47531627e-01, -3.14800094e-01, -7.64470787e-01,\n",
       "        -7.11458249e-01, -1.79078099e+00],\n",
       "       [ 9.28125764e-01,  2.53710561e+00, -6.34270329e-01,\n",
       "        -1.17989697e+00, -3.14800094e-01,  1.30809446e+00,\n",
       "        -7.11458249e-01,  5.58415577e-01],\n",
       "       [ 2.10642401e+00,  1.48069986e+00, -6.34270329e-01,\n",
       "        -1.17989697e+00, -3.14800094e-01,  1.30809446e+00,\n",
       "        -7.11458249e-01,  5.58415577e-01],\n",
       "       [-7.02336083e-01, -6.32111635e-01, -6.34270329e-01,\n",
       "        -1.17989697e+00, -3.14800094e-01, -7.64470787e-01,\n",
       "        -7.11458249e-01, -1.79078099e+00],\n",
       "       [ 1.27560124e+00,  4.24294111e-01, -6.34270329e-01,\n",
       "         8.47531627e-01, -3.14800094e-01,  1.30809446e+00,\n",
       "        -7.11458249e-01,  5.58415577e-01],\n",
       "       [-1.85221663e-02, -6.32111635e-01,  1.57661482e+00,\n",
       "         8.47531627e-01, -3.14800094e-01,  1.30809446e+00,\n",
       "        -7.11458249e-01,  5.58415577e-01],\n",
       "       [ 2.59422612e+00,  1.48069986e+00,  1.57661482e+00,\n",
       "        -1.17989697e+00, -3.14800094e-01, -7.64470787e-01,\n",
       "        -7.11458249e-01, -1.79078099e+00],\n",
       "       [-1.11774747e+00, -6.32111635e-01, -6.34270329e-01,\n",
       "         8.47531627e-01, -3.14800094e-01, -7.64470787e-01,\n",
       "        -7.11458249e-01, -1.79078099e+00],\n",
       "       [ 1.05098916e-01, -6.32111635e-01, -6.34270329e-01,\n",
       "         8.47531627e-01, -3.14800094e-01, -7.64470787e-01,\n",
       "         1.40556386e+00,  5.58415577e-01],\n",
       "       [-1.37055815e+00, -6.32111635e-01, -6.34270329e-01,\n",
       "         8.47531627e-01, -3.14800094e-01, -7.64470787e-01,\n",
       "        -7.11458249e-01, -1.79078099e+00],\n",
       "       [ 1.49647054e-01, -6.32111635e-01, -6.34270329e-01,\n",
       "         8.47531627e-01, -3.14800094e-01, -7.64470787e-01,\n",
       "        -7.11458249e-01, -1.79078099e+00],\n",
       "       [-2.47945076e-01,  4.24294111e-01, -6.34270329e-01,\n",
       "         8.47531627e-01, -3.14800094e-01,  1.30809446e+00,\n",
       "        -7.11458249e-01,  5.58415577e-01],\n",
       "       [-1.39951444e+00, -6.32111635e-01, -6.34270329e-01,\n",
       "        -1.17989697e+00, -3.14800094e-01, -7.64470787e-01,\n",
       "         1.40556386e+00,  5.58415577e-01],\n",
       "       [-6.47764614e-01, -6.32111635e-01, -6.34270329e-01,\n",
       "         8.47531627e-01, -3.14800094e-01,  1.30809446e+00,\n",
       "        -7.11458249e-01,  5.58415577e-01],\n",
       "       [-1.15414366e-01, -6.32111635e-01,  1.57661482e+00,\n",
       "         8.47531627e-01, -3.14800094e-01, -7.64470787e-01,\n",
       "        -7.11458249e-01,  5.58415577e-01],\n",
       "       [ 3.17816275e-01, -6.32111635e-01, -6.34270329e-01,\n",
       "        -1.17989697e+00, -3.14800094e-01,  1.30809446e+00,\n",
       "        -7.11458249e-01,  5.58415577e-01],\n",
       "       [-7.12359414e-01, -6.32111635e-01,  1.57661482e+00,\n",
       "         8.47531627e-01, -3.14800094e-01, -7.64470787e-01,\n",
       "        -7.11458249e-01, -1.79078099e+00],\n",
       "       [-1.08545007e+00, -1.68851738e+00,  1.57661482e+00,\n",
       "         8.47531627e-01, -3.14800094e-01, -7.64470787e-01,\n",
       "        -7.11458249e-01, -1.79078099e+00],\n",
       "       [ 2.30911804e+00, -6.32111635e-01, -6.34270329e-01,\n",
       "        -1.17989697e+00, -3.14800094e-01, -7.64470787e-01,\n",
       "         1.40556386e+00,  5.58415577e-01],\n",
       "       [-7.55793848e-01, -6.32111635e-01, -6.34270329e-01,\n",
       "         8.47531627e-01, -3.14800094e-01, -7.64470787e-01,\n",
       "        -7.11458249e-01, -1.79078099e+00],\n",
       "       [ 3.34521826e-01,  4.24294111e-01, -6.34270329e-01,\n",
       "         8.47531627e-01, -3.14800094e-01, -7.64470787e-01,\n",
       "        -7.11458249e-01, -1.79078099e+00],\n",
       "       [-2.26784711e-01, -6.32111635e-01, -6.34270329e-01,\n",
       "         8.47531627e-01, -3.14800094e-01,  1.30809446e+00,\n",
       "        -7.11458249e-01,  5.58415577e-01],\n",
       "       [-6.39968690e-01, -6.32111635e-01, -6.34270329e-01,\n",
       "         8.47531627e-01, -3.14800094e-01, -7.64470787e-01,\n",
       "         1.40556386e+00,  5.58415577e-01],\n",
       "       [-6.54446835e-01, -6.32111635e-01, -6.34270329e-01,\n",
       "         8.47531627e-01, -3.14800094e-01, -7.64470787e-01,\n",
       "         1.40556386e+00,  5.58415577e-01],\n",
       "       [ 2.03291958e+00,  4.24294111e-01, -6.34270329e-01,\n",
       "         8.47531627e-01, -3.14800094e-01, -7.64470787e-01,\n",
       "         1.40556386e+00,  5.58415577e-01],\n",
       "       [-1.03644712e+00, -6.32111635e-01, -6.34270329e-01,\n",
       "         8.47531627e-01, -3.14800094e-01,  1.30809446e+00,\n",
       "        -7.11458249e-01,  5.58415577e-01],\n",
       "       [ 5.77309178e-01,  1.48069986e+00,  1.57661482e+00,\n",
       "         8.47531627e-01, -3.14800094e-01, -7.64470787e-01,\n",
       "         1.40556386e+00,  5.58415577e-01],\n",
       "       [ 9.72673901e-01,  4.24294111e-01, -6.34270329e-01,\n",
       "         8.47531627e-01, -3.14800094e-01, -7.64470787e-01,\n",
       "         1.40556386e+00,  5.58415577e-01],\n",
       "       [ 9.73029921e-02,  1.48069986e+00,  1.57661482e+00,\n",
       "         8.47531627e-01, -3.14800094e-01,  1.30809446e+00,\n",
       "        -7.11458249e-01,  5.58415577e-01],\n",
       "       [ 1.22918171e-01, -6.32111635e-01,  1.57661482e+00,\n",
       "         8.47531627e-01, -3.14800094e-01,  1.30809446e+00,\n",
       "        -7.11458249e-01,  5.58415577e-01]])"
      ]
     },
     "metadata": {},
     "execution_count": 10
    }
   ],
   "metadata": {}
  },
  {
   "cell_type": "markdown",
   "source": [
    "> **Ex. 11.1.4**: Make a function called `compute_error` to compute the prediction errors given input target `y_`, input features `X_` and input weights `w_`. You should use matrix multiplication.\n",
    ">\n",
    "> *Hint:* You can use the net-input fct. from yesterday.\n",
    "\n"
   ],
   "metadata": {}
  },
  {
   "cell_type": "code",
   "execution_count": 11,
   "source": [
    "# YOUR CODE HERE\n",
    "def net_input(X, W):\n",
    "    z = W[0] + X.dot(W[1:])\n",
    "    return z\n",
    "\n",
    "def compute_error(y_, X_, w_):\n",
    "    return y_ - net_input(X_, w_)"
   ],
   "outputs": [],
   "metadata": {
    "deletable": false,
    "nbgrader": {
     "cell_type": "code",
     "checksum": "b03c6de7d3488e832c4d3eb123587e17",
     "grade": false,
     "grade_id": "cell-a70101715bbbb443",
     "locked": false,
     "schema_version": 3,
     "solution": true,
     "task": false
    }
   }
  },
  {
   "cell_type": "code",
   "execution_count": 12,
   "source": [
    "net_input(X_train, w)"
   ],
   "outputs": [
    {
     "output_type": "error",
     "ename": "NameError",
     "evalue": "name 'w' is not defined",
     "traceback": [
      "\u001b[0;31m---------------------------------------------------------------------------\u001b[0m",
      "\u001b[0;31mNameError\u001b[0m                                 Traceback (most recent call last)",
      "\u001b[0;32m<ipython-input-12-b43a18c5447b>\u001b[0m in \u001b[0;36m<module>\u001b[0;34m\u001b[0m\n\u001b[0;32m----> 1\u001b[0;31m \u001b[0mnet_input\u001b[0m\u001b[0;34m(\u001b[0m\u001b[0mX_train\u001b[0m\u001b[0;34m,\u001b[0m \u001b[0mw\u001b[0m\u001b[0;34m)\u001b[0m\u001b[0;34m\u001b[0m\u001b[0;34m\u001b[0m\u001b[0m\n\u001b[0m",
      "\u001b[0;31mNameError\u001b[0m: name 'w' is not defined"
     ]
    }
   ],
   "metadata": {}
  },
  {
   "cell_type": "markdown",
   "source": [
    "> **Ex. 11.1.5**: Make a function to update the weights given input target `y_`, input features `X_` and input weights `w_` as well as learning rate, $\\eta$, i.e. greek `eta`. You should use matrix multiplication."
   ],
   "metadata": {}
  },
  {
   "cell_type": "code",
   "execution_count": null,
   "source": [
    "# INCLUDED IN ASSIGNMENT 2"
   ],
   "outputs": [],
   "metadata": {}
  },
  {
   "cell_type": "code",
   "execution_count": null,
   "source": [
    "def weigth_update(X, y, w, eta = 0.001):\n",
    "    z = w[0] + X.dot(w[1:])\n",
    "    grad = np.matmul(np.transpose(y - z),np.c_[np.ones(X.shape[0]), X])\n",
    "    #if any(np.abs(grad)) >= 0.0001: \n",
    "    update = eta * np.array(grad)\n",
    "    w = w + update\n",
    "    return w    "
   ],
   "outputs": [],
   "metadata": {}
  },
  {
   "cell_type": "markdown",
   "source": [
    "> **Ex. 11.1.6**: Use the code below to initialize weights `w` at zero given feature set `X`. Notice how we include an extra weight that includes the bias term. Set the learning rate `eta` to 0.001. Make a loop with 50 iterations where you iteratively apply your weight updating function. \n",
    "\n",
    ">```python\n",
    "w = np.zeros(1+X_train.shape[1])\n",
    "```"
   ],
   "metadata": {}
  },
  {
   "cell_type": "code",
   "execution_count": null,
   "source": [
    "# INCLUDED IN ASSIGNMENT 2"
   ],
   "outputs": [],
   "metadata": {}
  },
  {
   "cell_type": "code",
   "execution_count": null,
   "source": [
    "# YOUR CODE HERE\n",
    "w = np.zeros(1+X_train.shape[1])\n",
    "eta = 0.001\n",
    "for _  in range(50):\n",
    "    w = weigth_update(X_train_scaled, y_train, w, eta)\n",
    "w"
   ],
   "outputs": [],
   "metadata": {
    "deletable": false,
    "nbgrader": {
     "cell_type": "code",
     "checksum": "6308f5593a6e65ab57b86368ceef6669",
     "grade": false,
     "grade_id": "cell-74c4170d3d5fe322",
     "locked": false,
     "schema_version": 3,
     "solution": true,
     "task": false
    }
   }
  },
  {
   "cell_type": "markdown",
   "source": [
    "> **Ex. 11.1.7**: Make a function to compute the mean squared error. Alter the loop so it makes 100 iterations and computes the MSE for test and train after each iteration, plot these in one figure. \n",
    "\n",
    "> Hint: You can use the following code to check that your model works:\n",
    ">```python\n",
    "from sklearn.linear_model import LinearRegression\n",
    "reg = LinearRegression()\n",
    "reg.fit(X_train, y_train)\n",
    "assert((w[1:] - reg.coef_).sum() < 0.01)\n",
    "```"
   ],
   "metadata": {}
  },
  {
   "cell_type": "code",
   "execution_count": null,
   "source": [
    "# YOUR CODE HERE\n",
    "def MSE(y,X,w):\n",
    "    return np.mean(compute_error(y,X,w)**2)\n",
    "\n",
    "w = np.zeros(1+X_train.shape[1])\n",
    "eta = 0.001\n",
    "MSE_train = []\n",
    "MSE_test = []\n",
    "\n",
    "for _ in range(100):\n",
    "    w = weigth_update(X_train_scaled, y_train, w, eta)\n",
    "    MSE_train.append(MSE(y_train,X_train_scaled,w))\n",
    "    MSE_test.append(MSE(y_test,X_test_scaled,w))\n",
    "\n",
    "\n",
    "pd.Series(MSE_train).plot()\n",
    "pd.Series(MSE_test).plot()"
   ],
   "outputs": [],
   "metadata": {
    "deletable": false,
    "nbgrader": {
     "cell_type": "code",
     "checksum": "863ac125b673cb711cfc5269a05d1bf5",
     "grade": false,
     "grade_id": "cell-5cabc75ac6152434",
     "locked": false,
     "schema_version": 3,
     "solution": true,
     "task": false
    }
   }
  },
  {
   "cell_type": "code",
   "execution_count": null,
   "source": [
    "from sklearn.linear_model import LinearRegression\n",
    "reg = LinearRegression()\n",
    "reg.fit(X_train_scaled, y_train)\n",
    "assert((w[1:] - reg.coef_).sum() < 0.01)"
   ],
   "outputs": [],
   "metadata": {}
  },
  {
   "cell_type": "markdown",
   "source": [
    "The following bonus exercises are for those who have completed all other exercises until now and have a deep motivation for learning more."
   ],
   "metadata": {}
  },
  {
   "cell_type": "markdown",
   "source": [
    "> **Ex. 11.1.8 (BONUS)**: Implement your linear regression model as a class."
   ],
   "metadata": {}
  },
  {
   "cell_type": "markdown",
   "source": [
    "> A solution is found on p. 320 in Python for Machine Learning."
   ],
   "metadata": {}
  },
  {
   "cell_type": "markdown",
   "source": [
    "# Part 2: Overfitting and Underfitting in Linear Regression \n",
    "\n",
    "## Exploring Overfitting in Linear Regression\n",
    "How does overfitting manifest itself in linear regression? In the video below we simulate what happens as make a better and better taylor approximation, i.e. we estimate a polynomial of higher and higher order. Two issues arise simultaneously - one is related to the number of parameters and the to the size of the parameters. \n",
    "\n",
    "You may find PML pp. 334-339 useful as background reading."
   ],
   "metadata": {}
  },
  {
   "cell_type": "code",
   "execution_count": null,
   "source": [
    "YouTubeVideo('HbeTpK-2oeU', width=640, height=360)"
   ],
   "outputs": [],
   "metadata": {}
  },
  {
   "cell_type": "markdown",
   "source": [
    "## A Cure for Overfitting in Linear Regression\n",
    "\n",
    "How do we fix the two issues of excessively large weights/coefficients and too many spurious solutions? The video below provides a solution by directly incorporating these issues into the optimization problem.\n",
    "\n",
    "You may find PML pp. 73-76, 123-136, 332-334 useful as background reading."
   ],
   "metadata": {}
  },
  {
   "cell_type": "code",
   "execution_count": null,
   "source": [
    "YouTubeVideo('r6a8WFm9jAI', width=640, height=360)"
   ],
   "outputs": [],
   "metadata": {}
  },
  {
   "cell_type": "markdown",
   "source": [
    "Above we tackled overfitting, but what about ***underfitting***? The video below shows how to address underfitting and also zooms in on some important details about regularization.\n",
    "\n",
    "You may find PML pp. 73-76, 123-136, 332-334 useful as background reading."
   ],
   "metadata": {}
  },
  {
   "cell_type": "code",
   "execution_count": null,
   "source": [
    "YouTubeVideo('IWBtYT1KI_Q', width=640, height=360)"
   ],
   "outputs": [],
   "metadata": {}
  },
  {
   "cell_type": "markdown",
   "source": [
    "> **Ex. 11.2.1 (BONUS)**: Is it possible to add a penalty to our linear model above and solve this Lasso model with gradient descent? Is there a simple fix?\n",
    ">\n",
    "> *Hint:* Gradient descent essentially relies on a differentiable loss function (read more [here](https://stats.stackexchange.com/questions/177800/why-proximal-gradient-descent-instead-of-plain-subgradient-methods-for-lasso))"
   ],
   "metadata": {}
  },
  {
   "cell_type": "code",
   "execution_count": null,
   "source": [
    "# YOUR CODE HERE\n",
    "raise NotImplementedError()"
   ],
   "outputs": [],
   "metadata": {
    "deletable": false,
    "nbgrader": {
     "cell_type": "code",
     "checksum": "04b4c075a4bad7561c1e03bf809f7faf",
     "grade": false,
     "grade_id": "cell-6aa146e9c530b2b4",
     "locked": false,
     "schema_version": 3,
     "solution": true,
     "task": false
    }
   }
  },
  {
   "cell_type": "markdown",
   "source": [
    "# Part 3: Modelling Houseprices\n",
    "In this example, we will try to predict houseprices using a lot of variable (or features as they are called in Machine Learning). We are going to work with Kaggle's dataset on house prices, see information [here](https://www.kaggle.com/c/house-prices-advanced-regression-techniques). Kaggle is an organization that hosts competitions in building predictive models."
   ],
   "metadata": {}
  },
  {
   "cell_type": "markdown",
   "source": [
    "> **Ex. 11.3.0:** Load the california housing data with scikit-learn using the code below. Now:\n",
    "> 1. Inspect *cal_house*. How are the data stored?\n",
    "> 2. Create a pandas DataFrame called *X*, using `data`. Name the columns using `feature_names`.\n",
    "> 3. Crate a pandas Series called *y* using `target`.\n",
    "> 4. Make a train test split of equal size."
   ],
   "metadata": {}
  },
  {
   "cell_type": "code",
   "execution_count": null,
   "source": [
    "from sklearn.datasets import fetch_california_housing\n",
    "from sklearn.model_selection import train_test_split\n",
    "\n",
    "cal_house = fetch_california_housing()    \n",
    "\n",
    "# YOUR CODE HERE\n",
    "\n",
    "X = pd.DataFrame(cal_house['data'], columns=cal_house['feature_names'])\n",
    "\n",
    "y = pd.Series(cal_house['target'])\n",
    "\n",
    "from sklearn.model_selection import train_test_split\n",
    "X_train, X_test, y_train, y_test = train_test_split(X, y, test_size=0.5, random_state=2000)"
   ],
   "outputs": [],
   "metadata": {
    "deletable": false,
    "nbgrader": {
     "cell_type": "code",
     "checksum": "08ca919735b17dfbf96058bf07f4eeab",
     "grade": false,
     "grade_id": "cell-5f14e576643ac94c",
     "locked": false,
     "schema_version": 3,
     "solution": true,
     "task": false
    }
   }
  },
  {
   "cell_type": "markdown",
   "source": [
    "\n",
    "\n",
    "> **Ex.11.3.1**: Generate interactions between all features to third degree (make sure you **exclude** the bias/intercept term). How many variables are there? Will OLS fail? After making interactions, rescale the features to have zero mean, unit std. deviation. Should you use the distribution of the training data to rescale the test data?  \n",
    "\n",
    "> *Hint 1*: Try importing `PolynomialFeatures` from `sklearn.preprocessing`\n",
    "\n",
    "> *Hint 2*: If in doubt about which distribution to scale, you may read [this post](https://stats.stackexchange.com/questions/174823/how-to-apply-standardization-normalization-to-train-and-testset-if-prediction-i)."
   ],
   "metadata": {}
  },
  {
   "cell_type": "code",
   "execution_count": null,
   "source": [
    "# INCLUDED IN ASSIGNMENT 2"
   ],
   "outputs": [],
   "metadata": {}
  },
  {
   "cell_type": "code",
   "execution_count": null,
   "source": [
    "# YOUR CODE HERE\n",
    "from sklearn.preprocessing import PolynomialFeatures\n",
    "poly = PolynomialFeatures(3, interaction_only = False, include_bias = False)\n",
    "X_train = poly.fit_transform(X_train)\n",
    "X_test = poly.fit_transform(X_test)\n",
    "\n",
    "from sklearn.preprocessing import StandardScaler\n",
    "X_train_scaled = StandardScaler().fit(X_train).transform(X_train)\n",
    "X_test_scaled = StandardScaler().fit(X_train).transform(X_test)\n"
   ],
   "outputs": [],
   "metadata": {
    "deletable": false,
    "nbgrader": {
     "cell_type": "code",
     "checksum": "ed00cd67cc7a2e431594d4cfe29da085",
     "grade": false,
     "grade_id": "cell-4aacfe9c22772c42",
     "locked": false,
     "schema_version": 3,
     "solution": true,
     "task": false
    }
   }
  },
  {
   "cell_type": "markdown",
   "source": [
    "> **Ex.11.3.2**: Estimate the Lasso model on the rescaled train data set, using values of $\\lambda$ in the range from $10^{-4}$ to $10^4$. For each $\\lambda$  calculate and save the Root Mean Squared Error (RMSE) for the rescaled test and train data. Take a look at the fitted coefficients for different sizes of $\\lambda$. What happens when $\\lambda$ increases? Why?\n",
    "\n",
    "> *Hint 1*: use `logspace` in numpy to create the range.\n",
    "\n",
    "> *Hint 2*: read about the `coef_` feature [here](https://scikit-learn.org/stable/modules/generated/sklearn.linear_model.Lasso.html#sklearn.linear_model.Lasso).\n"
   ],
   "metadata": {}
  },
  {
   "cell_type": "code",
   "execution_count": null,
   "source": [
    "# INCLUDED IN ASSIGNMENT 2"
   ],
   "outputs": [],
   "metadata": {}
  },
  {
   "cell_type": "code",
   "execution_count": 13,
   "source": [
    "# YOUR CODE HERE\n",
    "from sklearn.linear_model import Lasso\n",
    "from sklearn.metrics import mean_squared_error as mse\n",
    "\n",
    "lamb = np.logspace(-4, 4)\n",
    "train_rmse = []\n",
    "test_rmse = []\n",
    "parameters = []\n",
    "\n",
    "for i in lamb:\n",
    "    lasso = Lasso(alpha = i, random_state = 2000)\n",
    "    lasso.fit(X_train_scaled, y_train)\n",
    "\n",
    "    train_rmse += [mse(lasso.predict(X_train_scaled),y_train, squared = False)] # eval. performance on train\n",
    "    test_rmse += [mse(lasso.predict(X_test_scaled),y_test, squared= False)]  # eval. performance on test    \n",
    "\n",
    "    parameters.append(lasso.coef_)\n",
    "    "
   ],
   "outputs": [],
   "metadata": {
    "deletable": false,
    "nbgrader": {
     "cell_type": "code",
     "checksum": "a5cb040dc44fd9a9f591f1193a1311ab",
     "grade": false,
     "grade_id": "cell-d981c29cec05057b",
     "locked": false,
     "schema_version": 3,
     "solution": true,
     "task": false
    }
   }
  },
  {
   "cell_type": "code",
   "execution_count": 14,
   "source": [
    "train_rmse"
   ],
   "outputs": [
    {
     "output_type": "execute_result",
     "data": {
      "text/plain": [
       "[1.099674649205962,\n",
       " 1.099675318450157,\n",
       " 1.099676737487773,\n",
       " 1.099679750288431,\n",
       " 1.0996861323892881,\n",
       " 1.099699665505865,\n",
       " 1.0997233101170276,\n",
       " 1.099744630130884,\n",
       " 1.0998209167826916,\n",
       " 1.099984901347417,\n",
       " 1.1003319892110248,\n",
       " 1.100994628434625,\n",
       " 1.1011327582786767,\n",
       " 1.10138632599878,\n",
       " 1.1019240013421248,\n",
       " 1.102820464384766,\n",
       " 1.1043190670244882,\n",
       " 1.105618158714181,\n",
       " 1.1078931314892524,\n",
       " 1.1127021513979605,\n",
       " 1.1225882132394636,\n",
       " 1.1394036361559206,\n",
       " 1.1742716361654748,\n",
       " 1.2449971217103202,\n",
       " 1.3830838455384828,\n",
       " 1.4988997599771487,\n",
       " 1.4988997599771487,\n",
       " 1.4988997599771487,\n",
       " 1.4988997599771487,\n",
       " 1.4988997599771487,\n",
       " 1.4988997599771487,\n",
       " 1.4988997599771487,\n",
       " 1.4988997599771487,\n",
       " 1.4988997599771487,\n",
       " 1.4988997599771487,\n",
       " 1.4988997599771487,\n",
       " 1.4988997599771487,\n",
       " 1.4988997599771487,\n",
       " 1.4988997599771487,\n",
       " 1.4988997599771487,\n",
       " 1.4988997599771487,\n",
       " 1.4988997599771487,\n",
       " 1.4988997599771487,\n",
       " 1.4988997599771487,\n",
       " 1.4988997599771487,\n",
       " 1.4988997599771487,\n",
       " 1.4988997599771487,\n",
       " 1.4988997599771487,\n",
       " 1.4988997599771487,\n",
       " 1.4988997599771487]"
      ]
     },
     "metadata": {},
     "execution_count": 14
    }
   ],
   "metadata": {}
  },
  {
   "cell_type": "code",
   "execution_count": 15,
   "source": [
    "plt.plot(train_rmse)\n",
    "plt.plot(test_rmse);"
   ],
   "outputs": [
    {
     "output_type": "display_data",
     "data": {
      "text/plain": [
       "<Figure size 432x288 with 1 Axes>"
      ],
      "image/png": "[encoded data removed]"
     },
     "metadata": {
      "needs_background": "light"
     }
    }
   ],
   "metadata": {}
  },
  {
   "cell_type": "code",
   "execution_count": 16,
   "source": [
    "plt.plot(parameters);"
   ],
   "outputs": [
    {
     "output_type": "display_data",
     "data": {
      "text/plain": [
       "<Figure size 432x288 with 1 Axes>"
      ],
      "image/png": "[encoded data removed]"
     },
     "metadata": {
      "needs_background": "light"
     }
    }
   ],
   "metadata": {}
  },
  {
   "cell_type": "markdown",
   "source": [
    "> **Ex.11.3.3**: Make a plot with on the x-axis and the RMSE measures on the y-axis. What happens to RMSE for train and test data as $\\lambda$ increases? The x-axis should be log scaled. Which one are we interested in minimizing? \n",
    "\n",
    "> Bonus: Can you find the lambda that gives the lowest MSE-test score?"
   ],
   "metadata": {}
  },
  {
   "cell_type": "code",
   "execution_count": null,
   "source": [
    "# INCLUDED IN ASSIGNMENT 2"
   ],
   "outputs": [],
   "metadata": {}
  },
  {
   "cell_type": "code",
   "execution_count": 17,
   "source": [
    "# INCLUDED IN ASSIGNMENT 2# YOUR CODE HERE\n",
    "\n",
    "fig = plt.figure()\n",
    "ax = fig.add_subplot(1, 1, 1)\n",
    "ax.set_xscale('log')\n",
    "ax.plot(lamb, train_rmse)\n",
    "ax.plot(lamb, test_rmse)"
   ],
   "outputs": [
    {
     "output_type": "execute_result",
     "data": {
      "text/plain": [
       "[<matplotlib.lines.Line2D at 0x1485ac2e0>]"
      ]
     },
     "metadata": {},
     "execution_count": 17
    },
    {
     "output_type": "display_data",
     "data": {
      "text/plain": [
       "<Figure size 432x288 with 1 Axes>"
      ],
      "image/png": "[encoded data removed]"
     },
     "metadata": {
      "needs_background": "light"
     }
    }
   ],
   "metadata": {
    "deletable": false,
    "nbgrader": {
     "cell_type": "code",
     "checksum": "3469299a7668bf4275e2824d1d454144",
     "grade": false,
     "grade_id": "cell-5a2846b33750acbc",
     "locked": false,
     "schema_version": 3,
     "solution": true,
     "task": false
    }
   }
  },
  {
   "cell_type": "code",
   "execution_count": null,
   "source": [],
   "outputs": [],
   "metadata": {}
  }
 ],
 "metadata": {
  "kernelspec": {
   "name": "python3",
   "display_name": "Python 3.9.2 64-bit"
  },
  "language_info": {
   "name": "python",
   "version": "3.9.6",
   "mimetype": "text/x-python",
   "codemirror_mode": {
    "name": "ipython",
    "version": 3
   },
   "pygments_lexer": "ipython3",
   "nbconvert_exporter": "python",
   "file_extension": ".py"
  },
  "nav_menu": {},
  "toc": {
   "navigate_menu": true,
   "number_sections": false,
   "sideBar": true,
   "threshold": 6,
   "toc_cell": false,
   "toc_section_display": "block",
   "toc_window_display": true
  },
  "varInspector": {
   "cols": {
    "lenName": 16,
    "lenType": 16,
    "lenVar": 40
   },
   "kernels_config": {
    "python": {
     "delete_cmd_postfix": "",
     "delete_cmd_prefix": "del ",
     "library": "var_list.py",
     "varRefreshCmd": "print(var_dic_list())"
    },
    "r": {
     "delete_cmd_postfix": ") ",
     "delete_cmd_prefix": "rm(",
     "library": "var_list.r",
     "varRefreshCmd": "cat(var_dic_list()) "
    }
   },
   "types_to_exclude": [
    "module",
    "function",
    "builtin_function_or_method",
    "instance",
    "_Feature"
   ],
   "window_display": false
  },
  "interpreter": {
   "hash": "aee8b7b246df8f9039afb4144a1f6fd8d2ca17a180786b69acc140d282b71a49"
  }
 },
 "nbformat": 4,
 "nbformat_minor": 4
}