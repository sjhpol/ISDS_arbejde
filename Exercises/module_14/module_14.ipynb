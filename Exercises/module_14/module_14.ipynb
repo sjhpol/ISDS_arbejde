{
 "cells": [
  {
   "cell_type": "markdown",
   "source": [
    "\n",
    "# Introduction to Social Data Science: Text as Data\n",
    "\n",
    "#### Required readings\n",
    "\n",
    "*(PML) Raschka, Sebastian, and Mirjalili, Vahid. Python Machine Learning - Second Edition. Birmingham: Packt Publishing, Limited, 2017. Chapter 8*\n",
    "\n",
    "- PML: following sections from chapter 8:\n",
    "  - Preparing the IMDb movie review data for text processing\n",
    "  - Introducing the bag-of-words model\n",
    "  - Training a logistic regression model for document classification\n",
    " \n",
    "Gentzkow, M., Kelly, B.T. and Taddy, M., 2017. [\"Text as data\"](http://www.nber.org/papers/w23276.pdf) (No. w23276). *National Bureau of Economic Research*.\n",
    "\n",
    "Jurafsky, D., & Martin, J. H. (2019). Vector Semantics and Embeddings. Speech and Language Processing, 3rd ed. draft. https://web.stanford.edu/~jurafsky/slp3/6.pdf\n",
    "\n",
    "\n",
    "\n",
    "\n",
    "#### Inspirational readings\n",
    "\n",
    "Gorrell, Genevieve et al. “Twits, Twats and Twaddle: Trends in Online Abuse towards UK Politicians.” ICWSM (2018). https://gate-socmedia.group.shef.ac.uk/wp-content/uploads/2019/07/Gorrell-Greenwood.pdf\n",
    "\n",
    "Pang, Bo et al. “Thumbs up? Sentiment Classification using Machine Learning Techniques.” EMNLP (2002). https://www.aclweb.org/anthology/W02-1011.pdf \n",
    "\n",
    "\n",
    "\n",
    "\n",
    "\n"
   ],
   "metadata": {
    "colab_type": "text",
    "id": "xom1o-ebeBv3"
   }
  },
  {
   "cell_type": "markdown",
   "source": [
    "Course page: https://isdsucph.github.io/isds2021/"
   ],
   "metadata": {
    "colab_type": "text",
    "id": "MbfuNY1YkeU5"
   }
  },
  {
   "cell_type": "markdown",
   "source": [
    "**Agenda**\n",
    "- Preprocessing text\n",
    "- Feature extraction\n",
    "- Text classification with ML and using lexicons"
   ],
   "metadata": {}
  },
  {
   "cell_type": "code",
   "execution_count": null,
   "source": [
    "from IPython.display import YouTubeVideo\n",
    "YouTubeVideo('XJFB6-qpyTs', width=740, height=460)"
   ],
   "outputs": [],
   "metadata": {}
  },
  {
   "cell_type": "markdown",
   "source": [
    "## Import packages"
   ],
   "metadata": {
    "colab_type": "text",
    "id": "lQX-pwV2IHMw"
   }
  },
  {
   "cell_type": "code",
   "execution_count": null,
   "source": [
    "# from the textbook, for printing a process bar.\n",
    "import pyprind\n",
    "\n",
    "# basic packages\n",
    "import pandas as pd\n",
    "import os\n",
    "import numpy as np\n",
    "import re # python regular expressions\n",
    "import string # for efficient operations with strings\n",
    "import matplotlib.pyplot as plt\n",
    "%matplotlib inline\n",
    "\n",
    "# For creating dictionaries that you can fill in a loop\n",
    "from collections import defaultdict\n",
    "\n",
    "# NLTK: A basic, popular NLP package. Find many examples of applications at https://www.nltk.org/book/\n",
    "# Install guide: https://www.nltk.org/install.html\n",
    "import nltk\n",
    "nltk.download('punkt') # you will probably need to do this\n",
    "nltk.download('wordnet') # and this\n",
    "nltk.download('stopwords') # aand this\n",
    "\n",
    "# for vectorization \n",
    "from sklearn.feature_extraction.text import CountVectorizer\n",
    "from sklearn.feature_extraction.text import TfidfVectorizer\n",
    "from sklearn.feature_extraction.text import TfidfTransformer\n",
    "\n",
    "#Vader Lexicon for sentiment analysis\n",
    "from vaderSentiment.vaderSentiment import SentimentIntensityAnalyzer\n",
    "\n",
    "# similarity/distance measures\n",
    "from scipy.spatial import distance\n",
    "from sklearn.metrics.pairwise import linear_kernel, cosine_similarity\n",
    "\n",
    "# for classification\n",
    "from sklearn.linear_model import LogisticRegression\n",
    "from sklearn.metrics import confusion_matrix\n",
    "from sklearn.model_selection import GridSearchCV\n",
    "from sklearn.pipeline import Pipeline\n",
    "\n",
    "# Lexicons for sentiment analysis\n",
    "from vaderSentiment import vaderSentiment\n",
    "from afinn import Afinn\n",
    "\n",
    "# to display images in notebook\n",
    "from IPython.display import Image"
   ],
   "outputs": [],
   "metadata": {
    "colab": {
     "base_uri": "https://localhost:8080/",
     "height": 119
    },
    "colab_type": "code",
    "id": "ja2q7_ZrIGdl",
    "outputId": "9fca1081-29bf-4a14-889c-3c207c020c35"
   }
  },
  {
   "cell_type": "markdown",
   "source": [
    "## Preparing data (following PML chapter 8)"
   ],
   "metadata": {
    "colab_type": "text",
    "id": "c-cRg6Cv0N1k"
   }
  },
  {
   "cell_type": "markdown",
   "source": [
    "Data source:\n",
    "\n",
    "Andrew L. Maas, Raymond E. Daly, Peter T. Pham, Dan Huang, Andrew Y. Ng, and Christopher Potts. (2011). Learning Word Vectors for Sentiment Analysis. The 49th Annual Meeting of the Association for Computational Linguistics (ACL 2011).\n",
    "\n",
    "Download from http://ai.stanford.edu/~amaas/data/sentiment/\n",
    "\n",
    "\n"
   ],
   "metadata": {
    "colab_type": "text",
    "id": "L_b3SdU51T1-"
   }
  },
  {
   "cell_type": "code",
   "execution_count": null,
   "source": [
    "# download the data\n",
    "!wget http://ai.stanford.edu/~amaas/data/sentiment/aclImdb_v1.tar.gz\n"
   ],
   "outputs": [],
   "metadata": {
    "colab": {
     "base_uri": "https://localhost:8080/",
     "height": 204
    },
    "colab_type": "code",
    "id": "dcjbWCcDd8q7",
    "outputId": "25d555af-5442-42f0-d40d-251392fb94c3"
   }
  },
  {
   "cell_type": "code",
   "execution_count": null,
   "source": [
    "# unpack\n",
    "import tarfile\n",
    "with tarfile.open(\"aclImdb_v1.tar.gz\", \"r:gz\") as tar:\n",
    "    tar.extractall()"
   ],
   "outputs": [],
   "metadata": {
    "colab": {},
    "colab_type": "code",
    "id": "W1eCVNJD2TRK"
   }
  },
  {
   "cell_type": "code",
   "execution_count": null,
   "source": [
    "# load data into a pandas DataFrame\n",
    "\n",
    "basepath = \"aclImdb\"\n",
    "\n",
    "labels = {\"pos\":1, \"neg\":0}\n",
    "pbar = pyprind.ProgBar(50000)\n",
    "df = pd.DataFrame()\n",
    "for s in (\"test\", \"train\"):\n",
    "    for l in (\"pos\", \"neg\"):\n",
    "        path = os.path.join(basepath,s,l)\n",
    "        for file in sorted(os.listdir(path)):\n",
    "            with open(os.path.join(path,file), \"r\", encoding=\"utf-8\") as infile:\n",
    "                txt = infile.read()\n",
    "            # Here I also append s (\"train\" or \"test\") to later use the predefined \n",
    "            # split of the data. They didn't do this in the textbook.\n",
    "            df = df.append([[txt, labels[l], s]], ignore_index=True) \n",
    "            pbar.update()\n",
    "df.columns = [\"review\", \"sentiment\", \"set\"]"
   ],
   "outputs": [],
   "metadata": {
    "colab": {
     "base_uri": "https://localhost:8080/",
     "height": 51
    },
    "colab_type": "code",
    "id": "YAfU_OC0Dl2w",
    "outputId": "bb0d2ce5-9916-4f4e-d5e2-d33d54ae26f7"
   }
  },
  {
   "cell_type": "code",
   "execution_count": null,
   "source": [
    "df # look at the dataframe"
   ],
   "outputs": [],
   "metadata": {
    "colab": {
     "base_uri": "https://localhost:8080/",
     "height": 419
    },
    "colab_type": "code",
    "id": "nk3K4svoD0T5",
    "outputId": "81656afc-605c-4a9f-a312-bec0a43d6c26",
    "scrolled": true
   }
  },
  {
   "cell_type": "code",
   "execution_count": null,
   "source": [
    "# dividing into train and test set again.\n",
    "df_train = df[df.set==\"train\"]\n",
    "df_test = df[df.set==\"test\"]\n",
    "\n",
    "# Permute data such that pos and neg samples are mixed\n",
    "\n",
    "np.random.seed(0)\n",
    "df_train = df.reindex(np.random.permutation(df_train.index))\n",
    "df_test = df.reindex(np.random.permutation(df_test.index))\n",
    "\n",
    "# save dataframes:\n",
    "df_train.to_csv(\"train.csv\", index=False)\n",
    "df_test.to_csv(\"test.csv\", index=False)"
   ],
   "outputs": [],
   "metadata": {
    "colab": {},
    "colab_type": "code",
    "id": "-X7lKhZcHzPD"
   }
  },
  {
   "cell_type": "code",
   "execution_count": null,
   "source": [
    "# load saved dataframes:\n",
    "df_train = pd.read_csv(\"train.csv\")\n",
    "df_test = pd.read_csv(\"test.csv\")\n",
    "df_train.head()"
   ],
   "outputs": [],
   "metadata": {}
  },
  {
   "cell_type": "markdown",
   "source": [
    "# Preprocessing"
   ],
   "metadata": {}
  },
  {
   "cell_type": "code",
   "execution_count": null,
   "source": [
    "YouTubeVideo('mz9uPDsOER8', width=740, height=460)"
   ],
   "outputs": [],
   "metadata": {}
  },
  {
   "cell_type": "markdown",
   "source": [
    "We preprocess text data to standardize the format and to define what a unique \"feature\" is.\n",
    " \n",
    " \n",
    " *What is a feature?* \n",
    " Features are the independent variables. A flower may have features such as color and leaf length, and you can use such features to classify flowers into species. \n",
    " With text data, a feature is commonly a word (or a character in some special cases). If we have a small collection of texts where 2500 *unique* words are used, we commonly say that the *vocabulary* is of size 2500 and the number of features is equal to the size of the vocabulary.\n",
    " \n",
    " For most types of analysis, we have to represent each feature with some numerical values. But, this is where the importance of preprocessing comes in: Should the words \"try\" and \"trying\" have different values or do they convey the same basic information? What about \"USA\" and \"usa\"? And are punctuations important? \n",
    "\n",
    " \n",
    "When working with text as data, the number of features is much larger than when working with most other types as data. Preproccessing is therefore both about standardizing the data and about trying to reduce the number of features to relieve the computation cost.\n",
    "\n",
    "The most standard preprocessing steps are:\n",
    "\n",
    "- Segmentation (dividing a string into reasonable sentences and words)\n",
    "- Lowercasing (standardizing)\n",
    "- Stemming or lemmatizing (standardizing)\n",
    "- Removing so-called stopwords and punctuation and other potentially disrupting text patterns (reducing \"noise\" and feature dimensionality)\n",
    "\n",
    "\n",
    "What features are important, and hence which preprocessing steps should be included/excluded, depends on the task / research question.\n",
    " "
   ],
   "metadata": {
    "colab_type": "text",
    "id": "ZHoRouz1XfWn"
   }
  },
  {
   "cell_type": "markdown",
   "source": [
    "## Tokenization (segmentation)"
   ],
   "metadata": {
    "colab_type": "text",
    "id": "y6ylK3UlFnUV"
   }
  },
  {
   "cell_type": "code",
   "execution_count": null,
   "source": [
    "sentence = df_train.review.values[0]\n",
    "print(sentence)\n",
    " \n",
    "# word tokenization (segmentation)\n",
    "# by blank space (crude)\n",
    "sent = sentence.split(\" \")\n",
    "print(sent)\n",
    "# by using a package such as NLTK.\n",
    "sent = nltk.tokenize.word_tokenize(sentence)\n",
    "print(sent)\n",
    "# nltk.tokenize.TweetTokenizer() is another option, and good for social media text.\n",
    "\n",
    "# Sentence segmentation (sentence splitting)\n",
    "sents = nltk.tokenize.sent_tokenize(sentence)\n",
    "print(sents)\n",
    "\n",
    "# There are many other more complex versions used for specific cases/tasks/models and sometime you may want to costumize the segmentation.\n",
    "# Learn more: https://web.stanford.edu/~jurafsky/slp3/2.pdf"
   ],
   "outputs": [],
   "metadata": {
    "colab": {
     "base_uri": "https://localhost:8080/",
     "height": 105
    },
    "colab_type": "code",
    "id": "6QLQRZD-FzAw",
    "outputId": "cd63fff3-7c26-4f4c-d7d6-ad577cd538dd",
    "scrolled": true
   }
  },
  {
   "cell_type": "markdown",
   "source": [
    "## Stemming or lemmatising"
   ],
   "metadata": {
    "colab_type": "text",
    "id": "fW2XjFinGrDr"
   }
  },
  {
   "cell_type": "markdown",
   "source": [
    "**Stemming**: Stripping the word down to it's central meaning (it's stem) by removing affixes. Stemming usually only removes suffixes (i.e. affixes at the end of the words).\n",
    "\n",
    "E.g.: \n",
    "\n",
    "sings --> sing\n",
    "\n",
    "laughing --> laugh\n",
    "\n",
    "wonderful --> wonder\n",
    "\n",
    "\n",
    "**Lemmatizing**: \"the task of determining that two words have the same root, despite their surface differences. For example, the words sang, sung, and sings are forms of the verb sing. The word sing is the common lemma of these words, and a lemmatizer maps from all of these to sing.\" (Jurafsky, D., & Martin, J. H., 2019. Chap. 2, p. 2)\n"
   ],
   "metadata": {
    "colab_type": "text",
    "id": "_2ZmB0lrO7YW"
   }
  },
  {
   "cell_type": "code",
   "execution_count": null,
   "source": [
    "def stem(word):\n",
    "    # find suffixes and return stems\n",
    "    # (.*?) matches any character in front of a word (non greedy version)\n",
    "    regexp = r'^(.*?)(ing|ly|ed|ious|ies|ive|es|s|ment)?$'\n",
    "    stem, suffix = re.findall(regexp, word)[0]\n",
    "    return stem\n",
    "\n",
    "# Tokenize the text first\n",
    "tokens = nltk.word_tokenize(sentence)\n",
    "print(tokens)\n",
    "\n",
    "print([stem(t) for t in tokens]) # hmm not so good"
   ],
   "outputs": [],
   "metadata": {
    "colab": {
     "base_uri": "https://localhost:8080/",
     "height": 71
    },
    "colab_type": "code",
    "id": "eYVlrxLPG_bo",
    "outputId": "10866ba8-d268-4285-fe1a-784418aa71bc",
    "scrolled": true
   }
  },
  {
   "cell_type": "code",
   "execution_count": null,
   "source": [
    "# using NLTK's Porter stemmer\n",
    "porter = nltk.PorterStemmer()\n",
    "#print(sentence)\n",
    "print([porter.stem(t) for t in tokens])"
   ],
   "outputs": [],
   "metadata": {
    "colab": {
     "base_uri": "https://localhost:8080/",
     "height": 71
    },
    "colab_type": "code",
    "id": "xhdCmmadOP9e",
    "outputId": "4c4fd319-61a3-437a-8c14-64d407642355",
    "scrolled": false
   }
  },
  {
   "cell_type": "code",
   "execution_count": null,
   "source": [
    "# using the WordNet lemmatizer through NLTK\n",
    "# WordNet is a large lexical database of English (think \"lexicon\")\n",
    "wnl = nltk.WordNetLemmatizer()\n",
    "print(tokens)\n",
    "print([wnl.lemmatize(t) for t in tokens])\n",
    "# note the differences.. this lemmatizer knows that the word \"based\" does not have the same meaning as \"base\" here. \n",
    "# Seems more comprehensible. Or lot less has actually changed. (examples: \"goes\" became \"go\" and \"villagers\" became \"villager\")"
   ],
   "outputs": [],
   "metadata": {
    "colab": {
     "base_uri": "https://localhost:8080/",
     "height": 71
    },
    "colab_type": "code",
    "id": "0AFQaZQxOwtn",
    "outputId": "ae113ba5-d288-4afa-da40-68532d904b1d",
    "scrolled": true
   }
  },
  {
   "cell_type": "markdown",
   "source": [
    "## Casing, stopwords, punctuation etc."
   ],
   "metadata": {
    "colab_type": "text",
    "id": "aQKMQ2f0HBk0"
   }
  },
  {
   "cell_type": "code",
   "execution_count": null,
   "source": [
    "# Casing (lower casing is normal procedure such that the word \". That\", after a punctuation, and \"that\" are not treated as two seperate features.\n",
    "sent = sentence.lower()\n",
    "print(sent)\n",
    "# Note: you may want some exceptions, e.g. distinction between US and us can be important for some tasks.\n",
    "\n",
    "\n",
    "# lowercase and then tokenize all texts in the training set – in one list comprehension (takes a minute or two):\n",
    "train_sents = [nltk.word_tokenize(i.lower()) for i in df_train.review.values]\n",
    "print(train_sents[0])\n",
    "# And do the same with the test set\n",
    "test_sents = [nltk.word_tokenize(i.lower()) for i in df_test.review.values]\n"
   ],
   "outputs": [],
   "metadata": {
    "colab": {
     "base_uri": "https://localhost:8080/",
     "height": 71
    },
    "colab_type": "code",
    "id": "uJ70y0WhJakr",
    "outputId": "8be7fe9b-05f3-4f23-b63c-377a671448ad",
    "scrolled": true
   }
  },
  {
   "cell_type": "code",
   "execution_count": null,
   "source": [
    "# Removing certain words (stopwords)\n",
    "stop_words_list = nltk.corpus.stopwords.words(\"english\")\n",
    "print(stop_words_list)\n",
    "print()\n",
    "sent_sw_removed = [i for i in nltk.word_tokenize(sentence.lower()) if i not in stop_words_list]\n",
    "print(sent_sw_removed)\n",
    "#train_sents_sw_removed = [[i for i in sent if i not in stop_words_list] for sent in train_sents] # nested list comprehension; lists in list.\n",
    "#test_sents_sw_removed = [[i for i in sent if i not in stop_words_list] for sent in test_sents]\n",
    "#print(train_sents_sw_removed[0])\n",
    "\n",
    "# unfortunately the tokenization does not totally align with the stopwords – the simple split at whitespace may be more appropiate before stopword removal.\n"
   ],
   "outputs": [],
   "metadata": {
    "colab": {
     "base_uri": "https://localhost:8080/",
     "height": 71
    },
    "colab_type": "code",
    "id": "OebDZy9nqBi0",
    "outputId": "7393e23d-23bb-46f5-9c33-27a2291d7249",
    "scrolled": true
   }
  },
  {
   "cell_type": "code",
   "execution_count": null,
   "source": [
    "# Removing punctuation, two ways:\n",
    "\n",
    "punct_removed_1 = sentence.translate(str.maketrans('', '', string.punctuation))\n",
    "print(punct_removed_1)\n",
    "\n",
    "#def removePunctuation (word):\n",
    "#    return re.sub(\"[^\\w\\s\\-\\']\", \"\", word)\n",
    "\n",
    "punct_removed_2 = re.sub(r'[^\\w\\s]','',sentence) # learn more about regex at https://www.datacamp.com/community/tutorials/python-regular-expression-tutorial or find a cheat sheet.\n",
    "print(punct_removed_2)"
   ],
   "outputs": [],
   "metadata": {
    "colab": {
     "base_uri": "https://localhost:8080/",
     "height": 71
    },
    "colab_type": "code",
    "id": "2caJ50E80Bw-",
    "outputId": "3fe72a41-e266-4f11-f0da-dee2d3c61880",
    "scrolled": true
   }
  },
  {
   "cell_type": "markdown",
   "source": [
    "## Exercise 1: preprocessing\n",
    "Make a preprocessing function that takes a single string and \n",
    " 1) Lowercase the words,\n",
    " 2) split the text into words (tokenize), \n",
    " 3) either stem or lemmatize words.\n",
    "Feel free to add more steps of preprocessing. For example stopword removal or removal of what seems to be HTML elements (such as \"< br/>\") in the text, and removal of punctuation, and handling of emoticons as in the textbook."
   ],
   "metadata": {
    "colab_type": "text",
    "id": "Fqo9iqZnogVQ"
   }
  },
  {
   "cell_type": "code",
   "execution_count": null,
   "source": [
    "def preprocess(text):\n",
    "    stop_words_list = nltk.corpus.stopwords.words(\"english\")\n",
    "    tokens = [i for i in nltk.word_tokenize(text.lower()) if i not in stop_words_list]\n",
    "    wnl = nltk.WordNetLemmatizer()\n",
    "    lemmas = [wnl.lemmatize(t) for t in tokens]\n",
    "    return lemmas # return a list of stems/lemmas\n",
    "    \n",
    "sentence = df_train.review.values[0]\n",
    "print(preprocess(sentence))\n"
   ],
   "outputs": [],
   "metadata": {
    "colab": {
     "base_uri": "https://localhost:8080/",
     "height": 54
    },
    "colab_type": "code",
    "id": "kQ9i04yboff0",
    "outputId": "43959584-3fd1-4155-a56a-e992c3b972d6",
    "scrolled": true
   }
  },
  {
   "cell_type": "code",
   "execution_count": null,
   "source": [
    "# Have a look at the size of the vocabulary of the train data that \n",
    "# has only been lower-cased and tokenized (a few cells above).\n",
    "\n",
    "d = defaultdict(int)\n",
    "for i in train_sents:\n",
    "    for w in i:\n",
    "        d[w]+=1\n",
    "V = d.keys()\n",
    "print(\"Vocabulary size:\",len(V))\n",
    "\n",
    "# inspect the 10 most frequent tokens:\n",
    "{k: v for k, v in sorted(d.items(), key=lambda item: item[1], reverse=True)[:10]}\n"
   ],
   "outputs": [],
   "metadata": {
    "colab": {
     "base_uri": "https://localhost:8080/",
     "height": 85
    },
    "colab_type": "code",
    "id": "PTj5j8xEsDPq",
    "outputId": "78c2fd64-f925-4891-848e-6ac76e0a6aa1"
   }
  },
  {
   "cell_type": "code",
   "execution_count": null,
   "source": [
    "# Now do it yourself with your train data after preprocessing:\n",
    "\n",
    "# YOUR CODE HERE\n",
    "d = defaultdict(int)\n",
    "\n",
    "for i in df_train.review.values:\n",
    "    for w in preprocess(i):\n",
    "        d[w]+=1\n",
    "V = d.keys()\n",
    "print(\"Vocabulary size:\",len(V))\n",
    "\n",
    "\n",
    "# inspect the N most frequent tokens (you decide which N to use):\n",
    "{k: v for k, v in sorted(d.items(), key=lambda item: item[1], reverse=True)[:10]}"
   ],
   "outputs": [],
   "metadata": {}
  },
  {
   "cell_type": "code",
   "execution_count": null,
   "source": [
    "# Optional: Look at the content of V in some way, and comment on what you could do to improve your preproccessing.\n"
   ],
   "outputs": [],
   "metadata": {}
  },
  {
   "cell_type": "markdown",
   "source": [
    "# Feature representation/extraction"
   ],
   "metadata": {}
  },
  {
   "cell_type": "code",
   "execution_count": 36,
   "source": [
    "YouTubeVideo('xvvkx49HuuU', width=740, height=460)"
   ],
   "outputs": [
    {
     "output_type": "execute_result",
     "data": {
      "text/plain": [
       "<IPython.lib.display.YouTubeVideo at 0x145901ac0>"
      ],
      "image/jpeg": "[encoded data removed]",
      "text/html": [
       "\n",
       "        <iframe\n",
       "            width=\"740\"\n",
       "            height=\"460\"\n",
       "            src=\"https://www.youtube.com/embed/xvvkx49HuuU\"\n",
       "            frameborder=\"0\"\n",
       "            allowfullscreen\n",
       "        ></iframe>\n",
       "        "
      ]
     },
     "metadata": {},
     "execution_count": 36
    }
   ],
   "metadata": {}
  },
  {
   "cell_type": "markdown",
   "source": [
    "In this notebook, the goal is to make a sentiment classification model trained on the movie review data. \n",
    "\n",
    "No matter whether we want to make a (supervised) classification model or (unsupervised) clustering of texts and other analyses of text similarities, we will have to transform our features, that are currently strings, into a numerical representation, that will convey the content of a sentence or document in some way. There are many approaches one can take, ranging from very simple representations (such as vectors with binary values for each feature, stating wether the feature/word appears in the given document or not) to very complex representations learned from a seperate prediction model.\n",
    "\n",
    "One standard, simple approach is called Bag of Words:"
   ],
   "metadata": {
    "colab_type": "text",
    "id": "8gLIFQzihZZ-"
   }
  },
  {
   "cell_type": "markdown",
   "source": [
    "## BoW (Bag of Words)\n",
    "\n",
    "- Represent the texts with a **Term-Document frequency matrix** where each text is represented by a vector of word counts. \n",
    "- The creats a matrix with size n_samples x n_features. (n_features = size of vocabulary)"
   ],
   "metadata": {
    "colab_type": "text",
    "id": "CignHk3ALBPb"
   }
  },
  {
   "cell_type": "code",
   "execution_count": null,
   "source": [
    "Image(\"term_document.png\") # (Jurafsky, D., & Martin, J. H., 2019. Chap. 6, p. 7)"
   ],
   "outputs": [],
   "metadata": {}
  },
  {
   "cell_type": "code",
   "execution_count": 37,
   "source": [
    "# CountVectorizer (from sklearn.feature_extraction.text) has a build-in tokenizer and lowercases by default. It also has an option to remove stopwords (look at the documentation).\n",
    "vectorizer = CountVectorizer()\n",
    "\n",
    "# You can override the default tokenization with your own defined function, like so:\n",
    "#vectorizer = CountVectorizer(tokenizer=preprocess)\n",
    "\n",
    "# you can also restrict the number of features to the top N most frequent features:\n",
    "#vectorizer = CountVectorizer(max_features=N)\n",
    "\n",
    "# fit and transform train set\n",
    "X_train_bow = vectorizer.fit_transform(df_train.review.values)\n",
    "\n",
    "# Only tranform test set: never fit your vectorizer on the test set (it is cheating). Out-of-Vocabulary words are handled automatically be sklearn's vectorizer.\n",
    "X_test_bow = vectorizer.transform(df_test.review.values)"
   ],
   "outputs": [],
   "metadata": {
    "colab": {},
    "colab_type": "code",
    "id": "kWjW40BsJa0v"
   }
  },
  {
   "cell_type": "code",
   "execution_count": 38,
   "source": [
    "print(X_train_bow.shape)\n",
    "print(len(vectorizer.vocabulary_))\n",
    "X_train_bow[0]"
   ],
   "outputs": [
    {
     "output_type": "stream",
     "name": "stdout",
     "text": [
      "(25000, 74849)\n",
      "74849\n"
     ]
    },
    {
     "output_type": "execute_result",
     "data": {
      "text/plain": [
       "<1x74849 sparse matrix of type '<class 'numpy.int64'>'\n",
       "\twith 238 stored elements in Compressed Sparse Row format>"
      ]
     },
     "metadata": {},
     "execution_count": 38
    }
   ],
   "metadata": {
    "colab": {
     "base_uri": "https://localhost:8080/",
     "height": 68
    },
    "colab_type": "code",
    "id": "qD-cXAT4s9jB",
    "outputId": "c0b7fd90-93ca-449a-cdf3-51aea72bdf82"
   }
  },
  {
   "cell_type": "markdown",
   "source": [
    "Only 238 nonzero elements in the vector of the first text, i.e. 238 unique features/words out of 74,849."
   ],
   "metadata": {}
  },
  {
   "cell_type": "code",
   "execution_count": 39,
   "source": [
    "X_train_bow[0].toarray() # the vector is very sparse.."
   ],
   "outputs": [
    {
     "output_type": "execute_result",
     "data": {
      "text/plain": [
       "array([[0, 0, 0, ..., 0, 0, 0]])"
      ]
     },
     "metadata": {},
     "execution_count": 39
    }
   ],
   "metadata": {
    "colab": {
     "base_uri": "https://localhost:8080/",
     "height": 34
    },
    "colab_type": "code",
    "id": "R-iHjUpktdr1",
    "outputId": "d0bf4e38-efe9-45af-8c11-6d9e05dcb6d8"
   }
  },
  {
   "cell_type": "code",
   "execution_count": null,
   "source": [
    "print(X_train_bow[0]) # here we take a look at the non-zero elements. \n",
    "#The first element is the word with ID 25459, which appears two times in the text."
   ],
   "outputs": [],
   "metadata": {}
  },
  {
   "cell_type": "code",
   "execution_count": null,
   "source": [
    "print(vectorizer.get_feature_names()[25459]) # this is one way to get the word with the ID 25459"
   ],
   "outputs": [],
   "metadata": {}
  },
  {
   "cell_type": "code",
   "execution_count": null,
   "source": [
    "#df_train.review.values[0] # you can check that the word \"forbidden\" appears two times in the first text"
   ],
   "outputs": [],
   "metadata": {}
  },
  {
   "cell_type": "markdown",
   "source": [
    "### N-grams \n",
    "\n",
    "- Collection of 1 or more tokens.\n",
    "\n",
    "- Bag of words lacks word order and context (semantics). n-grams to the rescue!"
   ],
   "metadata": {
    "colab_type": "text",
    "id": "spPzY15wh381"
   }
  },
  {
   "cell_type": "code",
   "execution_count": 40,
   "source": [
    "example = \"The cat in the hat\""
   ],
   "outputs": [],
   "metadata": {}
  },
  {
   "cell_type": "code",
   "execution_count": 41,
   "source": [
    "def make_ngrams(sentence,n):\n",
    "    tokens = sentence.split(\" \")\n",
    "    ngrams = zip(*[tokens[i:] for i in range(n)])\n",
    "    return [\" \".join(ngram) for ngram in ngrams]\n",
    "\n",
    "print(\"Unigrams:\",make_ngrams(example,1))\n",
    "print(\"Bigrams:\",make_ngrams(example,2))\n",
    "print(\"Trigrams:\",make_ngrams(example,3))\n",
    "print(\"4-grams:\",make_ngrams(example,4))\n",
    "print(\"5-grams:\",make_ngrams(example,5))"
   ],
   "outputs": [
    {
     "output_type": "stream",
     "name": "stdout",
     "text": [
      "Unigrams: ['The', 'cat', 'in', 'the', 'hat']\n",
      "Bigrams: ['The cat', 'cat in', 'in the', 'the hat']\n",
      "Trigrams: ['The cat in', 'cat in the', 'in the hat']\n",
      "4-grams: ['The cat in the', 'cat in the hat']\n",
      "5-grams: ['The cat in the hat']\n"
     ]
    }
   ],
   "metadata": {}
  },
  {
   "cell_type": "markdown",
   "source": [
    "### BoW with ngrams using CountVectorizer"
   ],
   "metadata": {}
  },
  {
   "cell_type": "code",
   "execution_count": 42,
   "source": [
    "# this block can take a few minutes to run\n",
    "\n",
    "# n=1-5\n",
    "vectorizer = CountVectorizer(ngram_range=(1,5))\n",
    "\n",
    "X_train_5gram = vectorizer.fit_transform(df_train.review.values)"
   ],
   "outputs": [],
   "metadata": {
    "colab": {},
    "colab_type": "code",
    "id": "hikCoI04iPn1"
   }
  },
  {
   "cell_type": "code",
   "execution_count": 43,
   "source": [
    "print(X_train_5gram.shape)\n",
    "X_train_5gram[0]"
   ],
   "outputs": [
    {
     "output_type": "stream",
     "name": "stdout",
     "text": [
      "(25000, 15490990)\n"
     ]
    },
    {
     "output_type": "execute_result",
     "data": {
      "text/plain": [
       "<1x15490990 sparse matrix of type '<class 'numpy.int64'>'\n",
       "\twith 1811 stored elements in Compressed Sparse Row format>"
      ]
     },
     "metadata": {},
     "execution_count": 43
    }
   ],
   "metadata": {
    "colab": {
     "base_uri": "https://localhost:8080/",
     "height": 68
    },
    "colab_type": "code",
    "id": "4E5cs2uSxkN-",
    "outputId": "74789b75-a6a6-448a-9056-382c197da22e"
   }
  },
  {
   "cell_type": "markdown",
   "source": [
    "- But now we have problems with high dimensionalty and uniqeness of features!\n",
    "\n",
    "- N-grams are used for many applications but are especially known from **Language Models**: In short, probalistic models that learn to predict the next word in a sequence of words, given the \"history\" (the previous words), simply by storing the probability of this event occuring in the given text, e.g. P(hat|The cat in the). But instead of using ALL previous word (which would be a combination of words unique to the given text), the history is approximated by a few previous words (n-grams), e.g. P(hat|the). This is the n-gram language model.\n",
    "\n"
   ],
   "metadata": {}
  },
  {
   "cell_type": "markdown",
   "source": [
    "## Exercise 2: Inspect most frequent bigrams\n",
    "\n",
    "Inspection of word collocations (bigrams, trigrams etc.) can be a good first step in exploring a new text dataset, or a single document for that matter. Such collocations will be very indicative of what the texts are about.\n",
    "\n",
    "Make a new CountVectorizer that only includes bigrams and with max_features=1000. Fit it on the train set.\n",
    "\n",
    "Then, practise you Googling and find a way to print the most frequent bigrams in the train set. Print the bigrams along with their frequencies in a descending order. What do you see?"
   ],
   "metadata": {}
  },
  {
   "cell_type": "code",
   "execution_count": 46,
   "source": [
    "# YOUR CODE HERE\n",
    "vectorizer2 = CountVectorizer(ngram_range=(2,2), max_features = 1000)\n",
    "\n",
    "X_train_bigram = vectorizer2.fit_transform(df_train.review.values)"
   ],
   "outputs": [],
   "metadata": {}
  },
  {
   "cell_type": "code",
   "execution_count": 57,
   "source": [
    "vocab = vectorizer2.vocabulary_\n",
    "\n",
    "count_values = X_train_bigram.toarray().sum(axis=0)\n",
    "\n",
    "# output n-grams\n",
    "for ng_count, ng_text in sorted([(count_values[i],k) for k,i in vocab.items()], reverse=True):\n",
    "    print(ng_count, ng_text)"
   ],
   "outputs": [
    {
     "output_type": "stream",
     "name": "stdout",
     "text": [
      "50973 br br\n",
      "39166 of the\n",
      "25224 in the\n",
      "15746 this movie\n",
      "13543 the film\n",
      "13353 and the\n",
      "12000 to the\n",
      "11883 to be\n",
      "11877 the movie\n",
      "10925 this film\n",
      "10145 it is\n",
      "9480 this is\n",
      "8988 on the\n",
      "8637 it was\n",
      "8094 one of\n",
      "8005 for the\n",
      "7891 with the\n",
      "7814 br the\n",
      "6980 is the\n",
      "6907 if you\n",
      "6827 at the\n",
      "6164 from the\n",
      "6156 in this\n",
      "5932 as the\n",
      "5524 that the\n",
      "5365 the story\n",
      "5167 to see\n",
      "5144 out of\n",
      "4872 by the\n",
      "4658 movie is\n",
      "4629 the first\n",
      "4448 all the\n",
      "4425 there is\n",
      "4317 have been\n",
      "4249 of this\n",
      "4128 film is\n",
      "4080 is not\n",
      "4017 but it\n",
      "3806 the end\n",
      "3735 that it\n",
      "3724 there are\n",
      "3686 and it\n",
      "3682 the same\n",
      "3537 the most\n",
      "3478 but the\n",
      "3468 the best\n",
      "3286 about the\n",
      "3284 to make\n",
      "3265 the only\n",
      "3222 of his\n",
      "3202 that is\n",
      "3161 he is\n",
      "3130 this one\n",
      "3122 to watch\n",
      "3092 the plot\n",
      "2852 the characters\n",
      "2777 some of\n",
      "2723 was the\n",
      "2677 have to\n",
      "2673 to get\n",
      "2635 you can\n",
      "2625 they are\n",
      "2600 want to\n",
      "2577 is that\n",
      "2557 would have\n",
      "2552 the acting\n",
      "2521 the other\n",
      "2510 at least\n",
      "2485 to do\n",
      "2478 into the\n",
      "2445 the way\n",
      "2415 lot of\n",
      "2381 as well\n",
      "2369 would be\n",
      "2354 is one\n",
      "2325 kind of\n",
      "2310 br this\n",
      "2308 this was\n",
      "2293 that he\n",
      "2266 to have\n",
      "2232 of course\n",
      "2223 the whole\n",
      "2222 trying to\n",
      "2201 movie was\n",
      "2181 like the\n",
      "2181 he was\n",
      "2179 that this\n",
      "2129 is very\n",
      "2124 and his\n",
      "2109 the original\n",
      "2108 most of\n",
      "2104 the worst\n",
      "2091 in his\n",
      "2035 the time\n",
      "2034 which is\n",
      "2022 at all\n",
      "2021 is an\n",
      "2021 and that\n",
      "1986 more than\n",
      "1966 of it\n",
      "1964 could have\n",
      "1959 to say\n",
      "1945 you re\n",
      "1925 going to\n",
      "1896 who is\n",
      "1833 all of\n",
      "1824 but this\n",
      "1808 of them\n",
      "1803 of all\n",
      "1789 and then\n",
      "1768 when the\n",
      "1761 is so\n",
      "1753 the world\n",
      "1751 movie and\n",
      "1736 over the\n",
      "1730 it has\n",
      "1729 seems to\n",
      "1725 it not\n",
      "1723 that was\n",
      "1703 the director\n",
      "1696 as it\n",
      "1694 the fact\n",
      "1693 br it\n",
      "1689 part of\n",
      "1681 it the\n",
      "1678 she is\n",
      "1672 in my\n",
      "1658 like this\n",
      "1651 the rest\n",
      "1650 is just\n",
      "1620 the main\n",
      "1610 you have\n",
      "1607 with his\n",
      "1604 that they\n",
      "1582 can be\n",
      "1580 fact that\n",
      "1573 it just\n",
      "1573 for this\n",
      "1565 film and\n",
      "1553 the two\n",
      "1546 they were\n",
      "1544 because it\n",
      "1538 and he\n",
      "1530 you are\n",
      "1528 the actors\n",
      "1527 has been\n",
      "1500 through the\n",
      "1497 the show\n",
      "1496 the script\n",
      "1493 it to\n",
      "1483 there was\n",
      "1480 the last\n",
      "1470 it and\n",
      "1454 in fact\n",
      "1450 be the\n",
      "1447 it would\n",
      "1440 so much\n",
      "1437 and is\n",
      "1427 of her\n",
      "1420 film was\n",
      "1410 of my\n",
      "1408 see the\n",
      "1389 movie that\n",
      "1388 story is\n",
      "1388 he has\n",
      "1385 to find\n",
      "1381 will be\n",
      "1371 about this\n",
      "1365 not to\n",
      "1364 it all\n",
      "1361 ve seen\n",
      "1360 rest of\n",
      "1357 supposed to\n",
      "1350 the cast\n",
      "1348 film that\n",
      "1337 should be\n",
      "1335 sort of\n",
      "1333 does not\n",
      "1325 when he\n",
      "1324 watch it\n",
      "1317 is in\n",
      "1311 with this\n",
      "1310 that you\n",
      "1308 the book\n",
      "1308 ever seen\n",
      "1303 to go\n",
      "1303 is no\n",
      "1301 you ll\n",
      "1301 because of\n",
      "1287 you will\n",
      "1279 the audience\n",
      "1275 not the\n",
      "1272 and this\n",
      "1271 hard to\n",
      "1270 to this\n",
      "1261 they re\n",
      "1260 and you\n",
      "1258 see it\n",
      "1252 up to\n",
      "1241 in it\n",
      "1234 was not\n",
      "1232 end of\n",
      "1229 than the\n",
      "1229 for me\n",
      "1227 has to\n",
      "1225 such as\n",
      "1224 watch this\n",
      "1223 is also\n",
      "1223 and not\n",
      "1220 to his\n",
      "1201 able to\n",
      "1200 had to\n",
      "1198 each other\n",
      "1195 acting is\n",
      "1194 very good\n",
      "1193 see this\n",
      "1190 and they\n",
      "1188 to me\n",
      "1187 not only\n",
      "1185 where the\n",
      "1180 as an\n",
      "1176 have seen\n",
      "1175 when it\n",
      "1173 say that\n",
      "1168 after the\n",
      "1166 do not\n",
      "1162 should have\n",
      "1158 on this\n",
      "1152 if it\n",
      "1150 the ending\n",
      "1150 back to\n",
      "1149 well as\n",
      "1149 it br\n",
      "1148 of their\n",
      "1146 what the\n",
      "1143 did not\n",
      "1142 in which\n",
      "1139 are the\n",
      "1135 about it\n",
      "1133 up with\n",
      "1129 of those\n",
      "1128 and there\n",
      "1127 seem to\n",
      "1121 enough to\n",
      "1116 in an\n",
      "1113 special effects\n",
      "1109 you want\n",
      "1107 to take\n",
      "1105 the one\n",
      "1105 better than\n",
      "1104 played by\n",
      "1103 so many\n",
      "1100 with her\n",
      "1097 this show\n",
      "1097 in their\n",
      "1097 but that\n",
      "1092 the entire\n",
      "1092 during the\n",
      "1086 in all\n",
      "1069 movie it\n",
      "1068 that she\n",
      "1067 based on\n",
      "1065 of an\n",
      "1064 and even\n",
      "1054 if the\n",
      "1053 and in\n",
      "1051 tries to\n",
      "1050 was so\n",
      "1047 as he\n",
      "1044 story of\n",
      "1042 are not\n",
      "1041 too much\n",
      "1041 even though\n",
      "1038 but he\n",
      "1038 and was\n",
      "1034 what is\n",
      "1033 is about\n",
      "1032 but not\n",
      "1030 movie the\n",
      "1026 piece of\n",
      "1026 it in\n",
      "1023 she was\n",
      "1020 film the\n",
      "1018 people who\n",
      "1017 instead of\n",
      "1015 br there\n",
      "1013 don know\n",
      "1010 the music\n",
      "1006 br in\n",
      "997 out the\n",
      "996 even the\n",
      "993 who has\n",
      "993 try to\n",
      "990 is good\n",
      "981 movie br\n",
      "978 is great\n",
      "973 his own\n",
      "970 br if\n",
      "968 the beginning\n",
      "966 watching this\n",
      "964 of these\n",
      "962 sense of\n",
      "960 as if\n",
      "959 fan of\n",
      "957 the viewer\n",
      "956 the very\n",
      "956 movie but\n",
      "949 when they\n",
      "946 that are\n",
      "945 was very\n",
      "942 think that\n",
      "941 get the\n",
      "939 wanted to\n",
      "938 time and\n",
      "938 have the\n",
      "937 characters are\n",
      "936 we are\n",
      "932 the real\n",
      "930 saw this\n",
      "929 in her\n",
      "927 like it\n",
      "926 because the\n",
      "920 or the\n",
      "918 off the\n",
      "914 up in\n",
      "914 out to\n",
      "912 the second\n",
      "909 was in\n",
      "909 the scene\n",
      "909 of 10\n",
      "909 between the\n",
      "905 the character\n",
      "904 we have\n",
      "903 much of\n",
      "903 in love\n",
      "903 for his\n",
      "902 could be\n",
      "902 and her\n",
      "896 for it\n",
      "894 film it\n",
      "893 the top\n",
      "893 film br\n",
      "893 couple of\n",
      "891 when you\n",
      "891 was just\n",
      "891 they have\n",
      "890 up the\n",
      "887 with an\n",
      "885 but they\n",
      "882 lack of\n",
      "880 make it\n",
      "880 low budget\n",
      "879 you know\n",
      "879 way to\n",
      "878 there were\n",
      "878 look at\n",
      "877 is really\n",
      "877 is it\n",
      "877 all in\n",
      "876 year old\n",
      "875 no one\n",
      "873 of what\n",
      "872 the people\n",
      "871 as they\n",
      "868 it seems\n",
      "864 br but\n",
      "863 at times\n",
      "861 is to\n",
      "858 the series\n",
      "857 plot is\n",
      "857 if they\n",
      "855 to give\n",
      "855 not even\n",
      "854 that there\n",
      "853 of that\n",
      "852 it doesn\n",
      "847 on his\n",
      "845 much more\n",
      "845 have ever\n",
      "843 in that\n",
      "838 version of\n",
      "838 it for\n",
      "837 those who\n",
      "833 need to\n",
      "832 wants to\n",
      "832 and she\n",
      "831 the next\n",
      "829 to it\n",
      "828 you don\n",
      "823 it really\n",
      "822 up and\n",
      "821 his wife\n",
      "819 the screen\n",
      "818 with some\n",
      "818 of its\n",
      "817 what it\n",
      "817 but in\n",
      "813 any of\n",
      "812 to her\n",
      "812 for her\n",
      "811 very well\n",
      "811 it as\n",
      "808 like to\n",
      "806 and some\n",
      "803 it but\n",
      "799 full of\n",
      "799 due to\n",
      "797 movie with\n",
      "794 the camera\n",
      "794 may be\n",
      "793 rather than\n",
      "793 film but\n",
      "789 who are\n",
      "788 the man\n",
      "787 br and\n",
      "786 movie to\n",
      "783 the point\n",
      "781 throughout the\n",
      "781 looks like\n",
      "781 even if\n",
      "780 and all\n",
      "779 think it\n",
      "776 watch the\n",
      "775 and have\n",
      "772 is still\n",
      "771 looking for\n",
      "769 away from\n",
      "768 of film\n",
      "767 know what\n",
      "765 the title\n",
      "764 of time\n",
      "763 go to\n",
      "760 the great\n",
      "759 the dvd\n",
      "754 that would\n",
      "754 many of\n",
      "754 and so\n",
      "753 to keep\n",
      "752 him to\n",
      "747 the final\n",
      "747 it also\n",
      "746 for some\n",
      "745 it it\n",
      "745 give it\n",
      "744 to show\n",
      "743 the action\n",
      "743 new york\n",
      "743 my favorite\n",
      "743 lots of\n",
      "741 it on\n",
      "741 and what\n",
      "739 story and\n",
      "737 so bad\n",
      "737 much better\n",
      "736 the old\n",
      "736 has the\n",
      "731 while the\n",
      "728 what was\n",
      "727 along with\n",
      "726 to know\n",
      "725 with it\n",
      "725 one is\n",
      "725 br as\n",
      "723 you ve\n",
      "723 the big\n",
      "721 first time\n",
      "719 it does\n",
      "718 in some\n",
      "718 but there\n",
      "715 when she\n",
      "715 had the\n",
      "715 bit of\n",
      "714 he can\n",
      "712 not be\n",
      "711 ve ever\n",
      "710 it had\n",
      "705 we see\n",
      "705 man who\n",
      "704 had been\n",
      "702 all that\n",
      "698 that has\n",
      "695 film to\n",
      "694 waste of\n",
      "691 that we\n",
      "690 movie has\n",
      "690 make the\n",
      "689 was made\n",
      "687 none of\n",
      "687 in one\n",
      "686 who was\n",
      "686 the scenes\n",
      "686 get to\n",
      "686 bunch of\n",
      "684 are so\n",
      "676 is quite\n",
      "673 the new\n",
      "673 film has\n",
      "672 must have\n",
      "672 how to\n",
      "672 as much\n",
      "671 my opinion\n",
      "670 to kill\n",
      "667 do with\n",
      "666 might be\n",
      "666 it wasn\n",
      "666 film with\n",
      "666 but if\n",
      "665 the right\n",
      "665 seen in\n",
      "664 how the\n",
      "662 the good\n",
      "662 me to\n",
      "661 their own\n",
      "661 the bad\n",
      "661 made me\n",
      "661 it could\n",
      "661 is more\n",
      "661 can see\n",
      "660 time to\n",
      "660 of people\n",
      "659 you get\n",
      "659 to come\n",
      "659 in its\n",
      "658 you see\n",
      "658 are all\n",
      "655 in order\n",
      "655 characters and\n",
      "654 film in\n",
      "652 sci fi\n",
      "650 point of\n",
      "650 other than\n",
      "649 more of\n",
      "649 and more\n",
      "648 watching it\n",
      "648 read the\n",
      "648 it so\n",
      "648 around the\n",
      "647 him and\n",
      "646 what they\n",
      "644 the role\n",
      "644 is pretty\n",
      "643 and to\n",
      "642 used to\n",
      "640 going on\n",
      "639 movie in\n",
      "636 it will\n",
      "634 good and\n",
      "634 for all\n",
      "633 the idea\n",
      "632 life and\n",
      "631 years ago\n",
      "631 all time\n",
      "629 which was\n",
      "629 if he\n",
      "628 was one\n",
      "627 character is\n",
      "627 and as\n",
      "626 she has\n",
      "626 just as\n",
      "624 with no\n",
      "624 know that\n",
      "623 don think\n",
      "622 movie for\n",
      "621 believe that\n",
      "621 and we\n",
      "620 minutes of\n",
      "619 was an\n",
      "617 for example\n",
      "617 before the\n",
      "616 watching the\n",
      "616 think the\n",
      "616 real life\n",
      "616 good movie\n",
      "616 even more\n",
      "615 the house\n",
      "615 but then\n",
      "613 recommend this\n",
      "613 is what\n",
      "612 use of\n",
      "612 seen it\n",
      "612 and how\n",
      "610 seen the\n",
      "610 of movie\n",
      "609 think of\n",
      "608 and if\n",
      "607 you like\n",
      "606 and has\n",
      "605 the young\n",
      "604 and very\n",
      "601 on and\n",
      "600 what he\n",
      "600 he had\n",
      "599 order to\n",
      "598 they had\n",
      "595 on dvd\n",
      "595 and one\n",
      "594 that have\n",
      "593 because he\n",
      "592 love with\n",
      "592 as to\n",
      "590 the middle\n",
      "589 anyone who\n",
      "588 to play\n",
      "588 acting was\n",
      "587 might have\n",
      "586 like that\n",
      "586 back in\n",
      "584 good as\n",
      "584 are some\n",
      "583 the opening\n",
      "583 nothing to\n",
      "582 group of\n",
      "581 on screen\n",
      "581 and their\n",
      "580 in any\n",
      "579 he does\n",
      "579 also the\n",
      "578 watched it\n",
      "578 this time\n",
      "577 pretty much\n",
      "577 look like\n",
      "577 can say\n",
      "576 is this\n",
      "576 has no\n",
      "574 to tell\n",
      "573 not have\n",
      "572 for those\n",
      "571 his life\n",
      "571 and just\n",
      "570 may have\n",
      "570 an excellent\n",
      "569 then the\n",
      "568 the more\n",
      "567 as good\n",
      "566 same time\n",
      "563 to think\n",
      "563 for an\n",
      "562 from this\n",
      "561 to look\n",
      "561 or even\n",
      "560 where he\n",
      "560 thought it\n",
      "560 br what\n",
      "560 at first\n",
      "559 must be\n",
      "558 out there\n",
      "557 out and\n",
      "557 made it\n",
      "557 have no\n",
      "557 br so\n",
      "556 the family\n",
      "555 for that\n",
      "554 main character\n",
      "554 made the\n",
      "553 to believe\n",
      "552 or not\n",
      "551 type of\n",
      "550 seemed to\n",
      "550 pretty good\n",
      "550 is as\n",
      "550 ever made\n",
      "549 and for\n",
      "548 high school\n",
      "548 down to\n",
      "548 all this\n",
      "547 time the\n",
      "547 him in\n",
      "547 acting and\n",
      "546 and an\n",
      "545 it out\n",
      "544 manages to\n",
      "544 come to\n",
      "543 plenty of\n",
      "542 attempt to\n",
      "541 you think\n",
      "541 was good\n",
      "541 so that\n",
      "541 because they\n",
      "540 that will\n",
      "540 and when\n",
      "539 and of\n",
      "538 tried to\n",
      "538 is going\n",
      "537 was that\n",
      "536 the lead\n",
      "535 thing that\n",
      "535 the guy\n",
      "533 the killer\n",
      "533 film as\n",
      "529 we re\n",
      "529 the girl\n",
      "529 not that\n",
      "529 decided to\n",
      "528 directed by\n",
      "526 scene where\n",
      "526 comes to\n",
      "525 watched this\n",
      "525 up for\n",
      "525 the greatest\n",
      "525 number of\n",
      "524 to work\n",
      "524 for you\n",
      "524 example of\n",
      "523 they can\n",
      "522 not as\n",
      "520 so it\n",
      "520 as one\n",
      "518 was really\n",
      "518 only one\n",
      "517 the past\n",
      "517 out in\n",
      "517 idea of\n",
      "515 that can\n",
      "515 is all\n",
      "514 saw it\n",
      "514 not just\n",
      "513 with all\n",
      "512 for him\n",
      "511 the dialogue\n",
      "508 too many\n",
      "508 though the\n",
      "508 though it\n",
      "508 close to\n",
      "507 was great\n",
      "506 well done\n",
      "506 this and\n",
      "506 scene in\n",
      "506 funny and\n",
      "505 makes it\n",
      "504 only thing\n",
      "502 his character\n",
      "501 your time\n",
      "501 after all\n",
      "500 is nothing\n",
      "500 down the\n",
      "499 on it\n",
      "498 we get\n",
      "498 ve been\n",
      "498 the day\n",
      "498 movies that\n",
      "498 it with\n",
      "497 made for\n",
      "497 find out\n",
      "496 set in\n",
      "496 on to\n",
      "496 is actually\n",
      "495 than this\n",
      "495 from his\n",
      "495 as for\n",
      "494 them to\n",
      "494 so the\n",
      "494 film for\n",
      "493 her and\n",
      "491 saw the\n",
      "491 but she\n",
      "490 made in\n",
      "490 it again\n",
      "488 what you\n",
      "488 was also\n",
      "488 it still\n",
      "487 until the\n",
      "486 it that\n",
      "485 the special\n",
      "485 the early\n",
      "485 good but\n",
      "483 was going\n",
      "482 give this\n",
      "482 but you\n",
      "481 that one\n",
      "481 that in\n",
      "480 on her\n",
      "480 of life\n",
      "479 to help\n",
      "479 of your\n",
      "477 very much\n",
      "477 but also\n",
      "476 to my\n",
      "476 that makes\n",
      "476 place in\n",
      "475 people in\n",
      "475 bad it\n",
      "475 an old\n",
      "473 to an\n",
      "473 the kind\n",
      "473 over and\n",
      "473 of any\n",
      "473 as she\n",
      "472 if this\n",
      "470 makes the\n",
      "470 be in\n",
      "469 to put\n",
      "469 since the\n",
      "469 her to\n",
      "469 has some\n",
      "469 as this\n",
      "468 you could\n",
      "468 of us\n",
      "468 much as\n",
      "468 movies and\n",
      "467 with their\n",
      "467 is probably\n",
      "466 movie about\n",
      "466 it up\n",
      "466 far as\n",
      "465 only to\n",
      "465 make up\n",
      "465 it should\n",
      "464 and with\n",
      "463 there no\n",
      "463 of which\n",
      "463 movie as\n",
      "463 just to\n",
      "463 is well\n",
      "460 the case\n",
      "460 that could\n",
      "460 scenes are\n",
      "459 horror movie\n",
      "459 can get\n",
      "458 the part\n",
      "458 go on\n",
      "458 as far\n",
      "458 and no\n",
      "457 who have\n",
      "457 could not\n",
      "455 the problem\n",
      "455 one thing\n",
      "455 and at\n",
      "454 of being\n",
      "454 not in\n",
      "454 and its\n",
      "453 under the\n",
      "453 seen this\n",
      "453 is only\n",
      "453 goes to\n",
      "453 films that\n",
      "453 as you\n",
      "453 and over\n",
      "452 br my\n",
      "452 an hour\n",
      "451 of how\n",
      "451 can only\n",
      "451 an interesting\n",
      "450 years later\n",
      "450 with him\n",
      "450 here is\n",
      "449 the late\n",
      "448 interested in\n",
      "448 and don\n",
      "446 this story\n",
      "446 but still\n",
      "445 see how\n",
      "445 it very\n",
      "445 here and\n",
      "444 to save\n",
      "444 came out\n",
      "443 to their\n",
      "443 plot and\n",
      "443 and can\n",
      "442 to mention\n",
      "442 that all\n",
      "442 however the\n",
      "442 got to\n",
      "441 it like\n",
      "440 of one\n",
      "440 horror film\n",
      "440 for their\n",
      "439 you would\n",
      "439 series of\n",
      "439 make this\n",
      "439 is on\n",
      "439 compared to\n",
      "439 but when\n",
      "439 and also\n",
      "438 one that\n",
      "438 long time\n",
      "438 it makes\n",
      "438 his best\n",
      "438 first of\n",
      "438 br all\n",
      "438 br 10\n",
      "437 when was\n",
      "437 they do\n",
      "437 it isn\n",
      "437 if not\n",
      "436 may not\n",
      "436 amount of\n",
      "435 were the\n",
      "435 the production\n",
      "435 more like\n",
      "435 by his\n",
      "434 you to\n",
      "434 must see\n",
      "434 make you\n",
      "434 do it\n",
      "434 are in\n",
      "433 too bad\n",
      "433 not so\n",
      "433 it can\n",
      "433 guy who\n",
      "432 think this\n",
      "432 are very\n",
      "432 are just\n",
      "430 up on\n",
      "430 something that\n",
      "430 meant to\n",
      "430 it comes\n",
      "429 way of\n",
      "428 the future\n",
      "428 much to\n",
      "427 way the\n",
      "427 role of\n",
      "426 the police\n",
      "426 many people\n",
      "425 behind the\n",
      "424 to him\n",
      "424 the three\n",
      "424 out for\n",
      "424 and most\n",
      "422 on tv\n",
      "421 we can\n",
      "421 then you\n",
      "421 me the\n",
      "421 is too\n",
      "421 and on\n",
      "420 would not\n",
      "419 world of\n",
      "419 probably the\n",
      "419 know the\n",
      "418 they don\n",
      "418 plays the\n",
      "418 but what\n",
      "417 time it\n",
      "417 on their\n",
      "417 movies like\n",
      "417 just like\n",
      "417 it an\n",
      "416 my life\n",
      "416 in and\n",
      "416 don get\n",
      "416 but as\n",
      "415 who can\n",
      "415 get it\n",
      "415 find it\n",
      "414 except for\n",
      "414 chance to\n",
      "414 any other\n",
      "413 they could\n",
      "413 love the\n",
      "411 that his\n",
      "411 once again\n",
      "411 it may\n",
      "411 as his\n",
      "410 to understand\n",
      "410 it at\n",
      "410 despite the\n",
      "409 and are\n",
      "408 you might\n",
      "408 will not\n",
      "408 how much\n",
      "408 half of\n",
      "408 ends up\n",
      "407 worth watching\n",
      "407 thing about\n",
      "407 than that\n",
      "407 one and\n",
      "407 movie you\n",
      "407 just the\n",
      "407 fans of\n",
      "407 at this\n",
      "406 out that\n",
      "406 is definitely\n",
      "406 but is\n",
      "406 br one\n",
      "406 again and\n",
      "405 to life\n",
      "405 the dead\n",
      "403 decides to\n",
      "402 find the\n",
      "402 bad movie\n",
      "401 which the\n",
      "401 was no\n",
      "401 it didn\n",
      "401 and had\n",
      "400 something to\n",
      "400 side of\n",
      "400 only the\n",
      "400 but for\n",
      "399 that were\n",
      "399 script is\n",
      "399 let me\n",
      "399 for one\n",
      "398 the movies\n",
      "398 is supposed\n",
      "398 found it\n",
      "398 characters in\n",
      "397 his father\n",
      "397 films and\n",
      "397 film making\n",
      "397 black and\n",
      "396 of some\n"
     ]
    }
   ],
   "metadata": {}
  },
  {
   "cell_type": "markdown",
   "source": [
    "## Term Frequency–Inverse Document Frequency (TF-IDF)\n",
    "\n",
    "The tf-idf value of term t in document d is:\n",
    "\n",
    "TF-IDF(t,d) = tf(t,d) x idf(t)\n",
    "\n",
    "where,\n",
    "\n",
    "tf(t,d) = count of term t in document d\n",
    "\n",
    "N = total number of documents\n",
    "\n",
    "df(t) = number of documents that term t occurs in\n",
    "\n",
    "idf(t) = N/df(t)\n",
    "\n",
    "A \"term\" is a token in our case."
   ],
   "metadata": {
    "colab_type": "text",
    "id": "n5oAIE_suXQb"
   }
  },
  {
   "cell_type": "code",
   "execution_count": null,
   "source": [
    "Image(\"tf_idf.png\") # (Jurafsky, D., & Martin, J. H., 2019. Chap. 6, p. 14)"
   ],
   "outputs": [],
   "metadata": {}
  },
  {
   "cell_type": "code",
   "execution_count": 58,
   "source": [
    "tfidf = TfidfVectorizer()\n",
    "X_train_tfidf = tfidf.fit_transform(df_train.review.values)"
   ],
   "outputs": [],
   "metadata": {
    "colab": {},
    "colab_type": "code",
    "id": "0kpyX2wKuWxY"
   }
  },
  {
   "cell_type": "markdown",
   "source": [
    "### Document similarity with tf-idf vectors"
   ],
   "metadata": {}
  },
  {
   "cell_type": "code",
   "execution_count": 59,
   "source": [
    "X_train_tfidf[0].shape"
   ],
   "outputs": [
    {
     "output_type": "execute_result",
     "data": {
      "text/plain": [
       "(1, 74849)"
      ]
     },
     "metadata": {},
     "execution_count": 59
    }
   ],
   "metadata": {}
  },
  {
   "cell_type": "code",
   "execution_count": 60,
   "source": [
    "# https://scikit-learn.org/stable/modules/metrics.html#cosine-similarity\n",
    "cosine_similarities = cosine_similarity(X_train_tfidf[0], X_train_tfidf).flatten()\n",
    "\n",
    "indices = cosine_similarities.argsort()[::-1] # in descending order \n",
    "print(\"most similar:\",indices[:10])\n",
    "print(\"least similar\", indices[-9:])"
   ],
   "outputs": [
    {
     "output_type": "stream",
     "name": "stdout",
     "text": [
      "most similar: [    0 23558 23470 17790  4719 24385 20550  6001  6096 20886]\n",
      "least similar [14867 11975 17497  5623  9340 14494 18802 16480 23603]\n"
     ]
    }
   ],
   "metadata": {}
  },
  {
   "cell_type": "code",
   "execution_count": 61,
   "source": [
    "print(df_train.review.values[0])\n",
    "print()\n",
    "print(\"most similar: \", df_train.review.values[23558])\n",
    "print()\n",
    "print(\"least similar: \", df_train.review.values[23603])"
   ],
   "outputs": [
    {
     "output_type": "stream",
     "name": "stdout",
     "text": [
      "Forbidden Siren is based upon the Siren 2 Playstation 2 (so many 2s) game. Like most video game turned movies, I would say the majority don't translate into a different medium really well. And that goes for this one too, painfully.<br /><br />There's a pretty long prologue which explains and sets the premise for the story, and the mysterious island on which a writer (Leo Morimoto) and his children, daughter Yuki (Yui Ichikawa) and son Hideo (Jun Nishiyama) come to move into. The villagers don't look all too friendly, and soon enough, sound advice is given about the siren on the island, to stay indoors once the siren starts wailing.<br /><br />Naturally and slowly, things start to go bump, and our siblings go on a mission beating around the bush to discover exactly what is happening on this unfriendly island with its strange inhabitants. But in truth, you will not bother with what's going on, as folklore and fairy tales get thrown in to convolute the plot even more. What was really pushing it into the realm of bad comedy are its unwittingly ill-placed-out-of-the-norm moments which just drew pitiful giggles at its sheer stupidity, until it's explained much later. It's one thing trying to come up and present something smart, but another thing doing it convincingly and with loopholes covered.<br /><br />Despite it clocking in under 90 minutes - I think it's a horror movie phenomenon to have that as a runtime benchmark - it gives that almost two hour feel with its slow buildup to tell what it wants to. Things begin to pick up toward the last 20 minutes, but it's a classic case of too little too late.<br /><br />What saves the movie is how it changes tack and its revelation at the end. Again this is a common device used to try and elevate a seemingly simple horror movie into something a little bit extra in the hope of wowing an audience. It turned out rather satisfactorily, but leaves a bad aftertaste as you'll feel cheated somewhat. There are two ways a twist will make you feel - it either elevates the movie to a memorable level, or provides you with that hokey feeling. Unfortunately Forbidden Siren belonged more to the latter.<br /><br />The saving grace will be its cinematography with its use of light, shadows and mirrors, but I will be that explicit - it's still not worth the time, so better to avoid this.\n",
      "\n",
      "most similar:  Okay, so I'm not a big video game buff, but was the game House of the Dead really famous enough to make a movie from? Sure, they went as far as to actually put in quick video game clips throughout the movie, as though justifying any particular scene of violence, but there are dozens and dozens of games that look exactly the same, with the hand in the bottom on the screen, supposedly your own, holding whatever weapon and goo-ing all kinds of aliens or walking dead or snipers or whatever the case may be.<br /><br />It's an interesting premise in House of the Dead, with a lot of college kids (LOADED college kids, as it were, kids who are able to pay some fisherman something like $1,500 just for a ride after they miss their boat) trying to get out to this island for what is supposed to be the rave of the year. The first thing that comes to mind about House of the Dead after watching it is that it has become increasingly clear that modern horror movies have become nothing more than an exercise in coming up with creative ways to get a lot of scantily clad teenagers into exactly the same situations. At least in this case, the fact that they were on their way to a rave excuses the way the girls are dressed. They look badly out of place running around the woods in cute little halter-tops, but at least they THOUGHT they were dressed for the occasion.<br /><br />Clint Howard, tellingly the most interesting character in the film by far, delivers an absolutely awful performance, the greatness of which overshadows every other actor in the movie. I can't stand it when well-known actors change their accents in movies, it is so rarely effective, and Howard here shows that it is equally flat to have an well-known actor pretend that he's this hardened fisherman with a raspy voice from years of breathing salty air. He didn't even rasp well. It sounded like he was eating a cinnamon roll before shooting and accidentally inhaled some powdered sugar or something. Real tough there, Clint! I expected more from him, but then again, he did agree to a part in this mess.<br /><br />Once we get to the island, the movie temporarily turns into any one of the Friday the 13th movies that took place at Camp Crystal Lake. Lots of teenagers played by actors who were way too old for their parts getting naked and then killed. The nudity was impressive, I guess, but let's consider something for a minute. These kids pay almost two grand to get out to this island to go to the Rave Of The Year, find NO ONE, and say, well, who wants a beer! Even the guy who pulled that stack of hundreds out of his wallet to get them all over there didn't think anything of it that they found a full bar and not a single solitary person in sight. Here you have the input from director Uwe Boll - There's alcohol! They won't notice that the party they came for consists of no one but themselves!<br /><br />So not only do they start drinking, not minding the fact that the whole party seems to have vacated the island, but when one of the girls goes off into the dark woods to find out where everyone is (dragging one other girl and one of the guys reluctantly along), the guy and the girl who stay behind to get smashed decide that it would be a great idea to strip down for a quickie now that they're alone. It's like they expected to find the island empty, and now that they rest of the people that they came over with were gone for a little while, they would have some privacy since there's no one else around. Brilliant!<br /><br />Now for the things that everyone hated, judging by the reviews that I've read about the movie. Yes, intersplicing shots from the video game into the movie, mostly in order to show that, yes, the movie was being faithful to/directly copying the video game. Sure, it was a stupid idea. I can't imagine who thought up that little nugget, but worse than that is the Matrix-style bullet time scenes that were thrown in over and over and over and over. After the first time (at which point I found it pretentious and cheesy for a movie like this to have a shot like that as though it was something original) it is noticeable more for the technique of the shot itself rather than any dramatic meaning or creation of any kind of tension for the film.<br /><br />One of the things that makes a zombie film scary and gets you on the edge of your seat is to have them slowly but relentlessly coming after the living humans, who are much faster but getting tired, running out of places to run, and with a terrifying shortage of things with which to fight the zombies off with. The first two are done right in the movie, the kids are terrified and don't have a lot of places to run since they're on an island, but since they caught a ride over with a smuggler, they find themselves heavily armed. And I mean that very strongly. I mean, these people have everything from machine guns to hand grenades, which removes most of the tension of the impending walking dead.<br /><br />Then you have what I call the techno-slasher scene. Since the rave never happened, and I guess since Uwe Boll thought people were going to be disappointed at not hearing any techno music in the movie, there's one scene right in the middle where all the humans are fighting off the living dead, and amazingly enough it turns into something of a music video. There's techno music blasting as the shots are edited together faster and faster until it's nothing but a blur of gory shot, mostly only about 5 frames long (which is about 1/6 of a second) flashing across the screen in time with the speed techno music. Clever, I guess, but it has no place in a horror movie because it completely removes any sense of scariness or tension of even the gross-out effect because you can't see any one thing for long enough to react to it. You're just watching these shots fly across the screen and wondering what the hell the director was thinking when he decided that it would be a good idea to put something like this in the movie.<br /><br />I've seen a lot of people compare this movie to Resident Evil, mostly claiming that it copies the premise of it, and they're exactly right. I appreciate that at least here, as was not the case in Resident Evil, it wasn't some man-made virus that turned people into walking dead that were able to infect other people, changing them the way vampires turn others into vampires. 28 Days Later was also clearly an inspiration for this movie, it's just too bad that House of the Dead didn't do a single original thing, except for the somewhat moronic idea of putting in quick shots of the video game on which it is based, just in case you forget. I really think that this should have been a much better movie. While obviously I can't say that I know much about the game it's based on, just the title and the movie poster deserve a much better movie, but unfortunately I think that's more often the case than not with horror movies. It's really kind of sad when a movie comes out that is so obviously advertised as a no-holds-barred horror film, and the scariest thing in the entire movie is the closing shot, which suggests the possibility of a sequel.\n",
      "\n",
      "least similar:  Cool idea... botched writing, botched directing, botched editing, botched acting. Sorta makes me wish I could play God and strike everyone involved in making this film with several bolts of lightning.\n"
     ]
    }
   ],
   "metadata": {}
  },
  {
   "cell_type": "markdown",
   "source": [
    "The similar text is also about a movie based on a video games! Also notice the similarity of lengths and that the least similar review is very short."
   ],
   "metadata": {}
  },
  {
   "cell_type": "markdown",
   "source": [
    "## Vector semantics / Vector Space Models / (word) embeddings"
   ],
   "metadata": {}
  },
  {
   "cell_type": "code",
   "execution_count": 62,
   "source": [
    "YouTubeVideo('hcfgqgGHF4M', width=740, height=460)"
   ],
   "outputs": [
    {
     "output_type": "execute_result",
     "data": {
      "text/plain": [
       "<IPython.lib.display.YouTubeVideo at 0x1daa315e0>"
      ],
      "image/jpeg": "[encoded data removed]",
      "text/html": [
       "\n",
       "        <iframe\n",
       "            width=\"740\"\n",
       "            height=\"460\"\n",
       "            src=\"https://www.youtube.com/embed/hcfgqgGHF4M\"\n",
       "            frameborder=\"0\"\n",
       "            allowfullscreen\n",
       "        ></iframe>\n",
       "        "
      ]
     },
     "metadata": {},
     "execution_count": 62
    }
   ],
   "metadata": {}
  },
  {
   "cell_type": "markdown",
   "source": [
    "Semantics: The *meaning* or catagory of a word.\n",
    "\n",
    "Context is important to understand a word and give it a descriptive representation (to encoding it's meaning). \n",
    "\n",
    "Assumption/intution: Two words are similar if they appear in similar contexts.\n",
    "\n",
    "Now, instead just counting the words, we use a seperate model that should learn good feature vectors based on the above assumption. A popular model is called Word2Vec, which can learn feature vectors (i.e. word embeddings) in two different ways:\n",
    "\n",
    "\n",
    "Word2Vec architectures:\n",
    "\n",
    "- CBOW: Learn word embeddings by predicting a focus word given a context. \"The _ in the hat\".\n",
    "\n",
    "- Skip-gram: Learn word embeddings by predicting context words given focus word. \"_ cat _ _ _\".\n",
    "\n",
    "(https://arxiv.org/pdf/1301.3781.pdf ,\n",
    "https://papers.nips.cc/paper/5021-distributed-representations-of-words-and-phrases-and-their-compositionality.pdf, https://radimrehurek.com/gensim/models/word2vec.html)"
   ],
   "metadata": {
    "colab_type": "text",
    "id": "LxxVF50zJSbF"
   }
  },
  {
   "cell_type": "code",
   "execution_count": 64,
   "source": [
    "from gensim.models import Word2Vec\n",
    "\n",
    "# using the train_sents from earlier (the lowercased and tokenized sentences)\n",
    "model = Word2Vec(train_sents, vector_size=50)#the default learning algorithm is CBOW. To use skip-gram use the paramter sg=1.\n",
    "\n",
    "# You can load pretrained embeddings downloaded from: https://drive.google.com/file/d/0B7XkCwpI5KDYNlNUTTlSS21pQmM/edit?usp=sharing \n",
    "# BUT this takes up a lot of space (the file is over 1 GB) and a lot of RAM when you try to use it.\n",
    "# If you want to try it, write this:\n",
    "#model = gensim.models.KeyedVectors.load_word2vec_format(directory_path+'GoogleNews-vectors-negative300.bin', binary=True)\n"
   ],
   "outputs": [
    {
     "output_type": "stream",
     "name": "stderr",
     "text": [
      "/usr/local/lib/python3.9/site-packages/gensim/similarities/__init__.py:15: UserWarning: The gensim.similarities.levenshtein submodule is disabled, because the optional Levenshtein package <https://pypi.org/project/python-Levenshtein/> is unavailable. Install Levenhstein (e.g. `pip install python-Levenshtein`) to suppress this warning.\n",
      "  warnings.warn(msg)\n"
     ]
    }
   ],
   "metadata": {
    "colab": {},
    "colab_type": "code",
    "id": "yYhUesNDJZJd"
   }
  },
  {
   "cell_type": "code",
   "execution_count": 65,
   "source": [
    "print(model.wv['good'])"
   ],
   "outputs": [
    {
     "output_type": "stream",
     "name": "stdout",
     "text": [
      "[-0.36020932  0.5237038   0.09203231 -0.7985827  -0.47821242  1.533309\n",
      "  0.6636292  -2.1551619  -2.168445   -0.38255715  3.0424228   0.5550893\n",
      " -1.0563012  -4.4051547  -1.0041999   0.6110338  -2.0641377   2.840002\n",
      "  2.5321064   2.224186   -3.4814236   0.57272595 -0.5314392   5.6455235\n",
      " -0.89771605 -1.8570007   1.0396284  -1.2279559   1.4617805  -0.8374904\n",
      " -2.7190177  -0.75452673 -1.5104675   0.10205208 -1.2518384  -4.6131387\n",
      " -2.5576777   1.003671    0.35106316 -0.4714529   6.2724032  -2.2110791\n",
      " -1.3814138  -0.7281033   1.0273894  -2.2830987   0.66250896 -0.7005316\n",
      " -3.5397406  -1.8675348 ]\n"
     ]
    }
   ],
   "metadata": {}
  },
  {
   "cell_type": "code",
   "execution_count": 66,
   "source": [
    "# Reducing the 50-dimensional vectors to 2 dimensions in order to visualise selected words.\n",
    "from sklearn.decomposition import PCA\n",
    "\n",
    "words = [\"drama\",\"comedy\", \"good\", \"great\", \"bad\", \"horrible\", \"cat\", \"dog\"]\n",
    "\n",
    "X = [model.wv['drama'], model.wv['comedy'], \n",
    "     model.wv['good'], model.wv['great'], \n",
    "     model.wv['bad'], model.wv['horrible'], \n",
    "     model.wv['cat'], model.wv['dog']]\n",
    "\n",
    "pca = PCA(n_components=2)\n",
    "X_r = pca.fit(X).transform(X)\n",
    "\n",
    "plt.figure(figsize=(6,6))\n",
    "plt.scatter(X_r[:,0], X_r[:,1], edgecolors='k', c='r')\n",
    "for word, (x,y) in zip(words, X_r):\n",
    "    plt.text(x+0.2, y+0.1, word)"
   ],
   "outputs": [
    {
     "output_type": "display_data",
     "data": {
      "text/plain": [
       "<Figure size 432x432 with 1 Axes>"
      ],
      "image/png": "[encoded data removed]"
     },
     "metadata": {
      "needs_background": "light"
     }
    }
   ],
   "metadata": {
    "scrolled": false
   }
  },
  {
   "cell_type": "markdown",
   "source": [
    "We now have a unique embedding vector mapped to each word. But what if we want to work with sentences/documents that contain many words and with a variying number of words in them? If you are doing machine learning (and are not using some fancy model that can handle varying lengts), the input vectors for your model have to be of same length. And the input of one element (for example one document), should preferably be a vector rather than a matrix (i.e. having an array with arrays of word embeddings as input will not work in most cases). So you need to make a decision of how to to use word embeddings for such cases. \n",
    "\n",
    "You could, for example, concatenate the vectors and choose a cut-off point for a given maximum number of words, where every sentence longer than that will be cut short, and every sentence shorter will be appended vectors containing zeroes. Or you can simply take the mean at axis 0, such that each document is represented by a single vector of length 50. I show the latter here:"
   ],
   "metadata": {}
  },
  {
   "cell_type": "code",
   "execution_count": 67,
   "source": [
    "# Take the mean of the word vectors to get one vector for each text \n",
    "# (rather than a list of word vectors for each text)\n",
    "\n",
    "embedded_text = np.array([np.mean([model.wv[w] if w in model.wv.key_to_index.keys() else np.zeros(50) for w in words], axis=0) for words in train_sents])"
   ],
   "outputs": [],
   "metadata": {}
  },
  {
   "cell_type": "code",
   "execution_count": 68,
   "source": [
    "embedded_text.shape"
   ],
   "outputs": [
    {
     "output_type": "execute_result",
     "data": {
      "text/plain": [
       "(25000, 50)"
      ]
     },
     "metadata": {},
     "execution_count": 68
    }
   ],
   "metadata": {}
  },
  {
   "cell_type": "markdown",
   "source": [
    "You can now check similarities between documents/reviews again and see how the results differ. You can also you the document embeddings in a Machine Learning model or for some type of clustering.\n",
    "\n",
    "Optional: Check whether increasing the vector_size for the word2vec model makes the similarites more meaningful."
   ],
   "metadata": {}
  },
  {
   "cell_type": "code",
   "execution_count": 69,
   "source": [
    "# Using the averaged word2vec document embeddings to find similar documents:\n",
    "cosine_similarities = cosine_similarity(embedded_text[0].reshape(1,50), embedded_text[:]).flatten()\n",
    "indices = cosine_similarities.argsort()[::-1] # in descending order \n",
    "print(\"most similar:\",indices[:10])\n",
    "print(\"least similar\", indices[-9:])\n",
    "print(df_train.review.values[0])\n",
    "print()\n",
    "print(\"most similar: \", df_train.review.values[5052])\n",
    "print()\n",
    "print(\"least similar: \", df_train.review.values[22007])"
   ],
   "outputs": [
    {
     "output_type": "stream",
     "name": "stdout",
     "text": [
      "most similar: [    0 24254  5853 13599  5052  2360 24385 17951 23832  9144]\n",
      "least similar [22972 12780  9527 22666 10288 18819  7270 19309 22007]\n",
      "Forbidden Siren is based upon the Siren 2 Playstation 2 (so many 2s) game. Like most video game turned movies, I would say the majority don't translate into a different medium really well. And that goes for this one too, painfully.<br /><br />There's a pretty long prologue which explains and sets the premise for the story, and the mysterious island on which a writer (Leo Morimoto) and his children, daughter Yuki (Yui Ichikawa) and son Hideo (Jun Nishiyama) come to move into. The villagers don't look all too friendly, and soon enough, sound advice is given about the siren on the island, to stay indoors once the siren starts wailing.<br /><br />Naturally and slowly, things start to go bump, and our siblings go on a mission beating around the bush to discover exactly what is happening on this unfriendly island with its strange inhabitants. But in truth, you will not bother with what's going on, as folklore and fairy tales get thrown in to convolute the plot even more. What was really pushing it into the realm of bad comedy are its unwittingly ill-placed-out-of-the-norm moments which just drew pitiful giggles at its sheer stupidity, until it's explained much later. It's one thing trying to come up and present something smart, but another thing doing it convincingly and with loopholes covered.<br /><br />Despite it clocking in under 90 minutes - I think it's a horror movie phenomenon to have that as a runtime benchmark - it gives that almost two hour feel with its slow buildup to tell what it wants to. Things begin to pick up toward the last 20 minutes, but it's a classic case of too little too late.<br /><br />What saves the movie is how it changes tack and its revelation at the end. Again this is a common device used to try and elevate a seemingly simple horror movie into something a little bit extra in the hope of wowing an audience. It turned out rather satisfactorily, but leaves a bad aftertaste as you'll feel cheated somewhat. There are two ways a twist will make you feel - it either elevates the movie to a memorable level, or provides you with that hokey feeling. Unfortunately Forbidden Siren belonged more to the latter.<br /><br />The saving grace will be its cinematography with its use of light, shadows and mirrors, but I will be that explicit - it's still not worth the time, so better to avoid this.\n",
      "\n",
      "most similar:  Before the regular comments, my main curiosity about THIS IS NOT A LOVE SONG is that while there's a running time listed on IMDb of 94 minutes, the DVD from Wellspring Media in the United States runs 88 minutes. Any input on this is appreciated!<br /><br />Two friends with very rough lives take on the road for an adventure. What they wind up in is just that, with one accidentally shooting a girl and the two escaping by foot into the countryside. Rather than just a big chase, the film is complicated by the the daft and rather childlike Spike behaving inappropriately, and clutching his boom box like a teddy bear. Some viewers may dislike the story based solely upon the character Spike, but without a bit of frustration added to the story, the film would have been too easy. You'll notice the way the more stable character Heaton refers to Spike as \"big man\" in contrast to Spike's \"kid out of control\" attitude and behavior. Frankly, I too was aggravated by Spike's ridiculous actions, especially the spray can sniffing, but in a desperate situation it's apparent someone of his mentality would choose an temporary escape. But, Heaton was there to keep things in check up until things get way over his head as well.<br /><br />Kenny Glenaan as Heaton is a marvel, and after a while I quit wondering why in the heck he would want to pick Spike up from prison and continue a friendship, due to Glenaan's great performance. After all, there are many many reasons during their run that would be a good idea for Heaton to just ditch Spike and try to save himself. I suppose Heaton felt like a protective older brother to Spike, and the loyalty between the two is hard to break -- until things get too desperate.<br /><br />While some of the cinematography is indeed artsy, it does offer more flavor to story instead of just shots of the men running through the wilderness. The beautiful landscapes, rain, and vast gray skies offer a somber tone that increases the feel of the tragic circumstances. The score is unusual as well, and the use of Public Image Ltd.'s song \"This Is Not A Love Song\" and as the title of the film is quite smart.<br /><br />Overall, it's understandable if you don't care for THIS IS NOT A LOVE SONG as it's focused on two contrasting personalities escaping from another man determined to hunt them down (played by a cool, quiet David Bradley). It's not big-budget action entertainment. For the rest of us that enjoy seeking out something minimal and dramatic, it's time worthwhile spent, and it DOES offer some extremely tense moments that have you holding your breath a bit.<br /><br />I'm really enjoying the films coming out of Scotland recently, with the likes of this one, Dog Soldiers, and The Devil's Tattoo. I'm also a bit thankful for the subtitles offered on this DVD, as the accents are sometimes lightning fast and difficult for some viewers like me to understand. <br /><br />Frustrating, dark, and often tense, THIS IS NOT A LOVE SONG is very tragic yet engrossing storytelling.<br /><br />\n",
      "\n",
      "least similar:  Creative use of modern and mystical elements: 1956 Cadillac convertible to transport evil stepmother Kathleen Turner (John Waters' \"Serial Mom\") and the 2 twisted sisters; Queen Mab as the faerie godmother; David Warner (Evil in \"Time Bandits\") in redcoat at court; Cinderella (she's a babe) shovelling coal into an insatiable furnace; Cinderella and her prince charming both look like (and act like) rock stars. Isle of Man locations.\n"
     ]
    }
   ],
   "metadata": {
    "scrolled": true
   }
  },
  {
   "cell_type": "markdown",
   "source": [
    "There exists many methods for learning good word embeddings, and a lot of pre-trained options as well, but these a primarily available for English text. Here are three other popular options besides Word2Vec, for those who are interested in diving more into that (but I do not expect you to do so for this course):\n",
    "- FastText\n",
    "- Glove\n",
    "- BERT\n",
    "\n",
    "BERT is currently the most widely used model for representing text, especially it's large pretrained embeddings. But it is perhaps also more complex to get started with, and definetly less interpretable."
   ],
   "metadata": {}
  },
  {
   "cell_type": "markdown",
   "source": [
    "# Text classification\n",
    "\n",
    "We will now build a classifier that will classify text as having a positive (1) or negative (0) sentiment!"
   ],
   "metadata": {
    "colab_type": "text",
    "id": "G6VqM8OkhssH"
   }
  },
  {
   "cell_type": "code",
   "execution_count": 70,
   "source": [
    "YouTubeVideo('1OFSYHkecbA', width=740, height=460)"
   ],
   "outputs": [
    {
     "output_type": "execute_result",
     "data": {
      "text/plain": [
       "<IPython.lib.display.YouTubeVideo at 0x17bfa4550>"
      ],
      "image/jpeg": "[encoded data removed]",
      "text/html": [
       "\n",
       "        <iframe\n",
       "            width=\"740\"\n",
       "            height=\"460\"\n",
       "            src=\"https://www.youtube.com/embed/1OFSYHkecbA\"\n",
       "            frameborder=\"0\"\n",
       "            allowfullscreen\n",
       "        ></iframe>\n",
       "        "
      ]
     },
     "metadata": {},
     "execution_count": 70
    }
   ],
   "metadata": {}
  },
  {
   "cell_type": "markdown",
   "source": [
    "## Text classification with logistic regression"
   ],
   "metadata": {
    "colab_type": "text",
    "id": "AVSmfjPKbmkG"
   }
  },
  {
   "cell_type": "code",
   "execution_count": 71,
   "source": [
    "# Get feature vectors\n",
    "tfidf = TfidfVectorizer()\n",
    "# use your own preprocessing function in the vectorizer when you've finished that exercise:\n",
    "#tfidf = TfidfVectorizer(tokenizer=preprocess)\n",
    "X_train_tfidf = tfidf.fit_transform(df_train.review.values)\n",
    "X_test_tfidf = tfidf.transform(df_test.review.values)\n",
    "\n",
    "# labels\n",
    "y_train = df_train.sentiment.values\n",
    "y_test = df_test.sentiment.values\n",
    "\n",
    "# classifier\n",
    "lr = LogisticRegression(random_state=0)\n",
    "\n",
    "#training\n",
    "lr.fit(X_train_tfidf,y_train)\n",
    "\n",
    "#testing\n",
    "train_preds = lr.predict(X_train_tfidf)\n",
    "test_preds = lr.predict(X_test_tfidf)\n",
    "print(\"training accuracy:\", np.mean([(train_preds==y_train)]))\n",
    "print(\"testing accuracy:\", np.mean([(test_preds==y_test)]))"
   ],
   "outputs": [
    {
     "output_type": "stream",
     "name": "stdout",
     "text": [
      "training accuracy: 0.93328\n",
      "testing accuracy: 0.88316\n"
     ]
    }
   ],
   "metadata": {
    "colab": {},
    "colab_type": "code",
    "id": "R3E28RXfbiR3"
   }
  },
  {
   "cell_type": "markdown",
   "source": [
    "### Let's look at the features' coeffiecients\n",
    "\n",
    "Training a logistic regression classifier and inspecting the coefficients is a great - and simple - way to learn what words are important for a class/category. You can use the result in a word cloud! Or if you have texts written by, for example, two political parties and with sentiment labels (or some other labels) you can train a model on each party and compare most important words - this can tell you something about the language use in different parties, and if using higher orders of n-grams, you may see which subjects are more often talked about in a positive/negative manner."
   ],
   "metadata": {}
  },
  {
   "cell_type": "code",
   "execution_count": 72,
   "source": [
    "features = ['_'.join(s.split()) for s in tfidf.get_feature_names()]\n",
    "coefficients = lr.coef_\n",
    "coefs_df = pd.DataFrame.from_records(coefficients, columns=features)\n",
    "coefs_df"
   ],
   "outputs": [
    {
     "output_type": "execute_result",
     "data": {
      "text/plain": [
       "         00       000  0000000000001     00001     00015      000s       001  \\\n",
       "0 -0.096569 -0.305337      -0.033966 -0.038521 -0.005573  0.024453 -0.032348   \n",
       "\n",
       "     003830       006       007  ...     était      état       étc     évery  \\\n",
       "0  0.031637  0.013828  0.056278  ...  0.041276  0.047509  0.034055 -0.081397   \n",
       "\n",
       "     êxtase        ís      ísnt   østbye      über  üvegtigris  \n",
       "0  0.016038  0.002182 -0.035297  0.01018 -0.084577   -0.053029  \n",
       "\n",
       "[1 rows x 74849 columns]"
      ],
      "text/html": [
       "<div>\n",
       "<style scoped>\n",
       "    .dataframe tbody tr th:only-of-type {\n",
       "        vertical-align: middle;\n",
       "    }\n",
       "\n",
       "    .dataframe tbody tr th {\n",
       "        vertical-align: top;\n",
       "    }\n",
       "\n",
       "    .dataframe thead th {\n",
       "        text-align: right;\n",
       "    }\n",
       "</style>\n",
       "<table border=\"1\" class=\"dataframe\">\n",
       "  <thead>\n",
       "    <tr style=\"text-align: right;\">\n",
       "      <th></th>\n",
       "      <th>00</th>\n",
       "      <th>000</th>\n",
       "      <th>0000000000001</th>\n",
       "      <th>00001</th>\n",
       "      <th>00015</th>\n",
       "      <th>000s</th>\n",
       "      <th>001</th>\n",
       "      <th>003830</th>\n",
       "      <th>006</th>\n",
       "      <th>007</th>\n",
       "      <th>...</th>\n",
       "      <th>était</th>\n",
       "      <th>état</th>\n",
       "      <th>étc</th>\n",
       "      <th>évery</th>\n",
       "      <th>êxtase</th>\n",
       "      <th>ís</th>\n",
       "      <th>ísnt</th>\n",
       "      <th>østbye</th>\n",
       "      <th>über</th>\n",
       "      <th>üvegtigris</th>\n",
       "    </tr>\n",
       "  </thead>\n",
       "  <tbody>\n",
       "    <tr>\n",
       "      <th>0</th>\n",
       "      <td>-0.096569</td>\n",
       "      <td>-0.305337</td>\n",
       "      <td>-0.033966</td>\n",
       "      <td>-0.038521</td>\n",
       "      <td>-0.005573</td>\n",
       "      <td>0.024453</td>\n",
       "      <td>-0.032348</td>\n",
       "      <td>0.031637</td>\n",
       "      <td>0.013828</td>\n",
       "      <td>0.056278</td>\n",
       "      <td>...</td>\n",
       "      <td>0.041276</td>\n",
       "      <td>0.047509</td>\n",
       "      <td>0.034055</td>\n",
       "      <td>-0.081397</td>\n",
       "      <td>0.016038</td>\n",
       "      <td>0.002182</td>\n",
       "      <td>-0.035297</td>\n",
       "      <td>0.01018</td>\n",
       "      <td>-0.084577</td>\n",
       "      <td>-0.053029</td>\n",
       "    </tr>\n",
       "  </tbody>\n",
       "</table>\n",
       "<p>1 rows × 74849 columns</p>\n",
       "</div>"
      ]
     },
     "metadata": {},
     "execution_count": 72
    }
   ],
   "metadata": {}
  },
  {
   "cell_type": "code",
   "execution_count": 73,
   "source": [
    "print(coefs_df.T.sort_values(by=[0], ascending=False).head(20))\n",
    "print()\n",
    "print(coefs_df.T.sort_values(by=[0], ascending=True).head(20))"
   ],
   "outputs": [
    {
     "output_type": "stream",
     "name": "stdout",
     "text": [
      "                   0\n",
      "great       7.597993\n",
      "excellent   6.185474\n",
      "best        5.127967\n",
      "perfect     4.818600\n",
      "wonderful   4.676444\n",
      "amazing     4.164898\n",
      "well        4.061736\n",
      "loved       3.835260\n",
      "fun         3.805573\n",
      "today       3.782701\n",
      "love        3.782314\n",
      "favorite    3.743822\n",
      "enjoyed     3.513010\n",
      "highly      3.390157\n",
      "brilliant   3.353821\n",
      "it          3.330147\n",
      "superb      3.321679\n",
      "and         3.176546\n",
      "definitely  3.031838\n",
      "still       2.983629\n",
      "\n",
      "                      0\n",
      "worst         -9.242321\n",
      "bad           -7.956060\n",
      "awful         -6.493183\n",
      "waste         -6.278238\n",
      "boring        -6.020011\n",
      "poor          -5.448303\n",
      "terrible      -4.848693\n",
      "nothing       -4.761642\n",
      "worse         -4.577197\n",
      "no            -4.394958\n",
      "horrible      -4.208934\n",
      "poorly        -4.167156\n",
      "dull          -4.155190\n",
      "unfortunately -3.984437\n",
      "script        -3.871557\n",
      "annoying      -3.827654\n",
      "stupid        -3.818522\n",
      "ridiculous    -3.668310\n",
      "minutes       -3.600162\n",
      "instead       -3.526372\n"
     ]
    }
   ],
   "metadata": {}
  },
  {
   "cell_type": "markdown",
   "source": [
    "Earlier during this course, you have been taught how to do cross-validation. If you want to develop a good model for sentiment classification, it is good practice to use cross-validation and experiment with different vectorizers and classifiers. We will not be doing it in this notebook, but in the PML textbook page 268 you will find an example of how to use sklearn's GridSearchCV to experiment with the count and tfidf vectorizer and with different hyperparamters for both the vectorizers (such as the ngram_range) and the logistic regression classifier, to find the best model."
   ],
   "metadata": {
    "colab_type": "text",
    "id": "X7x4TpmbcHHk"
   }
  },
  {
   "cell_type": "markdown",
   "source": [
    "### Exercise 3: Cross-domain evaluation (to assess generalizability)\n",
    "\n",
    "This is a larger exercise where you will put together what you have learned above and start doing an error analysis to become familiar with some limitations of text classification. In this exercise we are including a new dataset, and we will be reusing the vectorizer and classifier defined above (tfidf and lr, respectively) - if you haven't yet run the cells above, containing this code, then do that now. Then follow these steps:\n",
    "\n",
    "1. Download the Airline sentiment dataset from Kaggle (you may need to login to download it): https://www.kaggle.com/crowdflower/twitter-airline-sentiment\n",
    "\n",
    "General note on tweets: Tweets are messy (generally require a lot a of preproccesing if used to train a ML model).\n",
    "\n",
    "2. Load the data into a dataframe named tweet_df. \n",
    "\n",
    "3. As you can see, the samples have three labels (neg, pos, neutral). You have to either relabel neutral tweets as positive or remove neutral tweets from the dataframe entirely.\n",
    "\n",
    "4. Extract features from the tweets using the tf-idf vectorizer previously fitted on the Imdb review training data -- meaning, you should NOT use fit_transform(), but only use .transform().\n",
    "\n",
    "5. Use the previously trained logistic regression classifier and make predictions over your vectorized tweets -- meaning, you should NOT use .fit(), but only use .predict(). Report testing accuracy.\n",
    "\n",
    "6. Finally, answer these questions:\n",
    "\n",
    "    A) How well does your model perform in this other domain? \n",
    "    \n",
    "    B) Can you identify the types of errors it makes? (hint: you can make a confusion matrix and you can look at the words, and their respective coefficients, of relevant examples of misclassification). If you don't know what to do, just skip this.\n",
    "    \n",
    "    C) Now, **fit a new vectorizer and logistic regression classifier** on the airline tweets (remove mentions, @user, as the very least amount of preprocessing. To do this, you can write ```[re.sub(\"@[A-Za-z0-9]+\",\"\",sent) for sent in tweet_df.text.values]```). What are the difference between most important features (high and low coeffiecients) between this model and your original model trained on the Imdb reviews? And what does this mean for the models' ability to generalize to new data?"
   ],
   "metadata": {
    "colab_type": "text",
    "id": "jHLDsg-Cvo8o"
   }
  },
  {
   "cell_type": "code",
   "execution_count": 79,
   "source": [
    "# YOUR CODE HERE\n",
    "df_tweets = pd.read_csv(\"tweets.csv\")\n",
    "df_tweets = df_tweets[df_tweets['airline_sentiment'] != 'neutral']\n",
    "df_tweets['sentiment'] = (df_tweets['airline_sentiment'] == 'positive')\n",
    "df_tweets_tfidf = tfidf.transform(df_tweets.text.values)\n",
    "tweet_preds = lr.predict(df_tweets_tfidf)\n",
    "print(\"training accuracy:\", np.mean([(tweet_preds==df_tweets['sentiment'])]))"
   ],
   "outputs": [],
   "metadata": {
    "colab": {},
    "colab_type": "code",
    "id": "PH1DuKA5cq6Q"
   }
  },
  {
   "cell_type": "code",
   "execution_count": 115,
   "source": [
    "df_tweets['CM'] = 0\n",
    "\n",
    "df_tweets.loc[(df_tweets['sentiment'] == tweet_preds) & (df_tweets['sentiment'] == True), 'CM'] = 'TP'\n",
    "df_tweets.loc[(df_tweets['sentiment'] != tweet_preds) & (df_tweets['sentiment'] == True), 'CM'] = 'FP'\n",
    "df_tweets.loc[(df_tweets['sentiment'] == tweet_preds) & (df_tweets['sentiment'] == False), 'CM'] = 'TN'\n",
    "df_tweets.loc[(df_tweets['sentiment'] != tweet_preds) & (df_tweets['sentiment'] == False), 'CM'] = 'FN'\n",
    "\n",
    "df_tweets['CM'].value_counts()"
   ],
   "outputs": [
    {
     "output_type": "execute_result",
     "data": {
      "text/plain": [
       "TN    6141\n",
       "FN    3037\n",
       "TP    1837\n",
       "FP     526\n",
       "Name: CM, dtype: int64"
      ]
     },
     "metadata": {},
     "execution_count": 115
    }
   ],
   "metadata": {}
  },
  {
   "cell_type": "code",
   "execution_count": 125,
   "source": [
    "df_tweets[df_tweets['CM'].isin(['FP', 'FN'])][['airline_sentiment', 'text']].values"
   ],
   "outputs": [
    {
     "output_type": "execute_result",
     "data": {
      "text/plain": [
       "array([['positive',\n",
       "        '@VirginAmerica yes, nearly every time I fly VX this “ear worm” won’t go away :)'],\n",
       "       ['positive',\n",
       "        '@VirginAmerica I &lt;3 pretty graphics. so much better than minimal iconography. :D'],\n",
       "       ['negative', '@VirginAmerica SFO-PDX schedule is still MIA.'],\n",
       "       ...,\n",
       "       ['negative',\n",
       "        '@AmericanAir How do I change my flight if the phone system keeps telling me that the representatives are busy?'],\n",
       "       ['negative',\n",
       "        '@AmericanAir my flight was Cancelled Flightled, leaving tomorrow morning. Auto rebooked for a Tuesday night flight but need to arrive Monday.'],\n",
       "       ['negative',\n",
       "        \"@AmericanAir you have my money, you change my flight, and don't answer your phones! Any other suggestions so I can make my commitment??\"]],\n",
       "      dtype=object)"
      ]
     },
     "metadata": {},
     "execution_count": 125
    }
   ],
   "metadata": {}
  },
  {
   "cell_type": "markdown",
   "source": [
    "## Lexicons for sentiment analysis "
   ],
   "metadata": {}
  },
  {
   "cell_type": "markdown",
   "source": [
    "### Vader "
   ],
   "metadata": {}
  },
  {
   "cell_type": "code",
   "execution_count": null,
   "source": [
    "# Vader lexicon\n",
    "analyser = vaderSentiment.SentimentIntensityAnalyzer()\n",
    "snt = analyser.polarity_scores(sentence)\n",
    "#print(sentence)\n",
    "print(snt)\n",
    "compound = snt[\"compound\"] # how to scoring works: https://github.com/cjhutto/vaderSentiment#about-the-scoring"
   ],
   "outputs": [],
   "metadata": {}
  },
  {
   "cell_type": "markdown",
   "source": [
    "### Afinn "
   ],
   "metadata": {}
  },
  {
   "cell_type": "code",
   "execution_count": null,
   "source": [
    "# Afinn lexicon\n",
    "afn = Afinn(emoticons=True)\n",
    "print(afn.score(sentence))"
   ],
   "outputs": [],
   "metadata": {}
  },
  {
   "cell_type": "code",
   "execution_count": null,
   "source": [
    "example_neg = \"congrats on making an all-together predictable movie\"\n",
    "example_pos = \"OMG I literally died!\"\n",
    "\n",
    "print(afn.score(example_neg))\n",
    "print(afn.score(example_pos))"
   ],
   "outputs": [],
   "metadata": {}
  },
  {
   "cell_type": "markdown",
   "source": [
    "### SentiWordNet "
   ],
   "metadata": {}
  },
  {
   "cell_type": "code",
   "execution_count": null,
   "source": [
    "# lexicon can be accessed with NLTK:\n",
    "nltk.download('sentiwordnet')\n",
    "good = nltk.corpus.sentiwordnet.senti_synsets('good', 'a') # a=adjective\n",
    "for i in good:\n",
    "    print(i)\n",
    "print()\n",
    "\n",
    "print(\"good.a.01 Definition: \", nltk.corpus.wordnet.synset('good.a.01').definition())\n",
    "print(\"good.a.03 Definition: \", nltk.corpus.wordnet.synset('good.a.03').definition())"
   ],
   "outputs": [],
   "metadata": {}
  },
  {
   "cell_type": "markdown",
   "source": [
    "### Exercise 4: Lexicon-based sentiment classification (no Machine Learning)\n",
    "Use the Vader lexicon to classify each review in the test set. Use the \"compound\" score where compound<=0 = negative review (0) and compound>0=positive review (1). Report the classification accuracy."
   ],
   "metadata": {
    "colab_type": "text",
    "id": "tUvd_GflbPfz"
   }
  },
  {
   "cell_type": "code",
   "execution_count": null,
   "source": [
    "#Your code here"
   ],
   "outputs": [],
   "metadata": {
    "colab": {},
    "colab_type": "code",
    "id": "0insarXzbO9v"
   }
  },
  {
   "cell_type": "markdown",
   "source": [
    "# EXTRA \n",
    "\n",
    "### Topic Modelling example\n",
    "\n",
    "See https://www.machinelearningplus.com/nlp/topic-modeling-gensim-python/ "
   ],
   "metadata": {}
  },
  {
   "cell_type": "code",
   "execution_count": null,
   "source": [
    "from gensim.models import ldamodel\n",
    "import gensim.corpora as corpora\n",
    "\n",
    "# Create Dictionary\n",
    "id2word = corpora.Dictionary(train_sents)\n",
    "\n",
    "# Create Corpus\n",
    "texts = train_sents\n",
    "\n",
    "# Term Document Frequency\n",
    "corpus = [id2word.doc2bow(text) for text in texts]\n",
    "\n",
    "lda_model = ldamodel.LdaModel(corpus=corpus,\n",
    "                               id2word=id2word,\n",
    "                                           num_topics=20,\n",
    "                                           random_state=100,\n",
    "                                           update_every=1,\n",
    "                                           passes=10,\n",
    "                                           alpha='auto',\n",
    "                                           per_word_topics=True)"
   ],
   "outputs": [],
   "metadata": {}
  },
  {
   "cell_type": "code",
   "execution_count": null,
   "source": [
    "lda_model.print_topics()"
   ],
   "outputs": [],
   "metadata": {
    "scrolled": true
   }
  },
  {
   "cell_type": "markdown",
   "source": [
    "## Some NLP resources\n",
    "\n",
    "**NLTK** (as we have seen): Basic NLP tools such as tokenization, stemming, lemmatization, part-of-speech tagging (though not as good as the one from stanfordNLP), dependency parsing. https://www.nltk.org. Good introductory material here: https://www.nltk.org/book/\n",
    "\n",
    "**Wordnet**: A large lexicon of \"synsets\"; groups of words that are semantically closely related (synonyms). It can be used to infer word senses/meanings among other things https://wordnet.princeton.edu. \n",
    "\n",
    "**StanfordNLP (stanza)**: Tokenization, part-of-speech tagging, dependency parsing, named entity recognition, and more. https://stanfordnlp.github.io/stanza/.\n",
    "\n",
    "**Spacy**: More advanced NLP pipelines for feature extraction and more https://spacy.io\n",
    "\n",
    "**Gensim**: Popular models for word embeddings, e.g. word2vec and fastText, and more. https://radimrehurek.com/gensim/auto_examples/index.html\n"
   ],
   "metadata": {}
  },
  {
   "cell_type": "markdown",
   "source": [
    "## Project ideas\n",
    "\n",
    "- Predicting election outcomes or market trends from sentiment\n",
    "- Stance or sentiment towards political parties\n",
    "- Hate speech detection\n",
    "- Analysing overaching topics in a debate\n"
   ],
   "metadata": {}
  },
  {
   "cell_type": "markdown",
   "source": [
    "# Summary\n",
    "\n",
    "\n",
    "You've learned:\n",
    "- What to consider when preprocessing text\n",
    "- How to represent texts with numerical vectors\n",
    "- That you can find similar texts by calculating the distance between their vectors.\n",
    "- What word embeddings are and the basic intuition of it\n",
    "- Text classification\n",
    "- Possibilities with lexicons"
   ],
   "metadata": {}
  },
  {
   "cell_type": "code",
   "execution_count": null,
   "source": [],
   "outputs": [],
   "metadata": {}
  }
 ],
 "metadata": {
  "colab": {
   "collapsed_sections": [],
   "name": "Introduction to Social Data Science: Text as Data.ipynb",
   "provenance": []
  },
  "kernelspec": {
   "name": "python3",
   "display_name": "Python 3.9.2 64-bit"
  },
  "language_info": {
   "codemirror_mode": {
    "name": "ipython",
    "version": 3
   },
   "file_extension": ".py",
   "mimetype": "text/x-python",
   "name": "python",
   "nbconvert_exporter": "python",
   "pygments_lexer": "ipython3",
   "version": "3.9.2"
  },
  "interpreter": {
   "hash": "aee8b7b246df8f9039afb4144a1f6fd8d2ca17a180786b69acc140d282b71a49"
  }
 },
 "nbformat": 4,
 "nbformat_minor": 1
}