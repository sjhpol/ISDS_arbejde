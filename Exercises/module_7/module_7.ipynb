{
 "cells": [
  {
   "cell_type": "markdown",
   "source": [
    "> **DO YOU USE GITHUB?**  \n",
    "If True: print('Remember to make your edits in a personal copy of this notebook')  \n",
    "Else: print('You don't have to understand. Continue your life.')"
   ],
   "metadata": {}
  },
  {
   "cell_type": "markdown",
   "source": [
    "# Module 7: Web Scraping 2\n",
    "\n",
    "In module_6 your learned some powerful tricks. Tricks that will work when the data is already shipped in a neat format. However this is often not the case. In this session we shall learn the art of parsing unstructured text and a more principled and advanced method of parsing HTML.\n",
    "\n",
    "This will help you build ***custom datasets*** within just a few hours or days work, that would have taken ***months*** to curate and clean manually.\n",
    "\n",
    "\n",
    "\n",
    "Readings for `module 6+7+8`:\n",
    "- [Python for Data Analysis, chapter 6](https://bedford-computing.co.uk/learning/wp-content/uploads/2015/10/Python-for-Data-Analysis.pdf)\n",
    "- [A Practical Introduction to Web Scraping in Python](https://realpython.com/python-web-scraping-practical-introduction/)\n",
    "- [An introduction to web scraping with Python](https://towardsdatascience.com/an-introduction-to-web-scraping-with-python-a2601e8619e5)\n",
    "- [Introduction to Web Scraping using Selenium](https://medium.com/the-andela-way/introduction-to-web-scraping-using-selenium-7ec377a8cf72)\n",
    "\n",
    "Video materiale from `ISDS 2020`:\n",
    "- [Web Scraping 1](https://bit.ly/ISDS2021_6)\n",
    "- [Web Scraping 2](https://bit.ly/ISDS2021_7)\n",
    "- [Web Scraping 3](https://bit.ly/ISDS2021_8)\n",
    "\n",
    "Other ressources:\n",
    "- [Nicklas Webpage](https://nicklasjohansen.netlify.app/)\n",
    "- [Data Driven Organizational Analysis, Fall 2021](https://efteruddannelse.kurser.ku.dk/course/2021-2022/ASTK18379U)\n",
    "- [Master of Science (MSc) in Social Data Science](https://www.socialdatascience.dk/education)\n"
   ],
   "metadata": {}
  },
  {
   "cell_type": "markdown",
   "source": [
    "## Introduction to HTML\n",
    "[What is HTML?](https://www.w3schools.com/whatis/whatis_html.asp)  \n",
    "\n",
    "HTML has a Tree structure. \n",
    "\n",
    "Each node in the tree has:\n",
    "- Children, siblings, parents, descendants. \n",
    "- Ids and attributes\n",
    "\n",
    "<img src=\"http://www.openbookproject.net/tutorials/getdown/css/images/lesson4/HTMLDOMTree.png\"/>\n"
   ],
   "metadata": {
    "slideshow": {
     "slide_type": "slide"
    }
   }
  },
  {
   "cell_type": "markdown",
   "source": [
    "## Important syntax and patterns\n",
    "_______________\n",
    "```html \n",
    "<p>The p tag indicates a paragraph <p/>\n",
    "```\n",
    "_______________\n",
    "```html \n",
    "<b>The b tag makes the text bold, giving us a clue to its importance </b>\n",
    "```\n",
    "output: <b>The b tag makes the text bold, giving us a clue to its importance </b>\n",
    "```html \n",
    "\n",
    "<em>The em tag emphasize the text</em>, giving us a clue to its importance\n",
    "```\n",
    "output: <em>The em tag makes emphasize the text</em>, giving us a clue to its importance\n",
    "___________\n",
    "```html \n",
    "<h1>h1</h1><h2>h2</h2><h3>h3</h3><b>Headers give similar clues</b>\n",
    "```\n",
    "output:\n",
    "<h1>h1</h1><h2>h2</h2><h3>h3</h3><b>Headers give similar clues</b>  \n",
    "  \n",
    "```html \n",
    "<a href=\"www.google.com\">The a tag creates a hyperlink <a/>\n",
    "```\n",
    "output: <a href=\"www.google.com\">The a tag creates a hyperlink <a/>"
   ],
   "metadata": {}
  },
  {
   "cell_type": "markdown",
   "source": [
    "## How do we find our way around this tree?\n",
    "1. Regex: Extracting string patterns using .split and regular expresssions\n",
    "2. CSS-selectors: Specifying paths using css-selectors, xpath syntax.\n",
    "3. ```BeautifulSoup```: A more powerful, principled and readable way to parse data and navigate HTML"
   ],
   "metadata": {
    "slideshow": {
     "slide_type": "subslide"
    }
   }
  },
  {
   "cell_type": "code",
   "execution_count": 27,
   "source": [
    "import requests\n",
    "from bs4 import BeautifulSoup\n",
    "import re\n",
    "import selenium\n",
    "import time\n",
    "import pandas as pd"
   ],
   "outputs": [],
   "metadata": {}
  },
  {
   "cell_type": "markdown",
   "source": [
    "### Regex\n",
    "- [What is regex?](https://en.wikipedia.org/wiki/Regular_expression)\n",
    "- The brute force way is to parse by convering your downloded matriale into a large string\n",
    "- Now you can create standard string operations\n",
    "- And apply smart regex to identify the data you are looking for e.g. links."
   ],
   "metadata": {}
  },
  {
   "cell_type": "code",
   "execution_count": 28,
   "source": [
    "url = 'https://www.theguardian.com/us-news/2019/aug/14/taco-eating-contest-death-fresno-california'\n",
    "response = requests.get(url)\n",
    "html = response.text\n",
    "#html.split('\\n')\n",
    "#re.findall(\"(?P<url>https?://[^\\s]+)\", html)[0]"
   ],
   "outputs": [],
   "metadata": {}
  },
  {
   "cell_type": "markdown",
   "source": [
    "### CSS Selectors \n",
    "- [What is a CSS Selector?](https://www.w3schools.com/css/css_selectors.asp)\n",
    "- Another way to browse through the HTML tree\n",
    "- Define a unique path to an element in the HTML tree.\n",
    "- It is quick but has to be hardcoded and also more likely to break.\n",
    "- [Nicklas recommend using this free Google Chrome CSS Selector](https://chrome.google.com/webstore/detail/selectorgadget/mhjhnkcfbdhnjickkkdbjoemdmbfginb)"
   ],
   "metadata": {}
  },
  {
   "cell_type": "code",
   "execution_count": 29,
   "source": [
    "url = 'https://www.theguardian.com/us-news/2019/aug/14/taco-eating-contest-death-fresno-california'\n",
    "response = requests.get(url)\n",
    "soup = BeautifulSoup(response.content, 'html.parser')\n",
    "soup.select('.dcr-125vfar')[0].text"
   ],
   "outputs": [
    {
     "output_type": "execute_result",
     "data": {
      "text/plain": [
       "'Man dies after taco-eating contest in California'"
      ]
     },
     "metadata": {},
     "execution_count": 29
    }
   ],
   "metadata": {}
  },
  {
   "cell_type": "markdown",
   "source": [
    "## Parsing HTML with BeautifulSoup\n",
    "BeautifulSoup makes the html tree navigable. \n",
    "It allows you to:\n",
    "    * Search for elements by tag name and/or by attribute.\n",
    "    * Iterate through them, go up, sideways or down the tree.\n",
    "    * Furthermore it helps you with standard tasks such as extracting raw text from html,\n",
    "    which would be a very tedious task if you had to hardcode it using `.split` commands and using your own regular expressions will be unstable."
   ],
   "metadata": {}
  },
  {
   "cell_type": "code",
   "execution_count": 30,
   "source": [
    "url = 'https://www.theguardian.com/us-news/2019/aug/14/taco-eating-contest-death-fresno-california'\n",
    "response = requests.get(url)\n",
    "html = response.text\n",
    "soup = BeautifulSoup(html,'lxml') # parse the raw html using BeautifoulSoup"
   ],
   "outputs": [],
   "metadata": {}
  },
  {
   "cell_type": "code",
   "execution_count": 31,
   "source": [
    "soup.find('h1')['class'][0].strip()"
   ],
   "outputs": [
    {
     "output_type": "execute_result",
     "data": {
      "text/plain": [
       "'dcr-125vfar'"
      ]
     },
     "metadata": {},
     "execution_count": 31
    }
   ],
   "metadata": {}
  },
  {
   "cell_type": "code",
   "execution_count": 32,
   "source": [
    "# example: finding hyperlinks\n",
    "links = soup.find_all('a') # find all a tags -connoting a hyperlink.\n",
    "[link['href'] for link in links if link.has_attr('href')][0:5] # unpack the hyperlink from the a nodes."
   ],
   "outputs": [
    {
     "output_type": "execute_result",
     "data": {
      "text/plain": [
       "['#maincontent',\n",
       " '#navigation',\n",
       " '/preference/edition/int',\n",
       " '/preference/edition/uk',\n",
       " '/preference/edition/us']"
      ]
     },
     "metadata": {},
     "execution_count": 32
    }
   ],
   "metadata": {}
  },
  {
   "cell_type": "code",
   "execution_count": 33,
   "source": [
    "# example: finding headline\n",
    "headline = soup.find('h1') # search for the first headline: h1 tag. \n",
    "name = headline['class'][0].strip() # use the class attribute name as column name.\n",
    "value = headline.text.strip() # extract text using build in method.\n",
    "print(name,':',value)"
   ],
   "outputs": [
    {
     "output_type": "stream",
     "name": "stdout",
     "text": [
      "dcr-125vfar : Man dies after taco-eating contest in California\n"
     ]
    }
   ],
   "metadata": {}
  },
  {
   "cell_type": "code",
   "execution_count": 34,
   "source": [
    "# example: finding article_text\n",
    "article_text = soup.findAll('div', {'class':'dcr-185kcx9'})[0]\n",
    "article_text.text"
   ],
   "outputs": [
    {
     "output_type": "execute_result",
     "data": {
      "text/plain": [
       "'A man died shortly after competing in a taco-eating contest at a minor league baseball game in California, authorities said Wednesday.Dana Hutchings, 41, of Fresno, died Tuesday night shortly after arriving at a hospital, said Tony Botti, a Fresno sheriff spokesman.An autopsy on Hutchings will be done Thursday to determine a cause of death, Botti said. It was not immediately known how many tacos the man had eaten or whether he had won the contest.Paul Braverman, a spokesman for the Fresno Grizzlies, said in a statement that the team was “devastated to learn” of the fan’s death and that the team would “work closely with local authorities and provide any helpful information that is requested”.Tuesday night’s competition came before Saturday’s World Taco Eating Championship, to be held at Fresno’s annual Taco Truck Throwdown. The team on Wednesday announced that it was canceling that contest.Matthew Boylan, who watched Tuesday’s taco eating contest from his seat in the stadium, told the Fresno Bee he quickly noticed Hutchings because “he was eating so fast compared to the other two [contestants]”.“It was like he’d never eaten before,” Boylan said. “He was just shoving the tacos down his mouth without chewing.”He said Hutchings collapsed and hit his face on a table about seven minutes into the contest, then fell to the ground. The eating contest ended immediately.During the 2018 Taco Eating Championship in Fresno, the professional eater Geoffrey Esper downed 73 tacos in eight minutes, KFSN-TV reported.Competitive-eating contests have become major attractions at festivals and other events. Among the most popular is the annual Nathan’s Famous July Fourth hot dog eating contest on New York’s Coney Island, where Joey Chestnut, this year’s champion, ate 71. Esper finished third. TopicsCalifornianewsReuse this content'"
      ]
     },
     "metadata": {},
     "execution_count": 34
    }
   ],
   "metadata": {}
  },
  {
   "cell_type": "code",
   "execution_count": 35,
   "source": [
    "article_text.findAll(['a'])"
   ],
   "outputs": [
    {
     "output_type": "execute_result",
     "data": {
      "text/plain": [
       "[<a data-component=\"auto-linked-tag\" data-link-name=\"in body link\" href=\"https://www.theguardian.com/us-news/california\">California</a>,\n",
       " <a data-link-name=\"in body link\" href=\"https://www.theguardian.com/us-news/gallery/2016/jul/04/nathans-famous-hotdog-eating-contest-in-pictures\">New York’s Coney Island</a>,\n",
       " <a class=\"dcr-dlavgv\" href=\"/us-news/california\">California</a>,\n",
       " <a class=\"dcr-dlavgv\" href=\"/tone/news\">news</a>,\n",
       " <a aria-label=\"Share on Facebook\" data-ignore=\"global-link-styling\" href=\"https://www.facebook.com/dialog/share?app_id=180444840287&amp;href=https%3A%2F%2Fwww.theguardian.com%2Fus-news%2F2019%2Faug%2F14%2Ftaco-eating-contest-death-fresno-california&amp;CMP=share_btn_fb\" rel=\"noreferrer\" role=\"button\" target=\"_blank\"><span class=\"dcr-3hmq58\"><svg height=\"32\" viewbox=\"-2 -2 32 32\" width=\"32\"><path d=\"M17.9 14h-3v8H12v-8h-2v-2.9h2V8.7C12 6.8 13.1 5 16 5c1.2 0 2 .1 2 .1v3h-1.8c-1 0-1.2.5-1.2 1.3v1.8h3l-.1 2.8z\"></path></svg></span></a>,\n",
       " <a aria-label=\"Share on Twitter\" data-ignore=\"global-link-styling\" href=\"https://twitter.com/intent/tweet?text=Man%20dies%20after%20taco-eating%20contest%20in%20California&amp;url=https%3A%2F%2Fwww.theguardian.com%2Fus-news%2F2019%2Faug%2F14%2Ftaco-eating-contest-death-fresno-california&amp;CMP=share_btn_tw\" rel=\"noreferrer\" role=\"button\" target=\"_blank\"><span class=\"dcr-3hmq58\"><svg height=\"32\" viewbox=\"-2 -2 32 32\" width=\"32\"><path d=\"M21.3 10.5v.5c0 4.7-3.5 10.1-9.9 10.1-2 0-3.8-.6-5.3-1.6.3 0 .6.1.8.1 1.6 0 3.1-.6 4.3-1.5-1.5 0-2.8-1-3.3-2.4.2 0 .4.1.7.1l.9-.1c-1.6-.3-2.8-1.8-2.8-3.5.5.3 1 .4 1.6.4-.9-.6-1.6-1.7-1.6-2.9 0-.6.2-1.3.5-1.8 1.7 2.1 4.3 3.6 7.2 3.7-.1-.3-.1-.5-.1-.8 0-2 1.6-3.5 3.5-3.5 1 0 1.9.4 2.5 1.1.8-.1 1.5-.4 2.2-.8-.3.8-.8 1.5-1.5 1.9.7-.1 1.4-.3 2-.5-.4.4-1 1-1.7 1.5z\"></path></svg></span></a>,\n",
       " <a aria-label=\"Share via Email\" data-ignore=\"global-link-styling\" href=\"mailto:?subject=Man%20dies%20after%20taco-eating%20contest%20in%20California&amp;body=https%3A%2F%2Fwww.theguardian.com%2Fus-news%2F2019%2Faug%2F14%2Ftaco-eating-contest-death-fresno-california&amp;CMP=share_btn_link\" role=\"button\" target=\"_blank\"><span class=\"dcr-3hmq58\"><svg height=\"32\" viewbox=\"0 0 32 32\" width=\"32\"><path d=\"M23.363 20.875H8.637v-8.938l6.545 5.687h1.637l6.544-5.687v8.938zm-1.635-9.75L16 16l-5.728-4.875h11.456zM23.363 9.5H8.637L7 11.125v9.75L8.637 22.5h14.727L25 20.875v-9.75L23.363 9.5z\"></path></svg></span></a>,\n",
       " <a aria-label=\"Share on LinkedIn\" data-ignore=\"global-link-styling\" href=\"http://www.linkedin.com/shareArticle?title=Man%20dies%20after%20taco-eating%20contest%20in%20California&amp;mini=true&amp;url=https%3A%2F%2Fwww.theguardian.com%2Fus-news%2F2019%2Faug%2F14%2Ftaco-eating-contest-death-fresno-california\" rel=\"noreferrer\" role=\"button\" target=\"_blank\"><span class=\"dcr-3hmq58\"><svg height=\"30px\" viewbox=\"0 0 30 30\" width=\"30px\"><path d=\"M10.5759782,7.98522727 C11.440813,7.98522727 12.1437763,8.68819053 12.1437763,9.55336309 C12.1437763,10.4194645 11.440813,11.1224278 10.5759782,11.1224278 C9.70886352,11.1224278 9.00792683,10.4194645 9.00792683,9.55336309 C9.00792683,8.68819053 9.70886352,7.98522727 10.5759782,7.98522727 L10.5759782,7.98522727 Z M9.22265782,12.3124411 L11.9290453,12.3124411 L11.9290453,21.0164351 L9.22265782,21.0164351 L9.22265782,12.3124411 Z M13.6256988,12.3124411 L16.2209632,12.3124411 L16.2209632,13.5012723 L16.2578635,13.5012723 C16.6190979,12.8171392 17.5017496,12.0954302 18.8178319,12.0954302 C21.5552088,12.0954302 22.0608357,13.8977183 22.0608357,16.2421957 L22.0608357,21.0164351 L19.3587547,21.0164351 L19.3587547,16.7838785 C19.3587547,15.7738913 19.3389113,14.4756258 17.9525749,14.4756258 C16.5448751,14.4756258 16.3301441,15.5752884 16.3301441,16.7105846 L16.3301441,21.0164351 L13.6256988,21.0164351 L13.6256988,12.3124411\"></path></svg></span></a>,\n",
       " <a aria-label=\"Share on WhatsApp\" data-ignore=\"global-link-styling\" href='whatsapp://send?text=\"Man%20dies%20after%20taco-eating%20contest%20in%20California\" https%3A%2F%2Fwww.theguardian.com%2Fus-news%2F2019%2Faug%2F14%2Ftaco-eating-contest-death-fresno-california&amp;CMP=share_btn_wa' rel=\"noreferrer\" role=\"button\" target=\"_blank\"><span class=\"dcr-3hmq58\"><svg enable-background=\"new 0 0 30 30\" height=\"30px\" viewbox=\"0 0 30 30\" width=\"30px\"><path d=\"M22.09,7.87c-1.88-1.88-4.38-2.92-7.05-2.92c-5.49,0-9.96,4.47-9.96,9.96c0,1.75,0.46,3.47,1.33,4.98 L5,25.04l5.28-1.38c1.45,0.79,3.09,1.21,4.76,1.21c5.49,0,9.96-4.47,9.96-9.96C25,12.26,23.97,9.76,22.09,7.87 M15.04,23.19 c-1.49,0-2.95-0.4-4.22-1.15l-0.3-0.18l-3.13,0.82l0.84-3.05l-0.2-0.31C7.2,18,6.76,16.47,6.77,14.91c0-4.56,3.71-8.27,8.28-8.27 c2.21,0,4.29,0.86,5.85,2.43c1.56,1.56,2.42,3.64,2.42,5.85C23.32,19.48,19.6,23.19,15.04,23.19 M19.58,16.99 c-0.25-0.12-1.47-0.73-1.7-0.81s-0.39-0.12-0.56,0.12c-0.17,0.25-0.64,0.81-0.79,0.97c-0.14,0.17-0.29,0.19-0.54,0.06 c-0.25-0.12-1.05-0.39-2-1.23c-0.74-0.66-1.24-1.47-1.38-1.72c-0.15-0.25-0.02-0.38,0.11-0.51c0.11-0.11,0.25-0.29,0.37-0.44 c0.12-0.15,0.17-0.25,0.25-0.42c0.08-0.17,0.04-0.31-0.02-0.44c-0.06-0.12-0.56-1.35-0.77-1.85c-0.2-0.49-0.41-0.42-0.56-0.43 c-0.14-0.01-0.31-0.01-0.48-0.01c-0.17,0-0.44,0.06-0.66,0.31c-0.22,0.25-0.87,0.85-0.87,2.08c0,1.22,0.89,2.41,1.02,2.57 c0.12,0.17,1.75,2.68,4.25,3.76c0.59,0.26,1.06,0.41,1.42,0.52c0.6,0.19,1.14,0.16,1.57,0.1c0.48-0.07,1.47-0.6,1.68-1.18 s0.21-1.08,0.14-1.18C20,17.18,19.83,17.12,19.58,16.99\"></path></svg></span></a>,\n",
       " <a aria-label=\"Share on Messenger&gt;\" data-ignore=\"global-link-styling\" href=\"fb-messenger://share?link=https%3A%2F%2Fwww.theguardian.com%2Fus-news%2F2019%2Faug%2F14%2Ftaco-eating-contest-death-fresno-california&amp;app_id=180444840287&amp;CMP=share_btn_me\" rel=\"noreferrer\" role=\"button\" target=\"_blank\"><span class=\"dcr-3hmq58\"><svg height=\"66\" viewbox=\"-12 -12 90 90\" width=\"66\"><path clip-rule=\"evenodd\" d=\"M33 61.1c-3.6 0-7.1-.5-10.4-1.5L10.1 66V52.5C3.9 47 0 39.2 0 30.6 0 13.7 14.8 0 33 0s33 13.7 33 30.6c0 16.8-14.8 30.5-33 30.5zM36.5 41L28 32.2l-16.4 9 18-18.9 8.5 8.8 16.4-9-18 18.9z\" fill-rule=\"evenodd\"></path></svg></span></a>,\n",
       " <a class=\"dcr-u0yl5l\" data-link-name=\"meta-syndication-article\" href=\"https://syndication.theguardian.com/automation/?url=https%3A%2F%2Fwww.theguardian.com%2Fus-news%2F2019%2Faug%2F14%2Ftaco-eating-contest-death-fresno-california&amp;type=article&amp;internalpagecode=us-news/2019/aug/14/taco-eating-contest-death-fresno-california\" rel=\"noopener\" target=\"_blank\" title=\"Reuse this content\">Reuse this content</a>]"
      ]
     },
     "metadata": {},
     "execution_count": 35
    }
   ],
   "metadata": {}
  },
  {
   "cell_type": "markdown",
   "source": [
    "Say we are interested in how articles cite sources to back up their story i.e. their hyperlink behaviour within the article, and we want to see if the media has changed their behaviour.\n",
    "\n",
    "We know how to search for links. But the cool part is that we can search from anywhere in the HTML tree. This means that once we have located the article content node - as above - we can search from there. This results in hyperlinks used within the article text.\n"
   ],
   "metadata": {}
  },
  {
   "cell_type": "code",
   "execution_count": 36,
   "source": [
    "# example: finding citation links\n",
    "citations = article_text.findAll('a')\n",
    "\n",
    "citation_links = [] # define container to the hyperlinks\n",
    "for citation in citations: # iterate through each citation node\n",
    "    if citation.has_attr('data-link-name'): # check if it has the right attribute\n",
    "        if citation['data-link-name'] =='in body link': # and if the value of that attribute is correct\n",
    "            print(citation['href'])\n",
    "            citation_links.append(citation['href']) #  add link to the container\n",
    "\n",
    "citation_links"
   ],
   "outputs": [
    {
     "output_type": "stream",
     "name": "stdout",
     "text": [
      "https://www.theguardian.com/us-news/california\n",
      "https://www.theguardian.com/us-news/gallery/2016/jul/04/nathans-famous-hotdog-eating-contest-in-pictures\n"
     ]
    },
    {
     "output_type": "execute_result",
     "data": {
      "text/plain": [
       "['https://www.theguardian.com/us-news/california',\n",
       " 'https://www.theguardian.com/us-news/gallery/2016/jul/04/nathans-famous-hotdog-eating-contest-in-pictures']"
      ]
     },
     "metadata": {},
     "execution_count": 36
    }
   ],
   "metadata": {}
  },
  {
   "cell_type": "markdown",
   "source": [
    "## Creating a dataset from www.bold.dk\n",
    "\n",
    "### Let's put together some of the stuff we have learned so far\n",
    "1. **Investigate:** In this example we will try to investigate the website to uderstand its structure. \n",
    "2. **Mapping:** Then we will try to collect all the urls and save them into a list\n",
    "3. **Parsing:** At last, we will try to collect the information in each url in a simpel loop.\n",
    "\n",
    "#### First, we pay around with the site trying to understand its structure"
   ],
   "metadata": {}
  },
  {
   "cell_type": "code",
   "execution_count": 37,
   "source": [
    "len(soup.find_all('div',{'class':'news_list_item'}))\n",
    "articles[0].a['href']\n",
    "type(articles)\n"
   ],
   "outputs": [
    {
     "output_type": "error",
     "ename": "NameError",
     "evalue": "name 'articles' is not defined",
     "traceback": [
      "\u001b[0;31m---------------------------------------------------------------------------\u001b[0m",
      "\u001b[0;31mNameError\u001b[0m                                 Traceback (most recent call last)",
      "\u001b[0;32m<ipython-input-37-70b43e4f141b>\u001b[0m in \u001b[0;36m<module>\u001b[0;34m\u001b[0m\n\u001b[1;32m      1\u001b[0m \u001b[0mlen\u001b[0m\u001b[0;34m(\u001b[0m\u001b[0msoup\u001b[0m\u001b[0;34m.\u001b[0m\u001b[0mfind_all\u001b[0m\u001b[0;34m(\u001b[0m\u001b[0;34m'div'\u001b[0m\u001b[0;34m,\u001b[0m\u001b[0;34m{\u001b[0m\u001b[0;34m'class'\u001b[0m\u001b[0;34m:\u001b[0m\u001b[0;34m'news_list_item'\u001b[0m\u001b[0;34m}\u001b[0m\u001b[0;34m)\u001b[0m\u001b[0;34m)\u001b[0m\u001b[0;34m\u001b[0m\u001b[0;34m\u001b[0m\u001b[0m\n\u001b[0;32m----> 2\u001b[0;31m \u001b[0marticles\u001b[0m\u001b[0;34m[\u001b[0m\u001b[0;36m0\u001b[0m\u001b[0;34m]\u001b[0m\u001b[0;34m.\u001b[0m\u001b[0ma\u001b[0m\u001b[0;34m[\u001b[0m\u001b[0;34m'href'\u001b[0m\u001b[0;34m]\u001b[0m\u001b[0;34m\u001b[0m\u001b[0;34m\u001b[0m\u001b[0m\n\u001b[0m\u001b[1;32m      3\u001b[0m \u001b[0mtype\u001b[0m\u001b[0;34m(\u001b[0m\u001b[0marticles\u001b[0m\u001b[0;34m)\u001b[0m\u001b[0;34m\u001b[0m\u001b[0;34m\u001b[0m\u001b[0m\n",
      "\u001b[0;31mNameError\u001b[0m: name 'articles' is not defined"
     ]
    }
   ],
   "metadata": {}
  },
  {
   "cell_type": "code",
   "execution_count": null,
   "source": [
    "# define our URL\n",
    "url = 'https://www.bold.dk/' \n",
    "\n",
    "# connects to site\n",
    "response = requests.get(url)\n",
    "\n",
    "# parse data with BeautifulSoup\n",
    "soup = BeautifulSoup(response.text,'lxml') # parse the HTML\n",
    "\n",
    "#identify articles to scrape by inspecting site\n",
    "articles = soup.find_all('div',{'class':'news_list_item'}) # search for the ul node\n",
    "\n",
    "# checking if articles match website\n",
    "for i in range(len(articles)):\n",
    "    print(articles[i].text.strip())\n",
    "\n",
    "# identifying how to find an url from an article\n",
    "article_url = articles[0].attrs['data-vr-contentbox-url']\n",
    "print(article_url)"
   ],
   "outputs": [],
   "metadata": {}
  },
  {
   "cell_type": "code",
   "execution_count": null,
   "source": [
    "articles[0]"
   ],
   "outputs": [],
   "metadata": {}
  },
  {
   "cell_type": "markdown",
   "source": [
    "#### Second, we create a list of urls that we want to scrape"
   ],
   "metadata": {}
  },
  {
   "cell_type": "code",
   "execution_count": null,
   "source": [
    "url = 'https://www.bold.dk/' \n",
    "response = requests.get(url)\n",
    "soup = BeautifulSoup(response.text,'lxml')\n",
    "articles = soup.find_all('div',{'class':'news_list_item'})\n",
    "\n",
    "#create an empty list\n",
    "list_of_article_urls = []\n",
    "\n",
    "# creating a loop that appends the article url to the list above\n",
    "for i in range(len(articles)):\n",
    "    list_of_article_urls.append(articles[i].attrs['data-vr-contentbox-url'])\n",
    "\n",
    "#printing the list\n",
    "list_of_article_urls\n",
    "\n",
    "#printing one example\n",
    "#print(list_of_article_urls[0])"
   ],
   "outputs": [],
   "metadata": {}
  },
  {
   "cell_type": "markdown",
   "source": [
    "#### Third, we scrape each site from the url list"
   ],
   "metadata": {}
  },
  {
   "cell_type": "code",
   "execution_count": null,
   "source": [
    "# this step usually reuqiere a new step of investigation\n",
    "# to figure out what information you want to download\n",
    "# in this example we want the title, the lead and time posted\n",
    "\n",
    "# creatig empty list for the infomation we want to extract for every article\n",
    "h1_list = []\n",
    "lead = []\n",
    "time_posted = []\n",
    "\n",
    "for i in range(len(list_of_article_urls)): # 10 #len(list_of_article_urls)\n",
    "    \n",
    "    # this time we scrape for each news article in the url list we created before\n",
    "    url = list_of_article_urls[i]\n",
    "    response = requests.get(url)\n",
    "    soup = BeautifulSoup(response.text,'lxml')\n",
    "    \n",
    "    # pedagogical way of append title to list\n",
    "    temp_1 = soup.find_all('h1')\n",
    "    temp_1 = temp_1[1]\n",
    "    temp_1 = temp_1.text.strip()\n",
    "    h1_list.append(temp_1)\n",
    "    \n",
    "    # how I would actually do it\n",
    "    lead.append(soup.find_all('div',{'class':'lead'})[0].text.strip())\n",
    "    \n",
    "    # sometimes you make wierd things - that works\n",
    "    temp_3 = soup.find_all('time')\n",
    "    temp_3 = temp_3[0]\n",
    "    temp_3 = str(temp_3)[16:32]\n",
    "    time_posted.append(temp_3)"
   ],
   "outputs": [],
   "metadata": {}
  },
  {
   "cell_type": "code",
   "execution_count": null,
   "source": [
    "# h1 \n",
    "soup.find_all('h1')"
   ],
   "outputs": [],
   "metadata": {}
  },
  {
   "cell_type": "code",
   "execution_count": null,
   "source": [
    "soup.find_all('h1')[1]"
   ],
   "outputs": [],
   "metadata": {}
  },
  {
   "cell_type": "code",
   "execution_count": null,
   "source": [
    "soup.find_all('h1')[1].text.strip()"
   ],
   "outputs": [],
   "metadata": {}
  },
  {
   "cell_type": "code",
   "execution_count": null,
   "source": [
    "# lead\n",
    "soup.find_all('div',{'class':'lead'})[0].text.strip()"
   ],
   "outputs": [],
   "metadata": {}
  },
  {
   "cell_type": "code",
   "execution_count": null,
   "source": [
    "# time_posted\n",
    "soup.find_all('time')[0]"
   ],
   "outputs": [],
   "metadata": {}
  },
  {
   "cell_type": "markdown",
   "source": [
    "#### Lastly, we put our collected information into a dataframe"
   ],
   "metadata": {}
  },
  {
   "cell_type": "code",
   "execution_count": null,
   "source": [
    "import pandas as pd\n",
    "df = pd.DataFrame({'title':h1_list, 'lead':lead, 'time':time_posted})\n",
    "df"
   ],
   "outputs": [],
   "metadata": {
    "scrolled": true
   }
  },
  {
   "cell_type": "code",
   "execution_count": null,
   "source": [
    "# saving df\n",
    "df.to_csv('df_bold.dk.csv')\n",
    "\n",
    "# loading df\n",
    "pd.read_csv('df_bold.dk.csv', index_col=0)"
   ],
   "outputs": [],
   "metadata": {
    "scrolled": false
   }
  },
  {
   "cell_type": "markdown",
   "source": [
    "# Exercise Set 7: Web Scraping 2\n",
    "\n",
    "In this Exercise Set we shall develop our webscraping skills even further by practicing **parsing** and navigating html trees using `BeautifoulSoup` and furthermore train extracting information from raw text with no html tags to help, using regular expressions. \n",
    "\n",
    "But just as importantly you will get a chance to think about **data quality issues** and how to ensure reliability when curating your own webdata. "
   ],
   "metadata": {
    "ExecuteTime": {
     "end_time": "2017-08-23T15:30:03.634114Z",
     "start_time": "2017-08-23T15:30:03.629294Z"
    }
   }
  },
  {
   "cell_type": "markdown",
   "source": [
    "## Exercise Section 7.1: Logging and data quality\n",
    "\n",
    "> **Ex. 7.1.1:** *`Why` is it important to log processes in your data collection?*\n",
    "\n"
   ],
   "metadata": {}
  },
  {
   "cell_type": "markdown",
   "source": [],
   "metadata": {}
  },
  {
   "cell_type": "markdown",
   "source": [
    "> **Ex. 7.1.2:**\n",
    "*`How` does logging help with both ensuring and documenting the quality of your data?*\n"
   ],
   "metadata": {}
  },
  {
   "cell_type": "markdown",
   "source": [],
   "metadata": {}
  },
  {
   "cell_type": "markdown",
   "source": [
    "## Exercise Section 7.2: Parsing a Table from HTML using BeautifulSoup.\n",
    "\n",
    "In module_6 I showed you a neat little prepackaged function in pandas that did all the work. However today we should learn the mechanics of it. *(It is not just for educational purposes, sometimes the package will not do exactly as you want.)*\n",
    "\n",
    "We hit the Basketball stats page from yesterday again: https://www.basketball-reference.com/leagues/NBA_2018.html.\n"
   ],
   "metadata": {}
  },
  {
   "cell_type": "markdown",
   "source": [
    "> **Ex. 7.2.1:** Here we practice simply locating the table node of interest using the `find` method build into BeautifoulSoup. But first we have to fetch the HTML using the `requests` module. Parse the tree using `BeautifulSoup`. And then use the **>Inspector<** tool (* right click on the table < press inspect element *) in your browser to see how to locate the Eastern Conference table node - i.e. the *tag* name of the node, and maybe some defining *attributes*."
   ],
   "metadata": {}
  },
  {
   "cell_type": "code",
   "execution_count": 39,
   "source": [
    "import requests\n",
    "url = 'https://www.basketball-reference.com/leagues/NBA_2018.html' # link to the website\n",
    "response = requests.get(url)\n",
    "soup = BeautifulSoup(response.content, 'html.parser')\n",
    "table_E = soup.findAll('table', {'id' : 'confs_standings_E'})"
   ],
   "outputs": [],
   "metadata": {}
  },
  {
   "cell_type": "code",
   "execution_count": null,
   "source": [
    "table_E[0].text"
   ],
   "outputs": [],
   "metadata": {}
  },
  {
   "cell_type": "markdown",
   "source": [
    "You have located the table should now build a function that starts at a \"table node\" and parses the information, and outputs a pandas DataFrame. \n",
    "\n",
    "Inspect the element either within the notebook or through the **>Inspector<** tool and start to see how a table is written in html. Which tag names can be used to locate rows? How will you iterate through columns. Were is the header located?\n",
    "\n",
    "> **Ex. 7.2.2:** First you parse the header which can be found in the canonical tag name: thead. \n",
    "Next you use the `find_all` method to search for the tag, and iterate through each of the elements extracting the text, using the `.text` method builtin to the the node object. Store the header values in a list container. \n",
    "\n",
    "> **Ex. 7.2.3:** Next you locate the rows, using the canonical tag name: tbody. And from here you search for all rows tags. Fiugre out the tag name yourself, inspecting the tbody node in python or using the **Inspector**. \n",
    "\n",
    "> **Ex. 7.2.4:** Next run through all the rows and extract each value, similar to how you extracted the header. However here is a slight variation: Since each value node can have a different tag depending on whether it is a digit or a string, you should use the `.children` method instead of the `.find_all` - (or write compile a regex that matches both the td tag and the th tag.) \n",
    ">Once the value nodes of each row has been located using the `.children` method you should extract the value. Store the extracted rows as a list of lists: ```[[val1,val2,...valk],...]```"
   ],
   "metadata": {}
  },
  {
   "cell_type": "code",
   "execution_count": 40,
   "source": [
    "from collections import defaultdict\n",
    "\n",
    "def bb_func(table_soup):\n",
    "    # Define empty lists\n",
    "    header_list = []\n",
    "    rows_list = []\n",
    "    columns = []\n",
    "    dict_bb = defaultdict(list)\n",
    "\n",
    "    # Add the header to the list\n",
    "    header_list.append(table_soup.findAll('th')[0].text)\n",
    "\n",
    "    # Find all the columns and add to the columns list\n",
    "    col = table_soup.find('thead').findAll('th', {'scope': 'col'})\n",
    "    for i in range(len(col)):\n",
    "        columns.append(col[i].text)\n",
    "    \n",
    "    # Add the rows to the row list\n",
    "    row = table_soup.find('tbody').findAll('a')\n",
    "    for i in range(len(row)):\n",
    "        rows_list.append(row[i].text)\n",
    "    \n",
    "    # Get the row values\n",
    "    values = table_soup.find('tbody').findAll('td')\n",
    "    for i in range(len(values)):\n",
    "        key = table_soup.find('tbody').findAll('td')[i]['data-stat']\n",
    "        value = table_soup.find('tbody').findAll('td')[i].text\n",
    "        dict_bb[key].append(value)\n",
    "\n",
    "    # Make the DataFrame to return\n",
    "    #new_cols = list(set(columns).difference(header_list))\n",
    "    new_cols = columns[1:]\n",
    "    df_bb = pd.DataFrame( data = dict_bb.values()).transpose()\n",
    "    df_bb.index = rows_list\n",
    "    df_bb.columns = new_cols\n",
    "\n",
    "    return df_bb\n"
   ],
   "outputs": [],
   "metadata": {}
  },
  {
   "cell_type": "code",
   "execution_count": 41,
   "source": [
    "df = bb_func(soup)\n",
    "df"
   ],
   "outputs": [
    {
     "output_type": "execute_result",
     "data": {
      "text/plain": [
       "                      W   L  W/L%    GB   PS/G   PA/G    SRS\n",
       "Toronto Raptors      59  23  .720     —  111.7  103.9   7.29\n",
       "Boston Celtics       55  27  .671   4.0  104.0  100.4   3.23\n",
       "Philadelphia 76ers   52  30  .634   7.0  109.8  105.3   4.30\n",
       "Cleveland Cavaliers  50  32  .610   9.0  110.9  109.9   0.59\n",
       "Indiana Pacers       48  34  .585  11.0  105.6  104.2   1.18\n",
       "Miami Heat           44  38  .537  15.0  103.4  102.9   0.15\n",
       "Milwaukee Bucks      44  38  .537  15.0  106.5  106.8  -0.45\n",
       "Washington Wizards   43  39  .524  16.0  106.6  106.0   0.53\n",
       "Detroit Pistons      39  43  .476  20.0  103.8  103.9  -0.26\n",
       "Charlotte Hornets    36  46  .439  23.0  108.2  108.0   0.07\n",
       "New York Knicks      29  53  .354  30.0  104.5  108.0  -3.53\n",
       "Brooklyn Nets        28  54  .341  31.0  106.6  110.3  -3.67\n",
       "Chicago Bulls        27  55  .329  32.0  102.9  110.0  -6.84\n",
       "Orlando Magic        25  57  .305  34.0  103.4  108.2  -4.92\n",
       "Atlanta Hawks        24  58  .293  35.0  103.4  108.8  -5.30"
      ],
      "text/html": [
       "<div>\n",
       "<style scoped>\n",
       "    .dataframe tbody tr th:only-of-type {\n",
       "        vertical-align: middle;\n",
       "    }\n",
       "\n",
       "    .dataframe tbody tr th {\n",
       "        vertical-align: top;\n",
       "    }\n",
       "\n",
       "    .dataframe thead th {\n",
       "        text-align: right;\n",
       "    }\n",
       "</style>\n",
       "<table border=\"1\" class=\"dataframe\">\n",
       "  <thead>\n",
       "    <tr style=\"text-align: right;\">\n",
       "      <th></th>\n",
       "      <th>W</th>\n",
       "      <th>L</th>\n",
       "      <th>W/L%</th>\n",
       "      <th>GB</th>\n",
       "      <th>PS/G</th>\n",
       "      <th>PA/G</th>\n",
       "      <th>SRS</th>\n",
       "    </tr>\n",
       "  </thead>\n",
       "  <tbody>\n",
       "    <tr>\n",
       "      <th>Toronto Raptors</th>\n",
       "      <td>59</td>\n",
       "      <td>23</td>\n",
       "      <td>.720</td>\n",
       "      <td>—</td>\n",
       "      <td>111.7</td>\n",
       "      <td>103.9</td>\n",
       "      <td>7.29</td>\n",
       "    </tr>\n",
       "    <tr>\n",
       "      <th>Boston Celtics</th>\n",
       "      <td>55</td>\n",
       "      <td>27</td>\n",
       "      <td>.671</td>\n",
       "      <td>4.0</td>\n",
       "      <td>104.0</td>\n",
       "      <td>100.4</td>\n",
       "      <td>3.23</td>\n",
       "    </tr>\n",
       "    <tr>\n",
       "      <th>Philadelphia 76ers</th>\n",
       "      <td>52</td>\n",
       "      <td>30</td>\n",
       "      <td>.634</td>\n",
       "      <td>7.0</td>\n",
       "      <td>109.8</td>\n",
       "      <td>105.3</td>\n",
       "      <td>4.30</td>\n",
       "    </tr>\n",
       "    <tr>\n",
       "      <th>Cleveland Cavaliers</th>\n",
       "      <td>50</td>\n",
       "      <td>32</td>\n",
       "      <td>.610</td>\n",
       "      <td>9.0</td>\n",
       "      <td>110.9</td>\n",
       "      <td>109.9</td>\n",
       "      <td>0.59</td>\n",
       "    </tr>\n",
       "    <tr>\n",
       "      <th>Indiana Pacers</th>\n",
       "      <td>48</td>\n",
       "      <td>34</td>\n",
       "      <td>.585</td>\n",
       "      <td>11.0</td>\n",
       "      <td>105.6</td>\n",
       "      <td>104.2</td>\n",
       "      <td>1.18</td>\n",
       "    </tr>\n",
       "    <tr>\n",
       "      <th>Miami Heat</th>\n",
       "      <td>44</td>\n",
       "      <td>38</td>\n",
       "      <td>.537</td>\n",
       "      <td>15.0</td>\n",
       "      <td>103.4</td>\n",
       "      <td>102.9</td>\n",
       "      <td>0.15</td>\n",
       "    </tr>\n",
       "    <tr>\n",
       "      <th>Milwaukee Bucks</th>\n",
       "      <td>44</td>\n",
       "      <td>38</td>\n",
       "      <td>.537</td>\n",
       "      <td>15.0</td>\n",
       "      <td>106.5</td>\n",
       "      <td>106.8</td>\n",
       "      <td>-0.45</td>\n",
       "    </tr>\n",
       "    <tr>\n",
       "      <th>Washington Wizards</th>\n",
       "      <td>43</td>\n",
       "      <td>39</td>\n",
       "      <td>.524</td>\n",
       "      <td>16.0</td>\n",
       "      <td>106.6</td>\n",
       "      <td>106.0</td>\n",
       "      <td>0.53</td>\n",
       "    </tr>\n",
       "    <tr>\n",
       "      <th>Detroit Pistons</th>\n",
       "      <td>39</td>\n",
       "      <td>43</td>\n",
       "      <td>.476</td>\n",
       "      <td>20.0</td>\n",
       "      <td>103.8</td>\n",
       "      <td>103.9</td>\n",
       "      <td>-0.26</td>\n",
       "    </tr>\n",
       "    <tr>\n",
       "      <th>Charlotte Hornets</th>\n",
       "      <td>36</td>\n",
       "      <td>46</td>\n",
       "      <td>.439</td>\n",
       "      <td>23.0</td>\n",
       "      <td>108.2</td>\n",
       "      <td>108.0</td>\n",
       "      <td>0.07</td>\n",
       "    </tr>\n",
       "    <tr>\n",
       "      <th>New York Knicks</th>\n",
       "      <td>29</td>\n",
       "      <td>53</td>\n",
       "      <td>.354</td>\n",
       "      <td>30.0</td>\n",
       "      <td>104.5</td>\n",
       "      <td>108.0</td>\n",
       "      <td>-3.53</td>\n",
       "    </tr>\n",
       "    <tr>\n",
       "      <th>Brooklyn Nets</th>\n",
       "      <td>28</td>\n",
       "      <td>54</td>\n",
       "      <td>.341</td>\n",
       "      <td>31.0</td>\n",
       "      <td>106.6</td>\n",
       "      <td>110.3</td>\n",
       "      <td>-3.67</td>\n",
       "    </tr>\n",
       "    <tr>\n",
       "      <th>Chicago Bulls</th>\n",
       "      <td>27</td>\n",
       "      <td>55</td>\n",
       "      <td>.329</td>\n",
       "      <td>32.0</td>\n",
       "      <td>102.9</td>\n",
       "      <td>110.0</td>\n",
       "      <td>-6.84</td>\n",
       "    </tr>\n",
       "    <tr>\n",
       "      <th>Orlando Magic</th>\n",
       "      <td>25</td>\n",
       "      <td>57</td>\n",
       "      <td>.305</td>\n",
       "      <td>34.0</td>\n",
       "      <td>103.4</td>\n",
       "      <td>108.2</td>\n",
       "      <td>-4.92</td>\n",
       "    </tr>\n",
       "    <tr>\n",
       "      <th>Atlanta Hawks</th>\n",
       "      <td>24</td>\n",
       "      <td>58</td>\n",
       "      <td>.293</td>\n",
       "      <td>35.0</td>\n",
       "      <td>103.4</td>\n",
       "      <td>108.8</td>\n",
       "      <td>-5.30</td>\n",
       "    </tr>\n",
       "  </tbody>\n",
       "</table>\n",
       "</div>"
      ]
     },
     "metadata": {},
     "execution_count": 41
    }
   ],
   "metadata": {}
  },
  {
   "cell_type": "markdown",
   "source": [
    "> **Ex. 7.2.5:** Now locate all tables from the page, using the `.find_all` method searching for the table tag name. Iterate through the table nodes and apply the function created for parsing html tables. Store each table in a dictionary using the table name as key. The name is found by accessing the id attribute of each table node, using dictionary-style syntax - i.e. `table_node['id']`."
   ],
   "metadata": {}
  },
  {
   "cell_type": "code",
   "execution_count": 55,
   "source": [
    "tables = soup.findAll('table')\n",
    "table_dict = {}\n",
    "for i in range(len(tables)):\n",
    "    table_dict[f'table{i}'] = bb_func(tables[i])"
   ],
   "outputs": [
    {
     "output_type": "error",
     "ename": "ValueError",
     "evalue": "Length mismatch: Expected axis has 90 elements, new values have 30 elements",
     "traceback": [
      "\u001b[0;31m---------------------------------------------------------------------------\u001b[0m",
      "\u001b[0;31mValueError\u001b[0m                                Traceback (most recent call last)",
      "\u001b[0;32m<ipython-input-55-deeebc49012c>\u001b[0m in \u001b[0;36m<module>\u001b[0;34m\u001b[0m\n\u001b[1;32m      2\u001b[0m \u001b[0mtable_dict\u001b[0m \u001b[0;34m=\u001b[0m \u001b[0;34m{\u001b[0m\u001b[0;34m}\u001b[0m\u001b[0;34m\u001b[0m\u001b[0;34m\u001b[0m\u001b[0m\n\u001b[1;32m      3\u001b[0m \u001b[0;32mfor\u001b[0m \u001b[0mi\u001b[0m \u001b[0;32min\u001b[0m \u001b[0mrange\u001b[0m\u001b[0;34m(\u001b[0m\u001b[0mlen\u001b[0m\u001b[0;34m(\u001b[0m\u001b[0mtables\u001b[0m\u001b[0;34m)\u001b[0m\u001b[0;34m)\u001b[0m\u001b[0;34m:\u001b[0m\u001b[0;34m\u001b[0m\u001b[0;34m\u001b[0m\u001b[0m\n\u001b[0;32m----> 4\u001b[0;31m     \u001b[0mtable_dict\u001b[0m\u001b[0;34m[\u001b[0m\u001b[0;34mf'table{i}'\u001b[0m\u001b[0;34m]\u001b[0m \u001b[0;34m=\u001b[0m \u001b[0mbb_func\u001b[0m\u001b[0;34m(\u001b[0m\u001b[0mtables\u001b[0m\u001b[0;34m[\u001b[0m\u001b[0mi\u001b[0m\u001b[0;34m]\u001b[0m\u001b[0;34m)\u001b[0m\u001b[0;34m\u001b[0m\u001b[0;34m\u001b[0m\u001b[0m\n\u001b[0m",
      "\u001b[0;32m<ipython-input-40-da525170a599>\u001b[0m in \u001b[0;36mbb_func\u001b[0;34m(table_soup)\u001b[0m\n\u001b[1;32m     32\u001b[0m     \u001b[0mnew_cols\u001b[0m \u001b[0;34m=\u001b[0m \u001b[0mcolumns\u001b[0m\u001b[0;34m[\u001b[0m\u001b[0;36m1\u001b[0m\u001b[0;34m:\u001b[0m\u001b[0;34m]\u001b[0m\u001b[0;34m\u001b[0m\u001b[0;34m\u001b[0m\u001b[0m\n\u001b[1;32m     33\u001b[0m     \u001b[0mdf_bb\u001b[0m \u001b[0;34m=\u001b[0m \u001b[0mpd\u001b[0m\u001b[0;34m.\u001b[0m\u001b[0mDataFrame\u001b[0m\u001b[0;34m(\u001b[0m \u001b[0mdata\u001b[0m \u001b[0;34m=\u001b[0m \u001b[0mdict_bb\u001b[0m\u001b[0;34m.\u001b[0m\u001b[0mvalues\u001b[0m\u001b[0;34m(\u001b[0m\u001b[0;34m)\u001b[0m\u001b[0;34m)\u001b[0m\u001b[0;34m.\u001b[0m\u001b[0mtranspose\u001b[0m\u001b[0;34m(\u001b[0m\u001b[0;34m)\u001b[0m\u001b[0;34m\u001b[0m\u001b[0;34m\u001b[0m\u001b[0m\n\u001b[0;32m---> 34\u001b[0;31m     \u001b[0mdf_bb\u001b[0m\u001b[0;34m.\u001b[0m\u001b[0mindex\u001b[0m \u001b[0;34m=\u001b[0m \u001b[0mrows_list\u001b[0m\u001b[0;34m\u001b[0m\u001b[0;34m\u001b[0m\u001b[0m\n\u001b[0m\u001b[1;32m     35\u001b[0m     \u001b[0mdf_bb\u001b[0m\u001b[0;34m.\u001b[0m\u001b[0mcolumns\u001b[0m \u001b[0;34m=\u001b[0m \u001b[0mnew_cols\u001b[0m\u001b[0;34m\u001b[0m\u001b[0;34m\u001b[0m\u001b[0m\n\u001b[1;32m     36\u001b[0m \u001b[0;34m\u001b[0m\u001b[0m\n",
      "\u001b[0;32m/usr/local/lib/python3.9/site-packages/pandas/core/generic.py\u001b[0m in \u001b[0;36m__setattr__\u001b[0;34m(self, name, value)\u001b[0m\n\u001b[1;32m   5476\u001b[0m         \u001b[0;32mtry\u001b[0m\u001b[0;34m:\u001b[0m\u001b[0;34m\u001b[0m\u001b[0;34m\u001b[0m\u001b[0m\n\u001b[1;32m   5477\u001b[0m             \u001b[0mobject\u001b[0m\u001b[0;34m.\u001b[0m\u001b[0m__getattribute__\u001b[0m\u001b[0;34m(\u001b[0m\u001b[0mself\u001b[0m\u001b[0;34m,\u001b[0m \u001b[0mname\u001b[0m\u001b[0;34m)\u001b[0m\u001b[0;34m\u001b[0m\u001b[0;34m\u001b[0m\u001b[0m\n\u001b[0;32m-> 5478\u001b[0;31m             \u001b[0;32mreturn\u001b[0m \u001b[0mobject\u001b[0m\u001b[0;34m.\u001b[0m\u001b[0m__setattr__\u001b[0m\u001b[0;34m(\u001b[0m\u001b[0mself\u001b[0m\u001b[0;34m,\u001b[0m \u001b[0mname\u001b[0m\u001b[0;34m,\u001b[0m \u001b[0mvalue\u001b[0m\u001b[0;34m)\u001b[0m\u001b[0;34m\u001b[0m\u001b[0;34m\u001b[0m\u001b[0m\n\u001b[0m\u001b[1;32m   5479\u001b[0m         \u001b[0;32mexcept\u001b[0m \u001b[0mAttributeError\u001b[0m\u001b[0;34m:\u001b[0m\u001b[0;34m\u001b[0m\u001b[0;34m\u001b[0m\u001b[0m\n\u001b[1;32m   5480\u001b[0m             \u001b[0;32mpass\u001b[0m\u001b[0;34m\u001b[0m\u001b[0;34m\u001b[0m\u001b[0m\n",
      "\u001b[0;32mpandas/_libs/properties.pyx\u001b[0m in \u001b[0;36mpandas._libs.properties.AxisProperty.__set__\u001b[0;34m()\u001b[0m\n",
      "\u001b[0;32m/usr/local/lib/python3.9/site-packages/pandas/core/generic.py\u001b[0m in \u001b[0;36m_set_axis\u001b[0;34m(self, axis, labels)\u001b[0m\n\u001b[1;32m    668\u001b[0m     \u001b[0;32mdef\u001b[0m \u001b[0m_set_axis\u001b[0m\u001b[0;34m(\u001b[0m\u001b[0mself\u001b[0m\u001b[0;34m,\u001b[0m \u001b[0maxis\u001b[0m\u001b[0;34m:\u001b[0m \u001b[0mint\u001b[0m\u001b[0;34m,\u001b[0m \u001b[0mlabels\u001b[0m\u001b[0;34m:\u001b[0m \u001b[0mIndex\u001b[0m\u001b[0;34m)\u001b[0m \u001b[0;34m->\u001b[0m \u001b[0;32mNone\u001b[0m\u001b[0;34m:\u001b[0m\u001b[0;34m\u001b[0m\u001b[0;34m\u001b[0m\u001b[0m\n\u001b[1;32m    669\u001b[0m         \u001b[0mlabels\u001b[0m \u001b[0;34m=\u001b[0m \u001b[0mensure_index\u001b[0m\u001b[0;34m(\u001b[0m\u001b[0mlabels\u001b[0m\u001b[0;34m)\u001b[0m\u001b[0;34m\u001b[0m\u001b[0;34m\u001b[0m\u001b[0m\n\u001b[0;32m--> 670\u001b[0;31m         \u001b[0mself\u001b[0m\u001b[0;34m.\u001b[0m\u001b[0m_mgr\u001b[0m\u001b[0;34m.\u001b[0m\u001b[0mset_axis\u001b[0m\u001b[0;34m(\u001b[0m\u001b[0maxis\u001b[0m\u001b[0;34m,\u001b[0m \u001b[0mlabels\u001b[0m\u001b[0;34m)\u001b[0m\u001b[0;34m\u001b[0m\u001b[0;34m\u001b[0m\u001b[0m\n\u001b[0m\u001b[1;32m    671\u001b[0m         \u001b[0mself\u001b[0m\u001b[0;34m.\u001b[0m\u001b[0m_clear_item_cache\u001b[0m\u001b[0;34m(\u001b[0m\u001b[0;34m)\u001b[0m\u001b[0;34m\u001b[0m\u001b[0;34m\u001b[0m\u001b[0m\n\u001b[1;32m    672\u001b[0m \u001b[0;34m\u001b[0m\u001b[0m\n",
      "\u001b[0;32m/usr/local/lib/python3.9/site-packages/pandas/core/internals/managers.py\u001b[0m in \u001b[0;36mset_axis\u001b[0;34m(self, axis, new_labels)\u001b[0m\n\u001b[1;32m    218\u001b[0m \u001b[0;34m\u001b[0m\u001b[0m\n\u001b[1;32m    219\u001b[0m         \u001b[0;32mif\u001b[0m \u001b[0mnew_len\u001b[0m \u001b[0;34m!=\u001b[0m \u001b[0mold_len\u001b[0m\u001b[0;34m:\u001b[0m\u001b[0;34m\u001b[0m\u001b[0;34m\u001b[0m\u001b[0m\n\u001b[0;32m--> 220\u001b[0;31m             raise ValueError(\n\u001b[0m\u001b[1;32m    221\u001b[0m                 \u001b[0;34mf\"Length mismatch: Expected axis has {old_len} elements, new \"\u001b[0m\u001b[0;34m\u001b[0m\u001b[0;34m\u001b[0m\u001b[0m\n\u001b[1;32m    222\u001b[0m                 \u001b[0;34mf\"values have {new_len} elements\"\u001b[0m\u001b[0;34m\u001b[0m\u001b[0;34m\u001b[0m\u001b[0m\n",
      "\u001b[0;31mValueError\u001b[0m: Length mismatch: Expected axis has 90 elements, new values have 30 elements"
     ]
    }
   ],
   "metadata": {}
  },
  {
   "cell_type": "code",
   "execution_count": 64,
   "source": [
    "tables[10]"
   ],
   "outputs": [
    {
     "output_type": "execute_result",
     "data": {
      "text/plain": [
       "<table class=\"stats_table sortable\" data-cols-to-freeze=\",2\" id=\"advanced-team\"> <caption>Advanced Stats Table</caption> <colgroup><col/><col/><col/><col/><col/><col/><col/><col/><col/><col/><col/><col/><col/><col/><col/><col/><col/><col/><col/><col/><col/><col/><col/><col/><col/><col/><col/><col/><col/><col/><col/></colgroup> <thead> <tr class=\"over_header\"> <th aria-label=\"\" class=\"over_header center\" colspan=\"18\" data-stat=\"\"></th> <th aria-label=\"\" class=\"over_header center\" colspan=\"4\" data-stat=\"ff_off\">Offense Four Factors</th><th></th> <th aria-label=\"\" class=\"over_header center\" colspan=\"4\" data-stat=\"ff_def\">Defense Four Factors</th> <th aria-label=\"\" class=\"over_header center\" colspan=\"4\" data-stat=\"\"></th> </tr> <tr> <th aria-label=\"Rank\" class=\"ranker poptip sort_default_asc show_partial_when_sorting center\" data-stat=\"ranker\" data-tip=\"Rank\" scope=\"col\">Rk</th> <th aria-label=\"team\" class=\"poptip center\" data-stat=\"team\" scope=\"col\">Team</th> <th aria-label=\"Player's age on February 1 of the season\" class=\"poptip sort_default_asc center\" data-stat=\"age\" data-tip=\"Player's age on February 1 of the season\" scope=\"col\">Age</th> <th aria-label=\"Wins\" class=\"poptip center\" data-stat=\"wins\" data-tip=\"Wins\" scope=\"col\">W</th> <th aria-label=\"Losses\" class=\"poptip center\" data-stat=\"losses\" data-tip=\"Losses\" scope=\"col\">L</th> <th aria-label=\"Pythagorean wins, i.e., expected wins based on points scored and allowed\" class=\"poptip center\" data-stat=\"wins_pyth\" data-tip=\"Pythagorean wins, i.e., expected wins based on points scored and allowed\" scope=\"col\">PW</th> <th aria-label=\"Pythagorean losses, i.e., expected losses based on points scored and allowed\" class=\"poptip center\" data-stat=\"losses_pyth\" data-tip=\"Pythagorean losses, i.e., expected losses based on points scored and allowed\" scope=\"col\">PL</th> <th aria-label=\"Margin of Victory\" class=\"poptip center\" data-stat=\"mov\" data-tip=\"Margin of Victory\" scope=\"col\">MOV</th> <th aria-label=\"Strength of Schedule\" class=\"poptip center\" data-stat=\"sos\" data-tip=\"Strength of Schedule; a rating of strength of schedule. The rating is denominated in points above/below average, where zero is average.\" scope=\"col\">SOS</th> <th aria-label=\"Simple Rating System\" class=\"poptip center\" data-stat=\"srs\" data-tip=\"Simple Rating System; a team rating that takes into account average point differential and strength of schedule. The rating is denominated in points above/below average, where zero is average.\" scope=\"col\">SRS</th> <th aria-label=\"Offensive Rating\" class=\"poptip center\" data-stat=\"off_rtg\" data-tip=\"&lt;b&gt;Offensive Rating&lt;/b&gt;&lt;br&gt;An estimate of points produced (players) or scored (teams) per 100 possessions\" scope=\"col\">ORtg</th> <th aria-label=\"Defensive Rating\" class=\"poptip sort_default_asc center\" data-stat=\"def_rtg\" data-tip=\"&lt;b&gt;Defensive Rating&lt;/b&gt;&lt;br&gt;An estimate of points allowed per 100 possessions\" scope=\"col\">DRtg</th> <th aria-label=\"Net Rating\" class=\"poptip center\" data-stat=\"net_rtg\" data-tip=\"Net Rating; an estimate of point differential per 100 possessions.\" scope=\"col\">NRtg</th> <th aria-label=\"Pace Factor\" class=\"poptip center\" data-stat=\"pace\" data-tip=\"&lt;b&gt;Pace Factor&lt;/b&gt;: An estimate of possessions per 48 minutes\" scope=\"col\">Pace</th> <th aria-label=\"Free Throw Attempt Rate\" class=\"poptip center\" data-stat=\"fta_per_fga_pct\" data-tip=\"&lt;strong&gt;Free Throw Attempt Rate&lt;/strong&gt;&lt;br&gt;Number of FT Attempts Per FG Attempt\" scope=\"col\">FTr</th> <th aria-label=\"3-Point Attempt Rate\" class=\"poptip center\" data-stat=\"fg3a_per_fga_pct\" data-tip=\"&lt;strong&gt;3-Point Attempt Rate&lt;/strong&gt;&lt;br&gt;Percentage of FG Attempts from 3-Point Range\" scope=\"col\">3PAr</th> <th aria-label=\"True Shooting Percentage\" class=\"poptip center\" data-stat=\"ts_pct\" data-tip=\"&lt;strong&gt;True Shooting Percentage&lt;/strong&gt;&lt;br&gt;A measure of shooting efficiency that takes into account 2-point field goals, 3-point field goals, and free throws.\" scope=\"col\">TS%</th> <th aria-label=\" \" class=\"poptip center\" data-stat=\"DUMMY\" scope=\"col\"> </th> <th aria-label=\"Effective Field Goal Percentage\" class=\"poptip center\" data-over-header=\"Offense Four Factors\" data-stat=\"efg_pct\" data-tip=\"&lt;strong&gt;Effective Field Goal Percentage&lt;/strong&gt;&lt;br&gt;This statistic adjusts for the fact that a 3-point field goal is worth one more point than a 2-point field goal.\" scope=\"col\">eFG%</th> <th aria-label=\"Turnover Percentage\" class=\"poptip sort_default_asc center\" data-over-header=\"Offense Four Factors\" data-stat=\"tov_pct\" data-tip=\"&lt;b&gt;Turnover Percentage&lt;/b&gt;&lt;br&gt;An estimate of turnovers committed per 100 plays.\" scope=\"col\">TOV%</th> <th aria-label=\"Offensive Rebound Percentage\" class=\"poptip center\" data-over-header=\"Offense Four Factors\" data-stat=\"orb_pct\" data-tip=\"&lt;b&gt;Offensive Rebound Percentage&lt;/b&gt;&lt;br&gt;An estimate of the percentage of available offensive rebounds a player grabbed while they were on the floor.\" scope=\"col\">ORB%</th> <th aria-label=\"Free Throws Per Field Goal Attempt\" class=\"poptip center\" data-over-header=\"Offense Four Factors\" data-stat=\"ft_rate\" data-tip=\"Free Throws Per Field Goal Attempt\" scope=\"col\">FT/FGA</th> <th aria-label=\" \" class=\"poptip center\" data-stat=\"DUMMY\" scope=\"col\"> </th> <th aria-label=\"Opponent Effective Field Goal Percentage\" class=\"poptip sort_default_asc center\" data-over-header=\"Defense Four Factors\" data-stat=\"opp_efg_pct\" data-tip=\"Opponent Effective Field Goal Percentage\" scope=\"col\">eFG%</th> <th aria-label=\"Opponent Turnover Percentage\" class=\"poptip center\" data-over-header=\"Defense Four Factors\" data-stat=\"opp_tov_pct\" data-tip=\"Opponent Turnover Percentage\" scope=\"col\">TOV%</th> <th aria-label=\"Defensive Rebound Percentage\" class=\"poptip center\" data-over-header=\"Defense Four Factors\" data-stat=\"drb_pct\" data-tip=\"&lt;b&gt;Defensive Rebound Percentage&lt;/b&gt;&lt;br&gt;An estimate of the percentage of available defensive rebounds a player grabbed while they were on the floor.\" scope=\"col\">DRB%</th> <th aria-label=\"Opponent Free Throws Per Field Goal Attempt\" class=\"poptip sort_default_asc center\" data-over-header=\"Defense Four Factors\" data-stat=\"opp_ft_rate\" data-tip=\"Opponent Free Throws Per Field Goal Attempt\" scope=\"col\">FT/FGA</th> <th aria-label=\" \" class=\"poptip center\" data-stat=\"DUMMY\" scope=\"col\"> </th> <th aria-label=\"Arena\" class=\"poptip sort_default_asc center\" data-stat=\"arena_name\" scope=\"col\">Arena</th> <th aria-label=\"Attend.\" class=\"poptip center\" data-stat=\"attendance\" scope=\"col\">Attend.</th> <th aria-label=\"Attend./G\" class=\"poptip center\" data-stat=\"attendance_per_g\" scope=\"col\">Attend./G</th> </tr> </thead> <tbody> <tr><th class=\"right\" data-stat=\"ranker\" scope=\"row\">1</th><td class=\"left\" data-stat=\"team\"><a href=\"/teams/HOU/2018.html\">Houston Rockets</a>*</td><td class=\"right\" data-stat=\"age\">29.8</td><td class=\"right\" data-stat=\"wins\">65</td><td class=\"right\" data-stat=\"losses\">17</td><td class=\"right\" data-stat=\"wins_pyth\">61</td><td class=\"right\" data-stat=\"losses_pyth\">21</td><td class=\"right\" data-stat=\"mov\">8.48</td><td class=\"right\" data-stat=\"sos\">-0.27</td><td class=\"right\" data-stat=\"srs\">8.21</td><td class=\"right\" data-stat=\"off_rtg\">114.7</td><td class=\"right\" data-stat=\"def_rtg\">106.1</td><td class=\"right increase\" data-stat=\"net_rtg\">+8.6</td><td class=\"right\" data-stat=\"pace\">97.6</td><td class=\"right\" data-stat=\"fta_per_fga_pct\">.298</td><td class=\"right\" data-stat=\"fg3a_per_fga_pct\">.502</td><td class=\"right\" data-stat=\"ts_pct\">.590</td><td class=\"right iz\" data-stat=\"DUMMY\"></td><td class=\"right\" data-stat=\"efg_pct\">.551</td><td class=\"right\" data-stat=\"tov_pct\">12.7</td><td class=\"right\" data-stat=\"orb_pct\">21.3</td><td class=\"right\" data-stat=\"ft_rate\">.233</td><td class=\"right iz\" data-stat=\"DUMMY\"></td><td class=\"right\" data-stat=\"opp_efg_pct\">.521</td><td class=\"right\" data-stat=\"opp_tov_pct\">13.4</td><td class=\"right\" data-stat=\"drb_pct\">79.9</td><td class=\"right\" data-stat=\"opp_ft_rate\">.171</td><td class=\"right iz\" data-stat=\"DUMMY\"></td><td class=\"left\" data-stat=\"arena_name\">Toyota Center</td><td class=\"right\" data-stat=\"attendance\">732,722</td><td class=\"right\" data-stat=\"attendance_per_g\">17,871</td></tr> <tr><th class=\"right\" data-stat=\"ranker\" scope=\"row\">2</th><td class=\"left\" data-stat=\"team\"><a href=\"/teams/TOR/2018.html\">Toronto Raptors</a>*</td><td class=\"right\" data-stat=\"age\">25.8</td><td class=\"right\" data-stat=\"wins\">59</td><td class=\"right\" data-stat=\"losses\">23</td><td class=\"right\" data-stat=\"wins_pyth\">60</td><td class=\"right\" data-stat=\"losses_pyth\">22</td><td class=\"right\" data-stat=\"mov\">7.78</td><td class=\"right\" data-stat=\"sos\">-0.49</td><td class=\"right\" data-stat=\"srs\">7.29</td><td class=\"right\" data-stat=\"off_rtg\">113.8</td><td class=\"right\" data-stat=\"def_rtg\">105.9</td><td class=\"right increase\" data-stat=\"net_rtg\">+7.9</td><td class=\"right\" data-stat=\"pace\">97.4</td><td class=\"right\" data-stat=\"fta_per_fga_pct\">.250</td><td class=\"right\" data-stat=\"fg3a_per_fga_pct\">.377</td><td class=\"right\" data-stat=\"ts_pct\">.575</td><td class=\"right iz\" data-stat=\"DUMMY\"></td><td class=\"right\" data-stat=\"efg_pct\">.539</td><td class=\"right\" data-stat=\"tov_pct\">12.1</td><td class=\"right\" data-stat=\"orb_pct\">23.0</td><td class=\"right\" data-stat=\"ft_rate\">.198</td><td class=\"right iz\" data-stat=\"DUMMY\"></td><td class=\"right\" data-stat=\"opp_efg_pct\">.501</td><td class=\"right\" data-stat=\"opp_tov_pct\">13.0</td><td class=\"right\" data-stat=\"drb_pct\">77.7</td><td class=\"right\" data-stat=\"opp_ft_rate\">.212</td><td class=\"right iz\" data-stat=\"DUMMY\"></td><td class=\"left\" data-stat=\"arena_name\">Air Canada Centre</td><td class=\"right\" data-stat=\"attendance\">813,431</td><td class=\"right\" data-stat=\"attendance_per_g\">19,840</td></tr> <tr><th class=\"right\" data-stat=\"ranker\" scope=\"row\">3</th><td class=\"left\" data-stat=\"team\"><a href=\"/teams/GSW/2018.html\">Golden State Warriors</a>*</td><td class=\"right\" data-stat=\"age\">28.8</td><td class=\"right\" data-stat=\"wins\">58</td><td class=\"right\" data-stat=\"losses\">24</td><td class=\"right\" data-stat=\"wins_pyth\">56</td><td class=\"right\" data-stat=\"losses_pyth\">26</td><td class=\"right\" data-stat=\"mov\">5.98</td><td class=\"right\" data-stat=\"sos\">-0.19</td><td class=\"right\" data-stat=\"srs\">5.79</td><td class=\"right\" data-stat=\"off_rtg\">113.6</td><td class=\"right\" data-stat=\"def_rtg\">107.6</td><td class=\"right increase\" data-stat=\"net_rtg\">+6.0</td><td class=\"right\" data-stat=\"pace\">99.6</td><td class=\"right\" data-stat=\"fta_per_fga_pct\">.239</td><td class=\"right\" data-stat=\"fg3a_per_fga_pct\">.339</td><td class=\"right\" data-stat=\"ts_pct\">.603</td><td class=\"right iz\" data-stat=\"DUMMY\"></td><td class=\"right\" data-stat=\"efg_pct\">.569</td><td class=\"right\" data-stat=\"tov_pct\">14.1</td><td class=\"right\" data-stat=\"orb_pct\">21.0</td><td class=\"right\" data-stat=\"ft_rate\">.195</td><td class=\"right iz\" data-stat=\"DUMMY\"></td><td class=\"right\" data-stat=\"opp_efg_pct\">.504</td><td class=\"right\" data-stat=\"opp_tov_pct\">12.6</td><td class=\"right\" data-stat=\"drb_pct\">76.3</td><td class=\"right\" data-stat=\"opp_ft_rate\">.186</td><td class=\"right iz\" data-stat=\"DUMMY\"></td><td class=\"left\" data-stat=\"arena_name\">Oracle Arena</td><td class=\"right\" data-stat=\"attendance\">803,436</td><td class=\"right\" data-stat=\"attendance_per_g\">19,596</td></tr> <tr><th class=\"right\" data-stat=\"ranker\" scope=\"row\">4</th><td class=\"left\" data-stat=\"team\"><a href=\"/teams/UTA/2018.html\">Utah Jazz</a>*</td><td class=\"right\" data-stat=\"age\">26.7</td><td class=\"right\" data-stat=\"wins\">48</td><td class=\"right\" data-stat=\"losses\">34</td><td class=\"right\" data-stat=\"wins_pyth\">53</td><td class=\"right\" data-stat=\"losses_pyth\">29</td><td class=\"right\" data-stat=\"mov\">4.30</td><td class=\"right\" data-stat=\"sos\">0.17</td><td class=\"right\" data-stat=\"srs\">4.47</td><td class=\"right\" data-stat=\"off_rtg\">108.4</td><td class=\"right\" data-stat=\"def_rtg\">103.9</td><td class=\"right increase\" data-stat=\"net_rtg\">+4.5</td><td class=\"right\" data-stat=\"pace\">95.7</td><td class=\"right\" data-stat=\"fta_per_fga_pct\">.260</td><td class=\"right\" data-stat=\"fg3a_per_fga_pct\">.357</td><td class=\"right\" data-stat=\"ts_pct\">.564</td><td class=\"right iz\" data-stat=\"DUMMY\"></td><td class=\"right\" data-stat=\"efg_pct\">.527</td><td class=\"right\" data-stat=\"tov_pct\">13.7</td><td class=\"right\" data-stat=\"orb_pct\">21.5</td><td class=\"right\" data-stat=\"ft_rate\">.202</td><td class=\"right iz\" data-stat=\"DUMMY\"></td><td class=\"right\" data-stat=\"opp_efg_pct\">.506</td><td class=\"right\" data-stat=\"opp_tov_pct\">14.0</td><td class=\"right\" data-stat=\"drb_pct\">79.8</td><td class=\"right\" data-stat=\"opp_ft_rate\">.190</td><td class=\"right iz\" data-stat=\"DUMMY\"></td><td class=\"left\" data-stat=\"arena_name\">Vivint Smart Home Arena</td><td class=\"right\" data-stat=\"attendance\">734,806</td><td class=\"right\" data-stat=\"attendance_per_g\">17,922</td></tr> <tr><th class=\"right\" data-stat=\"ranker\" scope=\"row\">5</th><td class=\"left\" data-stat=\"team\"><a href=\"/teams/PHI/2018.html\">Philadelphia 76ers</a>*</td><td class=\"right\" data-stat=\"age\">25.8</td><td class=\"right\" data-stat=\"wins\">52</td><td class=\"right\" data-stat=\"losses\">30</td><td class=\"right\" data-stat=\"wins_pyth\">53</td><td class=\"right\" data-stat=\"losses_pyth\">29</td><td class=\"right\" data-stat=\"mov\">4.50</td><td class=\"right\" data-stat=\"sos\">-0.20</td><td class=\"right\" data-stat=\"srs\">4.30</td><td class=\"right\" data-stat=\"off_rtg\">109.5</td><td class=\"right\" data-stat=\"def_rtg\">105.0</td><td class=\"right increase\" data-stat=\"net_rtg\">+4.5</td><td class=\"right\" data-stat=\"pace\">99.8</td><td class=\"right\" data-stat=\"fta_per_fga_pct\">.263</td><td class=\"right\" data-stat=\"fg3a_per_fga_pct\">.344</td><td class=\"right\" data-stat=\"ts_pct\">.568</td><td class=\"right iz\" data-stat=\"DUMMY\"></td><td class=\"right\" data-stat=\"efg_pct\">.535</td><td class=\"right\" data-stat=\"tov_pct\">14.6</td><td class=\"right\" data-stat=\"orb_pct\">25.3</td><td class=\"right\" data-stat=\"ft_rate\">.198</td><td class=\"right iz\" data-stat=\"DUMMY\"></td><td class=\"right\" data-stat=\"opp_efg_pct\">.492</td><td class=\"right\" data-stat=\"opp_tov_pct\">12.6</td><td class=\"right\" data-stat=\"drb_pct\">78.6</td><td class=\"right\" data-stat=\"opp_ft_rate\">.218</td><td class=\"right iz\" data-stat=\"DUMMY\"></td><td class=\"left\" data-stat=\"arena_name\">Wells Fargo Center</td><td class=\"right\" data-stat=\"attendance\">833,503</td><td class=\"right\" data-stat=\"attendance_per_g\">20,361</td></tr> <tr><th class=\"right\" data-stat=\"ranker\" scope=\"row\">6</th><td class=\"left\" data-stat=\"team\"><a href=\"/teams/BOS/2018.html\">Boston Celtics</a>*</td><td class=\"right\" data-stat=\"age\">24.7</td><td class=\"right\" data-stat=\"wins\">55</td><td class=\"right\" data-stat=\"losses\">27</td><td class=\"right\" data-stat=\"wins_pyth\">51</td><td class=\"right\" data-stat=\"losses_pyth\">31</td><td class=\"right\" data-stat=\"mov\">3.59</td><td class=\"right\" data-stat=\"sos\">-0.35</td><td class=\"right\" data-stat=\"srs\">3.23</td><td class=\"right\" data-stat=\"off_rtg\">107.6</td><td class=\"right\" data-stat=\"def_rtg\">103.9</td><td class=\"right increase\" data-stat=\"net_rtg\">+3.7</td><td class=\"right\" data-stat=\"pace\">96.0</td><td class=\"right\" data-stat=\"fta_per_fga_pct\">.243</td><td class=\"right\" data-stat=\"fg3a_per_fga_pct\">.357</td><td class=\"right\" data-stat=\"ts_pct\">.552</td><td class=\"right iz\" data-stat=\"DUMMY\"></td><td class=\"right\" data-stat=\"efg_pct\">.518</td><td class=\"right\" data-stat=\"tov_pct\">13.0</td><td class=\"right\" data-stat=\"orb_pct\">21.5</td><td class=\"right\" data-stat=\"ft_rate\">.188</td><td class=\"right iz\" data-stat=\"DUMMY\"></td><td class=\"right\" data-stat=\"opp_efg_pct\">.495</td><td class=\"right\" data-stat=\"opp_tov_pct\">13.0</td><td class=\"right\" data-stat=\"drb_pct\">78.4</td><td class=\"right\" data-stat=\"opp_ft_rate\">.191</td><td class=\"right iz\" data-stat=\"DUMMY\"></td><td class=\"left\" data-stat=\"arena_name\">TD Garden</td><td class=\"right\" data-stat=\"attendance\">763,584</td><td class=\"right\" data-stat=\"attendance_per_g\">18,624</td></tr> <tr><th class=\"right\" data-stat=\"ranker\" scope=\"row\">7</th><td class=\"left\" data-stat=\"team\"><a href=\"/teams/OKC/2018.html\">Oklahoma City Thunder</a>*</td><td class=\"right\" data-stat=\"age\">27.3</td><td class=\"right\" data-stat=\"wins\">48</td><td class=\"right\" data-stat=\"losses\">34</td><td class=\"right\" data-stat=\"wins_pyth\">50</td><td class=\"right\" data-stat=\"losses_pyth\">32</td><td class=\"right\" data-stat=\"mov\">3.41</td><td class=\"right iz\" data-stat=\"sos\">0.00</td><td class=\"right\" data-stat=\"srs\">3.42</td><td class=\"right\" data-stat=\"off_rtg\">110.7</td><td class=\"right\" data-stat=\"def_rtg\">107.2</td><td class=\"right increase\" data-stat=\"net_rtg\">+3.5</td><td class=\"right\" data-stat=\"pace\">96.7</td><td class=\"right\" data-stat=\"fta_per_fga_pct\">.275</td><td class=\"right\" data-stat=\"fg3a_per_fga_pct\">.345</td><td class=\"right\" data-stat=\"ts_pct\">.546</td><td class=\"right iz\" data-stat=\"DUMMY\"></td><td class=\"right\" data-stat=\"efg_pct\">.514</td><td class=\"right\" data-stat=\"tov_pct\">12.4</td><td class=\"right\" data-stat=\"orb_pct\">27.7</td><td class=\"right\" data-stat=\"ft_rate\">.197</td><td class=\"right iz\" data-stat=\"DUMMY\"></td><td class=\"right\" data-stat=\"opp_efg_pct\">.525</td><td class=\"right\" data-stat=\"opp_tov_pct\">14.7</td><td class=\"right\" data-stat=\"drb_pct\">77.4</td><td class=\"right\" data-stat=\"opp_ft_rate\">.193</td><td class=\"right iz\" data-stat=\"DUMMY\"></td><td class=\"left\" data-stat=\"arena_name\">Chesapeake Energy Arena</td><td class=\"right\" data-stat=\"attendance\">746,322</td><td class=\"right\" data-stat=\"attendance_per_g\">18,203</td></tr> <tr><th class=\"right\" data-stat=\"ranker\" scope=\"row\">8</th><td class=\"left\" data-stat=\"team\"><a href=\"/teams/SAS/2018.html\">San Antonio Spurs</a>*</td><td class=\"right\" data-stat=\"age\">29.3</td><td class=\"right\" data-stat=\"wins\">47</td><td class=\"right\" data-stat=\"losses\">35</td><td class=\"right\" data-stat=\"wins_pyth\">49</td><td class=\"right\" data-stat=\"losses_pyth\">33</td><td class=\"right\" data-stat=\"mov\">2.89</td><td class=\"right iz\" data-stat=\"sos\">0.00</td><td class=\"right\" data-stat=\"srs\">2.89</td><td class=\"right\" data-stat=\"off_rtg\">107.9</td><td class=\"right\" data-stat=\"def_rtg\">104.8</td><td class=\"right increase\" data-stat=\"net_rtg\">+3.1</td><td class=\"right\" data-stat=\"pace\">95.0</td><td class=\"right\" data-stat=\"fta_per_fga_pct\">.245</td><td class=\"right\" data-stat=\"fg3a_per_fga_pct\">.282</td><td class=\"right\" data-stat=\"ts_pct\">.543</td><td class=\"right iz\" data-stat=\"DUMMY\"></td><td class=\"right\" data-stat=\"efg_pct\">.507</td><td class=\"right\" data-stat=\"tov_pct\">12.2</td><td class=\"right\" data-stat=\"orb_pct\">23.7</td><td class=\"right\" data-stat=\"ft_rate\">.189</td><td class=\"right iz\" data-stat=\"DUMMY\"></td><td class=\"right\" data-stat=\"opp_efg_pct\">.507</td><td class=\"right\" data-stat=\"opp_tov_pct\">13.2</td><td class=\"right\" data-stat=\"drb_pct\">78.6</td><td class=\"right\" data-stat=\"opp_ft_rate\">.170</td><td class=\"right iz\" data-stat=\"DUMMY\"></td><td class=\"left\" data-stat=\"arena_name\">AT&amp;T Center</td><td class=\"right\" data-stat=\"attendance\">754,562</td><td class=\"right\" data-stat=\"attendance_per_g\">18,404</td></tr> <tr><th class=\"right\" data-stat=\"ranker\" scope=\"row\">9</th><td class=\"left\" data-stat=\"team\"><a href=\"/teams/POR/2018.html\">Portland Trail Blazers</a>*</td><td class=\"right\" data-stat=\"age\">25.6</td><td class=\"right\" data-stat=\"wins\">49</td><td class=\"right\" data-stat=\"losses\">33</td><td class=\"right\" data-stat=\"wins_pyth\">48</td><td class=\"right\" data-stat=\"losses_pyth\">34</td><td class=\"right\" data-stat=\"mov\">2.60</td><td class=\"right iz\" data-stat=\"sos\">0.00</td><td class=\"right\" data-stat=\"srs\">2.60</td><td class=\"right\" data-stat=\"off_rtg\">109.1</td><td class=\"right\" data-stat=\"def_rtg\">106.4</td><td class=\"right increase\" data-stat=\"net_rtg\">+2.7</td><td class=\"right\" data-stat=\"pace\">96.5</td><td class=\"right\" data-stat=\"fta_per_fga_pct\">.240</td><td class=\"right\" data-stat=\"fg3a_per_fga_pct\">.324</td><td class=\"right\" data-stat=\"ts_pct\">.549</td><td class=\"right iz\" data-stat=\"DUMMY\"></td><td class=\"right\" data-stat=\"efg_pct\">.511</td><td class=\"right\" data-stat=\"tov_pct\">12.3</td><td class=\"right\" data-stat=\"orb_pct\">23.3</td><td class=\"right\" data-stat=\"ft_rate\">.192</td><td class=\"right iz\" data-stat=\"DUMMY\"></td><td class=\"right\" data-stat=\"opp_efg_pct\">.503</td><td class=\"right\" data-stat=\"opp_tov_pct\">11.7</td><td class=\"right\" data-stat=\"drb_pct\">79.1</td><td class=\"right\" data-stat=\"opp_ft_rate\">.193</td><td class=\"right iz\" data-stat=\"DUMMY\"></td><td class=\"left\" data-stat=\"arena_name\">Moda Center</td><td class=\"right\" data-stat=\"attendance\">795,750</td><td class=\"right\" data-stat=\"attendance_per_g\">19,409</td></tr> <tr><th class=\"right\" data-stat=\"ranker\" scope=\"row\">10</th><td class=\"left\" data-stat=\"team\"><a href=\"/teams/MIN/2018.html\">Minnesota Timberwolves</a>*</td><td class=\"right\" data-stat=\"age\">27.1</td><td class=\"right\" data-stat=\"wins\">47</td><td class=\"right\" data-stat=\"losses\">35</td><td class=\"right\" data-stat=\"wins_pyth\">47</td><td class=\"right\" data-stat=\"losses_pyth\">35</td><td class=\"right\" data-stat=\"mov\">2.23</td><td class=\"right\" data-stat=\"sos\">0.12</td><td class=\"right\" data-stat=\"srs\">2.35</td><td class=\"right\" data-stat=\"off_rtg\">113.4</td><td class=\"right\" data-stat=\"def_rtg\">111.1</td><td class=\"right increase\" data-stat=\"net_rtg\">+2.3</td><td class=\"right\" data-stat=\"pace\">96.0</td><td class=\"right\" data-stat=\"fta_per_fga_pct\">.280</td><td class=\"right\" data-stat=\"fg3a_per_fga_pct\">.261</td><td class=\"right\" data-stat=\"ts_pct\">.566</td><td class=\"right iz\" data-stat=\"DUMMY\"></td><td class=\"right\" data-stat=\"efg_pct\">.523</td><td class=\"right\" data-stat=\"tov_pct\">11.4</td><td class=\"right\" data-stat=\"orb_pct\">24.4</td><td class=\"right\" data-stat=\"ft_rate\">.225</td><td class=\"right iz\" data-stat=\"DUMMY\"></td><td class=\"right\" data-stat=\"opp_efg_pct\">.539</td><td class=\"right\" data-stat=\"opp_tov_pct\">13.9</td><td class=\"right\" data-stat=\"drb_pct\">76.4</td><td class=\"right\" data-stat=\"opp_ft_rate\">.189</td><td class=\"right iz\" data-stat=\"DUMMY\"></td><td class=\"left\" data-stat=\"arena_name\">Target Center</td><td class=\"right\" data-stat=\"attendance\">699,308</td><td class=\"right\" data-stat=\"attendance_per_g\">17,056</td></tr> <tr><th class=\"right\" data-stat=\"ranker\" scope=\"row\">11</th><td class=\"left\" data-stat=\"team\"><a href=\"/teams/DEN/2018.html\">Denver Nuggets</a></td><td class=\"right\" data-stat=\"age\">25.1</td><td class=\"right\" data-stat=\"wins\">46</td><td class=\"right\" data-stat=\"losses\">36</td><td class=\"right\" data-stat=\"wins_pyth\">45</td><td class=\"right\" data-stat=\"losses_pyth\">37</td><td class=\"right\" data-stat=\"mov\">1.48</td><td class=\"right\" data-stat=\"sos\">0.09</td><td class=\"right\" data-stat=\"srs\">1.57</td><td class=\"right\" data-stat=\"off_rtg\">112.5</td><td class=\"right\" data-stat=\"def_rtg\">111.0</td><td class=\"right increase\" data-stat=\"net_rtg\">+1.5</td><td class=\"right\" data-stat=\"pace\">96.8</td><td class=\"right\" data-stat=\"fta_per_fga_pct\">.258</td><td class=\"right\" data-stat=\"fg3a_per_fga_pct\">.357</td><td class=\"right\" data-stat=\"ts_pct\">.570</td><td class=\"right iz\" data-stat=\"DUMMY\"></td><td class=\"right\" data-stat=\"efg_pct\">.536</td><td class=\"right\" data-stat=\"tov_pct\">13.4</td><td class=\"right\" data-stat=\"orb_pct\">25.7</td><td class=\"right\" data-stat=\"ft_rate\">.198</td><td class=\"right iz\" data-stat=\"DUMMY\"></td><td class=\"right\" data-stat=\"opp_efg_pct\">.539</td><td class=\"right\" data-stat=\"opp_tov_pct\">12.6</td><td class=\"right\" data-stat=\"drb_pct\">77.5</td><td class=\"right\" data-stat=\"opp_ft_rate\">.173</td><td class=\"right iz\" data-stat=\"DUMMY\"></td><td class=\"left\" data-stat=\"arena_name\">Pepsi Center</td><td class=\"right\" data-stat=\"attendance\">702,796</td><td class=\"right\" data-stat=\"attendance_per_g\">17,141</td></tr> <tr><th class=\"right\" data-stat=\"ranker\" scope=\"row\">12</th><td class=\"left\" data-stat=\"team\"><a href=\"/teams/IND/2018.html\">Indiana Pacers</a>*</td><td class=\"right\" data-stat=\"age\">26.2</td><td class=\"right\" data-stat=\"wins\">48</td><td class=\"right\" data-stat=\"losses\">34</td><td class=\"right\" data-stat=\"wins_pyth\">45</td><td class=\"right\" data-stat=\"losses_pyth\">37</td><td class=\"right\" data-stat=\"mov\">1.38</td><td class=\"right\" data-stat=\"sos\">-0.20</td><td class=\"right\" data-stat=\"srs\">1.18</td><td class=\"right\" data-stat=\"off_rtg\">109.5</td><td class=\"right\" data-stat=\"def_rtg\">108.1</td><td class=\"right increase\" data-stat=\"net_rtg\">+1.4</td><td class=\"right\" data-stat=\"pace\">96.0</td><td class=\"right\" data-stat=\"fta_per_fga_pct\">.222</td><td class=\"right\" data-stat=\"fg3a_per_fga_pct\">.284</td><td class=\"right\" data-stat=\"ts_pct\">.557</td><td class=\"right iz\" data-stat=\"DUMMY\"></td><td class=\"right\" data-stat=\"efg_pct\">.525</td><td class=\"right\" data-stat=\"tov_pct\">12.3</td><td class=\"right\" data-stat=\"orb_pct\">22.7</td><td class=\"right\" data-stat=\"ft_rate\">.173</td><td class=\"right iz\" data-stat=\"DUMMY\"></td><td class=\"right\" data-stat=\"opp_efg_pct\">.527</td><td class=\"right\" data-stat=\"opp_tov_pct\">14.2</td><td class=\"right\" data-stat=\"drb_pct\">76.2</td><td class=\"right\" data-stat=\"opp_ft_rate\">.174</td><td class=\"right iz\" data-stat=\"DUMMY\"></td><td class=\"left\" data-stat=\"arena_name\">Bankers Life Fieldhouse</td><td class=\"right\" data-stat=\"attendance\">658,119</td><td class=\"right\" data-stat=\"attendance_per_g\">16,052</td></tr> <tr><th class=\"right\" data-stat=\"ranker\" scope=\"row\">13</th><td class=\"left\" data-stat=\"team\"><a href=\"/teams/NOP/2018.html\">New Orleans Pelicans</a>*</td><td class=\"right\" data-stat=\"age\">27.6</td><td class=\"right\" data-stat=\"wins\">48</td><td class=\"right\" data-stat=\"losses\">34</td><td class=\"right\" data-stat=\"wins_pyth\">44</td><td class=\"right\" data-stat=\"losses_pyth\">38</td><td class=\"right\" data-stat=\"mov\">1.30</td><td class=\"right\" data-stat=\"sos\">0.18</td><td class=\"right\" data-stat=\"srs\">1.48</td><td class=\"right\" data-stat=\"off_rtg\">109.6</td><td class=\"right\" data-stat=\"def_rtg\">108.3</td><td class=\"right increase\" data-stat=\"net_rtg\">+1.3</td><td class=\"right\" data-stat=\"pace\">100.5</td><td class=\"right\" data-stat=\"fta_per_fga_pct\">.237</td><td class=\"right\" data-stat=\"fg3a_per_fga_pct\">.319</td><td class=\"right\" data-stat=\"ts_pct\">.573</td><td class=\"right iz\" data-stat=\"DUMMY\"></td><td class=\"right\" data-stat=\"efg_pct\">.541</td><td class=\"right\" data-stat=\"tov_pct\">13.3</td><td class=\"right\" data-stat=\"orb_pct\">20.0</td><td class=\"right\" data-stat=\"ft_rate\">.183</td><td class=\"right iz\" data-stat=\"DUMMY\"></td><td class=\"right\" data-stat=\"opp_efg_pct\">.513</td><td class=\"right\" data-stat=\"opp_tov_pct\">12.5</td><td class=\"right\" data-stat=\"drb_pct\">76.7</td><td class=\"right\" data-stat=\"opp_ft_rate\">.175</td><td class=\"right iz\" data-stat=\"DUMMY\"></td><td class=\"left\" data-stat=\"arena_name\">Smoothie King Center</td><td class=\"right\" data-stat=\"attendance\">673,920</td><td class=\"right\" data-stat=\"attendance_per_g\">16,437</td></tr> <tr><th class=\"right\" data-stat=\"ranker\" scope=\"row\">14</th><td class=\"left\" data-stat=\"team\"><a href=\"/teams/CLE/2018.html\">Cleveland Cavaliers</a>*</td><td class=\"right\" data-stat=\"age\">30.6</td><td class=\"right\" data-stat=\"wins\">50</td><td class=\"right\" data-stat=\"losses\">32</td><td class=\"right\" data-stat=\"wins_pyth\">43</td><td class=\"right\" data-stat=\"losses_pyth\">39</td><td class=\"right\" data-stat=\"mov\">0.94</td><td class=\"right\" data-stat=\"sos\">-0.35</td><td class=\"right\" data-stat=\"srs\">0.59</td><td class=\"right\" data-stat=\"off_rtg\">112.9</td><td class=\"right\" data-stat=\"def_rtg\">111.9</td><td class=\"right increase\" data-stat=\"net_rtg\">+1.0</td><td class=\"right\" data-stat=\"pace\">98.0</td><td class=\"right\" data-stat=\"fta_per_fga_pct\">.275</td><td class=\"right\" data-stat=\"fg3a_per_fga_pct\">.379</td><td class=\"right\" data-stat=\"ts_pct\">.584</td><td class=\"right iz\" data-stat=\"DUMMY\"></td><td class=\"right\" data-stat=\"efg_pct\">.547</td><td class=\"right\" data-stat=\"tov_pct\">12.6</td><td class=\"right\" data-stat=\"orb_pct\">20.1</td><td class=\"right\" data-stat=\"ft_rate\">.214</td><td class=\"right iz\" data-stat=\"DUMMY\"></td><td class=\"right\" data-stat=\"opp_efg_pct\">.540</td><td class=\"right\" data-stat=\"opp_tov_pct\">12.2</td><td class=\"right\" data-stat=\"drb_pct\">77.3</td><td class=\"right\" data-stat=\"opp_ft_rate\">.166</td><td class=\"right iz\" data-stat=\"DUMMY\"></td><td class=\"left\" data-stat=\"arena_name\">Quicken Loans Arena</td><td class=\"right\" data-stat=\"attendance\">843,042</td><td class=\"right\" data-stat=\"attendance_per_g\">20,562</td></tr> <tr><th class=\"right\" data-stat=\"ranker\" scope=\"row\">15</th><td class=\"left\" data-stat=\"team\"><a href=\"/teams/WAS/2018.html\">Washington Wizards</a>*</td><td class=\"right\" data-stat=\"age\">26.9</td><td class=\"right\" data-stat=\"wins\">43</td><td class=\"right\" data-stat=\"losses\">39</td><td class=\"right\" data-stat=\"wins_pyth\">43</td><td class=\"right\" data-stat=\"losses_pyth\">39</td><td class=\"right\" data-stat=\"mov\">0.59</td><td class=\"right\" data-stat=\"sos\">-0.06</td><td class=\"right\" data-stat=\"srs\">0.53</td><td class=\"right\" data-stat=\"off_rtg\">109.3</td><td class=\"right\" data-stat=\"def_rtg\">108.7</td><td class=\"right increase\" data-stat=\"net_rtg\">+0.6</td><td class=\"right\" data-stat=\"pace\">96.6</td><td class=\"right\" data-stat=\"fta_per_fga_pct\">.254</td><td class=\"right\" data-stat=\"fg3a_per_fga_pct\">.310</td><td class=\"right\" data-stat=\"ts_pct\">.560</td><td class=\"right iz\" data-stat=\"DUMMY\"></td><td class=\"right\" data-stat=\"efg_pct\">.525</td><td class=\"right\" data-stat=\"tov_pct\">13.3</td><td class=\"right\" data-stat=\"orb_pct\">23.5</td><td class=\"right\" data-stat=\"ft_rate\">.196</td><td class=\"right iz\" data-stat=\"DUMMY\"></td><td class=\"right\" data-stat=\"opp_efg_pct\">.522</td><td class=\"right\" data-stat=\"opp_tov_pct\">13.6</td><td class=\"right\" data-stat=\"drb_pct\">77.1</td><td class=\"right\" data-stat=\"opp_ft_rate\">.212</td><td class=\"right iz\" data-stat=\"DUMMY\"></td><td class=\"left\" data-stat=\"arena_name\">Capital One Arena</td><td class=\"right\" data-stat=\"attendance\">739,302</td><td class=\"right\" data-stat=\"attendance_per_g\">18,032</td></tr> <tr><th class=\"right\" data-stat=\"ranker\" scope=\"row\">16</th><td class=\"left\" data-stat=\"team\"><a href=\"/teams/MIA/2018.html\">Miami Heat</a>*</td><td class=\"right\" data-stat=\"age\">26.5</td><td class=\"right\" data-stat=\"wins\">44</td><td class=\"right\" data-stat=\"losses\">38</td><td class=\"right\" data-stat=\"wins_pyth\">42</td><td class=\"right\" data-stat=\"losses_pyth\">40</td><td class=\"right\" data-stat=\"mov\">0.48</td><td class=\"right\" data-stat=\"sos\">-0.33</td><td class=\"right\" data-stat=\"srs\">0.15</td><td class=\"right\" data-stat=\"off_rtg\">106.8</td><td class=\"right\" data-stat=\"def_rtg\">106.3</td><td class=\"right increase\" data-stat=\"net_rtg\">+0.5</td><td class=\"right\" data-stat=\"pace\">95.6</td><td class=\"right\" data-stat=\"fta_per_fga_pct\">.229</td><td class=\"right\" data-stat=\"fg3a_per_fga_pct\">.358</td><td class=\"right\" data-stat=\"ts_pct\">.551</td><td class=\"right iz\" data-stat=\"DUMMY\"></td><td class=\"right\" data-stat=\"efg_pct\">.520</td><td class=\"right\" data-stat=\"tov_pct\">13.3</td><td class=\"right\" data-stat=\"orb_pct\">21.5</td><td class=\"right\" data-stat=\"ft_rate\">.173</td><td class=\"right iz\" data-stat=\"DUMMY\"></td><td class=\"right\" data-stat=\"opp_efg_pct\">.507</td><td class=\"right\" data-stat=\"opp_tov_pct\">13.1</td><td class=\"right\" data-stat=\"drb_pct\">79.0</td><td class=\"right\" data-stat=\"opp_ft_rate\">.215</td><td class=\"right iz\" data-stat=\"DUMMY\"></td><td class=\"left\" data-stat=\"arena_name\">AmericanAirlines Arena</td><td class=\"right\" data-stat=\"attendance\">804,850</td><td class=\"right\" data-stat=\"attendance_per_g\">19,630</td></tr> <tr><th class=\"right\" data-stat=\"ranker\" scope=\"row\">17</th><td class=\"left\" data-stat=\"team\"><a href=\"/teams/CHO/2018.html\">Charlotte Hornets</a></td><td class=\"right\" data-stat=\"age\">26.6</td><td class=\"right\" data-stat=\"wins\">36</td><td class=\"right\" data-stat=\"losses\">46</td><td class=\"right\" data-stat=\"wins_pyth\">42</td><td class=\"right\" data-stat=\"losses_pyth\">40</td><td class=\"right\" data-stat=\"mov\">0.26</td><td class=\"right\" data-stat=\"sos\">-0.19</td><td class=\"right\" data-stat=\"srs\">0.07</td><td class=\"right\" data-stat=\"off_rtg\">109.4</td><td class=\"right\" data-stat=\"def_rtg\">109.1</td><td class=\"right increase\" data-stat=\"net_rtg\">+0.3</td><td class=\"right\" data-stat=\"pace\">98.4</td><td class=\"right\" data-stat=\"fta_per_fga_pct\">.312</td><td class=\"right\" data-stat=\"fg3a_per_fga_pct\">.314</td><td class=\"right\" data-stat=\"ts_pct\">.549</td><td class=\"right iz\" data-stat=\"DUMMY\"></td><td class=\"right\" data-stat=\"efg_pct\">.508</td><td class=\"right\" data-stat=\"tov_pct\">11.4</td><td class=\"right\" data-stat=\"orb_pct\">22.2</td><td class=\"right\" data-stat=\"ft_rate\">.233</td><td class=\"right iz\" data-stat=\"DUMMY\"></td><td class=\"right\" data-stat=\"opp_efg_pct\">.532</td><td class=\"right\" data-stat=\"opp_tov_pct\">12.4</td><td class=\"right\" data-stat=\"drb_pct\">80.7</td><td class=\"right\" data-stat=\"opp_ft_rate\">.165</td><td class=\"right iz\" data-stat=\"DUMMY\"></td><td class=\"left\" data-stat=\"arena_name\">Spectrum Center</td><td class=\"right\" data-stat=\"attendance\">671,404</td><td class=\"right\" data-stat=\"attendance_per_g\">16,376</td></tr> <tr><th class=\"right\" data-stat=\"ranker\" scope=\"row\">18</th><td class=\"left\" data-stat=\"team\"><a href=\"/teams/LAC/2018.html\">Los Angeles Clippers</a></td><td class=\"right\" data-stat=\"age\">27.0</td><td class=\"right\" data-stat=\"wins\">42</td><td class=\"right\" data-stat=\"losses\">40</td><td class=\"right\" data-stat=\"wins_pyth\">41</td><td class=\"right\" data-stat=\"losses_pyth\">41</td><td class=\"right\" data-stat=\"mov\">0.04</td><td class=\"right\" data-stat=\"sos\">0.11</td><td class=\"right\" data-stat=\"srs\">0.15</td><td class=\"right\" data-stat=\"off_rtg\">110.3</td><td class=\"right\" data-stat=\"def_rtg\">110.2</td><td class=\"right increase\" data-stat=\"net_rtg\">+0.1</td><td class=\"right\" data-stat=\"pace\">98.7</td><td class=\"right\" data-stat=\"fta_per_fga_pct\">.299</td><td class=\"right\" data-stat=\"fg3a_per_fga_pct\">.314</td><td class=\"right\" data-stat=\"ts_pct\">.564</td><td class=\"right iz\" data-stat=\"DUMMY\"></td><td class=\"right\" data-stat=\"efg_pct\">.527</td><td class=\"right\" data-stat=\"tov_pct\">13.2</td><td class=\"right\" data-stat=\"orb_pct\">23.5</td><td class=\"right\" data-stat=\"ft_rate\">.222</td><td class=\"right iz\" data-stat=\"DUMMY\"></td><td class=\"right\" data-stat=\"opp_efg_pct\">.520</td><td class=\"right\" data-stat=\"opp_tov_pct\">12.6</td><td class=\"right\" data-stat=\"drb_pct\">76.1</td><td class=\"right\" data-stat=\"opp_ft_rate\">.203</td><td class=\"right iz\" data-stat=\"DUMMY\"></td><td class=\"left\" data-stat=\"arena_name\">STAPLES Center</td><td class=\"right\" data-stat=\"attendance\">697,812</td><td class=\"right\" data-stat=\"attendance_per_g\">17,020</td></tr> <tr><th class=\"right\" data-stat=\"ranker\" scope=\"row\">19</th><td class=\"left\" data-stat=\"team\"><a href=\"/teams/DET/2018.html\">Detroit Pistons</a></td><td class=\"right\" data-stat=\"age\">25.9</td><td class=\"right\" data-stat=\"wins\">39</td><td class=\"right\" data-stat=\"losses\">43</td><td class=\"right\" data-stat=\"wins_pyth\">41</td><td class=\"right\" data-stat=\"losses_pyth\">41</td><td class=\"right\" data-stat=\"mov\">-0.15</td><td class=\"right\" data-stat=\"sos\">-0.11</td><td class=\"right\" data-stat=\"srs\">-0.26</td><td class=\"right\" data-stat=\"off_rtg\">107.2</td><td class=\"right\" data-stat=\"def_rtg\">107.3</td><td class=\"right decrease\" data-stat=\"net_rtg\">-0.1</td><td class=\"right\" data-stat=\"pace\">96.2</td><td class=\"right\" data-stat=\"fta_per_fga_pct\">.227</td><td class=\"right\" data-stat=\"fg3a_per_fga_pct\">.333</td><td class=\"right\" data-stat=\"ts_pct\">.543</td><td class=\"right iz\" data-stat=\"DUMMY\"></td><td class=\"right\" data-stat=\"efg_pct\">.512</td><td class=\"right\" data-stat=\"tov_pct\">12.3</td><td class=\"right\" data-stat=\"orb_pct\">22.7</td><td class=\"right\" data-stat=\"ft_rate\">.169</td><td class=\"right iz\" data-stat=\"DUMMY\"></td><td class=\"right\" data-stat=\"opp_efg_pct\">.524</td><td class=\"right\" data-stat=\"opp_tov_pct\">13.7</td><td class=\"right\" data-stat=\"drb_pct\">78.5</td><td class=\"right\" data-stat=\"opp_ft_rate\">.172</td><td class=\"right iz\" data-stat=\"DUMMY\"></td><td class=\"left\" data-stat=\"arena_name\">Little Caesars Arena</td><td class=\"right\" data-stat=\"attendance\">713,945</td><td class=\"right\" data-stat=\"attendance_per_g\">17,413</td></tr> <tr><th class=\"right\" data-stat=\"ranker\" scope=\"row\">20</th><td class=\"left\" data-stat=\"team\"><a href=\"/teams/MIL/2018.html\">Milwaukee Bucks</a>*</td><td class=\"right\" data-stat=\"age\">25.9</td><td class=\"right\" data-stat=\"wins\">44</td><td class=\"right\" data-stat=\"losses\">38</td><td class=\"right\" data-stat=\"wins_pyth\">40</td><td class=\"right\" data-stat=\"losses_pyth\">42</td><td class=\"right\" data-stat=\"mov\">-0.30</td><td class=\"right\" data-stat=\"sos\">-0.15</td><td class=\"right\" data-stat=\"srs\">-0.45</td><td class=\"right\" data-stat=\"off_rtg\">109.8</td><td class=\"right\" data-stat=\"def_rtg\">110.1</td><td class=\"right decrease\" data-stat=\"net_rtg\">-0.3</td><td class=\"right\" data-stat=\"pace\">96.2</td><td class=\"right\" data-stat=\"fta_per_fga_pct\">.281</td><td class=\"right\" data-stat=\"fg3a_per_fga_pct\">.297</td><td class=\"right\" data-stat=\"ts_pct\">.571</td><td class=\"right iz\" data-stat=\"DUMMY\"></td><td class=\"right\" data-stat=\"efg_pct\">.531</td><td class=\"right\" data-stat=\"tov_pct\">12.9</td><td class=\"right\" data-stat=\"orb_pct\">20.4</td><td class=\"right\" data-stat=\"ft_rate\">.220</td><td class=\"right iz\" data-stat=\"DUMMY\"></td><td class=\"right\" data-stat=\"opp_efg_pct\">.528</td><td class=\"right\" data-stat=\"opp_tov_pct\">14.2</td><td class=\"right\" data-stat=\"drb_pct\">75.9</td><td class=\"right\" data-stat=\"opp_ft_rate\">.220</td><td class=\"right iz\" data-stat=\"DUMMY\"></td><td class=\"left\" data-stat=\"arena_name\">BMO Harris Bradley Center</td><td class=\"right\" data-stat=\"attendance\">685,303</td><td class=\"right\" data-stat=\"attendance_per_g\">16,856</td></tr> <tr><th class=\"right\" data-stat=\"ranker\" scope=\"row\">21</th><td class=\"left\" data-stat=\"team\"><a href=\"/teams/LAL/2018.html\">Los Angeles Lakers</a></td><td class=\"right\" data-stat=\"age\">23.7</td><td class=\"right\" data-stat=\"wins\">35</td><td class=\"right\" data-stat=\"losses\">47</td><td class=\"right\" data-stat=\"wins_pyth\">37</td><td class=\"right\" data-stat=\"losses_pyth\">45</td><td class=\"right\" data-stat=\"mov\">-1.55</td><td class=\"right\" data-stat=\"sos\">0.11</td><td class=\"right\" data-stat=\"srs\">-1.44</td><td class=\"right\" data-stat=\"off_rtg\">106.5</td><td class=\"right\" data-stat=\"def_rtg\">108.0</td><td class=\"right decrease\" data-stat=\"net_rtg\">-1.5</td><td class=\"right\" data-stat=\"pace\">100.3</td><td class=\"right\" data-stat=\"fta_per_fga_pct\">.264</td><td class=\"right\" data-stat=\"fg3a_per_fga_pct\">.329</td><td class=\"right\" data-stat=\"ts_pct\">.548</td><td class=\"right iz\" data-stat=\"DUMMY\"></td><td class=\"right\" data-stat=\"efg_pct\">.517</td><td class=\"right\" data-stat=\"tov_pct\">13.8</td><td class=\"right\" data-stat=\"orb_pct\">23.6</td><td class=\"right\" data-stat=\"ft_rate\">.188</td><td class=\"right iz\" data-stat=\"DUMMY\"></td><td class=\"right\" data-stat=\"opp_efg_pct\">.514</td><td class=\"right\" data-stat=\"opp_tov_pct\">12.5</td><td class=\"right\" data-stat=\"drb_pct\">77.7</td><td class=\"right\" data-stat=\"opp_ft_rate\">.190</td><td class=\"right iz\" data-stat=\"DUMMY\"></td><td class=\"left\" data-stat=\"arena_name\">STAPLES Center</td><td class=\"right\" data-stat=\"attendance\">776,327</td><td class=\"right\" data-stat=\"attendance_per_g\">18,935</td></tr> <tr><th class=\"right\" data-stat=\"ranker\" scope=\"row\">22</th><td class=\"left\" data-stat=\"team\"><a href=\"/teams/DAL/2018.html\">Dallas Mavericks</a></td><td class=\"right\" data-stat=\"age\">27.7</td><td class=\"right\" data-stat=\"wins\">24</td><td class=\"right\" data-stat=\"losses\">58</td><td class=\"right\" data-stat=\"wins_pyth\">33</td><td class=\"right\" data-stat=\"losses_pyth\">49</td><td class=\"right\" data-stat=\"mov\">-3.04</td><td class=\"right\" data-stat=\"sos\">0.34</td><td class=\"right\" data-stat=\"srs\">-2.70</td><td class=\"right\" data-stat=\"off_rtg\">106.3</td><td class=\"right\" data-stat=\"def_rtg\">109.5</td><td class=\"right decrease\" data-stat=\"net_rtg\">-3.2</td><td class=\"right\" data-stat=\"pace\">95.6</td><td class=\"right\" data-stat=\"fta_per_fga_pct\">.217</td><td class=\"right\" data-stat=\"fg3a_per_fga_pct\">.382</td><td class=\"right\" data-stat=\"ts_pct\">.544</td><td class=\"right iz\" data-stat=\"DUMMY\"></td><td class=\"right\" data-stat=\"efg_pct\">.513</td><td class=\"right\" data-stat=\"tov_pct\">11.6</td><td class=\"right\" data-stat=\"orb_pct\">18.0</td><td class=\"right\" data-stat=\"ft_rate\">.166</td><td class=\"right iz\" data-stat=\"DUMMY\"></td><td class=\"right\" data-stat=\"opp_efg_pct\">.532</td><td class=\"right\" data-stat=\"opp_tov_pct\">12.9</td><td class=\"right\" data-stat=\"drb_pct\">78.9</td><td class=\"right\" data-stat=\"opp_ft_rate\">.193</td><td class=\"right iz\" data-stat=\"DUMMY\"></td><td class=\"left\" data-stat=\"arena_name\">American Airlines Center</td><td class=\"right\" data-stat=\"attendance\">811,453</td><td class=\"right\" data-stat=\"attendance_per_g\">19,792</td></tr> <tr><th class=\"right\" data-stat=\"ranker\" scope=\"row\">23</th><td class=\"left\" data-stat=\"team\"><a href=\"/teams/NYK/2018.html\">New York Knicks</a></td><td class=\"right\" data-stat=\"age\">26.3</td><td class=\"right\" data-stat=\"wins\">29</td><td class=\"right\" data-stat=\"losses\">53</td><td class=\"right\" data-stat=\"wins_pyth\">32</td><td class=\"right\" data-stat=\"losses_pyth\">50</td><td class=\"right\" data-stat=\"mov\">-3.56</td><td class=\"right\" data-stat=\"sos\">0.03</td><td class=\"right\" data-stat=\"srs\">-3.53</td><td class=\"right\" data-stat=\"off_rtg\">107.1</td><td class=\"right\" data-stat=\"def_rtg\">110.7</td><td class=\"right decrease\" data-stat=\"net_rtg\">-3.6</td><td class=\"right\" data-stat=\"pace\">96.8</td><td class=\"right\" data-stat=\"fta_per_fga_pct\">.216</td><td class=\"right\" data-stat=\"fg3a_per_fga_pct\">.266</td><td class=\"right\" data-stat=\"ts_pct\">.544</td><td class=\"right iz\" data-stat=\"DUMMY\"></td><td class=\"right\" data-stat=\"efg_pct\">.510</td><td class=\"right\" data-stat=\"tov_pct\">13.3</td><td class=\"right\" data-stat=\"orb_pct\">24.1</td><td class=\"right\" data-stat=\"ft_rate\">.170</td><td class=\"right iz\" data-stat=\"DUMMY\"></td><td class=\"right\" data-stat=\"opp_efg_pct\">.522</td><td class=\"right\" data-stat=\"opp_tov_pct\">12.2</td><td class=\"right\" data-stat=\"drb_pct\">76.7</td><td class=\"right\" data-stat=\"opp_ft_rate\">.208</td><td class=\"right iz\" data-stat=\"DUMMY\"></td><td class=\"left\" data-stat=\"arena_name\">Madison Square Garden (IV)</td><td class=\"right\" data-stat=\"attendance\">792,608</td><td class=\"right\" data-stat=\"attendance_per_g\">19,332</td></tr> <tr><th class=\"right\" data-stat=\"ranker\" scope=\"row\">24</th><td class=\"left\" data-stat=\"team\"><a href=\"/teams/BRK/2018.html\">Brooklyn Nets</a></td><td class=\"right\" data-stat=\"age\">25.1</td><td class=\"right\" data-stat=\"wins\">28</td><td class=\"right\" data-stat=\"losses\">54</td><td class=\"right\" data-stat=\"wins_pyth\">31</td><td class=\"right\" data-stat=\"losses_pyth\">51</td><td class=\"right\" data-stat=\"mov\">-3.74</td><td class=\"right\" data-stat=\"sos\">0.07</td><td class=\"right\" data-stat=\"srs\">-3.67</td><td class=\"right\" data-stat=\"off_rtg\">106.9</td><td class=\"right\" data-stat=\"def_rtg\">110.6</td><td class=\"right decrease\" data-stat=\"net_rtg\">-3.7</td><td class=\"right\" data-stat=\"pace\">98.9</td><td class=\"right\" data-stat=\"fta_per_fga_pct\">.260</td><td class=\"right\" data-stat=\"fg3a_per_fga_pct\">.411</td><td class=\"right\" data-stat=\"ts_pct\">.551</td><td class=\"right iz\" data-stat=\"DUMMY\"></td><td class=\"right\" data-stat=\"efg_pct\">.514</td><td class=\"right\" data-stat=\"tov_pct\">13.6</td><td class=\"right\" data-stat=\"orb_pct\">21.0</td><td class=\"right\" data-stat=\"ft_rate\">.201</td><td class=\"right iz\" data-stat=\"DUMMY\"></td><td class=\"right\" data-stat=\"opp_efg_pct\">.517</td><td class=\"right\" data-stat=\"opp_tov_pct\">11.0</td><td class=\"right\" data-stat=\"drb_pct\">77.0</td><td class=\"right\" data-stat=\"opp_ft_rate\">.201</td><td class=\"right iz\" data-stat=\"DUMMY\"></td><td class=\"left\" data-stat=\"arena_name\">Barclays Center</td><td class=\"right\" data-stat=\"attendance\">640,010</td><td class=\"right\" data-stat=\"attendance_per_g\">15,376</td></tr> <tr><th class=\"right\" data-stat=\"ranker\" scope=\"row\">25</th><td class=\"left\" data-stat=\"team\"><a href=\"/teams/ORL/2018.html\">Orlando Magic</a></td><td class=\"right\" data-stat=\"age\">25.6</td><td class=\"right\" data-stat=\"wins\">25</td><td class=\"right\" data-stat=\"losses\">57</td><td class=\"right\" data-stat=\"wins_pyth\">28</td><td class=\"right\" data-stat=\"losses_pyth\">54</td><td class=\"right\" data-stat=\"mov\">-4.82</td><td class=\"right\" data-stat=\"sos\">-0.10</td><td class=\"right\" data-stat=\"srs\">-4.92</td><td class=\"right\" data-stat=\"off_rtg\">105.2</td><td class=\"right\" data-stat=\"def_rtg\">110.1</td><td class=\"right decrease\" data-stat=\"net_rtg\">-4.9</td><td class=\"right\" data-stat=\"pace\">98.1</td><td class=\"right\" data-stat=\"fta_per_fga_pct\">.238</td><td class=\"right\" data-stat=\"fg3a_per_fga_pct\">.342</td><td class=\"right\" data-stat=\"ts_pct\">.545</td><td class=\"right iz\" data-stat=\"DUMMY\"></td><td class=\"right\" data-stat=\"efg_pct\">.512</td><td class=\"right\" data-stat=\"tov_pct\">13.3</td><td class=\"right\" data-stat=\"orb_pct\">20.0</td><td class=\"right\" data-stat=\"ft_rate\">.180</td><td class=\"right iz\" data-stat=\"DUMMY\"></td><td class=\"right\" data-stat=\"opp_efg_pct\">.525</td><td class=\"right\" data-stat=\"opp_tov_pct\">12.8</td><td class=\"right\" data-stat=\"drb_pct\">75.6</td><td class=\"right\" data-stat=\"opp_ft_rate\">.187</td><td class=\"right iz\" data-stat=\"DUMMY\"></td><td class=\"left\" data-stat=\"arena_name\">Amway Center</td><td class=\"right\" data-stat=\"attendance\">734,531</td><td class=\"right\" data-stat=\"attendance_per_g\">17,915</td></tr> <tr><th class=\"right\" data-stat=\"ranker\" scope=\"row\">26</th><td class=\"left\" data-stat=\"team\"><a href=\"/teams/ATL/2018.html\">Atlanta Hawks</a></td><td class=\"right\" data-stat=\"age\">25.4</td><td class=\"right\" data-stat=\"wins\">24</td><td class=\"right\" data-stat=\"losses\">58</td><td class=\"right\" data-stat=\"wins_pyth\">27</td><td class=\"right\" data-stat=\"losses_pyth\">55</td><td class=\"right\" data-stat=\"mov\">-5.45</td><td class=\"right\" data-stat=\"sos\">0.15</td><td class=\"right\" data-stat=\"srs\">-5.30</td><td class=\"right\" data-stat=\"off_rtg\">105.0</td><td class=\"right\" data-stat=\"def_rtg\">110.6</td><td class=\"right decrease\" data-stat=\"net_rtg\">-5.6</td><td class=\"right\" data-stat=\"pace\">98.3</td><td class=\"right\" data-stat=\"fta_per_fga_pct\">.236</td><td class=\"right\" data-stat=\"fg3a_per_fga_pct\">.363</td><td class=\"right\" data-stat=\"ts_pct\">.547</td><td class=\"right iz\" data-stat=\"DUMMY\"></td><td class=\"right\" data-stat=\"efg_pct\">.512</td><td class=\"right\" data-stat=\"tov_pct\">14.1</td><td class=\"right\" data-stat=\"orb_pct\">21.1</td><td class=\"right\" data-stat=\"ft_rate\">.185</td><td class=\"right iz\" data-stat=\"DUMMY\"></td><td class=\"right\" data-stat=\"opp_efg_pct\">.536</td><td class=\"right\" data-stat=\"opp_tov_pct\">13.6</td><td class=\"right\" data-stat=\"drb_pct\">76.2</td><td class=\"right\" data-stat=\"opp_ft_rate\">.183</td><td class=\"right iz\" data-stat=\"DUMMY\"></td><td class=\"left\" data-stat=\"arena_name\">Philips Arena</td><td class=\"right\" data-stat=\"attendance\">590,769</td><td class=\"right\" data-stat=\"attendance_per_g\">14,409</td></tr> <tr><th class=\"right\" data-stat=\"ranker\" scope=\"row\">27</th><td class=\"left\" data-stat=\"team\"><a href=\"/teams/MEM/2018.html\">Memphis Grizzlies</a></td><td class=\"right\" data-stat=\"age\">26.0</td><td class=\"right\" data-stat=\"wins\">22</td><td class=\"right\" data-stat=\"losses\">60</td><td class=\"right\" data-stat=\"wins_pyth\">25</td><td class=\"right\" data-stat=\"losses_pyth\">57</td><td class=\"right\" data-stat=\"mov\">-6.21</td><td class=\"right\" data-stat=\"sos\">0.39</td><td class=\"right\" data-stat=\"srs\">-5.81</td><td class=\"right\" data-stat=\"off_rtg\">104.5</td><td class=\"right\" data-stat=\"def_rtg\">111.0</td><td class=\"right decrease\" data-stat=\"net_rtg\">-6.5</td><td class=\"right\" data-stat=\"pace\">94.9</td><td class=\"right\" data-stat=\"fta_per_fga_pct\">.255</td><td class=\"right\" data-stat=\"fg3a_per_fga_pct\">.317</td><td class=\"right\" data-stat=\"ts_pct\">.539</td><td class=\"right iz\" data-stat=\"DUMMY\"></td><td class=\"right\" data-stat=\"efg_pct\">.500</td><td class=\"right\" data-stat=\"tov_pct\">14.0</td><td class=\"right\" data-stat=\"orb_pct\">22.4</td><td class=\"right\" data-stat=\"ft_rate\">.201</td><td class=\"right iz\" data-stat=\"DUMMY\"></td><td class=\"right\" data-stat=\"opp_efg_pct\">.529</td><td class=\"right\" data-stat=\"opp_tov_pct\">13.8</td><td class=\"right\" data-stat=\"drb_pct\">76.5</td><td class=\"right\" data-stat=\"opp_ft_rate\">.256</td><td class=\"right iz\" data-stat=\"DUMMY\"></td><td class=\"left\" data-stat=\"arena_name\">FedEx Forum</td><td class=\"right\" data-stat=\"attendance\">653,863</td><td class=\"right\" data-stat=\"attendance_per_g\">15,948</td></tr> <tr><th class=\"right\" data-stat=\"ranker\" scope=\"row\">28</th><td class=\"left\" data-stat=\"team\"><a href=\"/teams/CHI/2018.html\">Chicago Bulls</a></td><td class=\"right\" data-stat=\"age\">24.4</td><td class=\"right\" data-stat=\"wins\">27</td><td class=\"right\" data-stat=\"losses\">55</td><td class=\"right\" data-stat=\"wins_pyth\">23</td><td class=\"right\" data-stat=\"losses_pyth\">59</td><td class=\"right\" data-stat=\"mov\">-7.04</td><td class=\"right\" data-stat=\"sos\">0.20</td><td class=\"right\" data-stat=\"srs\">-6.84</td><td class=\"right\" data-stat=\"off_rtg\">103.8</td><td class=\"right\" data-stat=\"def_rtg\">110.9</td><td class=\"right decrease\" data-stat=\"net_rtg\">-7.1</td><td class=\"right\" data-stat=\"pace\">98.3</td><td class=\"right\" data-stat=\"fta_per_fga_pct\">.216</td><td class=\"right\" data-stat=\"fg3a_per_fga_pct\">.350</td><td class=\"right\" data-stat=\"ts_pct\">.529</td><td class=\"right iz\" data-stat=\"DUMMY\"></td><td class=\"right\" data-stat=\"efg_pct\">.497</td><td class=\"right\" data-stat=\"tov_pct\">12.6</td><td class=\"right\" data-stat=\"orb_pct\">20.6</td><td class=\"right\" data-stat=\"ft_rate\">.164</td><td class=\"right iz\" data-stat=\"DUMMY\"></td><td class=\"right\" data-stat=\"opp_efg_pct\">.542</td><td class=\"right\" data-stat=\"opp_tov_pct\">12.4</td><td class=\"right\" data-stat=\"drb_pct\">80.6</td><td class=\"right\" data-stat=\"opp_ft_rate\">.184</td><td class=\"right iz\" data-stat=\"DUMMY\"></td><td class=\"left\" data-stat=\"arena_name\">United Center</td><td class=\"right\" data-stat=\"attendance\">851,824</td><td class=\"right\" data-stat=\"attendance_per_g\">20,776</td></tr> <tr><th class=\"right\" data-stat=\"ranker\" scope=\"row\">29</th><td class=\"left\" data-stat=\"team\"><a href=\"/teams/SAC/2018.html\">Sacramento Kings</a></td><td class=\"right\" data-stat=\"age\">26.4</td><td class=\"right\" data-stat=\"wins\">27</td><td class=\"right\" data-stat=\"losses\">55</td><td class=\"right\" data-stat=\"wins_pyth\">23</td><td class=\"right\" data-stat=\"losses_pyth\">59</td><td class=\"right\" data-stat=\"mov\">-6.99</td><td class=\"right\" data-stat=\"sos\">0.39</td><td class=\"right\" data-stat=\"srs\">-6.60</td><td class=\"right\" data-stat=\"off_rtg\">103.7</td><td class=\"right\" data-stat=\"def_rtg\">111.1</td><td class=\"right decrease\" data-stat=\"net_rtg\">-7.4</td><td class=\"right\" data-stat=\"pace\">94.9</td><td class=\"right\" data-stat=\"fta_per_fga_pct\">.194</td><td class=\"right\" data-stat=\"fg3a_per_fga_pct\">.278</td><td class=\"right\" data-stat=\"ts_pct\">.529</td><td class=\"right iz\" data-stat=\"DUMMY\"></td><td class=\"right\" data-stat=\"efg_pct\">.502</td><td class=\"right\" data-stat=\"tov_pct\">12.8</td><td class=\"right\" data-stat=\"orb_pct\">21.5</td><td class=\"right\" data-stat=\"ft_rate\">.143</td><td class=\"right iz\" data-stat=\"DUMMY\"></td><td class=\"right\" data-stat=\"opp_efg_pct\">.542</td><td class=\"right\" data-stat=\"opp_tov_pct\">13.5</td><td class=\"right\" data-stat=\"drb_pct\">77.6</td><td class=\"right\" data-stat=\"opp_ft_rate\">.199</td><td class=\"right iz\" data-stat=\"DUMMY\"></td><td class=\"left\" data-stat=\"arena_name\">Golden 1 Center</td><td class=\"right\" data-stat=\"attendance\">714,680</td><td class=\"right\" data-stat=\"attendance_per_g\">17,431</td></tr> <tr><th class=\"right\" data-stat=\"ranker\" scope=\"row\">30</th><td class=\"left\" data-stat=\"team\"><a href=\"/teams/PHO/2018.html\">Phoenix Suns</a></td><td class=\"right\" data-stat=\"age\">23.7</td><td class=\"right\" data-stat=\"wins\">21</td><td class=\"right\" data-stat=\"losses\">61</td><td class=\"right\" data-stat=\"wins_pyth\">19</td><td class=\"right\" data-stat=\"losses_pyth\">63</td><td class=\"right\" data-stat=\"mov\">-9.37</td><td class=\"right\" data-stat=\"sos\">0.57</td><td class=\"right\" data-stat=\"srs\">-8.80</td><td class=\"right\" data-stat=\"off_rtg\">103.5</td><td class=\"right\" data-stat=\"def_rtg\">112.8</td><td class=\"right decrease\" data-stat=\"net_rtg\">-9.3</td><td class=\"right\" data-stat=\"pace\">100.3</td><td class=\"right\" data-stat=\"fta_per_fga_pct\">.275</td><td class=\"right\" data-stat=\"fg3a_per_fga_pct\">.320</td><td class=\"right\" data-stat=\"ts_pct\">.532</td><td class=\"right iz\" data-stat=\"DUMMY\"></td><td class=\"right\" data-stat=\"efg_pct\">.495</td><td class=\"right\" data-stat=\"tov_pct\">13.9</td><td class=\"right\" data-stat=\"orb_pct\">22.5</td><td class=\"right\" data-stat=\"ft_rate\">.203</td><td class=\"right iz\" data-stat=\"DUMMY\"></td><td class=\"right\" data-stat=\"opp_efg_pct\">.533</td><td class=\"right\" data-stat=\"opp_tov_pct\">11.9</td><td class=\"right\" data-stat=\"drb_pct\">76.5</td><td class=\"right\" data-stat=\"opp_ft_rate\">.212</td><td class=\"right iz\" data-stat=\"DUMMY\"></td><td class=\"left\" data-stat=\"arena_name\">Talking Stick Resort Arena</td><td class=\"right\" data-stat=\"attendance\">690,576</td><td class=\"right\" data-stat=\"attendance_per_g\">16,843</td></tr> </tbody><tfoot><tr><th class=\"right iz\" data-stat=\"ranker\" scope=\"row\"></th><td class=\"left\" data-stat=\"team\">League Average</td><td class=\"right\" data-stat=\"age\">26.6</td><td class=\"right iz\" data-stat=\"wins\"></td><td class=\"right iz\" data-stat=\"losses\"></td><td class=\"right\" data-stat=\"wins_pyth\">41</td><td class=\"right\" data-stat=\"losses_pyth\">41</td><td class=\"right iz\" data-stat=\"mov\">0.00</td><td class=\"right iz\" data-stat=\"sos\">0.00</td><td class=\"right iz\" data-stat=\"srs\">0.00</td><td class=\"right\" data-stat=\"off_rtg\">108.6</td><td class=\"right\" data-stat=\"def_rtg\">108.6</td><td class=\"right iz\" data-stat=\"net_rtg\"></td><td class=\"right\" data-stat=\"pace\">97.3</td><td class=\"right\" data-stat=\"fta_per_fga_pct\">.252</td><td class=\"right\" data-stat=\"fg3a_per_fga_pct\">.337</td><td class=\"right\" data-stat=\"ts_pct\">.556</td><td class=\"right iz\" data-stat=\"DUMMY\"></td><td class=\"right\" data-stat=\"efg_pct\">.521</td><td class=\"right\" data-stat=\"tov_pct\">13.0</td><td class=\"right\" data-stat=\"orb_pct\">22.3</td><td class=\"right\" data-stat=\"ft_rate\">.193</td><td class=\"right iz\" data-stat=\"DUMMY\"></td><td class=\"right\" data-stat=\"opp_efg_pct\">.521</td><td class=\"right\" data-stat=\"opp_tov_pct\">13.0</td><td class=\"right\" data-stat=\"drb_pct\">77.7</td><td class=\"right\" data-stat=\"opp_ft_rate\">.193</td><td class=\"right iz\" data-stat=\"DUMMY\"></td><td class=\"left iz\" data-stat=\"arena_name\"></td><td class=\"right\" data-stat=\"attendance\">737,485</td><td class=\"right\" data-stat=\"attendance_per_g\">17,989</td></tr> </tfoot>  </table>"
      ]
     },
     "metadata": {},
     "execution_count": 64
    }
   ],
   "metadata": {}
  },
  {
   "cell_type": "markdown",
   "source": [
    "> **Ex. 7.2.6. (extra) :** Compare your results to the pandas implementation [pd.read_html](https://pandas.pydata.org/pandas-docs/stable/reference/api/pandas.read_html.html)"
   ],
   "metadata": {}
  },
  {
   "cell_type": "markdown",
   "source": [
    "## Exercise Section 7.3: The European Research Counsel (optional)\n",
    "**NOTE** Exercise 7.3 is difficult and therefore also optional. I expect less than 10% of you being able to solve this one.\n",
    "\n",
    "Imagine we wanted to analyze whether the European funding behaviour was biased towards certain countries and gender. We might decide to scrape who has received funding from the ERC.\n",
    "https://erc.europa.eu/\n",
    "\n",
    "* First we figure find navigate the grant listings.\n",
    "* Next we figure out how to page these results. \n",
    "* And finally we want to grab the information."
   ],
   "metadata": {}
  },
  {
   "cell_type": "markdown",
   "source": [
    "### Data Storage and operating system interactions\n",
    "\n",
    "> **Ex. 7.3.1:** *Import the python library `os`. Write pyhon code in this jupyter notebook creating a new folder in your directory called \"erc_funding\". Inside your new folder create 3 subfolders called 'mapping', 'raw_data' and 'parsed_data'.*\n",
    "\n"
   ],
   "metadata": {}
  },
  {
   "cell_type": "code",
   "execution_count": 25,
   "source": [
    "import os\n",
    "\n",
    "os.chdir('/Users/simonjuulhansen/Desktop/Polit/ISDS/ISDS_arbejde/Exercises/module_7')\n",
    "\n",
    "if os.path.exists('erc_funding'):\n",
    "    pass\n",
    "else:\n",
    "    os.mkdir(\"erc_funding\")\n",
    "# Change the working directory\n",
    "os.chdir(os.path.join(os.getcwd(),'erc_funding'))\n",
    "\n",
    "if os.path.exists('mapping'):\n",
    "    pass\n",
    "else:\n",
    "    os.mkdir(\"mapping\")\n",
    "\n",
    "if os.path.exists('raw_data'):\n",
    "    pass\n",
    "else:\n",
    "    os.mkdir(\"raw_data\")\n",
    "\n",
    "if os.path.exists('parsed_data'):\n",
    "    pass\n",
    "else:\n",
    "    os.mkdir(\"parsed_data\")"
   ],
   "outputs": [],
   "metadata": {}
  },
  {
   "cell_type": "markdown",
   "source": [
    "### Mapping\n",
    "\n",
    "> **Ex. 7.3.2:** *Investigate [https://erc.europa.eu/projects-figures/erc-funded-projects/results?items_per_page=100&search_api_views_fulltext=&](https://erc.europa.eu/projects-figures/erc-funded-projects/results?items_per_page=100&search_api_views_fulltext=&). Figure out how many sites you need to loop thorugh. Save the response for each site using in `condecs` in your \"mapping\" subfolder. Use the `tqdm` to track your loop.\n",
    "Use the Snorre Ralund Connector class to log your activity.*\n",
    "\n"
   ],
   "metadata": {}
  },
  {
   "cell_type": "code",
   "execution_count": null,
   "source": [
    "page_1 = 'https://erc.europa.eu/projects-figures/erc-funded-projects/results?items_per_page=100&search_api_views_fulltext=&'\n",
    "page_2 = 'https://erc.europa.eu/projects-figures/erc-funded-projects/results?items_per_page=100&search_api_views_fulltext=&page=1'\n",
    "number_of_pages = 120\n",
    "\n",
    "response = requests.get(url)\n",
    "html = response.text\n",
    "soup = BeautifulSoup(response.content, 'html.parser')\n"
   ],
   "outputs": [],
   "metadata": {}
  },
  {
   "cell_type": "markdown",
   "source": [
    "### Parsing\n",
    "\n",
    "> **Ex. 7.3.3:** *Write a function that takes a filename (from our mapping subfolder) as and input and returns (in our parsed_data subfolder) a `pandas`dataframe of parsed information. Use `os` library to navigate your operating system (paths) and `condecs` library to read files inside your function. Last, concatenate all your dataframes into one dataframe you call \"df\" consisting of all parsed data.*"
   ],
   "metadata": {}
  },
  {
   "cell_type": "markdown",
   "source": [
    "### Reliability and Data Quality\n",
    "\n",
    "##### Inspect the data\n",
    "> **Ex. 7.3.4:** *Investigate your dataframe \"df\". Check for dublicates. Count NaN values. Create a `matplotlib` histrogram plot for every column of \"df\" illustrating the lenght of the string (x-axis) and row count( y-axis).*\n",
    "\n",
    "##### Do simple descriptives\n",
    "> **Ex. 7.3.5:** *Create a value_counts() for each of the three columns (Host Institution (HI), Researcher (PI) and Project acronym) in your \"df\". What can counting do for us in this exercise in terms of Reliability and Data Quality?*\n",
    "\n",
    "##### Visualize the Log\n",
    "> **Ex. 7.3.6:** *Load your \"erc_log.csv\". Convert the time column 't' to datetime. Use `matplotlib` to create three plots: (1) time it took to make the call, (2) the response size over time, and (3) the delta_t against the response_size .)*"
   ],
   "metadata": {}
  }
 ],
 "metadata": {
  "kernelspec": {
   "name": "python3",
   "display_name": "Python 3.9.2 64-bit"
  },
  "language_info": {
   "codemirror_mode": {
    "name": "ipython",
    "version": 3
   },
   "file_extension": ".py",
   "mimetype": "text/x-python",
   "name": "python",
   "nbconvert_exporter": "python",
   "pygments_lexer": "ipython3",
   "version": "3.9.2"
  },
  "latex_envs": {
   "bibliofile": "biblio.bib",
   "cite_by": "apalike",
   "current_citInitial": 1,
   "eqLabelWithNumbers": true,
   "eqNumInitial": 0
  },
  "toc": {
   "nav_menu": {
    "height": "328px",
    "width": "252px"
   },
   "navigate_menu": true,
   "number_sections": true,
   "sideBar": true,
   "threshold": 4,
   "toc_cell": false,
   "toc_section_display": "block",
   "toc_window_display": false
  },
  "interpreter": {
   "hash": "aee8b7b246df8f9039afb4144a1f6fd8d2ca17a180786b69acc140d282b71a49"
  }
 },
 "nbformat": 4,
 "nbformat_minor": 2
}