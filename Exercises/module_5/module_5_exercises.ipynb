{
 "cells": [
  {
   "cell_type": "markdown",
   "source": [
    "# Videos and Exercises for Session 5: Strings, Requests and APIs"
   ],
   "metadata": {}
  },
  {
   "cell_type": "markdown",
   "source": [
    "In Assignment 0 we covered a lot about basic Python, and in the first sessions, we talked a bit about how to deal with different data types in pandas - strings among other. However, we only scratched the surface on string-related topics and in this session, we will be taking a deeper looking at. \n",
    "\n",
    "We will start out with a recap of some basic string operations and build on that to make a query for fetching data. After having finished this combined teaching module and exercise set, you will know the basics of collecting from the web. This notebook is structured as follows:\n",
    "1. String Operations (recap and warm-up):\n",
    "    - Common string operations\n",
    "    - More string operations\n",
    "    - Warm-up exercises\n",
    "2. Saving as Text File\n",
    "3. Python Containers and Dictionaries\n",
    "4. Python and the Web\n",
    "    - Application Programming Interface (API)\n",
    "    - The Punk API\n",
    "    - The API for Statistics Denmark\n",
    "5. Bonus Exercises $-$ Traffic Data in Copenhagen\n",
    "\n",
    "*Alternative sources*: If you get lost, you might find [this page](https://pythonprogramming.net/string-concatenation-formatting-intermediate-python-tutorial/) on pythonprogramming.net useful. [This page](https://www.python-course.eu/python3_sequential_data_types.php) also gives an introduction to the basics of strings and their related data types. "
   ],
   "metadata": {}
  },
  {
   "cell_type": "markdown",
   "source": [
    "# Part 1: String Operations\n",
    "\n",
    "As we have already learned, strings are sequential containers of characters. In Python we use two kinds of characters:\n",
    "-  American Standard Code (`ascii`)\n",
    "    - Characters from English alphabet, numbers, symbols for writing \n",
    "    - 8 bit information\n",
    "\n",
    "- Unicode (`UTF`)  \n",
    "    - Characters from European and Asian language and much more\n",
    "    - 16 bit information\n",
    "    - Available in URLs recently, e.g. [møn.dk](https://møn.dk)        \n",
    "    \n",
    "    \n",
    "Note that while unicode is a little more heavy and costs more space, it is way more flexible and we get less errors when importing data from non-ascii languages. This reason is also why Python adopted unicode as standard since the release of Python 3.\n",
    "\n",
    "To see that strings are sequential containers, see the example below where we slice them like a list or dataframe/array:"
   ],
   "metadata": {}
  },
  {
   "cell_type": "code",
   "execution_count": null,
   "source": [
    "str1 = 'police'\n",
    "str1[2:]"
   ],
   "outputs": [],
   "metadata": {}
  },
  {
   "cell_type": "markdown",
   "source": [
    "## Common string operations \n",
    "\n",
    "Strings have multiple operations and functions associated. In this exercise, we investigate a few of these. We also explore the sequence form of a string and how it can be sliced and accessed via indices. In the following, we provide a small tour of some of the most important technical features of strings."
   ],
   "metadata": {}
  },
  {
   "cell_type": "markdown",
   "source": [
    "One thing that can be helpful when working with strings is that you can alter the sentence-case of strings by using the string methods `upper`, `lower`, `capitalize`. Consider the example below and try switching `upper()` with one of the other operations:"
   ],
   "metadata": {}
  },
  {
   "cell_type": "code",
   "execution_count": null,
   "source": [
    "str1.upper()"
   ],
   "outputs": [],
   "metadata": {}
  },
  {
   "cell_type": "markdown",
   "source": [
    "We can also use the `replace` method to substitute parts of the strings:"
   ],
   "metadata": {}
  },
  {
   "cell_type": "code",
   "execution_count": null,
   "source": [
    "str1.replace('po', 'ma')"
   ],
   "outputs": [],
   "metadata": {}
  },
  {
   "cell_type": "markdown",
   "source": [
    "We can also check whether a substring is within a given string and much more. The general syntax is \n",
    "```python \n",
    "T in S\n",
    "``` \n",
    "which checks whether a string `S` contains the substring `T`. We should always get a boolean True/False outcome in return. See two applications below: "
   ],
   "metadata": {}
  },
  {
   "cell_type": "code",
   "execution_count": null,
   "source": [
    "print('ice' in str1, 'mice' in str1)"
   ],
   "outputs": [],
   "metadata": {}
  },
  {
   "cell_type": "markdown",
   "source": [
    "Another procedure is to add strings together like below:"
   ],
   "metadata": {}
  },
  {
   "cell_type": "code",
   "execution_count": null,
   "source": [
    "str2 = 'officer'\n",
    "str1 + ' ' + str2"
   ],
   "outputs": [],
   "metadata": {}
  },
  {
   "cell_type": "markdown",
   "source": [
    "This can be helpful when we want to combine strings of words into sentences or long text files."
   ],
   "metadata": {}
  },
  {
   "cell_type": "markdown",
   "source": [
    "## More string operations \n",
    "In addition to the techniques above, strings are equipped with an array of _methods_, for solving more complex tasks. For example:\n",
    "- `str.join(list)` will insert a string in between each element of a list\n",
    "- `str.strip()` removes spaces in the beginning and end of a word \n",
    "- the f-string fills in specified blanks in a string\n",
    "- `str1.split(str2)` splits `str1` into a list through all places where `str2` shows up\n",
    "\n",
    "Below we illustrate the use of each function:\n",
    "\n",
    "```python\n",
    ">>> \" \".join(['Hello', 'World!']) \n",
    "'Hello World!'\n",
    "\n",
    ">>> ' Hello World!   '.strip() \n",
    "'Hello World!'\n",
    "\n",
    ">>> w = 'World'\n",
    ">>> f'Hello {w}' \n",
    "'Hello World!'\n",
    "\n",
    ">>> 'a,b,c'.split(',') \n",
    "['a','b','c']\n",
    "```"
   ],
   "metadata": {}
  },
  {
   "cell_type": "markdown",
   "source": [
    "## Warm-up String Exercises\n",
    "\n",
    "In the first couple of exercises, you should use the examples above to solve a set of tasks.\n",
    "\n",
    "> **Ex. 5.1.1**: Let `s1='Chameleon'` and `s2='ham'`. Check whether the string `s2` is a substring of `s1`. Is `'hello'` a substring `'goodbye'`?\n",
    "\n"
   ],
   "metadata": {}
  },
  {
   "cell_type": "code",
   "execution_count": null,
   "source": [
    "# YOUR CODE HERE\n",
    "s1 = 'Chameleon'\n",
    "s2 = 'ham'\n",
    "print(s2 in s1)\n",
    "\n",
    "print('hello' in 'goodbye')"
   ],
   "outputs": [],
   "metadata": {
    "deletable": false,
    "nbgrader": {
     "cell_type": "code",
     "checksum": "7e90feaaa9a8b2638f9987ed46dae18f",
     "grade": false,
     "grade_id": "cell-993caea0991d84c4",
     "locked": false,
     "schema_version": 3,
     "solution": true,
     "task": false
    }
   }
  },
  {
   "cell_type": "markdown",
   "source": [
    "> **Ex. 5.1.2**: From the string `s1` select the last four characters. What is the index of the character `a` in `s1`?\n",
    "\n",
    "> *Hint*: We can selecti a substring by slicing it with the `[]` notation, from the start to end where start is included and end is excluded. Recall that Python has zero-based indexing, see explanation [here](https://softwareengineering.stackexchange.com/questions/110804/why-are-zero-based-arrays-the-norm).\n"
   ],
   "metadata": {}
  },
  {
   "cell_type": "code",
   "execution_count": null,
   "source": [
    "# YOUR CODE HERE\n",
    "s1[-4:] # a has index '2'"
   ],
   "outputs": [],
   "metadata": {
    "deletable": false,
    "nbgrader": {
     "cell_type": "code",
     "checksum": "70e7605f0214aacf9c2cc140eafe6362",
     "grade": false,
     "grade_id": "cell-ace323777447ea4a",
     "locked": false,
     "schema_version": 3,
     "solution": true,
     "task": false
    }
   }
  },
  {
   "cell_type": "markdown",
   "source": [
    "> **Ex. 5.1.3:** Use the `join()` and `strip()` functions to retrieve the sentence `The quick brown fox jumps over the lazy dog` from the list  `list_of_words` in the code cell below. \n",
    "\n",
    "> *Hint:* If you want to challenge yourself, see if you can do this in one line with a list comprehension!"
   ],
   "metadata": {}
  },
  {
   "cell_type": "code",
   "execution_count": null,
   "source": [
    "list_of_words = ['       The        ', '   quick   ', '     brown      ',\n",
    "                 ' fox          ', '          jumps     ', '   over ',\n",
    "                 '          the   ', '  lazy     ', '          dog     ']"
   ],
   "outputs": [],
   "metadata": {}
  },
  {
   "cell_type": "code",
   "execution_count": null,
   "source": [
    "# YOUR CODE HERE\n",
    "fox = \" \".join([x.strip() for x in list_of_words])\n",
    "fox"
   ],
   "outputs": [],
   "metadata": {
    "deletable": false,
    "nbgrader": {
     "cell_type": "code",
     "checksum": "5816e1d6d7ca20a08b2e7710b5ec3f09",
     "grade": false,
     "grade_id": "cell-c07cac510187b734",
     "locked": false,
     "schema_version": 3,
     "solution": true,
     "task": false
    }
   }
  },
  {
   "cell_type": "markdown",
   "source": [
    "> **Ex. 5.1.4:** Let `l1 = ['r ', 'Is', '>', ' < ', 'g ', '?']`. Create from `l1` the sentence \"Is r > g?\" using your knowledge about string formatting. Make sure there is only one space in between worlds.\n",
    ">\n",
    "> _Hint:_ You should be able to combine the above information to solve this exercise."
   ],
   "metadata": {}
  },
  {
   "cell_type": "code",
   "execution_count": null,
   "source": [
    "# YOUR CODE HERE\n",
    "l1 = ['r ', 'Is', '>', ' < ', 'g ', '?']\n",
    "\" \".join([l1[1], l1[0].strip(), l1[2], l1[4].strip()])"
   ],
   "outputs": [],
   "metadata": {
    "deletable": false,
    "nbgrader": {
     "cell_type": "code",
     "checksum": "880f9a61c0db3d7605addf9b06426330",
     "grade": false,
     "grade_id": "cell-9dafd1e8c334c195",
     "locked": false,
     "schema_version": 3,
     "solution": true,
     "task": false
    }
   }
  },
  {
   "cell_type": "markdown",
   "source": [
    "# Part 2: Saving as Text File\n",
    "In this course, we have already seen that we can output tabular data as CSV files. These files are essentially text files with specific structure that allows a computer to identify rows and columns. \n",
    "\n",
    "In the example below, we will learn how to actually save a string directly as a text file. Note how we make a line break using `\\n` - this is a string escape sequence, read more [here](https://docs.python.org/3/reference/lexical_analysis.html#literals)."
   ],
   "metadata": {
    "slideshow": {
     "slide_type": "slide"
    }
   }
  },
  {
   "cell_type": "code",
   "execution_count": null,
   "source": [
    "my_str = 'This is important...'\n",
    "my_str2 = 'Written in Python!'\n",
    "escape_seq = '\\n'\n",
    "\n",
    "with open('my_file.txt', 'w') as f:\n",
    "    f.write(my_str+escape_seq+my_str2)"
   ],
   "outputs": [],
   "metadata": {
    "slideshow": {
     "slide_type": "fragment"
    }
   }
  },
  {
   "cell_type": "markdown",
   "source": [
    "The code below opens the text file and prints the string."
   ],
   "metadata": {
    "slideshow": {
     "slide_type": "fragment"
    }
   }
  },
  {
   "cell_type": "code",
   "execution_count": null,
   "source": [
    "with open('my_file.txt', 'r') as f:    \n",
    "    print(f.read())"
   ],
   "outputs": [],
   "metadata": {
    "slideshow": {
     "slide_type": "fragment"
    }
   }
  },
  {
   "cell_type": "markdown",
   "source": [
    "> **Ex. 5.2.1:** Create a .txt file called `to_do_list.txt` with a to-do list by looping over the list `to_do = ['1. Hit the gym', '2. Pay bills', '3. Meet George', '4. Buy eggs', '5. Read a book']` and writing each element on a seperate line."
   ],
   "metadata": {}
  },
  {
   "cell_type": "code",
   "execution_count": null,
   "source": [
    "to_do = ['1. Hit the gym', '2. Pay bills', '3. Meet George', '4. Buy eggs', '5. Read a book']"
   ],
   "outputs": [],
   "metadata": {}
  },
  {
   "cell_type": "code",
   "execution_count": null,
   "source": [
    "# YOUR CODE HERE\n",
    "with open('to_do_list.txt', 'w') as f:\n",
    "    for i in to_do:\n",
    "        f.write(i + '\\n')\n"
   ],
   "outputs": [],
   "metadata": {
    "deletable": false,
    "nbgrader": {
     "cell_type": "code",
     "checksum": "5182aae859c995048f1044d657065482",
     "grade": false,
     "grade_id": "cell-e5321552aeca36ad",
     "locked": false,
     "schema_version": 3,
     "solution": true,
     "task": false
    }
   }
  },
  {
   "cell_type": "markdown",
   "source": [
    "Does the file look like you expected?"
   ],
   "metadata": {
    "slideshow": {
     "slide_type": "slide"
    }
   }
  },
  {
   "cell_type": "code",
   "execution_count": null,
   "source": [
    "with open('to_do_list.txt', 'r') as f:    \n",
    "    print(f.read())"
   ],
   "outputs": [],
   "metadata": {
    "slideshow": {
     "slide_type": "fragment"
    }
   }
  },
  {
   "cell_type": "markdown",
   "source": [
    "# Part 3: Python Containers and Dictionaries\n",
    "\n",
    "Dictionaries (or simply `dict`) are a central building block of python. Python dicts are constructed from pairs of keys and values, making them extremely versatile for data storage. Like list, they can contain deep nested structures, e.g. a dict of dicts of lists. You can learn more about this in the following video:"
   ],
   "metadata": {}
  },
  {
   "cell_type": "code",
   "execution_count": null,
   "source": [
    "from IPython.display import YouTubeVideo\n",
    "YouTubeVideo('iRju871QsNc', width=640, height=360)"
   ],
   "outputs": [],
   "metadata": {}
  },
  {
   "cell_type": "markdown",
   "source": [
    "Try running the code below, where the keys are strings (names from recent Danish prime ministers) and values are also strings (e.g. political affiliation):"
   ],
   "metadata": {}
  },
  {
   "cell_type": "code",
   "execution_count": null,
   "source": [
    "my_dict1 = {'Anders': \"Venstre\",\n",
    "            'Helle': \"Socialdemokratiet\",\n",
    "            'Lars': \"Venstre\",\n",
    "            'Mette': \"Socialdemokratiet\"}"
   ],
   "outputs": [],
   "metadata": {
    "slideshow": {
     "slide_type": "-"
    }
   }
  },
  {
   "cell_type": "markdown",
   "source": [
    "Now,  print the party of some (former) Danish prime minister by replacing `'Name'` below."
   ],
   "metadata": {
    "slideshow": {
     "slide_type": "slide"
    }
   }
  },
  {
   "cell_type": "code",
   "execution_count": null,
   "source": [
    "print(my_dict1['Lars'])"
   ],
   "outputs": [],
   "metadata": {}
  },
  {
   "cell_type": "markdown",
   "source": [
    "> **Ex. 5.3.1**: Create an empty dictionary `words` using the `dict()`function. Then add each of the words in `['animal', 'coffee', 'python', 'unit', 'knowledge', 'tread', 'arise']` as a key, with the value being a boolean indicator for whether the word begins with a vowel. The results should look like `{'bacon': False, 'asynchronous': True ...}`.\n",
    "\n",
    "> _Hint:_ One approach is to first construct a function that asseses whether a given word begins with a vowel or not."
   ],
   "metadata": {}
  },
  {
   "cell_type": "code",
   "execution_count": null,
   "source": [
    "# YOUR CODE HERE\n",
    "words = dict()\n",
    "object_list = ['animal', 'coffee', 'python', 'unit', 'knowledge', 'tread', 'arise']\n",
    "\n",
    "vowels = ('a','e','i','o','u','A','E','I','O','U')\n",
    "\n",
    "def is_vowel(word):\n",
    "    return word.startswith(vowels)\n",
    "\n",
    "for i in object_list:\n",
    "    words[i] = is_vowel(i)\n"
   ],
   "outputs": [],
   "metadata": {
    "deletable": false,
    "nbgrader": {
     "cell_type": "code",
     "checksum": "9833bc08d5bd7e7938c8d329c9c577ce",
     "grade": false,
     "grade_id": "cell-81e592c15ce8ee6d",
     "locked": false,
     "schema_version": 3,
     "solution": true,
     "task": false
    }
   }
  },
  {
   "cell_type": "markdown",
   "source": [
    "> **Ex. 5.3.2:** Loop through the dictionary `words`. In each iteration, you should print a proper sentence stating whether the current word begins with a vowel or not. \n",
    "\n",
    "> _Hint:_ You can loop through both keys and values simultaneously with the `.items()` method. [This](https://www.tutorialspoint.com/python/python_dictionary.htm) and [this](https://stackoverflow.com/questions/3294889/iterating-over-dictionaries-using-for-loops) might help you."
   ],
   "metadata": {}
  },
  {
   "cell_type": "code",
   "execution_count": null,
   "source": [
    "# YOUR CODE HERE\n",
    "for k,v in words.items():\n",
    "    print(f'Does {k} begin with a vowel? {v}!')"
   ],
   "outputs": [],
   "metadata": {
    "deletable": false,
    "nbgrader": {
     "cell_type": "code",
     "checksum": "8915800d348370e9f3e558b4f842cea1",
     "grade": false,
     "grade_id": "cell-333a6d7713f78839",
     "locked": false,
     "schema_version": 3,
     "solution": true,
     "task": false
    }
   }
  },
  {
   "cell_type": "markdown",
   "source": [
    "In the video, we also introduced the popular JSON file format which can store lists and dictionaries and hold the three fundamental data types `float`, `int` and `str`. The code example below uses the JSON module to save our dictionary. We use a trick by first converting the JSON file to a string. This can be done with the function `dumps` in the module `json`:"
   ],
   "metadata": {
    "slideshow": {
     "slide_type": "slide"
    }
   }
  },
  {
   "cell_type": "code",
   "execution_count": null,
   "source": [
    "import json\n",
    "\n",
    "with open('my_file.JSON', 'w') as f:\n",
    "    my_json_str = json.dumps(words) # convert dictonary to string with JSON formatting\n",
    "    f.write(my_json_str) # write the string to file\n",
    "\n",
    "with open('my_file.JSON', 'r') as f:\n",
    "    print(f.read()) # read the string from file"
   ],
   "outputs": [],
   "metadata": {}
  },
  {
   "cell_type": "markdown",
   "source": [
    "> **Ex. 5.3.3:** Install `https://pypi.org/project/Random-Word/` (documentation [here](https://pypi.org/project/Random-Word/)) by typing `pip install random-word` in your *Anaconda prompt*, and then run the line below. Doing so, you should get a list of 500 randomly drawn words. Now, create a dictionary that contains the length of each of these words (i.e. like `{'livering': 8, 'reiterate': 9,...}`) and save it as a json-file called `r_words.JSON`. Then read it and make sure that you got everything right."
   ],
   "metadata": {}
  },
  {
   "cell_type": "code",
   "execution_count": null,
   "source": [
    "from random_word import RandomWords\n",
    "r = RandomWords()\n",
    "r_words = r.get_random_words(limit=500)"
   ],
   "outputs": [],
   "metadata": {}
  },
  {
   "cell_type": "code",
   "execution_count": null,
   "source": [
    "# YOUR CODE HERE\n",
    "json_dict = dict()\n",
    "\n",
    "for i in r_words:\n",
    "    json_dict[i] = len(i)\n",
    "\n",
    "with open('r_words.JSON', 'w') as f:\n",
    "    my_json_str = json.dumps(json_dict) # convert dictonary to string with JSON formatting\n",
    "    f.write(my_json_str) # write the string to file\n",
    "\n",
    "with open('r_words.JSON', 'r') as f:\n",
    "    print(f.read()) # read the string from file"
   ],
   "outputs": [],
   "metadata": {
    "deletable": false,
    "nbgrader": {
     "cell_type": "code",
     "checksum": "a798d05c406177a1b63e6aa07331d54b",
     "grade": false,
     "grade_id": "cell-c4a946f4ae699bfc",
     "locked": false,
     "schema_version": 3,
     "solution": true,
     "task": false
    }
   }
  },
  {
   "cell_type": "markdown",
   "source": [
    "<br>\n",
    "\n",
    "# Part 4: Python and the Web\n",
    "\n",
    "The internet is a massive source for collecting data. Watch the video below to get an overview of the most fundamental protocols and how we work with them."
   ],
   "metadata": {}
  },
  {
   "cell_type": "code",
   "execution_count": null,
   "source": [
    "YouTubeVideo('cOfo3fRt05w', width=640, height=360)"
   ],
   "outputs": [],
   "metadata": {}
  },
  {
   "cell_type": "markdown",
   "source": [
    "## Application Programming Interface (API)\n",
    "\n",
    "APIs are protocols that allow us to request information and/or services from the provider of the API. In this course, we are mainly interested in APIs that provide data as a response to our requests. Watch the video below to get a sense of what APIs exist and how they work."
   ],
   "metadata": {
    "slideshow": {
     "slide_type": "slide"
    }
   }
  },
  {
   "cell_type": "code",
   "execution_count": null,
   "source": [
    "YouTubeVideo('llFtQKWBApU', width=640, height=360)"
   ],
   "outputs": [],
   "metadata": {}
  },
  {
   "cell_type": "markdown",
   "source": [
    "## Building the Queries\n",
    "We will now move on to understanding how we can interact with a web API in Python. First we will see how to build a query, which is simply a web address. By typing in a specific web address, the web server will receive information from us.\n",
    "\n",
    "In the example below we build a URL that allows us to check out which repositories ISDSUCPH has publicly available."
   ],
   "metadata": {}
  },
  {
   "cell_type": "code",
   "execution_count": null,
   "source": [
    "server_url = 'https://api.github.com'\n",
    "endpoint_path = '/users/isdsucph/repos'\n",
    "\n",
    "url = server_url + endpoint_path\n",
    "\n",
    "print(url)"
   ],
   "outputs": [],
   "metadata": {
    "slideshow": {
     "slide_type": "fragment"
    }
   }
  },
  {
   "cell_type": "markdown",
   "source": [
    "## Sending the Query\n",
    "Python has a smart module, named `requests` (get it with `pip install requests`), that allows us to interact with the web. When we request a URL, we get a response in return. Among other things, it allows us to inspect the HTML code. In the example below, we query the URL for the GitHub API we made above. "
   ],
   "metadata": {
    "slideshow": {
     "slide_type": "slide"
    }
   }
  },
  {
   "cell_type": "code",
   "execution_count": null,
   "source": [
    "import requests # import the module requests\n",
    "response = requests.get(url) # submit query with `get` and save response as object"
   ],
   "outputs": [],
   "metadata": {
    "slideshow": {
     "slide_type": "fragment"
    }
   }
  },
  {
   "cell_type": "markdown",
   "source": [
    "When we examine the response, we can see the HTML string is pretty long, so we limit the initial output to the first 1,000 characters. "
   ],
   "metadata": {}
  },
  {
   "cell_type": "code",
   "execution_count": null,
   "source": [
    "print(len(response.text),'\\n') # print length of HTML\n",
    "print(response.text[:1000]) # print first 1,000 characters of HTML "
   ],
   "outputs": [],
   "metadata": {
    "slideshow": {
     "slide_type": "fragment"
    }
   }
  },
  {
   "cell_type": "markdown",
   "source": [
    "Looking closely, we notice how the structure resembles lists and dictionaries (note that depending on the context, these responses can be VERY difficult to make sense of from simply printing - just as in this case). Therefore, we try to convert it by assuming that it is structured as JSON."
   ],
   "metadata": {}
  },
  {
   "cell_type": "code",
   "execution_count": null,
   "source": [
    "response_json = response.json() # convert response to a list of dicts\n",
    "response_json[0]"
   ],
   "outputs": [],
   "metadata": {}
  },
  {
   "cell_type": "markdown",
   "source": [
    "Now it is easier to see that this is in fact a dictionary. Looking more closely at the output, we can also see that the depth of the dictionary is not trivial - it contains dictionaries of dictionaries.\n",
    "\n",
    "In order to make the output more digestable, use the so-called *pretty printer* that, among other things, arranges the output alphabetically and makes the depth of the output more clearly visible. Take a look and compare with what we had above:"
   ],
   "metadata": {}
  },
  {
   "cell_type": "code",
   "execution_count": null,
   "source": [
    "import pprint #Data pretty printer\n",
    "pprint.pprint(response.json()) #Everything is aranged alphabetically and in appropriate levels"
   ],
   "outputs": [],
   "metadata": {}
  },
  {
   "cell_type": "markdown",
   "source": [
    "## The Punk API\n",
    "\n",
    "Now, it is time for you to request information through an API. First, we will work with the punk API that contains information on a large selection of beers. In this part of exercises, you are going to navigate in the information on these beers. Second, you are going to extract information from the DST (Statistics Denmark) API.\n",
    "\n",
    "The [punk API](https://punkapi.com/) serves information about _beers_. It is a well made and well documented API which makes it great for learning about APIs. \n",
    "\n",
    "> **Ex. 5.4.1:** Read the documentation on the Punk API available [here](https://punkapi.com/documentation/v2). What is the server url (i.e. root endpoint) of the Punk API? Does it require authentication? Then use the Punk API to make a request for the first 80 beers brewed after April, 2004 with an ABV of at least 5."
   ],
   "metadata": {}
  },
  {
   "cell_type": "code",
   "execution_count": null,
   "source": [
    "# YOUR CODE HERE\n",
    "server_url = 'https://api.punkapi.com/v2/'\n",
    "criteria_url = 'beers?brewed_after=4-2004&abv_gt=5&per_page=80'\n",
    "\n",
    "url = server_url + criteria_url\n",
    "\n",
    "beer_response = requests.get(url)\n",
    "\n",
    "beer_response_json = beer_response.json() \n",
    "#print(beer_response_json)\n",
    "pprint.pprint(beer_response.json())"
   ],
   "outputs": [],
   "metadata": {
    "deletable": false,
    "nbgrader": {
     "cell_type": "code",
     "checksum": "0779d90d691b0832d3385b4a1dd546cb",
     "grade": false,
     "grade_id": "cell-d6af29d54fd7ded7",
     "locked": false,
     "schema_version": 3,
     "solution": true,
     "task": false
    }
   }
  },
  {
   "cell_type": "markdown",
   "source": [
    "> **Ex. 5.4.2:** What object type is the API's JSON response? What about the individual items in the container? Convert the response object to a suitable format and answer the following questions:\n",
    "> 1) How many beers are there in the JSON object?\n",
    ">\n",
    "> 2) Print the response with and without the pretty printer. See any difference?\n",
    ">\n",
    "> 3) Now print only the names of the beers in the JSON object using lower case characters.\n",
    ">\n",
    "> 4) Select the beer called Rabiator from the JSON object. What is the suggested food pairing?\n",
    ">\n",
    "> 5) Select the beer called Hello My Name Is Beastie from the JSON object. Which malt ingredients does the Hello My Name Is Beastie contain?\n"
   ],
   "metadata": {}
  },
  {
   "cell_type": "code",
   "execution_count": null,
   "source": [
    "# YOUR CODE HERE\n",
    "\n",
    "print(type(beer_response_json))\n",
    "# 1\n",
    "print(len(beer_response_json))\n",
    "\n",
    "# 2\n",
    "#beer_response_json[0]\n",
    "#pprint.pprint(response.json())\n",
    "\n",
    "# 3\n",
    "beer_names = [item['name'] for item in beer_response_json]\n",
    "beer_names\n",
    "\n",
    "# 4\n",
    "Rabiator = [item for item in beer_response_json if item[\"name\"] == \"Rabiator\"]\n",
    "Rabiator[0]['food_pairing']\n",
    "\n",
    "# 5\n",
    "Hello_My_Name_Is_Beastie = [item for item in beer_response_json if item[\"name\"] == \"Hello My Name Is Beastie\"]\n",
    "Hello_My_Name_Is_Beastie[0]['ingredients']['malt']"
   ],
   "outputs": [],
   "metadata": {
    "deletable": false,
    "nbgrader": {
     "cell_type": "code",
     "checksum": "09d8a7b769ef0e4201156e70158197be",
     "grade": false,
     "grade_id": "cell-1c6a5eef920b6c70",
     "locked": false,
     "schema_version": 3,
     "solution": true,
     "task": false
    }
   }
  },
  {
   "cell_type": "markdown",
   "source": [
    "> **Ex. 5.4.3:** Save the beers as a JSON file on your machine.\n",
    "\n",
    "> _Hint:_ If still in doubt about how to do this, you might want to take a look at the [json](https://docs.python.org/3/library/json.html) module.\n"
   ],
   "metadata": {}
  },
  {
   "cell_type": "code",
   "execution_count": null,
   "source": [
    "# YOUR CODE HERE\n",
    "with open('beer.JSON', 'w') as f:\n",
    "    my_json_str = json.dumps(beer_response_json) # convert dictonary to string with JSON formatting\n",
    "    f.write(my_json_str) # write the string to file\n"
   ],
   "outputs": [],
   "metadata": {
    "deletable": false,
    "nbgrader": {
     "cell_type": "code",
     "checksum": "ace20a7b7c09517d1318007ea25c33ec",
     "grade": false,
     "grade_id": "cell-d5feea65f34d4ab1",
     "locked": false,
     "schema_version": 3,
     "solution": true,
     "task": false
    }
   }
  },
  {
   "cell_type": "markdown",
   "source": [
    "## The API for Statistics Denmark \n",
    "\n",
    "Statistics Denmark (DST) provide an API access to their aggregate data. For developers, they supply a [console](https://api.statbank.dk/console) for testing. In this exercise, we will code up a simple script which can collect data from the DST API. \n",
    "\n",
    "> **Ex 5.4.4:** Use the API console to construct a GET request which retrieves the table FOLK1A split by quarter. The return should be in JSON format. We want all available dates.\n",
    ">\n",
    ">Then write a function `construct_link()` which takes as inputs: a table ID (e.g. `'FOLK1A'`) and a list of strings like `['var1=*', 'var2=somevalue']`. The function should return the proper URL for getting a dataset with the specified variables (e.g. in this case all levels of var1, but only where var2=somevalue).\n",
    "\n",
    "> _Hint:_ The time variable is called 'tid'. To select all available values, set the value-id to '*'. Spend a little time with the console to get a sense of how the URLs are constructed.\n"
   ],
   "metadata": {}
  },
  {
   "cell_type": "code",
   "execution_count": null,
   "source": [
    "# YOUR CODE HERE\n",
    "#dst_url = 'https://api.statbank.dk/v1/data/FOLK1A/JSONSTAT?lang=en&Tid=*'\n",
    "\n",
    "def construct_link(table_id, list_of_strings):\n",
    "    server_url = 'https://api.statbank.dk/v1/data/'\n",
    "    url = server_url + table_id + '/JSONSTAT?lang=en'\n",
    "    for string in list_of_strings:\n",
    "        url += '&'+string\n",
    "    return url\n",
    "\n",
    "construct_link('FOLK1A', ['Tid=*'])"
   ],
   "outputs": [],
   "metadata": {
    "deletable": false,
    "nbgrader": {
     "cell_type": "code",
     "checksum": "6d92606bf5324f19480c040a7c76c3f8",
     "grade": false,
     "grade_id": "cell-d174a99ed0af2f0e",
     "locked": false,
     "schema_version": 3,
     "solution": true,
     "task": false
    }
   }
  },
  {
   "cell_type": "markdown",
   "source": [
    "When executing the request in the console, you should get a json file as output. Next, lets write some code to load these json files directly into python. \n",
    "\n",
    "\n",
    "> **Ex. 5.4.5:** Use the `requests` module and `construct_link()` to request home value data from the \"EJDFOE1\" table. Get all available years (variable \"Tid\"), but only for Frederiksberg (BOPKOM=147), apartments (EJENTYP=B), market values (VAERDI=100) and average values in DKK units (ENHED=120). Unpack the json payload and store the result. Wrap the whole thing in a function which takes an url as input and returns the corresponding output.\n",
    "\n",
    "> _Hint:_ The `requests.response` object has a `.json()` method. "
   ],
   "metadata": {}
  },
  {
   "cell_type": "code",
   "execution_count": null,
   "source": [
    "# YOUR CODE HERE\n",
    "def dst_req(url):\n",
    "    return requests.get(url).json()\n",
    "\n",
    "dst_res = dst_req(construct_link('EJDFOE1', ['Tid=*', 'BOPKOM=147', 'EJENTYP=B', 'VAERDI=100', 'ENHED=120']))\n",
    "dst_res"
   ],
   "outputs": [],
   "metadata": {
    "deletable": false,
    "nbgrader": {
     "cell_type": "code",
     "checksum": "fa171d0bfbc603977659fd1f56f9b7a2",
     "grade": false,
     "grade_id": "cell-33bba55a2e8d0fc5",
     "locked": false,
     "schema_version": 3,
     "solution": true,
     "task": false
    }
   }
  },
  {
   "cell_type": "code",
   "execution_count": null,
   "source": [
    "dst_res['dataset']['value']"
   ],
   "outputs": [],
   "metadata": {}
  },
  {
   "cell_type": "markdown",
   "source": [
    "> **Ex. 5.4.6:** Extract the values for Frederiksberg in each year. Store the results as a list."
   ],
   "metadata": {}
  },
  {
   "cell_type": "code",
   "execution_count": null,
   "source": [
    "# YOUR CODE HERE\n",
    "frederiksberg_values = dst_res['dataset']['value']\n",
    "frederiksberg_values"
   ],
   "outputs": [],
   "metadata": {
    "deletable": false,
    "nbgrader": {
     "cell_type": "code",
     "checksum": "f6bd7935f324dbffbf537f86daa78dde",
     "grade": false,
     "grade_id": "cell-792e1879090acb1f",
     "locked": false,
     "schema_version": 3,
     "solution": true,
     "task": false
    }
   }
  },
  {
   "cell_type": "markdown",
   "source": [
    "> **Ex. 5.4.7:** Repeat 5.4.5 and 5.4.6 but this time only for Copenhagen (BOPKOM=101). Store the numbers in a new list and use the `plot_values` (supplied below) function to plot the (log of) the data. Interpret the plot."
   ],
   "metadata": {}
  },
  {
   "cell_type": "code",
   "execution_count": null,
   "source": [
    "# Just run this once, do not change it.\n",
    "import matplotlib.pyplot as plt \n",
    "import numpy as np\n",
    "\n",
    "def plot_values(val1, val2):\n",
    "    val1 = val1\n",
    "    val2 = val2\n",
    "    \"\"\" Plots lineplot of the number of births split by gender.\n",
    "    \n",
    "    Args: \n",
    "        boys: a list of boy births by year\n",
    "        girls: a list of girl births by year\n",
    "    \"\"\"\n",
    "    if not len(val1) == len(val2):\n",
    "        raise ValueError('There must be the same number of observations for boys and girls')\n",
    "    \n",
    "    labels = [f'{year}' for year in range(2004,2021)]\n",
    "    \n",
    "    plt.grid(color='black', linestyle='-', linewidth=0.1, axis='x')\n",
    "    \n",
    "    plt.plot(range(len(val1)), val1, color = 'blue', label = 'Frederiksberg')\n",
    "    plt.plot(range(len(val1)), val2, color = 'red', label = 'Copenhagen')\n",
    "    plt.yscale(\"log\")\n",
    "    plt.xticks([i for i in range(len(val1)) if i%2 == 0],\n",
    "               [l for i,l in zip(range(len(val1)),labels) if i%2 == 0],\n",
    "               rotation = 'horizontal')\n",
    "    plt.xlabel('Year')\n",
    "    plt.ylabel('Market Value of Apartments')\n",
    "    \n",
    "    plt.legend()\n",
    "    plt.show()"
   ],
   "outputs": [],
   "metadata": {}
  },
  {
   "cell_type": "code",
   "execution_count": null,
   "source": [
    "# YOUR CODE HERE\n",
    "cph_res = dst_req(construct_link('EJDFOE1', ['Tid=*', 'BOPKOM=101', 'EJENTYP=B', 'VAERDI=100', 'ENHED=120']))\n",
    "cph_values = cph_res['dataset']['value']\n",
    "plot_values(frederiksberg_values, cph_values)"
   ],
   "outputs": [],
   "metadata": {
    "deletable": false,
    "nbgrader": {
     "cell_type": "code",
     "checksum": "61afe17e8fde46f0afffb8e50c5d6b86",
     "grade": false,
     "grade_id": "cell-0ea2577312192992",
     "locked": false,
     "schema_version": 3,
     "solution": true,
     "task": false
    }
   }
  },
  {
   "cell_type": "markdown",
   "source": [
    "# Part 5: Bonus Exercises $-$ Traffic Data in Copenhagen\n",
    "\n",
    "This set of bonus exercises allows you to apply the tools that you have learned in session 2 to 5. Note that they are not mandatory $-$ rather, our hopes are the exercises will provide you with an additional opportunity to (i) strenghten your data structuring skills and (ii) see how you have already learned a series of skills that work nicely together. \n",
    "\n",
    "In this set of bonus exercises, you will be working with traffic data from Copenhagen Municipality.\n",
    "\n",
    "The municipality have made the data openly available through the [opendata.dk](http://www.opendata.dk/) platform. We will use the data from traffic counters to construct a dataset of hourly traffic. We will use this data to get basic insights on the development in traffic over time and relate it to weather. The gist here is to practice a very important skill in Data Science: being able to quickly fetch data from the web and structure it so that you can work with it. Scraping usually gets a bit more advanced than what we will do today, but the following exercises should give you a taste for how it works. The bulk of these exercise, however, revolve around using the Pandas library to structure and analyze data."
   ],
   "metadata": {}
  },
  {
   "cell_type": "markdown",
   "source": [
    "## Part 5.5.A: Getting some data to work with\n",
    "\n",
    "Hence follows a simple scraping exercise where you (1) collect urls for datasets in the webpage listing data on traffic counters and (2) use these urls to load the data into one dataframe.\n",
    "\n",
    "> **Ex. 5.5.1:** *(Bonus)* Using the requests module, extract the html markup of the webpage data.kk.dk/dataset/faste-trafiktaellinger and store it as a string in a new variable."
   ],
   "metadata": {}
  },
  {
   "cell_type": "code",
   "execution_count": null,
   "source": [
    "# YOUR CODE HERE\n",
    "import requests\n",
    "import pandas as pd\n",
    "#bonus_res = requests.get('http://data.kk.dk/dataset/faste-trafiktaellinger')\n",
    "bonus_res = requests.get('https://www.opendata.dk/city-of-copenhagen/faste-trafiktaellinger')"
   ],
   "outputs": [],
   "metadata": {
    "deletable": false,
    "nbgrader": {
     "cell_type": "code",
     "checksum": "9176d5fa5e602c0cc9a83fc019b5e06c",
     "grade": false,
     "grade_id": "cell-66d30cd4ddd300f6",
     "locked": false,
     "schema_version": 3,
     "solution": true,
     "task": false
    }
   }
  },
  {
   "cell_type": "markdown",
   "source": [
    "> **Ex. 5.5.2:** *(Bonus)* Using the re module, extract a list of all the urls in the html string and store them in a new variable.\n",
    "\n",
    "> _Hint:_ Try using the re.findall method. You may want to Google around to figure out how to do this. Searching for something along the lines of \"extract all links in html regex python\" and hitting the first StackOverflow link will probably get you farther than reading elaborate documentation."
   ],
   "metadata": {}
  },
  {
   "cell_type": "code",
   "execution_count": 72,
   "source": [
    "import re \n",
    "from bs4 import BeautifulSoup\n",
    "\n",
    "# YOUR CODE HERE\n",
    "urls = re.findall(r'href=[\\'\"]?([^\\'\" >]+)', bonus_res.text)\n",
    "print(', '.join(urls))\n",
    "\n",
    "\n",
    "#SOUP SOLUTION\n",
    "\"\"\"\n",
    "bonus_soup = BeautifulSoup(bonus_res.content, 'html.parser')\n",
    "bonus_soup.findAll('a', href = True)[0]['href']\n",
    "\"\"\""
   ],
   "outputs": [
    {
     "output_type": "stream",
     "name": "stdout",
     "text": [
      "77\n"
     ]
    },
    {
     "output_type": "execute_result",
     "data": {
      "text/plain": [
       "\"\\nbonus_soup = BeautifulSoup(bonus_res.content, 'html.parser')\\nbonus_soup.findAll('a', href = True)[0]['href']\\n\""
      ]
     },
     "metadata": {},
     "execution_count": 72
    }
   ],
   "metadata": {
    "deletable": false,
    "nbgrader": {
     "cell_type": "code",
     "checksum": "788530dc03e9f126847d8481b20ed13e",
     "grade": false,
     "grade_id": "cell-b6352a75b3acd612",
     "locked": false,
     "schema_version": 3,
     "solution": true,
     "task": false
    }
   }
  },
  {
   "cell_type": "markdown",
   "source": [
    "> **Ex. 5.5.3:** *(Bonus)* Create a new variable `datalinks` that only contains the links that point to downloadable traffic data sheets. Some links may be preset more than once on the page. To get the unique links use the `set()` function on `datalinks`.\n",
    "\n",
    "> _Hint:_ You want to filter the results from above. For example to only include urls with the term 'download' in them."
   ],
   "metadata": {}
  },
  {
   "cell_type": "code",
   "execution_count": null,
   "source": [
    "# YOUR CODE HERE\n",
    "datalinks = [x for x in urls if '/download/' in x]\n",
    "datalinks = list(set(datalinks))\n",
    "datalinks"
   ],
   "outputs": [],
   "metadata": {
    "deletable": false,
    "nbgrader": {
     "cell_type": "code",
     "checksum": "9c4d2d55e4c1ad109d16434f21f24730",
     "grade": false,
     "grade_id": "cell-474f6f4274f1f6be",
     "locked": false,
     "schema_version": 3,
     "solution": true,
     "task": false
    }
   }
  },
  {
   "cell_type": "markdown",
   "source": [
    "> **Ex. 5.5.4:** *(Bonus)* Using pd.read_excel method, load the datasets into a list. Your resulting variable should hold a list of Pandas dataframes.\n",
    "\n",
    "> _Hint:_ you may want to set the `skiprows` keyword argument. "
   ],
   "metadata": {}
  },
  {
   "cell_type": "code",
   "execution_count": null,
   "source": [
    "# YOUR CODE HERE\n",
    "df_list = []\n",
    "for i in range(len(datalinks)):\n",
    "    df_list.append(pd.read_excel(datalinks[i], skiprows = 10))\n",
    "\n",
    "df_list"
   ],
   "outputs": [],
   "metadata": {
    "deletable": false,
    "nbgrader": {
     "cell_type": "code",
     "checksum": "ec13a7429665e71ab5b4c23f4ba21f5e",
     "grade": false,
     "grade_id": "cell-da5cce0bcf1ee076",
     "locked": false,
     "schema_version": 3,
     "solution": true,
     "task": false
    }
   }
  },
  {
   "cell_type": "markdown",
   "source": [
    "> **Ex. 5.5.5:** *(Bonus)* Merge the list of dataframes into a single dataframe."
   ],
   "metadata": {}
  },
  {
   "cell_type": "code",
   "execution_count": null,
   "source": [
    "# YOUR CODE HERE\n",
    "df_555 = pd.concat(df_list)\n",
    "df_555 = df_555.iloc[:, : 30]\n",
    "df_555"
   ],
   "outputs": [],
   "metadata": {
    "deletable": false,
    "nbgrader": {
     "cell_type": "code",
     "checksum": "106922ebf7ed30f3a851de6b1dcd847e",
     "grade": false,
     "grade_id": "cell-4526c1736e295f0a",
     "locked": false,
     "schema_version": 3,
     "solution": true,
     "task": false
    }
   }
  },
  {
   "cell_type": "markdown",
   "source": [
    "## Part 5.5.B Structuring your data\n",
    "\n",
    "If you successfully completed the previous part, you should now have a dataframe with about 183.397 rows (if your number of rows is close but not the same, worry not—it matters little in the following). Well done! But the data is still in no shape for analysis, so we must clean it up a little.\n",
    "\n",
    "161.236 rows (and 30 columns) is a lot of data. ~3.3 MB by my back-of-the-envelope calculations, so not \"Big Data\", but still enough to make your CPU heat up if you don't use it carefully. Pandas is built to handle fairly large dataframes and has advanced functionality to perform very fast operations even when the size of your data grows huge. So instead of working with basic Python we recommend working pandas built-in procedures as they are constructed to be fast on dataframes.\n",
    "\n",
    "Nerd fact: the reason pandas is much faster than pure Python is that dataframes access a lower level programming languages (namely C, C++) which are multiple times faster than Python. The reason it is faster is that it has a higher level of explicitness and thus is more difficult to learn and navigate.\n",
    "\n",
    "> **Ex. 5.5.6:** *(Bonus)* Reset the row indices of your dataframe so the first index is 0 and the last is whatever the number of rows your dataframe has. Also drop the column named 'index' and the one named `Spor`."
   ],
   "metadata": {}
  },
  {
   "cell_type": "code",
   "execution_count": null,
   "source": [
    "# YOUR CODE HERE\n",
    "df_555.reset_index(drop = True, inplace = True)\n",
    "df_555.drop('Spor', inplace =True, axis = 1)\n",
    "df_555"
   ],
   "outputs": [],
   "metadata": {
    "deletable": false,
    "nbgrader": {
     "cell_type": "code",
     "checksum": "12b5d377a6d783b26c1fd5280b0a9909",
     "grade": false,
     "grade_id": "cell-bba8d42c26534466",
     "locked": false,
     "schema_version": 3,
     "solution": true,
     "task": false
    }
   }
  },
  {
   "cell_type": "markdown",
   "source": [
    "> **Ex. 5.5.7:** *(Bonus)* Rename variables from Danish to English using the dictionary below.\n",
    "\n",
    "```python \n",
    "dk_to_uk = {\n",
    "    'Vejnavn':'road_name',\n",
    "    '(UTM32)':'UTM32_north',\n",
    "    '(UTM32).1':'UTM32_east',\n",
    "    'Dato':'date',\n",
    "    'Vej-Id':'road_id'\n",
    "}\n",
    "```"
   ],
   "metadata": {}
  },
  {
   "cell_type": "code",
   "execution_count": 68,
   "source": [
    "# YOUR CODE HERE\n",
    "dk_to_uk = {\n",
    "    'Vejnavn':'road_name',\n",
    "    '(UTM32)':'UTM32_north',\n",
    "    '(UTM32).1':'UTM32_east',\n",
    "    'Dato':'date',\n",
    "    'Vej-Id':'road_id'\n",
    "}\n",
    "\n",
    "df_555.rename(columns = dk_to_uk, inplace = True)"
   ],
   "outputs": [],
   "metadata": {
    "deletable": false,
    "nbgrader": {
     "cell_type": "code",
     "checksum": "8f9f5484502836bbba3fb542b23b6500",
     "grade": false,
     "grade_id": "cell-70b2cbb8cf1b167a",
     "locked": false,
     "schema_version": 3,
     "solution": true,
     "task": false
    }
   }
  },
  {
   "cell_type": "markdown",
   "source": [
    "Python is quite efficient. For example, when you create a new dataframe by manipulating an old one, Python notices that—apart from some minor changes—these two objects are almost the same. Since memory is a precious resource, Python will represent the values in the new dataframe as references to the variables in the old dataset. This is great for performance, but if you for whatever reason change some of the values in your old dataframe, values in the new one will also change—and we don't want that! Luckily, we can break this dependency.\n",
    "\n",
    "> **Ex. 5.5.8:** *(Bonus)* Break the dependencies of the dataframe that resulted from Ex. 5.2.7 using the `.copy` method. Delete all other dataframes."
   ],
   "metadata": {}
  },
  {
   "cell_type": "code",
   "execution_count": 69,
   "source": [
    "# YOUR CODE HERE\n",
    "df_copy = df_555.copy()"
   ],
   "outputs": [],
   "metadata": {
    "deletable": false,
    "nbgrader": {
     "cell_type": "code",
     "checksum": "16a0e29e5b884701fb033db976d23ca1",
     "grade": false,
     "grade_id": "cell-3bc14837561aaf91",
     "locked": false,
     "schema_version": 3,
     "solution": true,
     "task": false
    }
   }
  },
  {
   "cell_type": "markdown",
   "source": [
    "Once you have structured appropriately, something that you will want to do again and again is selecting subsets of the data. Specifically, it means that you select specific rows in the dataset based on some column values.\n",
    "\n",
    ">**Ex. 5.5.9:** *(Bonus)* Create a new column in the dataframe called total that is True when the last letter of road_id is T and otherwise False.\n",
    "\n",
    "> _Hint:_ you will need the `pd.Series.str` attribute for this."
   ],
   "metadata": {}
  },
  {
   "cell_type": "code",
   "execution_count": 75,
   "source": [
    "# YOUR CODE HERE\n",
    "df_copy['total'] = (df_copy.road_id.str[-1] == 'T')"
   ],
   "outputs": [],
   "metadata": {
    "deletable": false,
    "nbgrader": {
     "cell_type": "code",
     "checksum": "35f0de63708a3b52e5f8d9939a2d0e37",
     "grade": false,
     "grade_id": "cell-d71c49b56465c6de",
     "locked": false,
     "schema_version": 3,
     "solution": true,
     "task": false
    }
   }
  },
  {
   "cell_type": "markdown",
   "source": [
    "> **Ex. 5.5.10:** *(Bonus)* Select rows where total is True. Delete all the remaining observations."
   ],
   "metadata": {}
  },
  {
   "cell_type": "code",
   "execution_count": 77,
   "source": [
    "# YOUR CODE HERE\n",
    "df_True = df_copy[df_copy['total'] == True]"
   ],
   "outputs": [],
   "metadata": {
    "deletable": false,
    "nbgrader": {
     "cell_type": "code",
     "checksum": "0ba8a70ca32e46791f0f6412bade1dff",
     "grade": false,
     "grade_id": "cell-be16ff389b3ac550",
     "locked": false,
     "schema_version": 3,
     "solution": true,
     "task": false
    }
   }
  },
  {
   "cell_type": "markdown",
   "source": [
    "> **Ex. 5.5.11:** *(Bonus)* Make two datasets based on the lists of columns below. Call the dataset with spatial columns data_geo and the other data.\n",
    "\n",
    "```python\n",
    "# Columns for `geo_data`, stored in `geo_columns`\n",
    "spatial_columns = ['road_name', 'UTM32_north', 'UTM32_east']\n",
    "\n",
    "# Columns for `data`, stored in `select_columns`\n",
    "hours = ['kl.{}-{}'.format(str(h).zfill(2), str(h+1).zfill(2)) for h in range(24)]\n",
    "select_columns = ['road_name', 'date'] + hours\n",
    "```"
   ],
   "metadata": {}
  },
  {
   "cell_type": "code",
   "execution_count": 79,
   "source": [
    "# YOUR CODE HERE\n",
    "spatial_columns = ['road_name', 'UTM32_north', 'UTM32_east']\n",
    "hours = ['kl.{}-{}'.format(str(h).zfill(2), str(h+1).zfill(2)) for h in range(24)]\n",
    "select_columns = ['road_name', 'date'] + hours\n",
    "\n",
    "geo_data = pd.DataFrame( data = df_True[spatial_columns])\n",
    "data = pd.DataFrame( data = df_True[select_columns])"
   ],
   "outputs": [],
   "metadata": {
    "deletable": false,
    "nbgrader": {
     "cell_type": "code",
     "checksum": "f5f9cccfbf6ea83f71ad566f2ff863fc",
     "grade": false,
     "grade_id": "cell-044260f4552d575c",
     "locked": false,
     "schema_version": 3,
     "solution": true,
     "task": false
    }
   }
  },
  {
   "cell_type": "markdown",
   "source": [
    "> **Ex. 5.5.12:** *(Bonus)* Drop the duplicate rows in data_geo."
   ],
   "metadata": {}
  },
  {
   "cell_type": "code",
   "execution_count": 89,
   "source": [
    "# YOUR CODE HERE\n",
    "geo_data.drop_duplicates(inplace = True)"
   ],
   "outputs": [],
   "metadata": {
    "deletable": false,
    "nbgrader": {
     "cell_type": "code",
     "checksum": "62c3d4184c078cc649f4ff73b42a46e5",
     "grade": false,
     "grade_id": "cell-34fc8fa941234a18",
     "locked": false,
     "schema_version": 3,
     "solution": true,
     "task": false
    }
   }
  },
  {
   "cell_type": "markdown",
   "source": [
    "**Formatting: wide and narrow format**\n",
    "\n",
    "When talking about two-dimensional data (matrices, tables or dataframes, we can call it many things), we can either say that it is in wide or long format (see explanation here, \"wide\" and \"long\" are used interchangably). In Pandas we can use the commands stack and unstack to move between these formats.\n",
    "\n",
    "The wide format has the advantage that it often requires less storage and is easier to read when printed. On the other hand the long format can be easier for modelling, because each observation has its own row. Turns out that the latter is what we most often need.\n",
    "\n",
    "> **Ex. 5.5.13:** *(Bonus)* Turn the dataset from wide to long so hourly data is now vertically stacked. Store this dataset in a dataframe called data. Name the column with hourly information hour_period. Your resulting dataframe should look something like this.\n",
    "\n",
    "> _Hint:_ pandas' melt function may be of use."
   ],
   "metadata": {}
  },
  {
   "cell_type": "code",
   "execution_count": 93,
   "source": [
    "# YOUR CODE HERE\n",
    "data = data.melt(id_vars = ['road_name', 'date'], value_vars = hours, var_name='hour_period')"
   ],
   "outputs": [],
   "metadata": {
    "deletable": false,
    "nbgrader": {
     "cell_type": "code",
     "checksum": "fdb44532dc5c3121108808b0e192ba73",
     "grade": false,
     "grade_id": "cell-8814dd6f2c675c9e",
     "locked": false,
     "schema_version": 3,
     "solution": true,
     "task": false
    }
   }
  },
  {
   "cell_type": "markdown",
   "source": [
    "**Categorical data**\n",
    "\n",
    "Categorical data can contain Python objects, usually strings. These are smart if you have variables with string observations that are long and often repeated, e.g. with road names.\n",
    "\n",
    "> **Ex. 5.5.14:** *(Bonus)* Use the `.astype` method to convert the type of the road_name column to categorical."
   ],
   "metadata": {}
  },
  {
   "cell_type": "code",
   "execution_count": 95,
   "source": [
    "# YOUR CODE HERE\n",
    "data['road_name'] = data['road_name'].astype('category')"
   ],
   "outputs": [],
   "metadata": {
    "deletable": false,
    "nbgrader": {
     "cell_type": "code",
     "checksum": "bc8cc582f4ae8fc5699481d4687b7a29",
     "grade": false,
     "grade_id": "cell-d94e7ec1af8fce59",
     "locked": false,
     "schema_version": 3,
     "solution": true,
     "task": false
    }
   }
  },
  {
   "cell_type": "code",
   "execution_count": 98,
   "source": [
    "data"
   ],
   "outputs": [
    {
     "output_type": "execute_result",
     "data": {
      "text/plain": [
       "            road_name        date hour_period   value\n",
       "0        Ellebjergvej  01.01.2006    kl.00-01   356.0\n",
       "1        Ellebjergvej  02.01.2006    kl.00-01   317.0\n",
       "2        Ellebjergvej  03.01.2006    kl.00-01   413.0\n",
       "3        Ellebjergvej  04.01.2006    kl.00-01   533.0\n",
       "4        Ellebjergvej  05.01.2006    kl.00-01   466.0\n",
       "...               ...         ...         ...     ...\n",
       "1435747    Åboulevard  14.11.2007    kl.23-24   915.0\n",
       "1435748    Åboulevard  15.11.2007    kl.23-24  1145.0\n",
       "1435749    Åboulevard  16.11.2007    kl.23-24  1534.0\n",
       "1435750    Åboulevard  17.11.2007    kl.23-24  1568.0\n",
       "1435751    Åboulevard  18.11.2007    kl.23-24   637.0\n",
       "\n",
       "[1435752 rows x 4 columns]"
      ],
      "text/html": [
       "<div>\n",
       "<style scoped>\n",
       "    .dataframe tbody tr th:only-of-type {\n",
       "        vertical-align: middle;\n",
       "    }\n",
       "\n",
       "    .dataframe tbody tr th {\n",
       "        vertical-align: top;\n",
       "    }\n",
       "\n",
       "    .dataframe thead th {\n",
       "        text-align: right;\n",
       "    }\n",
       "</style>\n",
       "<table border=\"1\" class=\"dataframe\">\n",
       "  <thead>\n",
       "    <tr style=\"text-align: right;\">\n",
       "      <th></th>\n",
       "      <th>road_name</th>\n",
       "      <th>date</th>\n",
       "      <th>hour_period</th>\n",
       "      <th>value</th>\n",
       "    </tr>\n",
       "  </thead>\n",
       "  <tbody>\n",
       "    <tr>\n",
       "      <th>0</th>\n",
       "      <td>Ellebjergvej</td>\n",
       "      <td>01.01.2006</td>\n",
       "      <td>kl.00-01</td>\n",
       "      <td>356.0</td>\n",
       "    </tr>\n",
       "    <tr>\n",
       "      <th>1</th>\n",
       "      <td>Ellebjergvej</td>\n",
       "      <td>02.01.2006</td>\n",
       "      <td>kl.00-01</td>\n",
       "      <td>317.0</td>\n",
       "    </tr>\n",
       "    <tr>\n",
       "      <th>2</th>\n",
       "      <td>Ellebjergvej</td>\n",
       "      <td>03.01.2006</td>\n",
       "      <td>kl.00-01</td>\n",
       "      <td>413.0</td>\n",
       "    </tr>\n",
       "    <tr>\n",
       "      <th>3</th>\n",
       "      <td>Ellebjergvej</td>\n",
       "      <td>04.01.2006</td>\n",
       "      <td>kl.00-01</td>\n",
       "      <td>533.0</td>\n",
       "    </tr>\n",
       "    <tr>\n",
       "      <th>4</th>\n",
       "      <td>Ellebjergvej</td>\n",
       "      <td>05.01.2006</td>\n",
       "      <td>kl.00-01</td>\n",
       "      <td>466.0</td>\n",
       "    </tr>\n",
       "    <tr>\n",
       "      <th>...</th>\n",
       "      <td>...</td>\n",
       "      <td>...</td>\n",
       "      <td>...</td>\n",
       "      <td>...</td>\n",
       "    </tr>\n",
       "    <tr>\n",
       "      <th>1435747</th>\n",
       "      <td>Åboulevard</td>\n",
       "      <td>14.11.2007</td>\n",
       "      <td>kl.23-24</td>\n",
       "      <td>915.0</td>\n",
       "    </tr>\n",
       "    <tr>\n",
       "      <th>1435748</th>\n",
       "      <td>Åboulevard</td>\n",
       "      <td>15.11.2007</td>\n",
       "      <td>kl.23-24</td>\n",
       "      <td>1145.0</td>\n",
       "    </tr>\n",
       "    <tr>\n",
       "      <th>1435749</th>\n",
       "      <td>Åboulevard</td>\n",
       "      <td>16.11.2007</td>\n",
       "      <td>kl.23-24</td>\n",
       "      <td>1534.0</td>\n",
       "    </tr>\n",
       "    <tr>\n",
       "      <th>1435750</th>\n",
       "      <td>Åboulevard</td>\n",
       "      <td>17.11.2007</td>\n",
       "      <td>kl.23-24</td>\n",
       "      <td>1568.0</td>\n",
       "    </tr>\n",
       "    <tr>\n",
       "      <th>1435751</th>\n",
       "      <td>Åboulevard</td>\n",
       "      <td>18.11.2007</td>\n",
       "      <td>kl.23-24</td>\n",
       "      <td>637.0</td>\n",
       "    </tr>\n",
       "  </tbody>\n",
       "</table>\n",
       "<p>1435752 rows × 4 columns</p>\n",
       "</div>"
      ]
     },
     "metadata": {},
     "execution_count": 98
    }
   ],
   "metadata": {}
  },
  {
   "cell_type": "markdown",
   "source": [
    "## Part 5.5.C:  Structure temporal data\n",
    "\n",
    "Pandas has native support for working with temporal data. This is handy as much 'big data' often has time stamps which we can make Pandas aware of. Once we have encoded temporal data it can be used to extract information such as the hour, second etc.\n",
    "\n",
    "> **Ex. 5.5.15:** *(Bonus)* Create a new column called hour which contains the hour-of-day for each row. "
   ],
   "metadata": {}
  },
  {
   "cell_type": "code",
   "execution_count": 129,
   "source": [
    "# YOUR CODE HERE\n",
    "data['hour'] = [f'{x}:00:00' for x in data['hour_period'].str[3:5]]\n",
    "#data['hour'] = data['hour_period'].str[3:5]\n",
    "#data['hour'] = pd.to_datetime(data['hour'], format = '%H')"
   ],
   "outputs": [],
   "metadata": {
    "deletable": false,
    "nbgrader": {
     "cell_type": "code",
     "checksum": "646ddff2743eb9b40e49cb18a566c9b9",
     "grade": false,
     "grade_id": "cell-54d6bbbab97b9bae",
     "locked": false,
     "schema_version": 3,
     "solution": true,
     "task": false
    }
   }
  },
  {
   "cell_type": "markdown",
   "source": [
    ">**Ex. 5.5.16:** *(Bonus)* Create a new column called time, that contains the time of the row in datetime format. Delete the old temporal columns (hour, hour_period, date) to save memory.\n",
    "\n",
    "> _Hint:_ try making an intermediary series of strings that has all temporal information for the row; then use pandas to_datetime function where you can specify the format of the date string."
   ],
   "metadata": {}
  },
  {
   "cell_type": "code",
   "execution_count": 134,
   "source": [
    "# YOUR CODE HERE\n",
    "import datetime\n",
    "data['date'] = pd.to_datetime(data['date'], format = '%d.%m.%Y')\n",
    "data['time'] = pd.to_datetime(data['date'].astype(str) + ' ' + data['hour'].astype(str))\n",
    "data.drop(['date', 'hour', 'hour_period'], inplace = True, axis = 1)\n",
    "data"
   ],
   "outputs": [
    {
     "output_type": "execute_result",
     "data": {
      "text/plain": [
       "            road_name   value                time\n",
       "0        Ellebjergvej   356.0 2006-01-01 00:00:00\n",
       "1        Ellebjergvej   317.0 2006-01-02 00:00:00\n",
       "2        Ellebjergvej   413.0 2006-01-03 00:00:00\n",
       "3        Ellebjergvej   533.0 2006-01-04 00:00:00\n",
       "4        Ellebjergvej   466.0 2006-01-05 00:00:00\n",
       "...               ...     ...                 ...\n",
       "1435747    Åboulevard   915.0 2007-11-14 23:00:00\n",
       "1435748    Åboulevard  1145.0 2007-11-15 23:00:00\n",
       "1435749    Åboulevard  1534.0 2007-11-16 23:00:00\n",
       "1435750    Åboulevard  1568.0 2007-11-17 23:00:00\n",
       "1435751    Åboulevard   637.0 2007-11-18 23:00:00\n",
       "\n",
       "[1435752 rows x 3 columns]"
      ],
      "text/html": [
       "<div>\n",
       "<style scoped>\n",
       "    .dataframe tbody tr th:only-of-type {\n",
       "        vertical-align: middle;\n",
       "    }\n",
       "\n",
       "    .dataframe tbody tr th {\n",
       "        vertical-align: top;\n",
       "    }\n",
       "\n",
       "    .dataframe thead th {\n",
       "        text-align: right;\n",
       "    }\n",
       "</style>\n",
       "<table border=\"1\" class=\"dataframe\">\n",
       "  <thead>\n",
       "    <tr style=\"text-align: right;\">\n",
       "      <th></th>\n",
       "      <th>road_name</th>\n",
       "      <th>value</th>\n",
       "      <th>time</th>\n",
       "    </tr>\n",
       "  </thead>\n",
       "  <tbody>\n",
       "    <tr>\n",
       "      <th>0</th>\n",
       "      <td>Ellebjergvej</td>\n",
       "      <td>356.0</td>\n",
       "      <td>2006-01-01 00:00:00</td>\n",
       "    </tr>\n",
       "    <tr>\n",
       "      <th>1</th>\n",
       "      <td>Ellebjergvej</td>\n",
       "      <td>317.0</td>\n",
       "      <td>2006-01-02 00:00:00</td>\n",
       "    </tr>\n",
       "    <tr>\n",
       "      <th>2</th>\n",
       "      <td>Ellebjergvej</td>\n",
       "      <td>413.0</td>\n",
       "      <td>2006-01-03 00:00:00</td>\n",
       "    </tr>\n",
       "    <tr>\n",
       "      <th>3</th>\n",
       "      <td>Ellebjergvej</td>\n",
       "      <td>533.0</td>\n",
       "      <td>2006-01-04 00:00:00</td>\n",
       "    </tr>\n",
       "    <tr>\n",
       "      <th>4</th>\n",
       "      <td>Ellebjergvej</td>\n",
       "      <td>466.0</td>\n",
       "      <td>2006-01-05 00:00:00</td>\n",
       "    </tr>\n",
       "    <tr>\n",
       "      <th>...</th>\n",
       "      <td>...</td>\n",
       "      <td>...</td>\n",
       "      <td>...</td>\n",
       "    </tr>\n",
       "    <tr>\n",
       "      <th>1435747</th>\n",
       "      <td>Åboulevard</td>\n",
       "      <td>915.0</td>\n",
       "      <td>2007-11-14 23:00:00</td>\n",
       "    </tr>\n",
       "    <tr>\n",
       "      <th>1435748</th>\n",
       "      <td>Åboulevard</td>\n",
       "      <td>1145.0</td>\n",
       "      <td>2007-11-15 23:00:00</td>\n",
       "    </tr>\n",
       "    <tr>\n",
       "      <th>1435749</th>\n",
       "      <td>Åboulevard</td>\n",
       "      <td>1534.0</td>\n",
       "      <td>2007-11-16 23:00:00</td>\n",
       "    </tr>\n",
       "    <tr>\n",
       "      <th>1435750</th>\n",
       "      <td>Åboulevard</td>\n",
       "      <td>1568.0</td>\n",
       "      <td>2007-11-17 23:00:00</td>\n",
       "    </tr>\n",
       "    <tr>\n",
       "      <th>1435751</th>\n",
       "      <td>Åboulevard</td>\n",
       "      <td>637.0</td>\n",
       "      <td>2007-11-18 23:00:00</td>\n",
       "    </tr>\n",
       "  </tbody>\n",
       "</table>\n",
       "<p>1435752 rows × 3 columns</p>\n",
       "</div>"
      ]
     },
     "metadata": {},
     "execution_count": 134
    }
   ],
   "metadata": {
    "deletable": false,
    "nbgrader": {
     "cell_type": "code",
     "checksum": "e0336faad2edaa18a961f7dbd9364a26",
     "grade": false,
     "grade_id": "cell-e8d6d81a5e31cd12",
     "locked": false,
     "schema_version": 3,
     "solution": true,
     "task": false
    }
   }
  },
  {
   "cell_type": "markdown",
   "source": [
    "> **Ex. 5.5.17:** *(Bonus)* Using your time column make a new column called weekday which stores the weekday (in values between 0 and 6) of the corresponding datetime.\n",
    "\n",
    "> _Hint:_ try using the dt method for the series called time; dt has some relevant methods itself."
   ],
   "metadata": {}
  },
  {
   "cell_type": "code",
   "execution_count": 135,
   "source": [
    "# YOUR CODE HERE\n",
    "data['weekday'] = data['time'].dt.weekday\n",
    "data"
   ],
   "outputs": [
    {
     "output_type": "execute_result",
     "data": {
      "text/plain": [
       "            road_name   value                time  weekday\n",
       "0        Ellebjergvej   356.0 2006-01-01 00:00:00        6\n",
       "1        Ellebjergvej   317.0 2006-01-02 00:00:00        0\n",
       "2        Ellebjergvej   413.0 2006-01-03 00:00:00        1\n",
       "3        Ellebjergvej   533.0 2006-01-04 00:00:00        2\n",
       "4        Ellebjergvej   466.0 2006-01-05 00:00:00        3\n",
       "...               ...     ...                 ...      ...\n",
       "1435747    Åboulevard   915.0 2007-11-14 23:00:00        2\n",
       "1435748    Åboulevard  1145.0 2007-11-15 23:00:00        3\n",
       "1435749    Åboulevard  1534.0 2007-11-16 23:00:00        4\n",
       "1435750    Åboulevard  1568.0 2007-11-17 23:00:00        5\n",
       "1435751    Åboulevard   637.0 2007-11-18 23:00:00        6\n",
       "\n",
       "[1435752 rows x 4 columns]"
      ],
      "text/html": [
       "<div>\n",
       "<style scoped>\n",
       "    .dataframe tbody tr th:only-of-type {\n",
       "        vertical-align: middle;\n",
       "    }\n",
       "\n",
       "    .dataframe tbody tr th {\n",
       "        vertical-align: top;\n",
       "    }\n",
       "\n",
       "    .dataframe thead th {\n",
       "        text-align: right;\n",
       "    }\n",
       "</style>\n",
       "<table border=\"1\" class=\"dataframe\">\n",
       "  <thead>\n",
       "    <tr style=\"text-align: right;\">\n",
       "      <th></th>\n",
       "      <th>road_name</th>\n",
       "      <th>value</th>\n",
       "      <th>time</th>\n",
       "      <th>weekday</th>\n",
       "    </tr>\n",
       "  </thead>\n",
       "  <tbody>\n",
       "    <tr>\n",
       "      <th>0</th>\n",
       "      <td>Ellebjergvej</td>\n",
       "      <td>356.0</td>\n",
       "      <td>2006-01-01 00:00:00</td>\n",
       "      <td>6</td>\n",
       "    </tr>\n",
       "    <tr>\n",
       "      <th>1</th>\n",
       "      <td>Ellebjergvej</td>\n",
       "      <td>317.0</td>\n",
       "      <td>2006-01-02 00:00:00</td>\n",
       "      <td>0</td>\n",
       "    </tr>\n",
       "    <tr>\n",
       "      <th>2</th>\n",
       "      <td>Ellebjergvej</td>\n",
       "      <td>413.0</td>\n",
       "      <td>2006-01-03 00:00:00</td>\n",
       "      <td>1</td>\n",
       "    </tr>\n",
       "    <tr>\n",
       "      <th>3</th>\n",
       "      <td>Ellebjergvej</td>\n",
       "      <td>533.0</td>\n",
       "      <td>2006-01-04 00:00:00</td>\n",
       "      <td>2</td>\n",
       "    </tr>\n",
       "    <tr>\n",
       "      <th>4</th>\n",
       "      <td>Ellebjergvej</td>\n",
       "      <td>466.0</td>\n",
       "      <td>2006-01-05 00:00:00</td>\n",
       "      <td>3</td>\n",
       "    </tr>\n",
       "    <tr>\n",
       "      <th>...</th>\n",
       "      <td>...</td>\n",
       "      <td>...</td>\n",
       "      <td>...</td>\n",
       "      <td>...</td>\n",
       "    </tr>\n",
       "    <tr>\n",
       "      <th>1435747</th>\n",
       "      <td>Åboulevard</td>\n",
       "      <td>915.0</td>\n",
       "      <td>2007-11-14 23:00:00</td>\n",
       "      <td>2</td>\n",
       "    </tr>\n",
       "    <tr>\n",
       "      <th>1435748</th>\n",
       "      <td>Åboulevard</td>\n",
       "      <td>1145.0</td>\n",
       "      <td>2007-11-15 23:00:00</td>\n",
       "      <td>3</td>\n",
       "    </tr>\n",
       "    <tr>\n",
       "      <th>1435749</th>\n",
       "      <td>Åboulevard</td>\n",
       "      <td>1534.0</td>\n",
       "      <td>2007-11-16 23:00:00</td>\n",
       "      <td>4</td>\n",
       "    </tr>\n",
       "    <tr>\n",
       "      <th>1435750</th>\n",
       "      <td>Åboulevard</td>\n",
       "      <td>1568.0</td>\n",
       "      <td>2007-11-17 23:00:00</td>\n",
       "      <td>5</td>\n",
       "    </tr>\n",
       "    <tr>\n",
       "      <th>1435751</th>\n",
       "      <td>Åboulevard</td>\n",
       "      <td>637.0</td>\n",
       "      <td>2007-11-18 23:00:00</td>\n",
       "      <td>6</td>\n",
       "    </tr>\n",
       "  </tbody>\n",
       "</table>\n",
       "<p>1435752 rows × 4 columns</p>\n",
       "</div>"
      ]
     },
     "metadata": {},
     "execution_count": 135
    }
   ],
   "metadata": {
    "deletable": false,
    "nbgrader": {
     "cell_type": "code",
     "checksum": "ec12a51ca78cfcfb010958a3a3f38299",
     "grade": false,
     "grade_id": "cell-eeabee7e17bbc24a",
     "locked": false,
     "schema_version": 3,
     "solution": true,
     "task": false
    }
   }
  },
  {
   "cell_type": "markdown",
   "source": [
    "## Part 5.5.D: Statistical descriptions of traffic data\n",
    "\n",
    "> **Ex. 5.5.18:** *(Bonus)* Print the \"descriptive statistics\" of the traffic column. Also show a kernel density estimate of the values.\n",
    "\n",
    "> _Hint:_ Use the describe method of pandas dataframes for the first task. Use seaborn for the second. "
   ],
   "metadata": {}
  },
  {
   "cell_type": "code",
   "execution_count": 141,
   "source": [
    "import seaborn as sb\n",
    "\n",
    "# YOUR CODE HERE\n",
    "data['value'].describe()\n",
    "sb.kdeplot(data['value'])"
   ],
   "outputs": [
    {
     "output_type": "execute_result",
     "data": {
      "text/plain": [
       "<AxesSubplot:xlabel='value', ylabel='Density'>"
      ]
     },
     "metadata": {},
     "execution_count": 141
    },
    {
     "output_type": "display_data",
     "data": {
      "text/plain": [
       "<Figure size 432x288 with 1 Axes>"
      ],
      "image/png": "[encoded data removed]"
     },
     "metadata": {
      "needs_background": "light"
     }
    }
   ],
   "metadata": {
    "deletable": false,
    "nbgrader": {
     "cell_type": "code",
     "checksum": "1c8c5a5e2b98bb1b436ce71ccfedb681",
     "grade": false,
     "grade_id": "cell-5543e5d8d126bc40",
     "locked": false,
     "schema_version": 3,
     "solution": true,
     "task": false
    }
   }
  },
  {
   "cell_type": "markdown",
   "source": [
    "> **Ex. 5.5.19:** *(Bonus)* Which road has the most average traffic?"
   ],
   "metadata": {}
  },
  {
   "cell_type": "code",
   "execution_count": 143,
   "source": [
    "# YOUR CODE HERE\n",
    "data.groupby('road_name')['value'].mean().sort_values(ascending = False)"
   ],
   "outputs": [
    {
     "output_type": "execute_result",
     "data": {
      "text/plain": [
       "road_name\n",
       "Åboulevard               1832.535007\n",
       "Hareskovvej              1781.348144\n",
       "Fredensbro               1615.688439\n",
       "Roskildevej              1547.680620\n",
       "Kalvebod Brygge          1459.062771\n",
       "Ellebjergvej             1423.814049\n",
       "Torvegade                1174.389343\n",
       "Tuborgvej                1155.902472\n",
       "Vigerslev Allé            876.440934\n",
       "Jagtvej                   832.859514\n",
       "Vejlands Alle´            825.236056\n",
       "Frederikssundsvej         806.230575\n",
       "Kalkbrænderihavnsgade     672.300803\n",
       "Englandsvej               583.137518\n",
       "Sølvgade                  535.010385\n",
       "Ørestads Boulevard        297.748914\n",
       "Gadelandet                265.322705\n",
       "Wittenberggade            207.741794\n",
       "Islands Brygge            170.260788\n",
       "Mozartsvej                148.610489\n",
       "Molbechsvej               111.809190\n",
       "Skt. Kjelds Gade           44.567506\n",
       "Name: value, dtype: float64"
      ]
     },
     "metadata": {},
     "execution_count": 143
    }
   ],
   "metadata": {
    "deletable": false,
    "nbgrader": {
     "cell_type": "code",
     "checksum": "e44658f7686188ab151c6ad871332bba",
     "grade": false,
     "grade_id": "cell-ed14c5a9519b1a33",
     "locked": false,
     "schema_version": 3,
     "solution": true,
     "task": false
    }
   }
  },
  {
   "cell_type": "markdown",
   "source": [
    "> **Ex. 5.5.20:** *(Bonus)* Compute annual, average road traffic during day hours (9-17). Which station had the least traffic in 2013? Which station has seen highest growth in traffic from 2013 to 2014?"
   ],
   "metadata": {}
  },
  {
   "cell_type": "code",
   "execution_count": 159,
   "source": [
    "# YOUR CODE HERE\n",
    "\n",
    "# Annual, average road traffic during day hours overall\n",
    "data[(data['time'].dt.hour >= 9) & (data['time'].dt.hour <= 17)].groupby(data['time'].dt.year)['value'].mean()\n",
    "\n",
    "# Same but split on roads\n",
    "data[(data['time'].dt.hour >= 9) & (data['time'].dt.hour <= 17)].groupby(['road_name', data['time'].dt.year])['value'].mean()\n",
    "\n",
    "# Which station had the least traffic in 2013?\n",
    "data[(data['time'].dt.hour >= 9) & (data['time'].dt.hour <= 17) & (data['time'].dt.year == 2013)].groupby('road_name')['value'].mean().sort_values()\n",
    "\n",
    "# Which station has seen highest growth in traffic from 2013 to 2014?\n",
    "def growth(year1_value, year2_value):\n",
    "    return (year2_value - year1_value)/year1_value\n",
    "\n",
    "year1_data = data[(data['time'].dt.hour >= 9) & (data['time'].dt.hour <= 17) & (data['time'].dt.year == 2013)].groupby('road_name')['value'].mean()\n",
    "year2_data = data[(data['time'].dt.hour >= 9) & (data['time'].dt.hour <= 17) & (data['time'].dt.year == 2014)].groupby('road_name')['value'].mean()\n",
    "growth(year1_data, year2_data).sort_values(ascending = False).dropna()"
   ],
   "outputs": [
    {
     "output_type": "execute_result",
     "data": {
      "text/plain": [
       "road_name\n",
       "Skt. Kjelds Gade      0.210446\n",
       "Ørestads Boulevard    0.056942\n",
       "Kalvebod Brygge       0.036389\n",
       "Gadelandet            0.032548\n",
       "Molbechsvej           0.019467\n",
       "Frederikssundsvej    -0.000934\n",
       "Torvegade            -0.005779\n",
       "Mozartsvej           -0.008326\n",
       "Ellebjergvej         -0.010491\n",
       "Vigerslev Allé       -0.011224\n",
       "Islands Brygge       -0.015757\n",
       "Roskildevej          -0.019265\n",
       "Fredensbro           -0.077355\n",
       "Vejlands Alle´       -0.106421\n",
       "Wittenberggade       -0.158920\n",
       "Name: value, dtype: float64"
      ]
     },
     "metadata": {},
     "execution_count": 159
    }
   ],
   "metadata": {
    "deletable": false,
    "nbgrader": {
     "cell_type": "code",
     "checksum": "56dc16997bb791aa9bcbd89cf1f5c64d",
     "grade": false,
     "grade_id": "cell-279831757079d3e0",
     "locked": false,
     "schema_version": 3,
     "solution": true,
     "task": false
    }
   }
  },
  {
   "cell_type": "code",
   "execution_count": null,
   "source": [],
   "outputs": [],
   "metadata": {}
  }
 ],
 "metadata": {
  "kernelspec": {
   "name": "python3",
   "display_name": "Python 3.9.2 64-bit"
  },
  "language_info": {
   "name": "python",
   "version": "3.9.2",
   "mimetype": "text/x-python",
   "codemirror_mode": {
    "name": "ipython",
    "version": 3
   },
   "pygments_lexer": "ipython3",
   "nbconvert_exporter": "python",
   "file_extension": ".py"
  },
  "varInspector": {
   "cols": {
    "lenName": 16,
    "lenType": 16,
    "lenVar": 40
   },
   "kernels_config": {
    "python": {
     "delete_cmd_postfix": "",
     "delete_cmd_prefix": "del ",
     "library": "var_list.py",
     "varRefreshCmd": "print(var_dic_list())"
    },
    "r": {
     "delete_cmd_postfix": ") ",
     "delete_cmd_prefix": "rm(",
     "library": "var_list.r",
     "varRefreshCmd": "cat(var_dic_list()) "
    }
   },
   "types_to_exclude": [
    "module",
    "function",
    "builtin_function_or_method",
    "instance",
    "_Feature"
   ],
   "window_display": false
  },
  "interpreter": {
   "hash": "aee8b7b246df8f9039afb4144a1f6fd8d2ca17a180786b69acc140d282b71a49"
  }
 },
 "nbformat": 4,
 "nbformat_minor": 4
}